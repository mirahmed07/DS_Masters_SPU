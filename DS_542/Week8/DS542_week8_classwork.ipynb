{
 "cells": [
  {
   "cell_type": "code",
   "execution_count": null,
   "metadata": {},
   "outputs": [],
   "source": [
    "[x for x in range(5)]"
   ]
  },
  {
   "cell_type": "code",
   "execution_count": null,
   "metadata": {},
   "outputs": [],
   "source": [
    "[x for x in range(20) if x%2 == 0]"
   ]
  },
  {
   "cell_type": "code",
   "execution_count": null,
   "metadata": {},
   "outputs": [],
   "source": [
    "list1 = [x for x in range(20) if x%2 != 0]\n",
    "list2 = [x for x in range(20) if x%2 == 0]\n",
    "[x+y for x, y in zip(list1, list2)]"
   ]
  },
  {
   "cell_type": "code",
   "execution_count": null,
   "metadata": {},
   "outputs": [],
   "source": [
    "[x * y for x in list1 for y in list2 if x < 6 & y <7]"
   ]
  },
  {
   "cell_type": "code",
   "execution_count": null,
   "metadata": {},
   "outputs": [],
   "source": [
    "my_string = 'abbca'\n",
    "my_sentence = 'apple boy boy cat apple'"
   ]
  },
  {
   "cell_type": "code",
   "execution_count": null,
   "metadata": {},
   "outputs": [],
   "source": [
    "characters = [x for x in my_string]\n",
    "characters"
   ]
  },
  {
   "cell_type": "code",
   "execution_count": null,
   "metadata": {},
   "outputs": [],
   "source": [
    "characters[0]"
   ]
  },
  {
   "cell_type": "code",
   "execution_count": null,
   "metadata": {},
   "outputs": [],
   "source": [
    "my_sentence.split()[1][0]"
   ]
  },
  {
   "cell_type": "code",
   "execution_count": null,
   "metadata": {},
   "outputs": [],
   "source": [
    "characters = [x for x in my_string]\n",
    "for i in range(len(characters)):\n",
    "    if characters[i] == my_sentence.split()[i][0]:\n",
    "        answer = True\n",
    "    else:\n",
    "        answer = False\n",
    "if answer:\n",
    "    print(\"Valid use case!\")\n",
    "else:\n",
    "    print(\"Invalid use case!\")    "
   ]
  },
  {
   "cell_type": "code",
   "execution_count": null,
   "metadata": {},
   "outputs": [],
   "source": [
    "def check_use_case(string, sentence):\n",
    "    answer = 0\n",
    "    characters = [x for x in string]\n",
    "    for i in range(len(characters)):\n",
    "        if characters[i] == sentence.split()[i][0]:\n",
    "            answer += 1\n",
    "        else:\n",
    "            answer -= 1\n",
    "    if answer == len(characters):\n",
    "        print(\"Valid use case!\")\n",
    "    else:\n",
    "        print(\"Invalid use case!\")    "
   ]
  },
  {
   "cell_type": "code",
   "execution_count": null,
   "metadata": {},
   "outputs": [],
   "source": [
    "check_use_case('abbca', 'apple boy boy cat apple')"
   ]
  },
  {
   "cell_type": "code",
   "execution_count": null,
   "metadata": {},
   "outputs": [],
   "source": [
    "check_use_case('abbcaa', 'apple boy boy cat banana apple')"
   ]
  },
  {
   "cell_type": "code",
   "execution_count": null,
   "metadata": {},
   "outputs": [],
   "source": [
    "check_use_case('abbcaa', 'apple apple boy cat banana apple')"
   ]
  },
  {
   "cell_type": "code",
   "execution_count": null,
   "metadata": {},
   "outputs": [],
   "source": [
    "def check_letter_words(string, sentence):\n",
    "    answer = 0\n",
    "    characters = list(set([x for x in string]))\n",
    "    first_letter_words = list(set([x[0] for x in sentence.split()]))\n",
    "    for i in range(len(characters)):\n",
    "        if characters[i] in first_letter_words:\n",
    "            answer += 1\n",
    "        else:\n",
    "            answer -= 1\n",
    "    if answer == len(characters):\n",
    "        print(\"Valid use case!\")\n",
    "    else:\n",
    "        print(\"Invalid use case!\")"
   ]
  },
  {
   "cell_type": "code",
   "execution_count": null,
   "metadata": {},
   "outputs": [],
   "source": [
    "check_letter_words('abbca', 'apple boy boy cat apple')"
   ]
  },
  {
   "cell_type": "code",
   "execution_count": null,
   "metadata": {},
   "outputs": [],
   "source": [
    "check_letter_words('abbcaa', 'apple boy boy cat banana apple')"
   ]
  },
  {
   "cell_type": "code",
   "execution_count": null,
   "metadata": {},
   "outputs": [],
   "source": [
    "check_letter_words('abbcaa', 'apple apple boy cat banana apple')"
   ]
  },
  {
   "cell_type": "code",
   "execution_count": null,
   "metadata": {},
   "outputs": [],
   "source": [
    "check_letter_words('abbcaa', 'apple apple boy banana apple')"
   ]
  },
  {
   "cell_type": "code",
   "execution_count": null,
   "metadata": {},
   "outputs": [],
   "source": [
    "numbers = [4,3,7,1,8]\n",
    "numbers.sort()\n",
    "numbers"
   ]
  },
  {
   "cell_type": "code",
   "execution_count": null,
   "metadata": {},
   "outputs": [],
   "source": [
    "def odd_even(x):\n",
    "    if x % 2 == 0:\n",
    "        return True\n",
    "    else:\n",
    "        return False"
   ]
  },
  {
   "cell_type": "code",
   "execution_count": null,
   "metadata": {},
   "outputs": [],
   "source": [
    "results = [odd_even(x) for x in numbers]\n",
    "results"
   ]
  },
  {
   "cell_type": "code",
   "execution_count": null,
   "metadata": {},
   "outputs": [],
   "source": [
    "list(map(odd_even, numbers))"
   ]
  },
  {
   "cell_type": "code",
   "execution_count": null,
   "metadata": {},
   "outputs": [],
   "source": [
    "import pandas as pd"
   ]
  },
  {
   "cell_type": "code",
   "execution_count": null,
   "metadata": {},
   "outputs": [],
   "source": [
    "numbers = [1,2,3,4,5,6]"
   ]
  },
  {
   "cell_type": "code",
   "execution_count": null,
   "metadata": {},
   "outputs": [],
   "source": [
    "pd.Series(numbers).map(odd_even)"
   ]
  },
  {
   "cell_type": "code",
   "execution_count": null,
   "metadata": {},
   "outputs": [],
   "source": [
    "input_list = ['Apple', 'Banana', 'Cherry']"
   ]
  },
  {
   "cell_type": "code",
   "execution_count": null,
   "metadata": {},
   "outputs": [],
   "source": [
    "def first_letter(list_):\n",
    "    result_list = [word[0] for word in input_list]\n",
    "    return result_list"
   ]
  },
  {
   "cell_type": "code",
   "execution_count": null,
   "metadata": {},
   "outputs": [],
   "source": [
    "first_letter(input_list)"
   ]
  },
  {
   "cell_type": "code",
   "execution_count": null,
   "metadata": {},
   "outputs": [],
   "source": [
    "[x[0] for x in input_list]"
   ]
  },
  {
   "cell_type": "code",
   "execution_count": null,
   "metadata": {},
   "outputs": [],
   "source": [
    "def first_letter_of_word(word):\n",
    "    return word[0]"
   ]
  },
  {
   "cell_type": "code",
   "execution_count": null,
   "metadata": {},
   "outputs": [],
   "source": [
    "list(map(first_letter_of_word, input_list))"
   ]
  },
  {
   "cell_type": "code",
   "execution_count": null,
   "metadata": {},
   "outputs": [],
   "source": [
    "input_list = ['Apple', 'Banana', 'Cherry']\n",
    "def first_letter_of_word(word):\n",
    "    return word[0]\n",
    "list(map(first_letter_of_word, input_list))"
   ]
  },
  {
   "cell_type": "code",
   "execution_count": null,
   "metadata": {},
   "outputs": [],
   "source": [
    "list(filter(odd_even, numbers))"
   ]
  },
  {
   "cell_type": "code",
   "execution_count": null,
   "metadata": {},
   "outputs": [],
   "source": [
    "# output vowels from a list"
   ]
  },
  {
   "cell_type": "code",
   "execution_count": null,
   "metadata": {},
   "outputs": [],
   "source": [
    "vowels = ('a', 'e', 'i', 'o', 'u')\n",
    "def check_vowels(letter):\n",
    "    output = []\n",
    "    if letter in vowels:\n",
    "        return letter"
   ]
  },
  {
   "cell_type": "code",
   "execution_count": null,
   "metadata": {},
   "outputs": [],
   "source": [
    "list(filter(None,list(map(check_vowels, ['a', 'b', 'c', 'e']))))"
   ]
  },
  {
   "cell_type": "code",
   "execution_count": null,
   "metadata": {},
   "outputs": [],
   "source": [
    "[x for x in ['a', 'b', 'c', 'e'] if x in vowels]"
   ]
  },
  {
   "cell_type": "code",
   "execution_count": null,
   "metadata": {},
   "outputs": [],
   "source": [
    "vowels = ('a', 'e', 'i', 'o', 'u')\n",
    "list(filter(lambda x: x in vowels, ['a', 'b', 'c', 'e']))"
   ]
  },
  {
   "cell_type": "markdown",
   "metadata": {},
   "source": [
    "# week 8 actual classwork"
   ]
  },
  {
   "cell_type": "code",
   "execution_count": null,
   "metadata": {},
   "outputs": [],
   "source": [
    "numbers = [1,2,3,4,5]\n",
    "name = \"Mir\""
   ]
  },
  {
   "cell_type": "code",
   "execution_count": null,
   "metadata": {},
   "outputs": [],
   "source": [
    "len(numbers)"
   ]
  },
  {
   "cell_type": "code",
   "execution_count": null,
   "metadata": {},
   "outputs": [],
   "source": [
    "len(name)"
   ]
  },
  {
   "cell_type": "code",
   "execution_count": null,
   "metadata": {},
   "outputs": [],
   "source": [
    "course_code = {'Python': '542', 'Adv Python': '642'}"
   ]
  },
  {
   "cell_type": "code",
   "execution_count": null,
   "metadata": {},
   "outputs": [],
   "source": [
    "type(course_code)"
   ]
  },
  {
   "cell_type": "code",
   "execution_count": null,
   "metadata": {},
   "outputs": [],
   "source": [
    "len(course_code)"
   ]
  },
  {
   "cell_type": "code",
   "execution_count": 1,
   "metadata": {},
   "outputs": [
    {
     "name": "stdout",
     "output_type": "stream",
     "text": [
      "3 4 5\n"
     ]
    }
   ],
   "source": [
    "for i in range(1,100):\n",
    "    if i**2 + (i+1)**2 == (i+2)**2:\n",
    "        print(i,i+1,i+2)"
   ]
  },
  {
   "cell_type": "code",
   "execution_count": 10,
   "metadata": {
    "scrolled": true
   },
   "outputs": [
    {
     "name": "stdout",
     "output_type": "stream",
     "text": [
      "1 + 4 = 5\n",
      "4 + 9 = 13\n",
      "9 + 16 = 25\n",
      "16 + 25 = 41\n",
      "25 + 36 = 61\n",
      "36 + 49 = 85\n",
      "49 + 64 = 113\n",
      "64 + 81 = 145\n",
      "81 + 100 = 181\n",
      "100 + 121 = 221\n",
      "121 + 144 = 265\n",
      "144 + 169 = 313\n",
      "169 + 196 = 365\n",
      "196 + 225 = 421\n",
      "225 + 256 = 481\n",
      "256 + 289 = 545\n",
      "289 + 324 = 613\n",
      "324 + 361 = 685\n",
      "361 + 400 = 761\n",
      "400 + 441 = 841\n",
      "441 + 484 = 925\n",
      "484 + 529 = 1013\n",
      "529 + 576 = 1105\n",
      "576 + 625 = 1201\n",
      "625 + 676 = 1301\n",
      "676 + 729 = 1405\n",
      "729 + 784 = 1513\n",
      "784 + 841 = 1625\n",
      "841 + 900 = 1741\n",
      "900 + 961 = 1861\n",
      "961 + 1024 = 1985\n",
      "1024 + 1089 = 2113\n",
      "1089 + 1156 = 2245\n",
      "1156 + 1225 = 2381\n",
      "1225 + 1296 = 2521\n",
      "1296 + 1369 = 2665\n",
      "1369 + 1444 = 2813\n",
      "1444 + 1521 = 2965\n",
      "1521 + 1600 = 3121\n",
      "1600 + 1681 = 3281\n",
      "1681 + 1764 = 3445\n",
      "1764 + 1849 = 3613\n",
      "1849 + 1936 = 3785\n",
      "1936 + 2025 = 3961\n",
      "2025 + 2116 = 4141\n",
      "2116 + 2209 = 4325\n",
      "2209 + 2304 = 4513\n",
      "2304 + 2401 = 4705\n",
      "2401 + 2500 = 4901\n",
      "2500 + 2601 = 5101\n",
      "2601 + 2704 = 5305\n",
      "2704 + 2809 = 5513\n",
      "2809 + 2916 = 5725\n",
      "2916 + 3025 = 5941\n",
      "3025 + 3136 = 6161\n",
      "3136 + 3249 = 6385\n",
      "3249 + 3364 = 6613\n",
      "3364 + 3481 = 6845\n",
      "3481 + 3600 = 7081\n",
      "3600 + 3721 = 7321\n",
      "3721 + 3844 = 7565\n",
      "3844 + 3969 = 7813\n",
      "3969 + 4096 = 8065\n",
      "4096 + 4225 = 8321\n",
      "4225 + 4356 = 8581\n",
      "4356 + 4489 = 8845\n",
      "4489 + 4624 = 9113\n",
      "4624 + 4761 = 9385\n",
      "4761 + 4900 = 9661\n",
      "4900 + 5041 = 9941\n",
      "5041 + 5184 = 10225\n",
      "5184 + 5329 = 10513\n",
      "5329 + 5476 = 10805\n",
      "5476 + 5625 = 11101\n",
      "5625 + 5776 = 11401\n",
      "5776 + 5929 = 11705\n",
      "5929 + 6084 = 12013\n",
      "6084 + 6241 = 12325\n",
      "6241 + 6400 = 12641\n",
      "6400 + 6561 = 12961\n",
      "6561 + 6724 = 13285\n",
      "6724 + 6889 = 13613\n",
      "6889 + 7056 = 13945\n",
      "7056 + 7225 = 14281\n",
      "7225 + 7396 = 14621\n",
      "7396 + 7569 = 14965\n",
      "7569 + 7744 = 15313\n",
      "7744 + 7921 = 15665\n",
      "7921 + 8100 = 16021\n",
      "8100 + 8281 = 16381\n",
      "8281 + 8464 = 16745\n",
      "8464 + 8649 = 17113\n",
      "8649 + 8836 = 17485\n",
      "8836 + 9025 = 17861\n",
      "9025 + 9216 = 18241\n",
      "9216 + 9409 = 18625\n",
      "9409 + 9604 = 19013\n",
      "9604 + 9801 = 19405\n",
      "9801 + 10000 = 19801\n"
     ]
    }
   ],
   "source": [
    "for i in range(1,100):\n",
    "    c = i**2 + (i+1)**2\n",
    "    print(f'{i**2} + {(i+1)**2} = {c}')"
   ]
  },
  {
   "cell_type": "code",
   "execution_count": 14,
   "metadata": {},
   "outputs": [
    {
     "data": {
      "text/plain": [
       "[<function __main__.<lambda>(x)>, [3, 4, 5]]"
      ]
     },
     "execution_count": 14,
     "metadata": {},
     "output_type": "execute_result"
    }
   ],
   "source": [
    "[lambda x : x*2, pytha_list]"
   ]
  },
  {
   "cell_type": "code",
   "execution_count": 20,
   "metadata": {},
   "outputs": [
    {
     "name": "stdout",
     "output_type": "stream",
     "text": [
      "[3, 4, 5]\n",
      "[6, 8, 10]\n",
      "[9, 12, 15]\n",
      "[12, 16, 20]\n",
      "[15, 20, 25]\n",
      "[18, 24, 30]\n",
      "[21, 28, 35]\n",
      "[24, 32, 40]\n",
      "[27, 36, 45]\n",
      "[30, 40, 50]\n",
      "[33, 44, 55]\n",
      "[36, 48, 60]\n",
      "[39, 52, 65]\n",
      "[42, 56, 70]\n",
      "[45, 60, 75]\n",
      "[48, 64, 80]\n",
      "[51, 68, 85]\n",
      "[54, 72, 90]\n",
      "[57, 76, 95]\n",
      "[60, 80, 100]\n"
     ]
    }
   ],
   "source": [
    "pytha_list = [3,4,5]\n",
    "for i in range(1,100):\n",
    "    if pytha_list[2]*i <= 100:\n",
    "        print([x*i for x in pytha_list])\n",
    "    else:\n",
    "         break"
   ]
  },
  {
   "cell_type": "code",
   "execution_count": 3,
   "metadata": {},
   "outputs": [],
   "source": [
    "def sum_(num1, num2, *args):\n",
    "    result = num1+num2\n",
    "    for arg in args:\n",
    "        result += arg\n",
    "    return result"
   ]
  },
  {
   "cell_type": "code",
   "execution_count": 4,
   "metadata": {},
   "outputs": [
    {
     "data": {
      "text/plain": [
       "3"
      ]
     },
     "execution_count": 4,
     "metadata": {},
     "output_type": "execute_result"
    }
   ],
   "source": [
    "sum_(1,2)"
   ]
  },
  {
   "cell_type": "code",
   "execution_count": 5,
   "metadata": {},
   "outputs": [
    {
     "data": {
      "text/plain": [
       "6"
      ]
     },
     "execution_count": 5,
     "metadata": {},
     "output_type": "execute_result"
    }
   ],
   "source": [
    "sum_(1,2,3)"
   ]
  },
  {
   "cell_type": "code",
   "execution_count": 6,
   "metadata": {},
   "outputs": [],
   "source": [
    "def sum2(num1, num2, num3=0):\n",
    "    return num1+num2+num3"
   ]
  },
  {
   "cell_type": "code",
   "execution_count": 7,
   "metadata": {},
   "outputs": [
    {
     "data": {
      "text/plain": [
       "3"
      ]
     },
     "execution_count": 7,
     "metadata": {},
     "output_type": "execute_result"
    }
   ],
   "source": [
    "sum2(1,2)"
   ]
  },
  {
   "cell_type": "code",
   "execution_count": 8,
   "metadata": {},
   "outputs": [
    {
     "data": {
      "text/plain": [
       "6"
      ]
     },
     "execution_count": 8,
     "metadata": {},
     "output_type": "execute_result"
    }
   ],
   "source": [
    "sum2(1,2,3)"
   ]
  },
  {
   "cell_type": "code",
   "execution_count": 21,
   "metadata": {},
   "outputs": [],
   "source": [
    "def sum3(num1, num2=0, num3=0):\n",
    "    return num1+num2+num3"
   ]
  },
  {
   "cell_type": "code",
   "execution_count": 27,
   "metadata": {},
   "outputs": [],
   "source": [
    "def sum4(*numbers):\n",
    "    return sum(numbers)"
   ]
  },
  {
   "cell_type": "code",
   "execution_count": 30,
   "metadata": {},
   "outputs": [
    {
     "data": {
      "text/plain": [
       "9"
      ]
     },
     "execution_count": 30,
     "metadata": {},
     "output_type": "execute_result"
    }
   ],
   "source": [
    "sum4(1,5,3)"
   ]
  },
  {
   "cell_type": "code",
   "execution_count": 31,
   "metadata": {},
   "outputs": [],
   "source": [
    "def course(**kwargs):\n",
    "    c1 = kwargs.get('c1', None)\n",
    "    c2 = kwargs.get('c2', None)\n",
    "    c3 = kwargs.get('c3', None)\n",
    "    print(f'Course 1: {c1}')\n",
    "    print(f'Course 2: {c2}')\n",
    "    print(f'Course 3: {c3}')"
   ]
  },
  {
   "cell_type": "code",
   "execution_count": 32,
   "metadata": {},
   "outputs": [
    {
     "name": "stdout",
     "output_type": "stream",
     "text": [
      "Course 1: Python\n",
      "Course 2: Adv Python\n",
      "Course 3: Data Mining\n"
     ]
    }
   ],
   "source": [
    "course(c1='Python', c2='Adv Python', c3 = 'Data Mining')"
   ]
  },
  {
   "cell_type": "code",
   "execution_count": 41,
   "metadata": {},
   "outputs": [
    {
     "name": "stdout",
     "output_type": "stream",
     "text": [
      "Course 1: Python\n",
      "Course 2: Adv Python\n",
      "Course 3: None\n"
     ]
    }
   ],
   "source": [
    "course(c1='Python', c2='Adv Python')"
   ]
  },
  {
   "cell_type": "code",
   "execution_count": 38,
   "metadata": {},
   "outputs": [],
   "source": [
    "def course_code(**kwargs):\n",
    "    for key in kwargs:\n",
    "        print(key, ':', kwargs[key])"
   ]
  },
  {
   "cell_type": "code",
   "execution_count": 44,
   "metadata": {},
   "outputs": [
    {
     "name": "stdout",
     "output_type": "stream",
     "text": [
      "c1 : Python\n",
      "c2 : Adv Python\n",
      "c3 : Data Mining\n"
     ]
    }
   ],
   "source": [
    "course_code(c1='Python', c2='Adv Python', c3 = 'Data Mining')"
   ]
  },
  {
   "cell_type": "code",
   "execution_count": 39,
   "metadata": {
    "scrolled": true
   },
   "outputs": [
    {
     "name": "stdout",
     "output_type": "stream",
     "text": [
      "c1 : Python\n",
      "c2 : Adv Python\n",
      "c3 : Data Mining\n"
     ]
    }
   ],
   "source": [
    "course_code(c1='Python', c2='Adv Python', c3 = 'Data Mining')"
   ]
  },
  {
   "cell_type": "code",
   "execution_count": 40,
   "metadata": {},
   "outputs": [
    {
     "name": "stdout",
     "output_type": "stream",
     "text": [
      "c1 : Python\n",
      "c2 : Adv Python\n"
     ]
    }
   ],
   "source": [
    "course_code(c1='Python', c2='Adv Python')"
   ]
  },
  {
   "cell_type": "code",
   "execution_count": 51,
   "metadata": {},
   "outputs": [
    {
     "name": "stdout",
     "output_type": "stream",
     "text": [
      "Shark\n",
      "Sammy\n",
      "5\n",
      "Shark\n",
      "Stevie\n",
      "8\n",
      "Shark\n",
      "Mir\n",
      "None\n"
     ]
    }
   ],
   "source": [
    "class Shark:\n",
    "    species = 'Shark'\n",
    "    def __init__(self, name, age = None):\n",
    "        self.name = name\n",
    "        self.age = age\n",
    "\n",
    "new_shark = Shark(\"Sammy\", 5)\n",
    "print(new_shark.species)\n",
    "print(new_shark.name)\n",
    "print(new_shark.age)\n",
    "\n",
    "stevie = Shark(\"Stevie\", 8)\n",
    "print(stevie.species)\n",
    "print(stevie.name)\n",
    "print(stevie.age)\n",
    "\n",
    "mir = Shark(\"Mir\")\n",
    "print(mir.species)\n",
    "print(mir.name)\n",
    "print(mir.age)"
   ]
  },
  {
   "cell_type": "code",
   "execution_count": 75,
   "metadata": {},
   "outputs": [],
   "source": [
    "class course():\n",
    "    grade = 'A+'\n",
    "    def __init__(self, course_name, course_code):\n",
    "        self.course_name = course_name\n",
    "        self.course_code = course_code\n",
    "    def show(self, score):\n",
    "        print(f'Course Name: {self.course_name}')\n",
    "        print(f'Course Code: {self.course_code}')\n",
    "        print(f'Need to get an {self.grade} in this course!')\n",
    "        print(f'But I got {score} in this course!')"
   ]
  },
  {
   "cell_type": "code",
   "execution_count": 76,
   "metadata": {},
   "outputs": [],
   "source": [
    "python = course('Python', '542')"
   ]
  },
  {
   "cell_type": "code",
   "execution_count": 77,
   "metadata": {},
   "outputs": [
    {
     "name": "stdout",
     "output_type": "stream",
     "text": [
      "Course Name: Python\n",
      "Course Code: 542\n",
      "Need to get an A+ in this course!\n",
      "But I got 80 in this course!\n"
     ]
    }
   ],
   "source": [
    "python.show(80)"
   ]
  },
  {
   "cell_type": "code",
   "execution_count": 80,
   "metadata": {},
   "outputs": [
    {
     "data": {
      "text/plain": [
       "['mir', 'Ahmed']"
      ]
     },
     "execution_count": 80,
     "metadata": {},
     "output_type": "execute_result"
    }
   ],
   "source": [
    "str.split(\"mir Ahmed\")"
   ]
  },
  {
   "cell_type": "code",
   "execution_count": 79,
   "metadata": {},
   "outputs": [
    {
     "data": {
      "text/plain": [
       "['mir', 'Ahmed']"
      ]
     },
     "execution_count": 79,
     "metadata": {},
     "output_type": "execute_result"
    }
   ],
   "source": [
    "\"mir Ahmed\".split()"
   ]
  },
  {
   "cell_type": "code",
   "execution_count": 82,
   "metadata": {},
   "outputs": [],
   "source": [
    "algorithm = course('Algorithm', '590')"
   ]
  },
  {
   "cell_type": "code",
   "execution_count": 83,
   "metadata": {},
   "outputs": [
    {
     "name": "stdout",
     "output_type": "stream",
     "text": [
      "Course Name: Algorithm\n",
      "Course Code: 590\n",
      "Need to get an A+ in this course!\n",
      "But I got 80 in this course!\n"
     ]
    }
   ],
   "source": [
    "algorithm.show(80)"
   ]
  },
  {
   "cell_type": "code",
   "execution_count": 103,
   "metadata": {},
   "outputs": [],
   "source": [
    "def calculator(a,b, **operation):\n",
    "    op = operation.get('op', 'Sum').title()\n",
    "    if op == 'Sum' or op == 'Addition' or op == None:\n",
    "        result = a + b\n",
    "    if op == 'Minus' or op == 'Subtraction':\n",
    "        result = a - b\n",
    "    if op == 'Multiply' or op == 'Times':\n",
    "        result = a * b   \n",
    "    if op == 'Divide' or op == 'Division':\n",
    "        result = a / b\n",
    "    if op == 'Power up' or op == 'Exponential':\n",
    "        result = a ** b\n",
    "    return result"
   ]
  },
  {
   "cell_type": "code",
   "execution_count": null,
   "metadata": {},
   "outputs": [],
   "source": []
  },
  {
   "cell_type": "code",
   "execution_count": null,
   "metadata": {},
   "outputs": [],
   "source": []
  }
 ],
 "metadata": {
  "kernelspec": {
   "display_name": "Python 3",
   "language": "python",
   "name": "python3"
  },
  "language_info": {
   "codemirror_mode": {
    "name": "ipython",
    "version": 3
   },
   "file_extension": ".py",
   "mimetype": "text/x-python",
   "name": "python",
   "nbconvert_exporter": "python",
   "pygments_lexer": "ipython3",
   "version": "3.8.8"
  }
 },
 "nbformat": 4,
 "nbformat_minor": 4
}
