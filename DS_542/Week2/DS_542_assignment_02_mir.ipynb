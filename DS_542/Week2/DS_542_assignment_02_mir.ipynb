{
 "cells": [
  {
   "cell_type": "markdown",
   "metadata": {},
   "source": [
    "# DS 542 assignment 02 - Mir Ahmed"
   ]
  },
  {
   "cell_type": "markdown",
   "metadata": {},
   "source": [
    "### 1 .What will be the output of the following code?"
   ]
  },
  {
   "cell_type": "code",
   "execution_count": 1,
   "metadata": {},
   "outputs": [
    {
     "name": "stdout",
     "output_type": "stream",
     "text": [
      "<class 'float'>\n"
     ]
    }
   ],
   "source": [
    "print(type(1/2))"
   ]
  },
  {
   "cell_type": "markdown",
   "metadata": {},
   "source": [
    "### 2. Define the two components of an object with the help of an example."
   ]
  },
  {
   "cell_type": "markdown",
   "metadata": {},
   "source": [
    "An object consists of : \n",
    "\n",
    "Attributes: It reflects the properties of an object. \\\n",
    "Behavior: It is represented by the methods of an object. It also reflects the response of an object to other objects."
   ]
  },
  {
   "cell_type": "code",
   "execution_count": 2,
   "metadata": {},
   "outputs": [
    {
     "name": "stdout",
     "output_type": "stream",
     "text": [
      "Enter your Name:Mir\n",
      "Enter your age:32\n"
     ]
    }
   ],
   "source": [
    "from datetime import date\n",
    "class Person:\n",
    "    \"This is a person class\"\n",
    "    name = input(\"Enter your Name:\")\n",
    "    age = int(input(\"Enter your age:\"))   \n",
    "    birth_year = date.today().year - age\n",
    "    def greet(self):\n",
    "        print(f\"Hello {self.name}!\")\n",
    "        print(f\"You were born in {self.birth_year}!\")\n",
    "\n",
    "# create a new object of Person class called \"mir\"\n",
    "student = Person()"
   ]
  },
  {
   "cell_type": "code",
   "execution_count": 3,
   "metadata": {},
   "outputs": [
    {
     "data": {
      "text/plain": [
       "32"
      ]
     },
     "execution_count": 3,
     "metadata": {},
     "output_type": "execute_result"
    }
   ],
   "source": [
    "#Attribute of the object \n",
    "student.age"
   ]
  },
  {
   "cell_type": "code",
   "execution_count": 4,
   "metadata": {},
   "outputs": [
    {
     "name": "stdout",
     "output_type": "stream",
     "text": [
      "Hello Mir!\n",
      "You were born in 1989!\n"
     ]
    }
   ],
   "source": [
    "# Behavior/ function of the object - Calling object's method\n",
    "student.greet()"
   ]
  },
  {
   "cell_type": "markdown",
   "metadata": {},
   "source": [
    "### 3. Explain the difference between ‘/’ and ‘//’ operators with the help of examples."
   ]
  },
  {
   "cell_type": "markdown",
   "metadata": {},
   "source": [
    "'/' is used for float division. so the result will be a float. \\\n",
    "'//' is used for integer division. so the result will be an integer (rounded down). "
   ]
  },
  {
   "cell_type": "code",
   "execution_count": 5,
   "metadata": {},
   "outputs": [
    {
     "name": "stdout",
     "output_type": "stream",
     "text": [
      "2\n",
      "2.5\n"
     ]
    }
   ],
   "source": [
    "# Scenario 1\n",
    "var1 = 5\n",
    "var2 = 2\n",
    "# Integer division\n",
    "print(var1//var2)\n",
    "# Float division\n",
    "print(var1/var2)"
   ]
  },
  {
   "cell_type": "code",
   "execution_count": 6,
   "metadata": {},
   "outputs": [
    {
     "name": "stdout",
     "output_type": "stream",
     "text": [
      "2\n",
      "2.0\n"
     ]
    }
   ],
   "source": [
    "# Scenario 2\n",
    "var1 = 4\n",
    "var2 = 2\n",
    "# Integer division\n",
    "print(var1//var2)\n",
    "# Float division\n",
    "print(var1/var2)"
   ]
  },
  {
   "cell_type": "code",
   "execution_count": 7,
   "metadata": {},
   "outputs": [
    {
     "name": "stdout",
     "output_type": "stream",
     "text": [
      "2\n",
      "2.6666666666666665\n"
     ]
    }
   ],
   "source": [
    "# Scenario 4\n",
    "var1 = 8\n",
    "var2 = 3\n",
    "# Integer division\n",
    "print(var1//var2)\n",
    "# Float division\n",
    "print(var1/var2)"
   ]
  },
  {
   "cell_type": "markdown",
   "metadata": {},
   "source": [
    "### 4. Explain operator precedence rules in Python with the help of examples."
   ]
  },
  {
   "cell_type": "markdown",
   "metadata": {},
   "source": [
    "Python Operators Precedence Rule – PEMDAS \\\n",
    "P – Parentheses.\\\n",
    "E – Exponentiation.\\\n",
    "M – Multiplication.\\\n",
    "D – Division.\\\n",
    "A – Addition.\\\n",
    "S – Subtraction."
   ]
  },
  {
   "cell_type": "markdown",
   "metadata": {},
   "source": [
    "let's say we have the following problem\\\n",
    "(10+14) /3 *5 + 2** 3 -6\\\n",
    "So python would first perform (10+14).\\\n",
    "Then it would perform 2** 3.\\\n",
    "Then it would perform (10+14)*5.\\\n",
    "Then it would perform (10+14)*5/3. This will be a float.\\\n",
    "Then it would perform (10+14)*5/3 + 2** 3.\\\n",
    "Then it would perform (10+14)*5/3 + 2** 3 -6.\\\n",
    "And give us the output of 42.0."
   ]
  },
  {
   "cell_type": "code",
   "execution_count": 8,
   "metadata": {},
   "outputs": [
    {
     "data": {
      "text/plain": [
       "42.0"
      ]
     },
     "execution_count": 8,
     "metadata": {},
     "output_type": "execute_result"
    }
   ],
   "source": [
    "(10+14)/3*5+2**3-6"
   ]
  },
  {
   "cell_type": "markdown",
   "metadata": {},
   "source": [
    "### 5. When do you use double quotes while performing string operations in Python? Explain with examples."
   ]
  },
  {
   "cell_type": "markdown",
   "metadata": {},
   "source": [
    "The choice between both the types (single quotes and double quotes) depends on the programmer’s choice. Generally, double quotes are used for string representation and single quotes are used for regular expressions, dict keys or SQL. Hence both single quote and double quotes depict string in python but it’s sometimes our need to use one type over the other."
   ]
  },
  {
   "cell_type": "markdown",
   "metadata": {},
   "source": [
    "Primarily, when we have single quote(s) in our string then we must use double quotes to wrap them.\\\n",
    "And when we have double quote(s) in our string then we must use single quotes to wrap them."
   ]
  },
  {
   "cell_type": "code",
   "execution_count": 9,
   "metadata": {},
   "outputs": [
    {
     "name": "stdout",
     "output_type": "stream",
     "text": [
      "It's python\n"
     ]
    }
   ],
   "source": [
    "# Using double quotes\n",
    "print(\"It's python\")"
   ]
  },
  {
   "cell_type": "code",
   "execution_count": 10,
   "metadata": {},
   "outputs": [
    {
     "name": "stdout",
     "output_type": "stream",
     "text": [
      "\"WithQuotes\"\n"
     ]
    }
   ],
   "source": [
    "# Using single quotes\n",
    "print('\"WithQuotes\"')"
   ]
  },
  {
   "cell_type": "markdown",
   "metadata": {},
   "source": [
    "If we do not follow this then we would get invalid syntax error."
   ]
  },
  {
   "cell_type": "markdown",
   "metadata": {},
   "source": [
    "### 6. Explain the immutability of strings in Python with the help of examples."
   ]
  },
  {
   "cell_type": "markdown",
   "metadata": {},
   "source": [
    "In Python, strings are made immutable so that programmers cannot alter the contents of the object (even by mistake). This avoids unnecessary bugs.\\\n",
    "\\\n",
    "Some other immutable objects are integer, float, tuple, and bool."
   ]
  },
  {
   "cell_type": "code",
   "execution_count": 11,
   "metadata": {},
   "outputs": [],
   "source": [
    "## The following code will give you a type error\n",
    "# name_1 = \"Mir\"\n",
    "# name_1[0] = 'S'\n",
    "\n",
    "\n",
    "# ---------------------------------------------------------------------------\n",
    "# TypeError                                 Traceback (most recent call last)\n",
    "# <ipython-input-11-82e3b2454340> in <module>\n",
    "#       1 name_1 = \"Mir\"\n",
    "# ----> 2 name_1[0] = 'S'\n",
    "\n",
    "# TypeError: 'str' object does not support item assignment"
   ]
  },
  {
   "cell_type": "code",
   "execution_count": 12,
   "metadata": {},
   "outputs": [
    {
     "name": "stdout",
     "output_type": "stream",
     "text": [
      "name_1 =  Mir and name_2 =  Sir\n"
     ]
    }
   ],
   "source": [
    "# One possible solution is to create a new string object with necessary modifications:\n",
    "name_1 = \"Mir\"\n",
    "name_2 = \"S\"+ name_1[1:]\n",
    "print(\"name_1 = \", name_1, \"and name_2 = \", name_2)"
   ]
  },
  {
   "cell_type": "code",
   "execution_count": 13,
   "metadata": {},
   "outputs": [
    {
     "name": "stdout",
     "output_type": "stream",
     "text": [
      "id of name_1 =  2810055562288\n",
      "id of name_2 =  2810055562800\n"
     ]
    }
   ],
   "source": [
    "# To identify that they are different strings, check with the id() function\n",
    "print(\"id of name_1 = \", id(name_1))\n",
    "print(\"id of name_2 = \", id(name_2))"
   ]
  },
  {
   "cell_type": "code",
   "execution_count": 14,
   "metadata": {
    "scrolled": true
   },
   "outputs": [
    {
     "name": "stdout",
     "output_type": "stream",
     "text": [
      "id of name_1 =  2810055562288\n",
      "id of name_2 =  2810055562288\n"
     ]
    }
   ],
   "source": [
    "# To understand more about the concept of string immutability, consider the following code:\n",
    "name_1 = \"Mir\"\n",
    "name_2 = \"Mir\"\n",
    "print(\"id of name_1 = \", id(name_1))\n",
    "print(\"id of name_2 = \", id(name_2))"
   ]
  },
  {
   "cell_type": "markdown",
   "metadata": {},
   "source": [
    "When the above lines of code are executed, you will find that the id’s of both name_1 and name_2 objects, which refer to the string “Mir”, are the same."
   ]
  },
  {
   "cell_type": "code",
   "execution_count": 15,
   "metadata": {
    "scrolled": true
   },
   "outputs": [
    {
     "name": "stdout",
     "output_type": "stream",
     "text": [
      "id of name_1 =  2810055562288\n",
      "id of name_1 afer initialing with new value =  2810055542384\n"
     ]
    }
   ],
   "source": [
    "# To dig deeper, execute the following statements:\n",
    "name_1 = \"Mir\"\n",
    "print(\"id of name_1 = \", id(name_1))\n",
    "\n",
    "name_1 = \"Sir\"\n",
    "print(\"id of name_1 afer initialing with new value = \", id(name_1))"
   ]
  },
  {
   "cell_type": "markdown",
   "metadata": {},
   "source": [
    "As can be seen in the above example, when a string reference is reinitialized with a new value, it is creating a new object rather than overwriting the previous value."
   ]
  },
  {
   "cell_type": "markdown",
   "metadata": {},
   "source": [
    "### 7. What tools can you use to find a number’s square root, as well as its square?"
   ]
  },
  {
   "cell_type": "code",
   "execution_count": 16,
   "metadata": {},
   "outputs": [
    {
     "name": "stdout",
     "output_type": "stream",
     "text": [
      "2.0\n",
      "16\n"
     ]
    }
   ],
   "source": [
    "# we can use '**' operator to calculate exponentials as well as roots\n",
    "# calculating square root\n",
    "print(4**.5) # or print(4**(1/2))\n",
    "# calculating square\n",
    "print(4**2)"
   ]
  },
  {
   "cell_type": "markdown",
   "metadata": {},
   "source": [
    "### 8. How can you truncate and round a floating-point number?"
   ]
  },
  {
   "cell_type": "code",
   "execution_count": 17,
   "metadata": {},
   "outputs": [
    {
     "name": "stdout",
     "output_type": "stream",
     "text": [
      " old value = 5.6\n",
      " type of old value = <class 'float'>\n",
      "---------------------------------\n",
      " new value = 5\n",
      " type of new value = <class 'int'>\n"
     ]
    }
   ],
   "source": [
    "# by integer converter function which will round down the value of the varibale\n",
    "var = 5.6\n",
    "print(f\" old value = {var}\")\n",
    "print(f\" type of old value = {type(var)}\")\n",
    "print(\"---------------------------------\")\n",
    "var = int(var)\n",
    "print(f\" new value = {var}\")\n",
    "print(f\" type of new value = {type(var)}\")"
   ]
  },
  {
   "cell_type": "code",
   "execution_count": 18,
   "metadata": {},
   "outputs": [
    {
     "name": "stdout",
     "output_type": "stream",
     "text": [
      " old value = 5.5\n",
      " type of old value = <class 'float'>\n",
      "---------------------------------\n",
      " new value = 6\n",
      " type of new value = <class 'int'>\n"
     ]
    }
   ],
   "source": [
    "# by round function which will either round up or down based on the value of the varibale\n",
    "# scenario 1\n",
    "var = 5.5\n",
    "print(f\" old value = {var}\")\n",
    "print(f\" type of old value = {type(var)}\")\n",
    "print(\"---------------------------------\")\n",
    "var = round(var)\n",
    "print(f\" new value = {var}\")\n",
    "print(f\" type of new value = {type(var)}\")"
   ]
  },
  {
   "cell_type": "code",
   "execution_count": 19,
   "metadata": {},
   "outputs": [
    {
     "name": "stdout",
     "output_type": "stream",
     "text": [
      " old value = 5.4\n",
      " type of old value = <class 'float'>\n",
      "---------------------------------\n",
      " new value = 5\n",
      " type of new value = <class 'int'>\n"
     ]
    }
   ],
   "source": [
    "# scenario 2\n",
    "var = 5.4\n",
    "print(f\" old value = {var}\")\n",
    "print(f\" type of old value = {type(var)}\")\n",
    "print(\"---------------------------------\")\n",
    "var = round(var)\n",
    "print(f\" new value = {var}\")\n",
    "print(f\" type of new value = {type(var)}\")"
   ]
  },
  {
   "cell_type": "markdown",
   "metadata": {},
   "source": [
    "### 9. How can you convert an integer to a floating-point number?"
   ]
  },
  {
   "cell_type": "code",
   "execution_count": 20,
   "metadata": {},
   "outputs": [
    {
     "name": "stdout",
     "output_type": "stream",
     "text": [
      " old value = 5\n",
      " type of old value = <class 'int'>\n",
      "---------------------------------\n",
      " new value = 5.0\n",
      " type of new value = <class 'float'>\n"
     ]
    }
   ],
   "source": [
    "var = 5\n",
    "print(f\" old value = {var}\")\n",
    "print(f\" type of old value = {type(var)}\")\n",
    "print(\"---------------------------------\")\n",
    "var = float(var)\n",
    "print(f\" new value = {var}\")\n",
    "print(f\" type of new value = {type(var)}\")"
   ]
  },
  {
   "cell_type": "markdown",
   "metadata": {},
   "source": [
    "### 10. Consider the following three statements. Do they change the value printed for A? Explain.\n",
    "A = \"spam\" \\\n",
    "B= A\\\n",
    "B = \"shrubbery\""
   ]
  },
  {
   "cell_type": "code",
   "execution_count": 21,
   "metadata": {},
   "outputs": [],
   "source": [
    "A = \"spam\"\n",
    "B= A\n",
    "B = \"shrubbery\""
   ]
  },
  {
   "cell_type": "code",
   "execution_count": 22,
   "metadata": {},
   "outputs": [
    {
     "name": "stdout",
     "output_type": "stream",
     "text": [
      "spam\n"
     ]
    }
   ],
   "source": [
    "print(A)"
   ]
  },
  {
   "cell_type": "markdown",
   "metadata": {},
   "source": [
    "Python interpreter exceutes the block of codes line by line.\\\n",
    "In the first line, we assigned a new variable 'A'.\\\n",
    "In the second line, we are assigned a new variable 'B' with the value of 'A'.\\\n",
    "In the third line, we changed the value of 'B'.\\\n",
    "Code execution ends here.\\\n",
    "This is why the value of 'A' does not change as there are no other commands past the third line to manipulate the value of 'A'."
   ]
  }
 ],
 "metadata": {
  "kernelspec": {
   "display_name": "Python 3",
   "language": "python",
   "name": "python3"
  },
  "language_info": {
   "codemirror_mode": {
    "name": "ipython",
    "version": 3
   },
   "file_extension": ".py",
   "mimetype": "text/x-python",
   "name": "python",
   "nbconvert_exporter": "python",
   "pygments_lexer": "ipython3",
   "version": "3.8.8"
  }
 },
 "nbformat": 4,
 "nbformat_minor": 4
}
