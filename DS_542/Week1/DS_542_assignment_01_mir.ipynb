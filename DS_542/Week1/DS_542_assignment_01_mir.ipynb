{
 "cells": [
  {
   "cell_type": "markdown",
   "metadata": {},
   "source": [
    "# DS 542 Assignment 01 - Mir Ahmed"
   ]
  },
  {
   "cell_type": "markdown",
   "metadata": {},
   "source": [
    "### 1. Using print() function, print The quick onyx goblin jumps over the lazy dwarf's head."
   ]
  },
  {
   "cell_type": "code",
   "execution_count": 1,
   "metadata": {},
   "outputs": [
    {
     "name": "stdout",
     "output_type": "stream",
     "text": [
      "The quick onyx goblin jumps over the lazy dwarf's head.\n"
     ]
    }
   ],
   "source": [
    "print(\"The quick onyx goblin jumps over the lazy dwarf's head.\")"
   ]
  },
  {
   "cell_type": "markdown",
   "metadata": {},
   "source": [
    "### 2. What does 'Dynamic Typing' mean in Python. Explain with example. Can you list pros and cons of Dynamic Typing?"
   ]
  },
  {
   "cell_type": "markdown",
   "metadata": {},
   "source": [
    "'Dynamic Typing' in Python means that the coder does not have to declare the data types of variables at the time of coding. Python interpreter would stamp the datatypes at runtime.  "
   ]
  },
  {
   "cell_type": "markdown",
   "metadata": {},
   "source": [
    "Examples:"
   ]
  },
  {
   "cell_type": "code",
   "execution_count": 2,
   "metadata": {},
   "outputs": [
    {
     "data": {
      "text/plain": [
       "str"
      ]
     },
     "execution_count": 2,
     "metadata": {},
     "output_type": "execute_result"
    }
   ],
   "source": [
    "# creating a string variable\n",
    "var = \"7\"\n",
    "type(var)"
   ]
  },
  {
   "cell_type": "code",
   "execution_count": 3,
   "metadata": {},
   "outputs": [
    {
     "data": {
      "text/plain": [
       "int"
      ]
     },
     "execution_count": 3,
     "metadata": {},
     "output_type": "execute_result"
    }
   ],
   "source": [
    "# Coverting the same variable to an integer value (not applicable for non numeric values though)\n",
    "var = int(var)\n",
    "type(var)"
   ]
  },
  {
   "cell_type": "code",
   "execution_count": 4,
   "metadata": {},
   "outputs": [
    {
     "data": {
      "text/plain": [
       "float"
      ]
     },
     "execution_count": 4,
     "metadata": {},
     "output_type": "execute_result"
    }
   ],
   "source": [
    "# performing mathematical operation on the integer variable to produce float output and store it in the same variable\n",
    "var = var + .5\n",
    "type(var)"
   ]
  },
  {
   "cell_type": "markdown",
   "metadata": {},
   "source": [
    "Pros:\n",
    "1. Coding is faster\n",
    "2. Flexibility with variables' datatypes.\n",
    "\n",
    "Cons:\n",
    "1. Might face unexpected bugs while run time\n",
    "2. Harder to debug"
   ]
  },
  {
   "cell_type": "markdown",
   "metadata": {},
   "source": [
    "### 3. What does Immutability mean in Python? Explain with example. "
   ]
  },
  {
   "cell_type": "markdown",
   "metadata": {},
   "source": [
    "Immutability means non-changeable. In Python, tuple is an immutable object. So once a tuple is created, we cannot change/ add/ remove the elements."
   ]
  },
  {
   "cell_type": "code",
   "execution_count": 5,
   "metadata": {},
   "outputs": [
    {
     "name": "stdout",
     "output_type": "stream",
     "text": [
      "[1, 2, 3, 4, 5, 6]\n",
      "[1, 2, 3, 4, 5]\n",
      "[1, 2, 3, 4, 6]\n"
     ]
    }
   ],
   "source": [
    "#  changing a list\n",
    "list1 = [1, 2, 3, 4, 5]\n",
    "# adding element\n",
    "list1.append(6)\n",
    "print(list1)\n",
    "# removing element\n",
    "list1.remove(6)\n",
    "print(list1)\n",
    "# changing element\n",
    "list1[4] = 6\n",
    "print(list1)"
   ]
  },
  {
   "cell_type": "code",
   "execution_count": 6,
   "metadata": {},
   "outputs": [
    {
     "name": "stdout",
     "output_type": "stream",
     "text": [
      "{1, 2, 3, 4, 6, 7}\n",
      "{1, 2, 3, 4, 6}\n"
     ]
    }
   ],
   "source": [
    "# changing a set\n",
    "set1 = set(list1)\n",
    "# adding element\n",
    "set1.add(7)\n",
    "print(set1)\n",
    "# removing element\n",
    "set1.remove(7)\n",
    "print(set1)\n",
    "# Set does not allow changing an element"
   ]
  },
  {
   "cell_type": "markdown",
   "metadata": {},
   "source": [
    "Tuple does not allow any alteration."
   ]
  },
  {
   "cell_type": "markdown",
   "metadata": {},
   "source": [
    "### 4. Reverse the string 'hello' using slicing"
   ]
  },
  {
   "cell_type": "code",
   "execution_count": 7,
   "metadata": {},
   "outputs": [
    {
     "data": {
      "text/plain": [
       "'olleh'"
      ]
     },
     "execution_count": 7,
     "metadata": {},
     "output_type": "execute_result"
    }
   ],
   "source": [
    "string = \"hello\"\n",
    "string[::-1]"
   ]
  },
  {
   "cell_type": "markdown",
   "metadata": {},
   "source": [
    "### 5. Given a full name, capitalize the first and last names appropriately.\n",
    "### Input : david jones\n",
    "### Output : David Jones"
   ]
  },
  {
   "cell_type": "code",
   "execution_count": 8,
   "metadata": {},
   "outputs": [
    {
     "data": {
      "text/plain": [
       "'David Jones'"
      ]
     },
     "execution_count": 8,
     "metadata": {},
     "output_type": "execute_result"
    }
   ],
   "source": [
    "name = \"david jones\"\n",
    "name.title()"
   ]
  },
  {
   "cell_type": "markdown",
   "metadata": {},
   "source": [
    "### 6. Define classes, objects and their relationship."
   ]
  },
  {
   "cell_type": "markdown",
   "metadata": {},
   "source": [
    "*Class*: Class creates a user-defined data structure, which holds its own data members and member functions, which can be accessed and used by creating an instance of that class. A class is like a blueprint for an object. Classes provide a means of bundling data and functionality together. Creating a new class creates a new type of object, allowing new instances of that type to be made. Each class instance can have attributes attached to it for maintaining its state. Class instances can also have methods (defined by their class) for modifying their state.\\\n",
    "\\\n",
    "*Object*: An object is an element (or a running instance) of a class in memory. Objects have the behaviors of their class. The object is the actual component of programs, while the class specifies how instances are created and how they behave.\\\n",
    "\\\n",
    "From the definitions above, we learned that class is the blueprint of an object and object is the instance of a class. "
   ]
  },
  {
   "cell_type": "markdown",
   "metadata": {},
   "source": [
    "### 7. What are the two main components of class/object?"
   ]
  },
  {
   "cell_type": "markdown",
   "metadata": {},
   "source": [
    "1. Behavior\n",
    "2. Attributes"
   ]
  },
  {
   "cell_type": "markdown",
   "metadata": {},
   "source": [
    "### 8. Print the alternate character of a string starting with first character.\n",
    "### Input : MacBook\n",
    "### Output: Mcok"
   ]
  },
  {
   "cell_type": "code",
   "execution_count": 9,
   "metadata": {},
   "outputs": [
    {
     "name": "stdout",
     "output_type": "stream",
     "text": [
      "Mcok\n"
     ]
    }
   ],
   "source": [
    "name = \"Macbook\"\n",
    "print(name[::2])\n",
    "## alternate solution\n",
    "# letters = []\n",
    "# for i in range(0,len(name),2):\n",
    "#     letters.append(name[i])\n",
    "# new_name = \"\".join(letters)\n",
    "# print(new_name)"
   ]
  },
  {
   "cell_type": "markdown",
   "metadata": {},
   "source": [
    "###  9. Declare two integer variables. Print two lines: \n",
    "### The first line should contain integer division, // . \n",
    "### The second line should contain float division, / ."
   ]
  },
  {
   "cell_type": "code",
   "execution_count": 10,
   "metadata": {},
   "outputs": [
    {
     "name": "stdout",
     "output_type": "stream",
     "text": [
      "2\n",
      "2.5\n"
     ]
    }
   ],
   "source": [
    "var1 = 5\n",
    "var2 = 2\n",
    "# Integer division\n",
    "print(var1//var2)\n",
    "# Float division\n",
    "print(var1/var2)"
   ]
  },
  {
   "cell_type": "markdown",
   "metadata": {},
   "source": [
    "### 10. Write a Python program to swap two variables with and without using the extra variable.\n",
    "### Input:\n",
    "### first_num = 10\n",
    "### second_num = 20\n",
    "### Output:\n",
    "### first_num = 20\n",
    "### second_num = 10"
   ]
  },
  {
   "cell_type": "code",
   "execution_count": 11,
   "metadata": {},
   "outputs": [
    {
     "name": "stdout",
     "output_type": "stream",
     "text": [
      "first_num = 20\n",
      "second_num = 10\n"
     ]
    }
   ],
   "source": [
    "first_num = 10\n",
    "second_num = 20\n",
    "first_num, second_num = second_num, first_num\n",
    "print(f'first_num = {first_num}')\n",
    "print(f'second_num = {second_num}')"
   ]
  }
 ],
 "metadata": {
  "kernelspec": {
   "display_name": "Python 3",
   "language": "python",
   "name": "python3"
  },
  "language_info": {
   "codemirror_mode": {
    "name": "ipython",
    "version": 3
   },
   "file_extension": ".py",
   "mimetype": "text/x-python",
   "name": "python",
   "nbconvert_exporter": "python",
   "pygments_lexer": "ipython3",
   "version": "3.8.8"
  }
 },
 "nbformat": 4,
 "nbformat_minor": 4
}
