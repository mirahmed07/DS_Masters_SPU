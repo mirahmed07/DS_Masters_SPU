{
 "cells": [
  {
   "cell_type": "markdown",
   "metadata": {
    "application/vnd.databricks.v1+cell": {
     "inputWidgets": {},
     "nuid": "aac328b4-fcf8-4b3e-b931-614185558454",
     "showTitle": false,
     "title": ""
    }
   },
   "source": [
    "# Assignment 2\n",
    "\n",
    "Please answer each question to the corresponding question cell below. Your final code must have the code as well as the output of your code. You can use Saint Peter's [Azure Databricks](https://adb-7130196131129306.6.azuredatabricks.net/?o=7130196131129306#) to do this assignment."
   ]
  },
  {
   "cell_type": "markdown",
   "metadata": {
    "application/vnd.databricks.v1+cell": {
     "inputWidgets": {},
     "nuid": "9a789547-cc02-46f4-8cfb-f5d4457c622f",
     "showTitle": false,
     "title": ""
    }
   },
   "source": [
    "## Questions"
   ]
  },
  {
   "cell_type": "markdown",
   "metadata": {
    "application/vnd.databricks.v1+cell": {
     "inputWidgets": {},
     "nuid": "b389b6af-5398-46c5-8184-bdcebebc96f8",
     "showTitle": false,
     "title": ""
    }
   },
   "source": [
    "### Q1\n",
    "\n",
    "What is the difference between a computer and a cluster? What problems big data frameworks try to solve?"
   ]
  },
  {
   "cell_type": "markdown",
   "metadata": {
    "application/vnd.databricks.v1+cell": {
     "inputWidgets": {},
     "nuid": "90958ffe-988c-4dd2-84ac-077fa7b7701d",
     "showTitle": false,
     "title": ""
    }
   },
   "source": [
    "**Computer**: A computer is a digital electronic machine that can be programmed to carry out sequences of arithmetic or logical operations automatically. It would have limited processing power and storgae capacity.\n",
    "\n",
    "**Cluster**: A cluster is a logical entity of many computers connected by a local area network (LAN). The connected computers function together as a single, far more powerful unit. A cluster offers significantly increased processing speed, storage capacity, data integrity, dependability, and resource availability.\n",
    "\n",
    "Big data frameworks try to solve the following problems:\\\n",
    "1. Capturing big volume of data with high variety, high velocity and high veracity in a cost efficient way,\\\n",
    "2. Speed of fetching data and visualizing or reporting on it,\\\n",
    "3. Integrating data from variety of sources,\\\n",
    "4. Real time reporting and data streaming,\\\n",
    "5. Inadequacy in Predictive analysis, machine learning and AI with leagcy systems.\\\n",
    "6. Inablity of upscaling of legacy systems."
   ]
  },
  {
   "cell_type": "markdown",
   "metadata": {
    "application/vnd.databricks.v1+cell": {
     "inputWidgets": {},
     "nuid": "6792bf1e-cc1c-4a8c-8623-eb281bac1794",
     "showTitle": false,
     "title": ""
    }
   },
   "source": [
    "### Q2\n",
    "\n",
    "Write down the code to create a SparkSession. Initiate the session and save it into a variable named `spark`. Display the variable `spark`."
   ]
  },
  {
   "cell_type": "code",
   "execution_count": 0,
   "metadata": {
    "application/vnd.databricks.v1+cell": {
     "inputWidgets": {},
     "nuid": "d8f9b046-7592-493f-ab77-b00e0d263dfe",
     "showTitle": false,
     "title": ""
    }
   },
   "outputs": [
    {
     "data": {
      "text/html": [
       "<style scoped>\n",
       "  .ansiout {\n",
       "    display: block;\n",
       "    unicode-bidi: embed;\n",
       "    white-space: pre-wrap;\n",
       "    word-wrap: break-word;\n",
       "    word-break: break-all;\n",
       "    font-family: \"Source Code Pro\", \"Menlo\", monospace;;\n",
       "    font-size: 13px;\n",
       "    color: #555;\n",
       "    margin-left: 4px;\n",
       "    line-height: 19px;\n",
       "  }\n",
       "</style>\n",
       "<div class=\"ansiout\">Out[1]: </div>"
      ]
     },
     "metadata": {
      "application/vnd.databricks.v1+output": {
       "addedWidgets": {},
       "arguments": {},
       "data": "<div class=\"ansiout\">Out[1]: </div>",
       "datasetInfos": [],
       "metadata": {},
       "removedWidgets": [],
       "type": "html"
      }
     },
     "output_type": "display_data"
    },
    {
     "data": {
      "text/html": [
       "\n",
       "            <div>\n",
       "                <p><b>SparkSession - hive</b></p>\n",
       "                \n",
       "        <div>\n",
       "            <p><b>SparkContext</b></p>\n",
       "\n",
       "            <p><a href=\"/?o=7130196131129306#setting/sparkui/0525-195357-ouq8pnk7/driver-7321544028581091367\">Spark UI</a></p>\n",
       "\n",
       "            <dl>\n",
       "              <dt>Version</dt>\n",
       "                <dd><code>v3.2.1</code></dd>\n",
       "              <dt>Master</dt>\n",
       "                <dd><code>spark://10.139.64.4:7077</code></dd>\n",
       "              <dt>AppName</dt>\n",
       "                <dd><code>Databricks Shell</code></dd>\n",
       "            </dl>\n",
       "        </div>\n",
       "        \n",
       "            </div>\n",
       "        "
      ]
     },
     "metadata": {
      "application/vnd.databricks.v1+output": {
       "addedWidgets": {},
       "arguments": {},
       "data": "\n            <div>\n                <p><b>SparkSession - hive</b></p>\n                \n        <div>\n            <p><b>SparkContext</b></p>\n\n            <p><a href=\"/?o=7130196131129306#setting/sparkui/0525-195357-ouq8pnk7/driver-7321544028581091367\">Spark UI</a></p>\n\n            <dl>\n              <dt>Version</dt>\n                <dd><code>v3.2.1</code></dd>\n              <dt>Master</dt>\n                <dd><code>spark://10.139.64.4:7077</code></dd>\n              <dt>AppName</dt>\n                <dd><code>Databricks Shell</code></dd>\n            </dl>\n        </div>\n        \n            </div>\n        ",
       "datasetInfos": [],
       "metadata": {},
       "removedWidgets": [],
       "textData": null,
       "type": "htmlSandbox"
      }
     },
     "output_type": "display_data"
    }
   ],
   "source": [
    "from pyspark.sql import SparkSession\n",
    "\n",
    "spark = SparkSession.builder.getOrCreate()\n",
    "spark"
   ]
  },
  {
   "cell_type": "markdown",
   "metadata": {
    "application/vnd.databricks.v1+cell": {
     "inputWidgets": {},
     "nuid": "8c0509d6-bc81-4319-a21d-dc5e4f6941d1",
     "showTitle": false,
     "title": ""
    }
   },
   "source": [
    "### Q3\n",
    "\n",
    "What are the roles of Spark driver, cluster manager, and Spark executor?"
   ]
  },
  {
   "cell_type": "markdown",
   "metadata": {
    "application/vnd.databricks.v1+cell": {
     "inputWidgets": {},
     "nuid": "f2cb1441-2dce-47b4-81ae-42e51664311b",
     "showTitle": false,
     "title": ""
    }
   },
   "source": [
    "**Spark Driver:** The driver process runs the main() function, sits on a node in the cluster, and is responsible for three things: maintaining information about the Spark Application; responding to a user’s program or input; and analyzing, distributing, and scheduling work across the executors. The driver process is absolutely essential— it’s the heart of a Spark Application and maintains all relevant information during the lifetime of the application.\n",
    "\n",
    "**Cluster Manager:** Spark employs a cluster manager that keeps track of the resources available.. The cluster manager is responsible for maintaining a cluster of machines that will run the Spark Application(s).\n",
    "\n",
    "**Spark Executor:** The executors are responsible for actually carrying out the work that the driver assigns them. This means that each executor is responsible for only two things: executing code assigned to it by the driver, and reporting the state of the computation on that executor back to the driver node."
   ]
  },
  {
   "cell_type": "markdown",
   "metadata": {
    "application/vnd.databricks.v1+cell": {
     "inputWidgets": {},
     "nuid": "4aa3482c-8e3e-4ea3-9bbf-fc3bbb785624",
     "showTitle": false,
     "title": ""
    }
   },
   "source": [
    "### Q4\n",
    "\n",
    "Answer the following questions in SQL. The next cell below creates a table for you to use in the next questions."
   ]
  },
  {
   "cell_type": "code",
   "execution_count": 0,
   "metadata": {
    "application/vnd.databricks.v1+cell": {
     "inputWidgets": {},
     "nuid": "1b628631-3e17-4bb6-b53d-868ca30f2f88",
     "showTitle": false,
     "title": ""
    }
   },
   "outputs": [
    {
     "data": {
      "text/html": [
       "<style scoped>\n",
       "  .ansiout {\n",
       "    display: block;\n",
       "    unicode-bidi: embed;\n",
       "    white-space: pre-wrap;\n",
       "    word-wrap: break-word;\n",
       "    word-break: break-all;\n",
       "    font-family: \"Source Code Pro\", \"Menlo\", monospace;;\n",
       "    font-size: 13px;\n",
       "    color: #555;\n",
       "    margin-left: 4px;\n",
       "    line-height: 19px;\n",
       "  }\n",
       "</style>\n",
       "<div class=\"ansiout\">Out[2]: DataFrame[]</div>"
      ]
     },
     "metadata": {
      "application/vnd.databricks.v1+output": {
       "addedWidgets": {},
       "arguments": {},
       "data": "<div class=\"ansiout\">Out[2]: DataFrame[]</div>",
       "datasetInfos": [],
       "metadata": {},
       "removedWidgets": [],
       "type": "html"
      }
     },
     "output_type": "display_data"
    }
   ],
   "source": [
    "# creates a table in Spark\n",
    "people_path = 'dbfs:/databricks-datasets/learning-spark-v2/people/people-10m.delta/'\n",
    "spark.sql(f\"SET c.people_path = {people_path}\")\n",
    "spark.sql(\"\"\"CREATE TABLE IF NOT EXISTS people USING delta OPTIONS (path \"{}\")\"\"\".format(people_path))"
   ]
  },
  {
   "cell_type": "markdown",
   "metadata": {
    "application/vnd.databricks.v1+cell": {
     "inputWidgets": {},
     "nuid": "74cebf25-f4e0-43b8-ac3a-9e5cd014abec",
     "showTitle": false,
     "title": ""
    }
   },
   "source": [
    "### Q5\n",
    "\n",
    "Select all people from `people` table where their salaries are above 50,000 dollars. Display only 5 rows."
   ]
  },
  {
   "cell_type": "code",
   "execution_count": 0,
   "metadata": {
    "application/vnd.databricks.v1+cell": {
     "inputWidgets": {},
     "nuid": "2baff51d-3aa3-4670-b2ce-e9812a4c0aaa",
     "showTitle": false,
     "title": ""
    }
   },
   "outputs": [
    {
     "data": {
      "text/html": [
       "<style scoped>\n",
       "  .table-result-container {\n",
       "    max-height: 300px;\n",
       "    overflow: auto;\n",
       "  }\n",
       "  table, th, td {\n",
       "    border: 1px solid black;\n",
       "    border-collapse: collapse;\n",
       "  }\n",
       "  th, td {\n",
       "    padding: 5px;\n",
       "  }\n",
       "  th {\n",
       "    text-align: left;\n",
       "  }\n",
       "</style><div class='table-result-container'><table class='table-result'><thead style='background-color: white'><tr><th>id</th><th>firstName</th><th>middleName</th><th>lastName</th><th>gender</th><th>birthDate</th><th>ssn</th><th>salary</th></tr></thead><tbody><tr><td>1</td><td>Pennie</td><td>Carry</td><td>Hirschmann</td><td>F</td><td>1955-07-02T04:00:00.000+0000</td><td>981-43-9345</td><td>56172</td></tr><tr><td>3</td><td>Quyen</td><td>Marlen</td><td>Dome</td><td>F</td><td>1970-10-11T04:00:00.000+0000</td><td>957-57-8246</td><td>53417</td></tr><tr><td>4</td><td>Coralie</td><td>Antonina</td><td>Marshal</td><td>F</td><td>1990-04-11T04:00:00.000+0000</td><td>963-39-4885</td><td>94727</td></tr><tr><td>5</td><td>Terrie</td><td>Wava</td><td>Bonar</td><td>F</td><td>1980-01-16T05:00:00.000+0000</td><td>964-49-8051</td><td>79908</td></tr><tr><td>6</td><td>Chassidy</td><td>Concepcion</td><td>Bourthouloume</td><td>F</td><td>1990-11-24T05:00:00.000+0000</td><td>954-59-9172</td><td>64652</td></tr></tbody></table></div>"
      ]
     },
     "metadata": {
      "application/vnd.databricks.v1+output": {
       "addedWidgets": {},
       "aggData": [],
       "aggError": "",
       "aggOverflow": false,
       "aggSchema": [],
       "aggSeriesLimitReached": false,
       "aggType": "",
       "arguments": {},
       "columnCustomDisplayInfos": {},
       "data": [
        [
         1,
         "Pennie",
         "Carry",
         "Hirschmann",
         "F",
         "1955-07-02T04:00:00.000+0000",
         "981-43-9345",
         56172
        ],
        [
         3,
         "Quyen",
         "Marlen",
         "Dome",
         "F",
         "1970-10-11T04:00:00.000+0000",
         "957-57-8246",
         53417
        ],
        [
         4,
         "Coralie",
         "Antonina",
         "Marshal",
         "F",
         "1990-04-11T04:00:00.000+0000",
         "963-39-4885",
         94727
        ],
        [
         5,
         "Terrie",
         "Wava",
         "Bonar",
         "F",
         "1980-01-16T05:00:00.000+0000",
         "964-49-8051",
         79908
        ],
        [
         6,
         "Chassidy",
         "Concepcion",
         "Bourthouloume",
         "F",
         "1990-11-24T05:00:00.000+0000",
         "954-59-9172",
         64652
        ]
       ],
       "datasetInfos": [],
       "dbfsResultPath": null,
       "isJsonSchema": true,
       "metadata": {
        "isDbfsCommandResult": false
       },
       "overflow": false,
       "plotOptions": {
        "customPlotOptions": {},
        "displayType": "table",
        "pivotAggregation": null,
        "pivotColumns": null,
        "xColumns": null,
        "yColumns": null
       },
       "removedWidgets": [],
       "schema": [
        {
         "metadata": "{}",
         "name": "id",
         "type": "\"integer\""
        },
        {
         "metadata": "{}",
         "name": "firstName",
         "type": "\"string\""
        },
        {
         "metadata": "{}",
         "name": "middleName",
         "type": "\"string\""
        },
        {
         "metadata": "{}",
         "name": "lastName",
         "type": "\"string\""
        },
        {
         "metadata": "{}",
         "name": "gender",
         "type": "\"string\""
        },
        {
         "metadata": "{}",
         "name": "birthDate",
         "type": "\"timestamp\""
        },
        {
         "metadata": "{}",
         "name": "ssn",
         "type": "\"string\""
        },
        {
         "metadata": "{}",
         "name": "salary",
         "type": "\"integer\""
        }
       ],
       "type": "table"
      }
     },
     "output_type": "display_data"
    }
   ],
   "source": [
    "%sql\n",
    "SELECT * FROM people where salary > 50000 limit 5;"
   ]
  },
  {
   "cell_type": "markdown",
   "metadata": {
    "application/vnd.databricks.v1+cell": {
     "inputWidgets": {},
     "nuid": "37f73c77-4bbb-4282-88ed-2d192b610a5e",
     "showTitle": false,
     "title": ""
    }
   },
   "source": [
    "### Q6\n",
    "\n",
    "What is the number of different genders in `people` table?"
   ]
  },
  {
   "cell_type": "code",
   "execution_count": 0,
   "metadata": {
    "application/vnd.databricks.v1+cell": {
     "inputWidgets": {},
     "nuid": "398980c7-ba7f-4e18-a49e-98fcc7e9e431",
     "showTitle": false,
     "title": ""
    }
   },
   "outputs": [
    {
     "data": {
      "text/html": [
       "<style scoped>\n",
       "  .table-result-container {\n",
       "    max-height: 300px;\n",
       "    overflow: auto;\n",
       "  }\n",
       "  table, th, td {\n",
       "    border: 1px solid black;\n",
       "    border-collapse: collapse;\n",
       "  }\n",
       "  th, td {\n",
       "    padding: 5px;\n",
       "  }\n",
       "  th {\n",
       "    text-align: left;\n",
       "  }\n",
       "</style><div class='table-result-container'><table class='table-result'><thead style='background-color: white'><tr><th>count(DISTINCT gender)</th></tr></thead><tbody><tr><td>2</td></tr></tbody></table></div>"
      ]
     },
     "metadata": {
      "application/vnd.databricks.v1+output": {
       "addedWidgets": {},
       "aggData": [],
       "aggError": "",
       "aggOverflow": false,
       "aggSchema": [],
       "aggSeriesLimitReached": false,
       "aggType": "",
       "arguments": {},
       "columnCustomDisplayInfos": {},
       "data": [
        [
         2
        ]
       ],
       "datasetInfos": [],
       "dbfsResultPath": null,
       "isJsonSchema": true,
       "metadata": {
        "isDbfsCommandResult": false
       },
       "overflow": false,
       "plotOptions": {
        "customPlotOptions": {},
        "displayType": "table",
        "pivotAggregation": null,
        "pivotColumns": null,
        "xColumns": null,
        "yColumns": null
       },
       "removedWidgets": [],
       "schema": [
        {
         "metadata": "{\"__autoGeneratedAlias\":\"true\"}",
         "name": "count(DISTINCT gender)",
         "type": "\"long\""
        }
       ],
       "type": "table"
      }
     },
     "output_type": "display_data"
    }
   ],
   "source": [
    "%sql\n",
    "SELECT COUNT(DISTINCT gender) FROM people;"
   ]
  },
  {
   "cell_type": "code",
   "execution_count": 0,
   "metadata": {
    "application/vnd.databricks.v1+cell": {
     "inputWidgets": {},
     "nuid": "21161ecc-0eb4-42ae-a98e-98f9100b10e6",
     "showTitle": false,
     "title": ""
    }
   },
   "outputs": [
    {
     "data": {
      "text/html": [
       "<style scoped>\n",
       "  .table-result-container {\n",
       "    max-height: 300px;\n",
       "    overflow: auto;\n",
       "  }\n",
       "  table, th, td {\n",
       "    border: 1px solid black;\n",
       "    border-collapse: collapse;\n",
       "  }\n",
       "  th, td {\n",
       "    padding: 5px;\n",
       "  }\n",
       "  th {\n",
       "    text-align: left;\n",
       "  }\n",
       "</style><div class='table-result-container'><table class='table-result'><thead style='background-color: white'><tr><th>gender</th><th>count(1)</th></tr></thead><tbody><tr><td>F</td><td>5187302</td></tr><tr><td>M</td><td>4812698</td></tr></tbody></table></div>"
      ]
     },
     "metadata": {
      "application/vnd.databricks.v1+output": {
       "addedWidgets": {},
       "aggData": [],
       "aggError": "",
       "aggOverflow": false,
       "aggSchema": [],
       "aggSeriesLimitReached": false,
       "aggType": "",
       "arguments": {},
       "columnCustomDisplayInfos": {},
       "data": [
        [
         "F",
         5187302
        ],
        [
         "M",
         4812698
        ]
       ],
       "datasetInfos": [],
       "dbfsResultPath": null,
       "isJsonSchema": true,
       "metadata": {
        "isDbfsCommandResult": false
       },
       "overflow": false,
       "plotOptions": {
        "customPlotOptions": {},
        "displayType": "table",
        "pivotAggregation": null,
        "pivotColumns": null,
        "xColumns": null,
        "yColumns": null
       },
       "removedWidgets": [],
       "schema": [
        {
         "metadata": "{}",
         "name": "gender",
         "type": "\"string\""
        },
        {
         "metadata": "{\"__autoGeneratedAlias\":\"true\"}",
         "name": "count(1)",
         "type": "\"long\""
        }
       ],
       "type": "table"
      }
     },
     "output_type": "display_data"
    }
   ],
   "source": [
    "%sql\n",
    "SELECT gender,COUNT(*) FROM people GROUP BY gender;"
   ]
  },
  {
   "cell_type": "markdown",
   "metadata": {
    "application/vnd.databricks.v1+cell": {
     "inputWidgets": {},
     "nuid": "a3194d21-c39a-4651-a701-5245439b91ea",
     "showTitle": false,
     "title": ""
    }
   },
   "source": [
    "### Q7\n",
    "\n",
    "Find all people that matches the following conditions:\n",
    "\n",
    "- First name starts with `Car`\n",
    "- Born after January 1st, 2000"
   ]
  },
  {
   "cell_type": "code",
   "execution_count": 0,
   "metadata": {
    "application/vnd.databricks.v1+cell": {
     "inputWidgets": {},
     "nuid": "458f9391-a9f4-4303-84b3-90e1714cb0dc",
     "showTitle": false,
     "title": ""
    }
   },
   "outputs": [
    {
     "data": {
      "text/html": [
       "<style scoped>\n",
       "  .table-result-container {\n",
       "    max-height: 300px;\n",
       "    overflow: auto;\n",
       "  }\n",
       "  table, th, td {\n",
       "    border: 1px solid black;\n",
       "    border-collapse: collapse;\n",
       "  }\n",
       "  th, td {\n",
       "    padding: 5px;\n",
       "  }\n",
       "  th {\n",
       "    text-align: left;\n",
       "  }\n",
       "</style><div class='table-result-container'><table class='table-result'><thead style='background-color: white'><tr><th>id</th><th>firstName</th><th>middleName</th><th>lastName</th><th>gender</th><th>birthDate</th><th>ssn</th><th>salary</th></tr></thead><tbody><tr><td>7552</td><td>Carina</td><td>Yessenia</td><td>Maccari</td><td>F</td><td>2000-01-24T05:00:00.000+0000</td><td>942-70-1481</td><td>105665</td></tr><tr><td>24463</td><td>Carolee</td><td>Suzanna</td><td>Le Estut</td><td>F</td><td>2000-01-21T05:00:00.000+0000</td><td>995-97-5619</td><td>89286</td></tr><tr><td>61764</td><td>Carmella</td><td>Yevette</td><td>Cornish</td><td>F</td><td>2000-01-16T05:00:00.000+0000</td><td>974-11-3609</td><td>87612</td></tr><tr><td>109755</td><td>Caryn</td><td>Estela</td><td>Troppmann</td><td>F</td><td>2000-01-02T05:00:00.000+0000</td><td>955-59-8418</td><td>69733</td></tr><tr><td>130593</td><td>Caroll</td><td>Trang</td><td>Terrazzo</td><td>F</td><td>2000-01-10T05:00:00.000+0000</td><td>911-29-9761</td><td>41662</td></tr><tr><td>167808</td><td>Cara</td><td>Bruna</td><td>Tagg</td><td>F</td><td>2000-01-11T05:00:00.000+0000</td><td>952-62-8981</td><td>104653</td></tr><tr><td>215299</td><td>Carli</td><td>Jodi</td><td>Naptine</td><td>F</td><td>2000-01-04T05:00:00.000+0000</td><td>944-73-5924</td><td>55739</td></tr><tr><td>239060</td><td>Carline</td><td>Nicky</td><td>McCombe</td><td>F</td><td>2000-01-23T05:00:00.000+0000</td><td>985-81-2160</td><td>105100</td></tr><tr><td>279096</td><td>Carley</td><td>Dena</td><td>Fields</td><td>F</td><td>2000-01-15T05:00:00.000+0000</td><td>998-72-1372</td><td>59609</td></tr><tr><td>305887</td><td>Carlene</td><td>Karmen</td><td>Ickovic</td><td>F</td><td>2000-01-17T05:00:00.000+0000</td><td>947-18-9921</td><td>83761</td></tr><tr><td>380114</td><td>Caridad</td><td>Mika</td><td>Wilkowski</td><td>F</td><td>2000-01-16T05:00:00.000+0000</td><td>981-85-6399</td><td>99108</td></tr><tr><td>381091</td><td>Carlena</td><td>Danelle</td><td>Larner</td><td>F</td><td>2000-01-17T05:00:00.000+0000</td><td>923-76-9864</td><td>70661</td></tr><tr><td>392145</td><td>Caron</td><td>Lanie</td><td>Kincla</td><td>F</td><td>2000-01-26T05:00:00.000+0000</td><td>967-23-6456</td><td>79204</td></tr><tr><td>421439</td><td>Carylon</td><td>Dena</td><td>Frogley</td><td>F</td><td>2000-01-11T05:00:00.000+0000</td><td>980-86-2726</td><td>83005</td></tr><tr><td>425614</td><td>Carie</td><td>Clara</td><td>Winsom</td><td>F</td><td>2000-01-30T05:00:00.000+0000</td><td>965-58-1343</td><td>89622</td></tr><tr><td>454827</td><td>Carla</td><td>Gertude</td><td>Walenta</td><td>F</td><td>2000-01-03T05:00:00.000+0000</td><td>920-46-5106</td><td>43731</td></tr><tr><td>467408</td><td>Carlota</td><td>Wilma</td><td>Selvester</td><td>F</td><td>2000-01-10T05:00:00.000+0000</td><td>994-38-7729</td><td>74789</td></tr><tr><td>479022</td><td>Carmen</td><td>Miki</td><td>Toffler</td><td>F</td><td>2000-01-10T05:00:00.000+0000</td><td>911-78-6158</td><td>92791</td></tr><tr><td>535094</td><td>Carman</td><td>Misti</td><td>Goodlip</td><td>F</td><td>2000-01-30T05:00:00.000+0000</td><td>911-70-7624</td><td>63817</td></tr><tr><td>561125</td><td>Carlene</td><td>Ute</td><td>Enocksson</td><td>F</td><td>2000-01-28T05:00:00.000+0000</td><td>904-69-3797</td><td>62749</td></tr><tr><td>592962</td><td>Carie</td><td>Lean</td><td>Purches</td><td>F</td><td>2000-01-21T05:00:00.000+0000</td><td>995-74-6738</td><td>80246</td></tr><tr><td>728629</td><td>Carmella</td><td>Desiree</td><td>Idle</td><td>F</td><td>2000-01-24T05:00:00.000+0000</td><td>904-64-8189</td><td>76071</td></tr><tr><td>730925</td><td>Carletta</td><td>Willie</td><td>Talmadge</td><td>F</td><td>2000-01-05T05:00:00.000+0000</td><td>905-55-9074</td><td>90953</td></tr><tr><td>818353</td><td>Carita</td><td>Annemarie</td><td>Wollard</td><td>F</td><td>2000-01-07T05:00:00.000+0000</td><td>961-32-5153</td><td>61767</td></tr><tr><td>822172</td><td>Carly</td><td>Kenna</td><td>Torbeck</td><td>F</td><td>2000-01-27T05:00:00.000+0000</td><td>957-76-6386</td><td>77243</td></tr><tr><td>838354</td><td>Cary</td><td>Drucilla</td><td>Syred</td><td>F</td><td>2000-01-23T05:00:00.000+0000</td><td>666-20-1216</td><td>85564</td></tr><tr><td>839654</td><td>Carolann</td><td>Nichole</td><td>Fallowfield</td><td>F</td><td>2000-01-14T05:00:00.000+0000</td><td>925-38-2053</td><td>82758</td></tr><tr><td>908358</td><td>Caroyln</td><td>Caroline</td><td>Brimblecomb</td><td>F</td><td>2000-01-20T05:00:00.000+0000</td><td>991-20-6837</td><td>73266</td></tr><tr><td>915764</td><td>Carola</td><td>Hermina</td><td>Craydon</td><td>F</td><td>2000-01-10T05:00:00.000+0000</td><td>967-91-3970</td><td>80283</td></tr><tr><td>1067735</td><td>Carolyne</td><td>Jaimee</td><td>Pearn</td><td>F</td><td>2000-01-15T05:00:00.000+0000</td><td>988-25-1717</td><td>89305</td></tr><tr><td>1136371</td><td>Caryl</td><td>Palmira</td><td>Layborn</td><td>F</td><td>2000-01-02T05:00:00.000+0000</td><td>938-28-9838</td><td>51477</td></tr><tr><td>1198406</td><td>Carrol</td><td>Danuta</td><td>Novacek</td><td>F</td><td>2000-01-16T05:00:00.000+0000</td><td>973-90-1752</td><td>99872</td></tr><tr><td>1227591</td><td>Carlene</td><td>Matilda</td><td>Mandal</td><td>F</td><td>2000-01-15T05:00:00.000+0000</td><td>969-50-7183</td><td>67449</td></tr><tr><td>3798210</td><td>Carlena</td><td>Chasity</td><td>Wyldish</td><td>F</td><td>2000-01-04T05:00:00.000+0000</td><td>919-54-2659</td><td>91116</td></tr><tr><td>3862005</td><td>Carolin</td><td>Tonia</td><td>Hearle</td><td>F</td><td>2000-01-26T05:00:00.000+0000</td><td>951-73-6755</td><td>38368</td></tr><tr><td>3872934</td><td>Caroll</td><td>Bernice</td><td>Lauritzen</td><td>F</td><td>2000-01-25T05:00:00.000+0000</td><td>915-38-4767</td><td>51767</td></tr><tr><td>3879073</td><td>Carri</td><td>Merrill</td><td>Bedlington</td><td>F</td><td>2000-01-11T05:00:00.000+0000</td><td>994-59-1920</td><td>70122</td></tr><tr><td>3917268</td><td>Carlota</td><td>Agatha</td><td>Copnell</td><td>F</td><td>2000-01-18T05:00:00.000+0000</td><td>910-24-5457</td><td>89276</td></tr><tr><td>3940669</td><td>Cari</td><td>Emmie</td><td>Lilleycrop</td><td>F</td><td>2000-01-24T05:00:00.000+0000</td><td>915-37-4102</td><td>68715</td></tr><tr><td>4009365</td><td>Carri</td><td>Katrina</td><td>Zecchii</td><td>F</td><td>2000-01-29T05:00:00.000+0000</td><td>979-88-9806</td><td>95136</td></tr><tr><td>4063448</td><td>Carisa</td><td>Pilar</td><td>Sineath</td><td>F</td><td>2000-01-10T05:00:00.000+0000</td><td>958-29-4502</td><td>78269</td></tr><tr><td>4074119</td><td>Carolyn</td><td>Antonette</td><td>Glaister</td><td>F</td><td>2000-01-24T05:00:00.000+0000</td><td>973-93-1716</td><td>96900</td></tr><tr><td>4078048</td><td>Carmelina</td><td>Laurena</td><td>Livett</td><td>F</td><td>2000-01-15T05:00:00.000+0000</td><td>930-45-9409</td><td>60707</td></tr><tr><td>4122415</td><td>Carolynn</td><td>Ignacia</td><td>Boycott</td><td>F</td><td>2000-01-23T05:00:00.000+0000</td><td>965-40-6886</td><td>89884</td></tr><tr><td>4145708</td><td>Carry</td><td>Giselle</td><td>McDermot</td><td>F</td><td>2000-01-02T05:00:00.000+0000</td><td>902-68-3424</td><td>102042</td></tr><tr><td>4188688</td><td>Cary</td><td>Katlyn</td><td>Arkin</td><td>F</td><td>2000-01-17T05:00:00.000+0000</td><td>944-42-9347</td><td>70694</td></tr><tr><td>4277411</td><td>Carlyn</td><td>Effie</td><td>Scedall</td><td>F</td><td>2000-01-09T05:00:00.000+0000</td><td>934-95-5793</td><td>65286</td></tr><tr><td>4370739</td><td>Carol</td><td>Tera</td><td>Dendle</td><td>F</td><td>2000-01-06T05:00:00.000+0000</td><td>926-46-3460</td><td>73689</td></tr><tr><td>4467756</td><td>Carlyn</td><td>Christine</td><td>Zannelli</td><td>F</td><td>2000-01-24T05:00:00.000+0000</td><td>994-48-7588</td><td>90681</td></tr><tr><td>4525997</td><td>Caren</td><td>Lavon</td><td>Hertwell</td><td>F</td><td>2000-01-06T05:00:00.000+0000</td><td>974-73-2391</td><td>42191</td></tr><tr><td>4535049</td><td>Carlyn</td><td>Loree</td><td>Evetts</td><td>F</td><td>2000-01-08T05:00:00.000+0000</td><td>944-90-3320</td><td>73092</td></tr><tr><td>4535198</td><td>Carlota</td><td>Sondra</td><td>Heaselgrave</td><td>F</td><td>2000-01-23T05:00:00.000+0000</td><td>969-88-6212</td><td>64903</td></tr><tr><td>4653601</td><td>Carolyn</td><td>Tillie</td><td>Gabbat</td><td>F</td><td>2000-01-18T05:00:00.000+0000</td><td>984-78-4232</td><td>61367</td></tr><tr><td>4739273</td><td>Carlota</td><td>Taryn</td><td>Ellington</td><td>F</td><td>2000-01-16T05:00:00.000+0000</td><td>933-24-9997</td><td>66276</td></tr><tr><td>4741633</td><td>Carmon</td><td>Lovella</td><td>Gert</td><td>F</td><td>2000-01-19T05:00:00.000+0000</td><td>666-14-5517</td><td>52110</td></tr><tr><td>4756662</td><td>Carli</td><td>Tequila</td><td>Ovitz</td><td>F</td><td>2000-01-06T05:00:00.000+0000</td><td>996-95-2103</td><td>60384</td></tr><tr><td>4852795</td><td>Carolyn</td><td>Maybell</td><td>Dolbey</td><td>F</td><td>2000-01-03T05:00:00.000+0000</td><td>989-88-1219</td><td>72611</td></tr><tr><td>4870065</td><td>Caren</td><td>Rachal</td><td>Leving</td><td>F</td><td>2000-01-29T05:00:00.000+0000</td><td>974-90-1122</td><td>113073</td></tr><tr><td>4883434</td><td>Carlene</td><td>Maren</td><td>Swin</td><td>F</td><td>2000-01-03T05:00:00.000+0000</td><td>901-19-6403</td><td>51242</td></tr><tr><td>4964297</td><td>Carole</td><td>Bernardine</td><td>Roman</td><td>F</td><td>2000-01-27T05:00:00.000+0000</td><td>986-46-8292</td><td>48248</td></tr><tr><td>1306693</td><td>Carletta</td><td>Dakota</td><td>Jeskins</td><td>F</td><td>2000-01-04T05:00:00.000+0000</td><td>970-70-1703</td><td>97956</td></tr><tr><td>1307892</td><td>Carlyn</td><td>Bernarda</td><td>Sapey</td><td>F</td><td>2000-01-28T05:00:00.000+0000</td><td>935-81-4194</td><td>90151</td></tr><tr><td>1329487</td><td>Carole</td><td>Luanna</td><td>Davidsson</td><td>F</td><td>2000-01-20T05:00:00.000+0000</td><td>909-29-3757</td><td>111426</td></tr><tr><td>1355008</td><td>Carma</td><td>Angela</td><td>Lowndes</td><td>F</td><td>2000-01-30T05:00:00.000+0000</td><td>940-97-3941</td><td>85522</td></tr><tr><td>1361689</td><td>Carmelita</td><td>Samatha</td><td>Luty</td><td>F</td><td>2000-01-17T05:00:00.000+0000</td><td>968-15-6042</td><td>96068</td></tr><tr><td>1398873</td><td>Carrol</td><td>Cassaundra</td><td>Balasini</td><td>F</td><td>2000-01-13T05:00:00.000+0000</td><td>910-84-4260</td><td>75579</td></tr><tr><td>1402553</td><td>Caren</td><td>Tawna</td><td>Gabbotts</td><td>F</td><td>2000-01-28T05:00:00.000+0000</td><td>911-24-4604</td><td>54768</td></tr><tr><td>1438943</td><td>Carina</td><td>Shawanna</td><td>Bowden</td><td>F</td><td>2000-01-18T05:00:00.000+0000</td><td>956-62-8441</td><td>122690</td></tr><tr><td>1558659</td><td>Carmel</td><td>Loyce</td><td>Lebarree</td><td>F</td><td>2000-01-16T05:00:00.000+0000</td><td>908-76-3023</td><td>56150</td></tr><tr><td>1584613</td><td>Carolina</td><td>Erica</td><td>Broadley</td><td>F</td><td>2000-01-04T05:00:00.000+0000</td><td>946-90-5465</td><td>89775</td></tr><tr><td>1594627</td><td>Caroll</td><td>Gabriel</td><td>Creegan</td><td>F</td><td>2000-01-04T05:00:00.000+0000</td><td>934-54-8150</td><td>70246</td></tr><tr><td>1629249</td><td>Carleen</td><td>Debi</td><td>Ciabatteri</td><td>F</td><td>2000-01-13T05:00:00.000+0000</td><td>666-59-3144</td><td>72686</td></tr><tr><td>1696614</td><td>Carly</td><td>Dee</td><td>Rahlof</td><td>F</td><td>2000-01-03T05:00:00.000+0000</td><td>967-82-5557</td><td>80945</td></tr><tr><td>1704915</td><td>Caroline</td><td>Dottie</td><td>Poure</td><td>F</td><td>2000-01-13T05:00:00.000+0000</td><td>959-12-3134</td><td>92824</td></tr><tr><td>1730342</td><td>Carolin</td><td>Jeni</td><td>Chelley</td><td>F</td><td>2000-01-28T05:00:00.000+0000</td><td>900-98-5782</td><td>49341</td></tr><tr><td>1735731</td><td>Carin</td><td>Pamela</td><td>Boness</td><td>F</td><td>2000-01-03T05:00:00.000+0000</td><td>935-16-2016</td><td>77766</td></tr><tr><td>1750433</td><td>Carli</td><td>Janise</td><td>MacCard</td><td>F</td><td>2000-01-24T05:00:00.000+0000</td><td>961-44-6314</td><td>83286</td></tr><tr><td>1871706</td><td>Caron</td><td>Carina</td><td>Franzewitch</td><td>F</td><td>2000-01-23T05:00:00.000+0000</td><td>927-69-9051</td><td>90792</td></tr><tr><td>1902187</td><td>Carletta</td><td>Hiedi</td><td>Doag</td><td>F</td><td>2000-01-08T05:00:00.000+0000</td><td>966-94-6461</td><td>40959</td></tr><tr><td>2107922</td><td>Carola</td><td>Lacy</td><td>Rogans</td><td>F</td><td>2000-01-16T05:00:00.000+0000</td><td>960-12-9676</td><td>47961</td></tr><tr><td>2167603</td><td>Carey</td><td>Anika</td><td>Dolbey</td><td>F</td><td>2000-01-24T05:00:00.000+0000</td><td>921-83-8692</td><td>76534</td></tr><tr><td>2214826</td><td>Carylon</td><td>Josefina</td><td>Callf</td><td>F</td><td>2000-01-06T05:00:00.000+0000</td><td>991-13-9503</td><td>77629</td></tr><tr><td>2328757</td><td>Carey</td><td>Argelia</td><td>Seago</td><td>F</td><td>2000-01-15T05:00:00.000+0000</td><td>928-40-1559</td><td>121902</td></tr><tr><td>2340723</td><td>Carol</td><td>Sulema</td><td>Janatka</td><td>F</td><td>2000-01-04T05:00:00.000+0000</td><td>967-47-8302</td><td>125863</td></tr><tr><td>2353003</td><td>Carlee</td><td>Rossie</td><td>Peplow</td><td>F</td><td>2000-01-17T05:00:00.000+0000</td><td>997-69-2142</td><td>70741</td></tr><tr><td>2421968</td><td>Carolyne</td><td>Jody</td><td>Menguy</td><td>F</td><td>2000-01-09T05:00:00.000+0000</td><td>946-77-4073</td><td>84309</td></tr><tr><td>2483222</td><td>Carissa</td><td>Doreen</td><td>Boggas</td><td>F</td><td>2000-01-14T05:00:00.000+0000</td><td>924-20-8348</td><td>51358</td></tr><tr><td>2501666</td><td>Carlita</td><td>Bernarda</td><td>Drei</td><td>F</td><td>2000-01-12T05:00:00.000+0000</td><td>967-85-9792</td><td>64036</td></tr><tr><td>2538248</td><td>Carroll</td><td>Marianne</td><td>Boatswain</td><td>F</td><td>2000-01-06T05:00:00.000+0000</td><td>922-69-3324</td><td>69522</td></tr><tr><td>2576585</td><td>Cary</td><td>Temeka</td><td>Frapwell</td><td>F</td><td>2000-01-25T05:00:00.000+0000</td><td>991-38-7978</td><td>70157</td></tr><tr><td>2598081</td><td>Carin</td><td>Dolly</td><td>Doeg</td><td>F</td><td>2000-01-15T05:00:00.000+0000</td><td>972-55-5208</td><td>57664</td></tr><tr><td>2725792</td><td>Carolina</td><td>Lavon</td><td>Barford</td><td>F</td><td>2000-01-07T05:00:00.000+0000</td><td>956-10-8262</td><td>44392</td></tr><tr><td>2755167</td><td>Carline</td><td>Wei</td><td>Wickwar</td><td>F</td><td>2000-01-11T05:00:00.000+0000</td><td>902-74-6284</td><td>89651</td></tr><tr><td>2811845</td><td>Carmen</td><td>Alejandra</td><td>Miles</td><td>F</td><td>2000-01-27T05:00:00.000+0000</td><td>944-61-9676</td><td>55685</td></tr><tr><td>2858197</td><td>Carmelina</td><td>Meghann</td><td>Daoust</td><td>F</td><td>2000-01-13T05:00:00.000+0000</td><td>952-69-9687</td><td>75710</td></tr><tr><td>2897338</td><td>Carlyn</td><td>Charlyn</td><td>Boggers</td><td>F</td><td>2000-01-18T05:00:00.000+0000</td><td>927-91-6017</td><td>92681</td></tr><tr><td>2973054</td><td>Carissa</td><td>Lianne</td><td>Basson</td><td>F</td><td>2000-01-05T05:00:00.000+0000</td><td>982-90-7982</td><td>84711</td></tr><tr><td>2981179</td><td>Carly</td><td>Mavis</td><td>Padkin</td><td>F</td><td>2000-01-10T05:00:00.000+0000</td><td>943-10-3577</td><td>70473</td></tr><tr><td>2993975</td><td>Carrie</td><td>Edie</td><td>MacNish</td><td>F</td><td>2000-01-18T05:00:00.000+0000</td><td>914-37-3974</td><td>55279</td></tr><tr><td>2997404</td><td>Carlie</td><td>Angella</td><td>Jentet</td><td>F</td><td>2000-01-11T05:00:00.000+0000</td><td>936-53-4313</td><td>40645</td></tr><tr><td>3062694</td><td>Carolynn</td><td>Rubie</td><td>Gaish</td><td>F</td><td>2000-01-05T05:00:00.000+0000</td><td>982-16-6167</td><td>60654</td></tr><tr><td>3122962</td><td>Carmelia</td><td>Trina</td><td>Brotherwood</td><td>F</td><td>2000-01-14T05:00:00.000+0000</td><td>939-24-9897</td><td>103785</td></tr><tr><td>3143037</td><td>Carri</td><td>Kristeen</td><td>Fender</td><td>F</td><td>2000-01-15T05:00:00.000+0000</td><td>932-40-5015</td><td>39258</td></tr><tr><td>3166824</td><td>Carletta</td><td>Cathern</td><td>Brammar</td><td>F</td><td>2000-01-27T05:00:00.000+0000</td><td>909-87-4438</td><td>79761</td></tr><tr><td>3254708</td><td>Cari</td><td>Mckenzie</td><td>Jailler</td><td>F</td><td>2000-01-07T05:00:00.000+0000</td><td>918-79-4034</td><td>75802</td></tr><tr><td>3269389</td><td>Carylon</td><td>Jeneva</td><td>Cumbridge</td><td>F</td><td>2000-01-15T05:00:00.000+0000</td><td>901-32-5050</td><td>112964</td></tr><tr><td>3284347</td><td>Carmelia</td><td>Lanita</td><td>Amberg</td><td>F</td><td>2000-01-08T05:00:00.000+0000</td><td>957-98-6984</td><td>81729</td></tr><tr><td>3341988</td><td>Carie</td><td>Marisa</td><td>Cruce</td><td>F</td><td>2000-01-20T05:00:00.000+0000</td><td>908-90-4449</td><td>72594</td></tr><tr><td>3345404</td><td>Carey</td><td>Louise</td><td>Czaja</td><td>F</td><td>2000-01-02T05:00:00.000+0000</td><td>932-47-8468</td><td>104952</td></tr><tr><td>3360906</td><td>Carleen</td><td>Allie</td><td>Bartosch</td><td>F</td><td>2000-01-24T05:00:00.000+0000</td><td>932-93-6186</td><td>103291</td></tr><tr><td>3477658</td><td>Carmella</td><td>Brande</td><td>MacCook</td><td>F</td><td>2000-01-28T05:00:00.000+0000</td><td>983-11-8523</td><td>90126</td></tr><tr><td>3592139</td><td>Carita</td><td>Olevia</td><td>Cumbridge</td><td>F</td><td>2000-01-13T05:00:00.000+0000</td><td>939-68-4041</td><td>52577</td></tr><tr><td>3636518</td><td>Cari</td><td>Leeanna</td><td>Aupol</td><td>F</td><td>2000-01-16T05:00:00.000+0000</td><td>986-72-3311</td><td>102813</td></tr><tr><td>3707743</td><td>Caron</td><td>Eugena</td><td>Rubinshtein</td><td>F</td><td>2000-01-23T05:00:00.000+0000</td><td>922-13-8987</td><td>91041</td></tr><tr><td>3731914</td><td>Carlene</td><td>Maurice</td><td>Pesak</td><td>F</td><td>2000-01-02T05:00:00.000+0000</td><td>951-52-8597</td><td>101129</td></tr><tr><td>3733768</td><td>Carmelina</td><td>Eileen</td><td>Reynish</td><td>F</td><td>2000-01-03T05:00:00.000+0000</td><td>915-75-9735</td><td>77323</td></tr><tr><td>5089514</td><td>Carlton</td><td>Dominic</td><td>Croan</td><td>M</td><td>2000-01-07T05:00:00.000+0000</td><td>994-48-2528</td><td>57866</td></tr><tr><td>5089622</td><td>Carey</td><td>Guadalupe</td><td>Rigler</td><td>M</td><td>2000-01-24T05:00:00.000+0000</td><td>991-33-4046</td><td>61431</td></tr><tr><td>5092485</td><td>Carson</td><td>Virgilio</td><td>Paddingdon</td><td>M</td><td>2000-01-03T05:00:00.000+0000</td><td>902-15-4071</td><td>82149</td></tr><tr><td>5111053</td><td>Carson</td><td>Teddy</td><td>Ruit</td><td>M</td><td>2000-01-25T05:00:00.000+0000</td><td>948-86-3541</td><td>89662</td></tr><tr><td>5117001</td><td>Carl</td><td>Alvin</td><td>Bofield</td><td>M</td><td>2000-01-12T05:00:00.000+0000</td><td>938-37-5348</td><td>37017</td></tr><tr><td>5136633</td><td>Carmelo</td><td>Adrian</td><td>Gowthorpe</td><td>M</td><td>2000-01-27T05:00:00.000+0000</td><td>931-73-3355</td><td>101328</td></tr><tr><td>5207552</td><td>Carmine</td><td>Emanuel</td><td>Dudgeon</td><td>M</td><td>2000-01-12T05:00:00.000+0000</td><td>915-40-7433</td><td>90942</td></tr><tr><td>5216767</td><td>Carrol</td><td>Freeman</td><td>Ivimy</td><td>M</td><td>2000-01-21T05:00:00.000+0000</td><td>909-29-3711</td><td>58056</td></tr><tr><td>5224385</td><td>Carlos</td><td>Sebastian</td><td>Rishworth</td><td>M</td><td>2000-01-27T05:00:00.000+0000</td><td>906-90-3184</td><td>90417</td></tr><tr><td>5435543</td><td>Carlos</td><td>Leopoldo</td><td>Di Claudio</td><td>M</td><td>2000-01-09T05:00:00.000+0000</td><td>989-31-1579</td><td>49390</td></tr><tr><td>5475271</td><td>Cary</td><td>Todd</td><td>McLarty</td><td>M</td><td>2000-01-10T05:00:00.000+0000</td><td>980-17-7729</td><td>90079</td></tr><tr><td>5503177</td><td>Carter</td><td>Benedict</td><td>Birkenshaw</td><td>M</td><td>2000-01-28T05:00:00.000+0000</td><td>953-59-2970</td><td>96882</td></tr><tr><td>5565891</td><td>Carl</td><td>Merrill</td><td>Titchener</td><td>M</td><td>2000-01-02T05:00:00.000+0000</td><td>963-89-1584</td><td>47408</td></tr><tr><td>5566920</td><td>Carmen</td><td>Arnold</td><td>D'Oyley</td><td>M</td><td>2000-01-11T05:00:00.000+0000</td><td>944-93-9844</td><td>70235</td></tr><tr><td>5699616</td><td>Carrol</td><td>Lenny</td><td>Strain</td><td>M</td><td>2000-01-05T05:00:00.000+0000</td><td>988-31-8848</td><td>77876</td></tr><tr><td>5772639</td><td>Carroll</td><td>Byron</td><td>Cours</td><td>M</td><td>2000-01-29T05:00:00.000+0000</td><td>919-53-3228</td><td>82513</td></tr><tr><td>5773320</td><td>Carrol</td><td>Reginald</td><td>Sanches</td><td>M</td><td>2000-01-07T05:00:00.000+0000</td><td>913-83-8331</td><td>65077</td></tr><tr><td>5794094</td><td>Carmine</td><td>Rubin</td><td>Shemming</td><td>M</td><td>2000-01-22T05:00:00.000+0000</td><td>959-26-9580</td><td>87378</td></tr><tr><td>5798546</td><td>Cary</td><td>Ethan</td><td>Blampied</td><td>M</td><td>2000-01-16T05:00:00.000+0000</td><td>666-40-8810</td><td>90455</td></tr><tr><td>5848963</td><td>Carmelo</td><td>Reinaldo</td><td>Cereceres</td><td>M</td><td>2000-01-27T05:00:00.000+0000</td><td>908-69-7114</td><td>86753</td></tr><tr><td>5867904</td><td>Carmen</td><td>Colton</td><td>Lockhurst</td><td>M</td><td>2000-01-12T05:00:00.000+0000</td><td>925-57-1757</td><td>78444</td></tr><tr><td>5870450</td><td>Carmelo</td><td>Leroy</td><td>Dominico</td><td>M</td><td>2000-01-13T05:00:00.000+0000</td><td>950-39-3027</td><td>79147</td></tr><tr><td>5975383</td><td>Carlos</td><td>Eldon</td><td>Egarr</td><td>M</td><td>2000-01-05T05:00:00.000+0000</td><td>970-35-2332</td><td>79229</td></tr><tr><td>6024072</td><td>Carey</td><td>Emanuel</td><td>Wellfare</td><td>M</td><td>2000-01-02T05:00:00.000+0000</td><td>666-67-7034</td><td>94674</td></tr><tr><td>6051713</td><td>Carlo</td><td>Lynn</td><td>Whebell</td><td>M</td><td>2000-01-10T05:00:00.000+0000</td><td>908-11-2144</td><td>67687</td></tr><tr><td>6119836</td><td>Carlton</td><td>Nathanael</td><td>Fidgett</td><td>M</td><td>2000-01-05T05:00:00.000+0000</td><td>948-43-2854</td><td>59465</td></tr><tr><td>6120674</td><td>Carson</td><td>Enrique</td><td>Tabart</td><td>M</td><td>2000-01-22T05:00:00.000+0000</td><td>974-57-6223</td><td>81158</td></tr><tr><td>6208902</td><td>Carlo</td><td>Avery</td><td>Skamal</td><td>M</td><td>2000-01-25T05:00:00.000+0000</td><td>941-70-9357</td><td>44153</td></tr><tr><td>6385394</td><td>Cary</td><td>Genaro</td><td>Humphrey</td><td>M</td><td>2000-01-17T05:00:00.000+0000</td><td>997-62-3330</td><td>93203</td></tr><tr><td>6577118</td><td>Carmen</td><td>Cecil</td><td>Flemmich</td><td>M</td><td>2000-01-25T05:00:00.000+0000</td><td>931-87-1011</td><td>58270</td></tr><tr><td>6687964</td><td>Carmen</td><td>Carmelo</td><td>Gaenor</td><td>M</td><td>2000-01-07T05:00:00.000+0000</td><td>932-57-4385</td><td>79854</td></tr><tr><td>6730795</td><td>Carey</td><td>Grover</td><td>Fawthrop</td><td>M</td><td>2000-01-21T05:00:00.000+0000</td><td>908-83-5598</td><td>57809</td></tr><tr><td>6787623</td><td>Carlton</td><td>Deon</td><td>Prydie</td><td>M</td><td>2000-01-12T05:00:00.000+0000</td><td>918-53-6691</td><td>52433</td></tr><tr><td>6824315</td><td>Carmelo</td><td>Seymour</td><td>Howieson</td><td>M</td><td>2000-01-06T05:00:00.000+0000</td><td>976-73-3845</td><td>51051</td></tr><tr><td>6922919</td><td>Cary</td><td>Abraham</td><td>Addenbrooke</td><td>M</td><td>2000-01-15T05:00:00.000+0000</td><td>988-76-9987</td><td>91513</td></tr><tr><td>7004327</td><td>Carmine</td><td>Elvin</td><td>Hargreaves</td><td>M</td><td>2000-01-22T05:00:00.000+0000</td><td>967-45-5109</td><td>69722</td></tr><tr><td>7015054</td><td>Carmine</td><td>Harrison</td><td>Styles</td><td>M</td><td>2000-01-14T05:00:00.000+0000</td><td>927-13-7320</td><td>23725</td></tr><tr><td>7029203</td><td>Carson</td><td>Mohammad</td><td>Moisey</td><td>M</td><td>2000-01-23T05:00:00.000+0000</td><td>943-70-7142</td><td>82342</td></tr><tr><td>7040181</td><td>Carter</td><td>Teodoro</td><td>Coughan</td><td>M</td><td>2000-01-29T05:00:00.000+0000</td><td>981-92-1260</td><td>78527</td></tr><tr><td>7075305</td><td>Carson</td><td>Ross</td><td>Borg</td><td>M</td><td>2000-01-10T05:00:00.000+0000</td><td>914-86-2341</td><td>58446</td></tr><tr><td>7180217</td><td>Carl</td><td>Shawn</td><td>Despenser</td><td>M</td><td>2000-01-29T05:00:00.000+0000</td><td>903-32-2929</td><td>87203</td></tr><tr><td>7181422</td><td>Carl</td><td>Parker</td><td>Costan</td><td>M</td><td>2000-01-27T05:00:00.000+0000</td><td>962-73-1477</td><td>76352</td></tr><tr><td>7225175</td><td>Carlo</td><td>Brenton</td><td>Daniello</td><td>M</td><td>2000-01-21T05:00:00.000+0000</td><td>924-76-1868</td><td>69444</td></tr><tr><td>7257942</td><td>Carmine</td><td>Clinton</td><td>Giannini</td><td>M</td><td>2000-01-08T05:00:00.000+0000</td><td>977-12-9414</td><td>91581</td></tr><tr><td>7274104</td><td>Carmen</td><td>Eusebio</td><td>Bagster</td><td>M</td><td>2000-01-21T05:00:00.000+0000</td><td>982-34-7118</td><td>67711</td></tr><tr><td>7301233</td><td>Carl</td><td>Patrick</td><td>Doucette</td><td>M</td><td>2000-01-04T05:00:00.000+0000</td><td>934-14-8545</td><td>78731</td></tr><tr><td>7460532</td><td>Carl</td><td>Arlen</td><td>Belson</td><td>M</td><td>2000-01-20T05:00:00.000+0000</td><td>948-24-7544</td><td>86964</td></tr><tr><td>7461656</td><td>Carlton</td><td>Orlando</td><td>Mechi</td><td>M</td><td>2000-01-15T05:00:00.000+0000</td><td>995-84-3786</td><td>63324</td></tr><tr><td>7475110</td><td>Carmine</td><td>Earnest</td><td>Eccles</td><td>M</td><td>2000-01-30T05:00:00.000+0000</td><td>930-14-4542</td><td>63040</td></tr><tr><td>7517029</td><td>Carson</td><td>Donovan</td><td>Polleye</td><td>M</td><td>2000-01-21T05:00:00.000+0000</td><td>994-65-3936</td><td>90842</td></tr><tr><td>7688830</td><td>Carlos</td><td>Gerard</td><td>Backe</td><td>M</td><td>2000-01-08T05:00:00.000+0000</td><td>993-41-9412</td><td>48840</td></tr><tr><td>7769698</td><td>Cary</td><td>Gilberto</td><td>Lineker</td><td>M</td><td>2000-01-10T05:00:00.000+0000</td><td>953-77-3221</td><td>42939</td></tr><tr><td>7834546</td><td>Carmen</td><td>Ronny</td><td>Setchfield</td><td>M</td><td>2000-01-21T05:00:00.000+0000</td><td>983-38-7567</td><td>66627</td></tr><tr><td>7954578</td><td>Carlos</td><td>Donn</td><td>Blowne</td><td>M</td><td>2000-01-14T05:00:00.000+0000</td><td>666-60-2214</td><td>77524</td></tr><tr><td>7955586</td><td>Carlo</td><td>Sandy</td><td>Theaker</td><td>M</td><td>2000-01-20T05:00:00.000+0000</td><td>910-48-4471</td><td>64663</td></tr><tr><td>7962250</td><td>Carmen</td><td>Mitchel</td><td>Pancoast</td><td>M</td><td>2000-01-30T05:00:00.000+0000</td><td>986-86-8480</td><td>81228</td></tr><tr><td>7962348</td><td>Carey</td><td>Raymond</td><td>Matiewe</td><td>M</td><td>2000-01-10T05:00:00.000+0000</td><td>963-54-2792</td><td>44749</td></tr><tr><td>7988267</td><td>Carl</td><td>Mose</td><td>Denyukhin</td><td>M</td><td>2000-01-22T05:00:00.000+0000</td><td>992-39-2734</td><td>91818</td></tr><tr><td>8003027</td><td>Carl</td><td>Dino</td><td>Haeslier</td><td>M</td><td>2000-01-17T05:00:00.000+0000</td><td>907-74-8186</td><td>61114</td></tr><tr><td>8121437</td><td>Carrol</td><td>Emilio</td><td>Slayford</td><td>M</td><td>2000-01-17T05:00:00.000+0000</td><td>904-57-5633</td><td>98488</td></tr><tr><td>8158314</td><td>Carl</td><td>Jospeh</td><td>Gracey</td><td>M</td><td>2000-01-23T05:00:00.000+0000</td><td>925-50-8374</td><td>82606</td></tr><tr><td>8168573</td><td>Carmelo</td><td>Modesto</td><td>McKinna</td><td>M</td><td>2000-01-09T05:00:00.000+0000</td><td>941-26-5797</td><td>76100</td></tr><tr><td>8211731</td><td>Carlton</td><td>Florentino</td><td>Simpkin</td><td>M</td><td>2000-01-18T05:00:00.000+0000</td><td>987-67-3265</td><td>51217</td></tr><tr><td>8460405</td><td>Carmine</td><td>Elbert</td><td>Sherston</td><td>M</td><td>2000-01-04T05:00:00.000+0000</td><td>959-89-6114</td><td>99245</td></tr><tr><td>8472510</td><td>Carter</td><td>Kyle</td><td>Kivlin</td><td>M</td><td>2000-01-02T05:00:00.000+0000</td><td>903-20-4608</td><td>58816</td></tr><tr><td>8498604</td><td>Cary</td><td>Porfirio</td><td>Ackermann</td><td>M</td><td>2000-01-07T05:00:00.000+0000</td><td>902-64-4850</td><td>15427</td></tr><tr><td>8509726</td><td>Carlton</td><td>Lino</td><td>Munehay</td><td>M</td><td>2000-01-09T05:00:00.000+0000</td><td>959-39-3792</td><td>73896</td></tr><tr><td>8536322</td><td>Carmine</td><td>Alfredo</td><td>Verduin</td><td>M</td><td>2000-01-15T05:00:00.000+0000</td><td>966-62-4521</td><td>78648</td></tr><tr><td>8611480</td><td>Carl</td><td>Nelson</td><td>Metrick</td><td>M</td><td>2000-01-02T05:00:00.000+0000</td><td>979-89-4880</td><td>65788</td></tr><tr><td>8613300</td><td>Carl</td><td>Ryan</td><td>Danzelman</td><td>M</td><td>2000-01-16T05:00:00.000+0000</td><td>947-83-4754</td><td>59325</td></tr><tr><td>8622446</td><td>Carson</td><td>Bennie</td><td>Lardge</td><td>M</td><td>2000-01-10T05:00:00.000+0000</td><td>922-25-7229</td><td>82874</td></tr><tr><td>8689256</td><td>Carmine</td><td>Garret</td><td>Rowthorne</td><td>M</td><td>2000-01-23T05:00:00.000+0000</td><td>971-73-7853</td><td>66899</td></tr><tr><td>8711364</td><td>Carson</td><td>Bobby</td><td>Reditt</td><td>M</td><td>2000-01-19T05:00:00.000+0000</td><td>946-17-9453</td><td>82767</td></tr><tr><td>8744482</td><td>Carter</td><td>Louis</td><td>Mattschas</td><td>M</td><td>2000-01-23T05:00:00.000+0000</td><td>934-70-2110</td><td>94948</td></tr><tr><td>8826978</td><td>Carlos</td><td>Robert</td><td>Eyles</td><td>M</td><td>2000-01-17T05:00:00.000+0000</td><td>984-89-4823</td><td>88621</td></tr><tr><td>8850324</td><td>Carey</td><td>Len</td><td>Sole</td><td>M</td><td>2000-01-18T05:00:00.000+0000</td><td>964-40-7341</td><td>57096</td></tr><tr><td>8857166</td><td>Carlos</td><td>Lionel</td><td>Rooke</td><td>M</td><td>2000-01-11T05:00:00.000+0000</td><td>944-36-5902</td><td>76901</td></tr><tr><td>8906820</td><td>Carl</td><td>Dudley</td><td>Khristyukhin</td><td>M</td><td>2000-01-19T05:00:00.000+0000</td><td>923-33-8767</td><td>42869</td></tr><tr><td>8918390</td><td>Carmen</td><td>Jess</td><td>Hornig</td><td>M</td><td>2000-01-05T05:00:00.000+0000</td><td>945-46-1947</td><td>63985</td></tr><tr><td>9010197</td><td>Carlo</td><td>Reyes</td><td>Thurber</td><td>M</td><td>2000-01-08T05:00:00.000+0000</td><td>985-83-4058</td><td>86135</td></tr><tr><td>9051470</td><td>Carey</td><td>Genaro</td><td>Walshaw</td><td>M</td><td>2000-01-13T05:00:00.000+0000</td><td>949-21-2779</td><td>91518</td></tr><tr><td>9064637</td><td>Carroll</td><td>Sol</td><td>Hesbrook</td><td>M</td><td>2000-01-19T05:00:00.000+0000</td><td>957-66-4203</td><td>81901</td></tr><tr><td>9141079</td><td>Carl</td><td>Harry</td><td>Bewsey</td><td>M</td><td>2000-01-10T05:00:00.000+0000</td><td>994-43-2557</td><td>87553</td></tr><tr><td>9223714</td><td>Carey</td><td>Howard</td><td>Pitfield</td><td>M</td><td>2000-01-10T05:00:00.000+0000</td><td>941-38-5352</td><td>64305</td></tr><tr><td>9256999</td><td>Carlo</td><td>Norbert</td><td>Christoffels</td><td>M</td><td>2000-01-24T05:00:00.000+0000</td><td>993-36-1937</td><td>80695</td></tr><tr><td>9261587</td><td>Carey</td><td>Earle</td><td>Maddern</td><td>M</td><td>2000-01-08T05:00:00.000+0000</td><td>937-51-9953</td><td>77096</td></tr><tr><td>9374775</td><td>Carrol</td><td>Nick</td><td>Brittian</td><td>M</td><td>2000-01-12T05:00:00.000+0000</td><td>920-17-8175</td><td>63703</td></tr><tr><td>9392444</td><td>Carmine</td><td>Titus</td><td>Rochewell</td><td>M</td><td>2000-01-08T05:00:00.000+0000</td><td>976-10-3933</td><td>92595</td></tr><tr><td>9410594</td><td>Carmen</td><td>Gavin</td><td>Escot</td><td>M</td><td>2000-01-23T05:00:00.000+0000</td><td>947-40-7539</td><td>35382</td></tr><tr><td>9435895</td><td>Cary</td><td>Jeffery</td><td>Pawelek</td><td>M</td><td>2000-01-29T05:00:00.000+0000</td><td>982-54-8830</td><td>46970</td></tr><tr><td>9472280</td><td>Carmine</td><td>Freeman</td><td>Schole</td><td>M</td><td>2000-01-17T05:00:00.000+0000</td><td>936-74-4924</td><td>62667</td></tr><tr><td>9549499</td><td>Carrol</td><td>Lloyd</td><td>Costa</td><td>M</td><td>2000-01-11T05:00:00.000+0000</td><td>935-52-6925</td><td>48399</td></tr><tr><td>9623644</td><td>Carrol</td><td>Tomas</td><td>Cartin</td><td>M</td><td>2000-01-17T05:00:00.000+0000</td><td>932-39-9619</td><td>109307</td></tr><tr><td>9664871</td><td>Carlee</td><td>Rayna</td><td>Dashper</td><td>F</td><td>2000-01-11T05:00:00.000+0000</td><td>959-96-7177</td><td>73939</td></tr><tr><td>9674640</td><td>Carmella</td><td>Keisha</td><td>Barber</td><td>F</td><td>2000-01-14T05:00:00.000+0000</td><td>964-72-6087</td><td>59928</td></tr><tr><td>9737961</td><td>Carylon</td><td>Jama</td><td>Burd</td><td>F</td><td>2000-01-30T05:00:00.000+0000</td><td>949-10-1709</td><td>62026</td></tr><tr><td>9767876</td><td>Carley</td><td>Deedee</td><td>Donalson</td><td>F</td><td>2000-01-25T05:00:00.000+0000</td><td>989-55-3995</td><td>92907</td></tr><tr><td>9869691</td><td>Carlton</td><td>Danial</td><td>Buncher</td><td>M</td><td>2000-01-10T05:00:00.000+0000</td><td>930-36-2886</td><td>33122</td></tr><tr><td>9906485</td><td>Carson</td><td>Eugene</td><td>MacGille</td><td>M</td><td>2000-01-10T05:00:00.000+0000</td><td>934-72-8173</td><td>86801</td></tr><tr><td>9935082</td><td>Carl</td><td>Galen</td><td>De Bischop</td><td>M</td><td>2000-01-12T05:00:00.000+0000</td><td>922-88-9347</td><td>64885</td></tr><tr><td>9970180</td><td>Carmelo</td><td>Cameron</td><td>Readitt</td><td>M</td><td>2000-01-21T05:00:00.000+0000</td><td>933-40-6741</td><td>99303</td></tr></tbody></table></div>"
      ]
     },
     "metadata": {
      "application/vnd.databricks.v1+output": {
       "addedWidgets": {},
       "aggData": [],
       "aggError": "",
       "aggOverflow": false,
       "aggSchema": [],
       "aggSeriesLimitReached": false,
       "aggType": "",
       "arguments": {},
       "columnCustomDisplayInfos": {},
       "data": [
        [
         7552,
         "Carina",
         "Yessenia",
         "Maccari",
         "F",
         "2000-01-24T05:00:00.000+0000",
         "942-70-1481",
         105665
        ],
        [
         24463,
         "Carolee",
         "Suzanna",
         "Le Estut",
         "F",
         "2000-01-21T05:00:00.000+0000",
         "995-97-5619",
         89286
        ],
        [
         61764,
         "Carmella",
         "Yevette",
         "Cornish",
         "F",
         "2000-01-16T05:00:00.000+0000",
         "974-11-3609",
         87612
        ],
        [
         109755,
         "Caryn",
         "Estela",
         "Troppmann",
         "F",
         "2000-01-02T05:00:00.000+0000",
         "955-59-8418",
         69733
        ],
        [
         130593,
         "Caroll",
         "Trang",
         "Terrazzo",
         "F",
         "2000-01-10T05:00:00.000+0000",
         "911-29-9761",
         41662
        ],
        [
         167808,
         "Cara",
         "Bruna",
         "Tagg",
         "F",
         "2000-01-11T05:00:00.000+0000",
         "952-62-8981",
         104653
        ],
        [
         215299,
         "Carli",
         "Jodi",
         "Naptine",
         "F",
         "2000-01-04T05:00:00.000+0000",
         "944-73-5924",
         55739
        ],
        [
         239060,
         "Carline",
         "Nicky",
         "McCombe",
         "F",
         "2000-01-23T05:00:00.000+0000",
         "985-81-2160",
         105100
        ],
        [
         279096,
         "Carley",
         "Dena",
         "Fields",
         "F",
         "2000-01-15T05:00:00.000+0000",
         "998-72-1372",
         59609
        ],
        [
         305887,
         "Carlene",
         "Karmen",
         "Ickovic",
         "F",
         "2000-01-17T05:00:00.000+0000",
         "947-18-9921",
         83761
        ],
        [
         380114,
         "Caridad",
         "Mika",
         "Wilkowski",
         "F",
         "2000-01-16T05:00:00.000+0000",
         "981-85-6399",
         99108
        ],
        [
         381091,
         "Carlena",
         "Danelle",
         "Larner",
         "F",
         "2000-01-17T05:00:00.000+0000",
         "923-76-9864",
         70661
        ],
        [
         392145,
         "Caron",
         "Lanie",
         "Kincla",
         "F",
         "2000-01-26T05:00:00.000+0000",
         "967-23-6456",
         79204
        ],
        [
         421439,
         "Carylon",
         "Dena",
         "Frogley",
         "F",
         "2000-01-11T05:00:00.000+0000",
         "980-86-2726",
         83005
        ],
        [
         425614,
         "Carie",
         "Clara",
         "Winsom",
         "F",
         "2000-01-30T05:00:00.000+0000",
         "965-58-1343",
         89622
        ],
        [
         454827,
         "Carla",
         "Gertude",
         "Walenta",
         "F",
         "2000-01-03T05:00:00.000+0000",
         "920-46-5106",
         43731
        ],
        [
         467408,
         "Carlota",
         "Wilma",
         "Selvester",
         "F",
         "2000-01-10T05:00:00.000+0000",
         "994-38-7729",
         74789
        ],
        [
         479022,
         "Carmen",
         "Miki",
         "Toffler",
         "F",
         "2000-01-10T05:00:00.000+0000",
         "911-78-6158",
         92791
        ],
        [
         535094,
         "Carman",
         "Misti",
         "Goodlip",
         "F",
         "2000-01-30T05:00:00.000+0000",
         "911-70-7624",
         63817
        ],
        [
         561125,
         "Carlene",
         "Ute",
         "Enocksson",
         "F",
         "2000-01-28T05:00:00.000+0000",
         "904-69-3797",
         62749
        ],
        [
         592962,
         "Carie",
         "Lean",
         "Purches",
         "F",
         "2000-01-21T05:00:00.000+0000",
         "995-74-6738",
         80246
        ],
        [
         728629,
         "Carmella",
         "Desiree",
         "Idle",
         "F",
         "2000-01-24T05:00:00.000+0000",
         "904-64-8189",
         76071
        ],
        [
         730925,
         "Carletta",
         "Willie",
         "Talmadge",
         "F",
         "2000-01-05T05:00:00.000+0000",
         "905-55-9074",
         90953
        ],
        [
         818353,
         "Carita",
         "Annemarie",
         "Wollard",
         "F",
         "2000-01-07T05:00:00.000+0000",
         "961-32-5153",
         61767
        ],
        [
         822172,
         "Carly",
         "Kenna",
         "Torbeck",
         "F",
         "2000-01-27T05:00:00.000+0000",
         "957-76-6386",
         77243
        ],
        [
         838354,
         "Cary",
         "Drucilla",
         "Syred",
         "F",
         "2000-01-23T05:00:00.000+0000",
         "666-20-1216",
         85564
        ],
        [
         839654,
         "Carolann",
         "Nichole",
         "Fallowfield",
         "F",
         "2000-01-14T05:00:00.000+0000",
         "925-38-2053",
         82758
        ],
        [
         908358,
         "Caroyln",
         "Caroline",
         "Brimblecomb",
         "F",
         "2000-01-20T05:00:00.000+0000",
         "991-20-6837",
         73266
        ],
        [
         915764,
         "Carola",
         "Hermina",
         "Craydon",
         "F",
         "2000-01-10T05:00:00.000+0000",
         "967-91-3970",
         80283
        ],
        [
         1067735,
         "Carolyne",
         "Jaimee",
         "Pearn",
         "F",
         "2000-01-15T05:00:00.000+0000",
         "988-25-1717",
         89305
        ],
        [
         1136371,
         "Caryl",
         "Palmira",
         "Layborn",
         "F",
         "2000-01-02T05:00:00.000+0000",
         "938-28-9838",
         51477
        ],
        [
         1198406,
         "Carrol",
         "Danuta",
         "Novacek",
         "F",
         "2000-01-16T05:00:00.000+0000",
         "973-90-1752",
         99872
        ],
        [
         1227591,
         "Carlene",
         "Matilda",
         "Mandal",
         "F",
         "2000-01-15T05:00:00.000+0000",
         "969-50-7183",
         67449
        ],
        [
         3798210,
         "Carlena",
         "Chasity",
         "Wyldish",
         "F",
         "2000-01-04T05:00:00.000+0000",
         "919-54-2659",
         91116
        ],
        [
         3862005,
         "Carolin",
         "Tonia",
         "Hearle",
         "F",
         "2000-01-26T05:00:00.000+0000",
         "951-73-6755",
         38368
        ],
        [
         3872934,
         "Caroll",
         "Bernice",
         "Lauritzen",
         "F",
         "2000-01-25T05:00:00.000+0000",
         "915-38-4767",
         51767
        ],
        [
         3879073,
         "Carri",
         "Merrill",
         "Bedlington",
         "F",
         "2000-01-11T05:00:00.000+0000",
         "994-59-1920",
         70122
        ],
        [
         3917268,
         "Carlota",
         "Agatha",
         "Copnell",
         "F",
         "2000-01-18T05:00:00.000+0000",
         "910-24-5457",
         89276
        ],
        [
         3940669,
         "Cari",
         "Emmie",
         "Lilleycrop",
         "F",
         "2000-01-24T05:00:00.000+0000",
         "915-37-4102",
         68715
        ],
        [
         4009365,
         "Carri",
         "Katrina",
         "Zecchii",
         "F",
         "2000-01-29T05:00:00.000+0000",
         "979-88-9806",
         95136
        ],
        [
         4063448,
         "Carisa",
         "Pilar",
         "Sineath",
         "F",
         "2000-01-10T05:00:00.000+0000",
         "958-29-4502",
         78269
        ],
        [
         4074119,
         "Carolyn",
         "Antonette",
         "Glaister",
         "F",
         "2000-01-24T05:00:00.000+0000",
         "973-93-1716",
         96900
        ],
        [
         4078048,
         "Carmelina",
         "Laurena",
         "Livett",
         "F",
         "2000-01-15T05:00:00.000+0000",
         "930-45-9409",
         60707
        ],
        [
         4122415,
         "Carolynn",
         "Ignacia",
         "Boycott",
         "F",
         "2000-01-23T05:00:00.000+0000",
         "965-40-6886",
         89884
        ],
        [
         4145708,
         "Carry",
         "Giselle",
         "McDermot",
         "F",
         "2000-01-02T05:00:00.000+0000",
         "902-68-3424",
         102042
        ],
        [
         4188688,
         "Cary",
         "Katlyn",
         "Arkin",
         "F",
         "2000-01-17T05:00:00.000+0000",
         "944-42-9347",
         70694
        ],
        [
         4277411,
         "Carlyn",
         "Effie",
         "Scedall",
         "F",
         "2000-01-09T05:00:00.000+0000",
         "934-95-5793",
         65286
        ],
        [
         4370739,
         "Carol",
         "Tera",
         "Dendle",
         "F",
         "2000-01-06T05:00:00.000+0000",
         "926-46-3460",
         73689
        ],
        [
         4467756,
         "Carlyn",
         "Christine",
         "Zannelli",
         "F",
         "2000-01-24T05:00:00.000+0000",
         "994-48-7588",
         90681
        ],
        [
         4525997,
         "Caren",
         "Lavon",
         "Hertwell",
         "F",
         "2000-01-06T05:00:00.000+0000",
         "974-73-2391",
         42191
        ],
        [
         4535049,
         "Carlyn",
         "Loree",
         "Evetts",
         "F",
         "2000-01-08T05:00:00.000+0000",
         "944-90-3320",
         73092
        ],
        [
         4535198,
         "Carlota",
         "Sondra",
         "Heaselgrave",
         "F",
         "2000-01-23T05:00:00.000+0000",
         "969-88-6212",
         64903
        ],
        [
         4653601,
         "Carolyn",
         "Tillie",
         "Gabbat",
         "F",
         "2000-01-18T05:00:00.000+0000",
         "984-78-4232",
         61367
        ],
        [
         4739273,
         "Carlota",
         "Taryn",
         "Ellington",
         "F",
         "2000-01-16T05:00:00.000+0000",
         "933-24-9997",
         66276
        ],
        [
         4741633,
         "Carmon",
         "Lovella",
         "Gert",
         "F",
         "2000-01-19T05:00:00.000+0000",
         "666-14-5517",
         52110
        ],
        [
         4756662,
         "Carli",
         "Tequila",
         "Ovitz",
         "F",
         "2000-01-06T05:00:00.000+0000",
         "996-95-2103",
         60384
        ],
        [
         4852795,
         "Carolyn",
         "Maybell",
         "Dolbey",
         "F",
         "2000-01-03T05:00:00.000+0000",
         "989-88-1219",
         72611
        ],
        [
         4870065,
         "Caren",
         "Rachal",
         "Leving",
         "F",
         "2000-01-29T05:00:00.000+0000",
         "974-90-1122",
         113073
        ],
        [
         4883434,
         "Carlene",
         "Maren",
         "Swin",
         "F",
         "2000-01-03T05:00:00.000+0000",
         "901-19-6403",
         51242
        ],
        [
         4964297,
         "Carole",
         "Bernardine",
         "Roman",
         "F",
         "2000-01-27T05:00:00.000+0000",
         "986-46-8292",
         48248
        ],
        [
         1306693,
         "Carletta",
         "Dakota",
         "Jeskins",
         "F",
         "2000-01-04T05:00:00.000+0000",
         "970-70-1703",
         97956
        ],
        [
         1307892,
         "Carlyn",
         "Bernarda",
         "Sapey",
         "F",
         "2000-01-28T05:00:00.000+0000",
         "935-81-4194",
         90151
        ],
        [
         1329487,
         "Carole",
         "Luanna",
         "Davidsson",
         "F",
         "2000-01-20T05:00:00.000+0000",
         "909-29-3757",
         111426
        ],
        [
         1355008,
         "Carma",
         "Angela",
         "Lowndes",
         "F",
         "2000-01-30T05:00:00.000+0000",
         "940-97-3941",
         85522
        ],
        [
         1361689,
         "Carmelita",
         "Samatha",
         "Luty",
         "F",
         "2000-01-17T05:00:00.000+0000",
         "968-15-6042",
         96068
        ],
        [
         1398873,
         "Carrol",
         "Cassaundra",
         "Balasini",
         "F",
         "2000-01-13T05:00:00.000+0000",
         "910-84-4260",
         75579
        ],
        [
         1402553,
         "Caren",
         "Tawna",
         "Gabbotts",
         "F",
         "2000-01-28T05:00:00.000+0000",
         "911-24-4604",
         54768
        ],
        [
         1438943,
         "Carina",
         "Shawanna",
         "Bowden",
         "F",
         "2000-01-18T05:00:00.000+0000",
         "956-62-8441",
         122690
        ],
        [
         1558659,
         "Carmel",
         "Loyce",
         "Lebarree",
         "F",
         "2000-01-16T05:00:00.000+0000",
         "908-76-3023",
         56150
        ],
        [
         1584613,
         "Carolina",
         "Erica",
         "Broadley",
         "F",
         "2000-01-04T05:00:00.000+0000",
         "946-90-5465",
         89775
        ],
        [
         1594627,
         "Caroll",
         "Gabriel",
         "Creegan",
         "F",
         "2000-01-04T05:00:00.000+0000",
         "934-54-8150",
         70246
        ],
        [
         1629249,
         "Carleen",
         "Debi",
         "Ciabatteri",
         "F",
         "2000-01-13T05:00:00.000+0000",
         "666-59-3144",
         72686
        ],
        [
         1696614,
         "Carly",
         "Dee",
         "Rahlof",
         "F",
         "2000-01-03T05:00:00.000+0000",
         "967-82-5557",
         80945
        ],
        [
         1704915,
         "Caroline",
         "Dottie",
         "Poure",
         "F",
         "2000-01-13T05:00:00.000+0000",
         "959-12-3134",
         92824
        ],
        [
         1730342,
         "Carolin",
         "Jeni",
         "Chelley",
         "F",
         "2000-01-28T05:00:00.000+0000",
         "900-98-5782",
         49341
        ],
        [
         1735731,
         "Carin",
         "Pamela",
         "Boness",
         "F",
         "2000-01-03T05:00:00.000+0000",
         "935-16-2016",
         77766
        ],
        [
         1750433,
         "Carli",
         "Janise",
         "MacCard",
         "F",
         "2000-01-24T05:00:00.000+0000",
         "961-44-6314",
         83286
        ],
        [
         1871706,
         "Caron",
         "Carina",
         "Franzewitch",
         "F",
         "2000-01-23T05:00:00.000+0000",
         "927-69-9051",
         90792
        ],
        [
         1902187,
         "Carletta",
         "Hiedi",
         "Doag",
         "F",
         "2000-01-08T05:00:00.000+0000",
         "966-94-6461",
         40959
        ],
        [
         2107922,
         "Carola",
         "Lacy",
         "Rogans",
         "F",
         "2000-01-16T05:00:00.000+0000",
         "960-12-9676",
         47961
        ],
        [
         2167603,
         "Carey",
         "Anika",
         "Dolbey",
         "F",
         "2000-01-24T05:00:00.000+0000",
         "921-83-8692",
         76534
        ],
        [
         2214826,
         "Carylon",
         "Josefina",
         "Callf",
         "F",
         "2000-01-06T05:00:00.000+0000",
         "991-13-9503",
         77629
        ],
        [
         2328757,
         "Carey",
         "Argelia",
         "Seago",
         "F",
         "2000-01-15T05:00:00.000+0000",
         "928-40-1559",
         121902
        ],
        [
         2340723,
         "Carol",
         "Sulema",
         "Janatka",
         "F",
         "2000-01-04T05:00:00.000+0000",
         "967-47-8302",
         125863
        ],
        [
         2353003,
         "Carlee",
         "Rossie",
         "Peplow",
         "F",
         "2000-01-17T05:00:00.000+0000",
         "997-69-2142",
         70741
        ],
        [
         2421968,
         "Carolyne",
         "Jody",
         "Menguy",
         "F",
         "2000-01-09T05:00:00.000+0000",
         "946-77-4073",
         84309
        ],
        [
         2483222,
         "Carissa",
         "Doreen",
         "Boggas",
         "F",
         "2000-01-14T05:00:00.000+0000",
         "924-20-8348",
         51358
        ],
        [
         2501666,
         "Carlita",
         "Bernarda",
         "Drei",
         "F",
         "2000-01-12T05:00:00.000+0000",
         "967-85-9792",
         64036
        ],
        [
         2538248,
         "Carroll",
         "Marianne",
         "Boatswain",
         "F",
         "2000-01-06T05:00:00.000+0000",
         "922-69-3324",
         69522
        ],
        [
         2576585,
         "Cary",
         "Temeka",
         "Frapwell",
         "F",
         "2000-01-25T05:00:00.000+0000",
         "991-38-7978",
         70157
        ],
        [
         2598081,
         "Carin",
         "Dolly",
         "Doeg",
         "F",
         "2000-01-15T05:00:00.000+0000",
         "972-55-5208",
         57664
        ],
        [
         2725792,
         "Carolina",
         "Lavon",
         "Barford",
         "F",
         "2000-01-07T05:00:00.000+0000",
         "956-10-8262",
         44392
        ],
        [
         2755167,
         "Carline",
         "Wei",
         "Wickwar",
         "F",
         "2000-01-11T05:00:00.000+0000",
         "902-74-6284",
         89651
        ],
        [
         2811845,
         "Carmen",
         "Alejandra",
         "Miles",
         "F",
         "2000-01-27T05:00:00.000+0000",
         "944-61-9676",
         55685
        ],
        [
         2858197,
         "Carmelina",
         "Meghann",
         "Daoust",
         "F",
         "2000-01-13T05:00:00.000+0000",
         "952-69-9687",
         75710
        ],
        [
         2897338,
         "Carlyn",
         "Charlyn",
         "Boggers",
         "F",
         "2000-01-18T05:00:00.000+0000",
         "927-91-6017",
         92681
        ],
        [
         2973054,
         "Carissa",
         "Lianne",
         "Basson",
         "F",
         "2000-01-05T05:00:00.000+0000",
         "982-90-7982",
         84711
        ],
        [
         2981179,
         "Carly",
         "Mavis",
         "Padkin",
         "F",
         "2000-01-10T05:00:00.000+0000",
         "943-10-3577",
         70473
        ],
        [
         2993975,
         "Carrie",
         "Edie",
         "MacNish",
         "F",
         "2000-01-18T05:00:00.000+0000",
         "914-37-3974",
         55279
        ],
        [
         2997404,
         "Carlie",
         "Angella",
         "Jentet",
         "F",
         "2000-01-11T05:00:00.000+0000",
         "936-53-4313",
         40645
        ],
        [
         3062694,
         "Carolynn",
         "Rubie",
         "Gaish",
         "F",
         "2000-01-05T05:00:00.000+0000",
         "982-16-6167",
         60654
        ],
        [
         3122962,
         "Carmelia",
         "Trina",
         "Brotherwood",
         "F",
         "2000-01-14T05:00:00.000+0000",
         "939-24-9897",
         103785
        ],
        [
         3143037,
         "Carri",
         "Kristeen",
         "Fender",
         "F",
         "2000-01-15T05:00:00.000+0000",
         "932-40-5015",
         39258
        ],
        [
         3166824,
         "Carletta",
         "Cathern",
         "Brammar",
         "F",
         "2000-01-27T05:00:00.000+0000",
         "909-87-4438",
         79761
        ],
        [
         3254708,
         "Cari",
         "Mckenzie",
         "Jailler",
         "F",
         "2000-01-07T05:00:00.000+0000",
         "918-79-4034",
         75802
        ],
        [
         3269389,
         "Carylon",
         "Jeneva",
         "Cumbridge",
         "F",
         "2000-01-15T05:00:00.000+0000",
         "901-32-5050",
         112964
        ],
        [
         3284347,
         "Carmelia",
         "Lanita",
         "Amberg",
         "F",
         "2000-01-08T05:00:00.000+0000",
         "957-98-6984",
         81729
        ],
        [
         3341988,
         "Carie",
         "Marisa",
         "Cruce",
         "F",
         "2000-01-20T05:00:00.000+0000",
         "908-90-4449",
         72594
        ],
        [
         3345404,
         "Carey",
         "Louise",
         "Czaja",
         "F",
         "2000-01-02T05:00:00.000+0000",
         "932-47-8468",
         104952
        ],
        [
         3360906,
         "Carleen",
         "Allie",
         "Bartosch",
         "F",
         "2000-01-24T05:00:00.000+0000",
         "932-93-6186",
         103291
        ],
        [
         3477658,
         "Carmella",
         "Brande",
         "MacCook",
         "F",
         "2000-01-28T05:00:00.000+0000",
         "983-11-8523",
         90126
        ],
        [
         3592139,
         "Carita",
         "Olevia",
         "Cumbridge",
         "F",
         "2000-01-13T05:00:00.000+0000",
         "939-68-4041",
         52577
        ],
        [
         3636518,
         "Cari",
         "Leeanna",
         "Aupol",
         "F",
         "2000-01-16T05:00:00.000+0000",
         "986-72-3311",
         102813
        ],
        [
         3707743,
         "Caron",
         "Eugena",
         "Rubinshtein",
         "F",
         "2000-01-23T05:00:00.000+0000",
         "922-13-8987",
         91041
        ],
        [
         3731914,
         "Carlene",
         "Maurice",
         "Pesak",
         "F",
         "2000-01-02T05:00:00.000+0000",
         "951-52-8597",
         101129
        ],
        [
         3733768,
         "Carmelina",
         "Eileen",
         "Reynish",
         "F",
         "2000-01-03T05:00:00.000+0000",
         "915-75-9735",
         77323
        ],
        [
         5089514,
         "Carlton",
         "Dominic",
         "Croan",
         "M",
         "2000-01-07T05:00:00.000+0000",
         "994-48-2528",
         57866
        ],
        [
         5089622,
         "Carey",
         "Guadalupe",
         "Rigler",
         "M",
         "2000-01-24T05:00:00.000+0000",
         "991-33-4046",
         61431
        ],
        [
         5092485,
         "Carson",
         "Virgilio",
         "Paddingdon",
         "M",
         "2000-01-03T05:00:00.000+0000",
         "902-15-4071",
         82149
        ],
        [
         5111053,
         "Carson",
         "Teddy",
         "Ruit",
         "M",
         "2000-01-25T05:00:00.000+0000",
         "948-86-3541",
         89662
        ],
        [
         5117001,
         "Carl",
         "Alvin",
         "Bofield",
         "M",
         "2000-01-12T05:00:00.000+0000",
         "938-37-5348",
         37017
        ],
        [
         5136633,
         "Carmelo",
         "Adrian",
         "Gowthorpe",
         "M",
         "2000-01-27T05:00:00.000+0000",
         "931-73-3355",
         101328
        ],
        [
         5207552,
         "Carmine",
         "Emanuel",
         "Dudgeon",
         "M",
         "2000-01-12T05:00:00.000+0000",
         "915-40-7433",
         90942
        ],
        [
         5216767,
         "Carrol",
         "Freeman",
         "Ivimy",
         "M",
         "2000-01-21T05:00:00.000+0000",
         "909-29-3711",
         58056
        ],
        [
         5224385,
         "Carlos",
         "Sebastian",
         "Rishworth",
         "M",
         "2000-01-27T05:00:00.000+0000",
         "906-90-3184",
         90417
        ],
        [
         5435543,
         "Carlos",
         "Leopoldo",
         "Di Claudio",
         "M",
         "2000-01-09T05:00:00.000+0000",
         "989-31-1579",
         49390
        ],
        [
         5475271,
         "Cary",
         "Todd",
         "McLarty",
         "M",
         "2000-01-10T05:00:00.000+0000",
         "980-17-7729",
         90079
        ],
        [
         5503177,
         "Carter",
         "Benedict",
         "Birkenshaw",
         "M",
         "2000-01-28T05:00:00.000+0000",
         "953-59-2970",
         96882
        ],
        [
         5565891,
         "Carl",
         "Merrill",
         "Titchener",
         "M",
         "2000-01-02T05:00:00.000+0000",
         "963-89-1584",
         47408
        ],
        [
         5566920,
         "Carmen",
         "Arnold",
         "D'Oyley",
         "M",
         "2000-01-11T05:00:00.000+0000",
         "944-93-9844",
         70235
        ],
        [
         5699616,
         "Carrol",
         "Lenny",
         "Strain",
         "M",
         "2000-01-05T05:00:00.000+0000",
         "988-31-8848",
         77876
        ],
        [
         5772639,
         "Carroll",
         "Byron",
         "Cours",
         "M",
         "2000-01-29T05:00:00.000+0000",
         "919-53-3228",
         82513
        ],
        [
         5773320,
         "Carrol",
         "Reginald",
         "Sanches",
         "M",
         "2000-01-07T05:00:00.000+0000",
         "913-83-8331",
         65077
        ],
        [
         5794094,
         "Carmine",
         "Rubin",
         "Shemming",
         "M",
         "2000-01-22T05:00:00.000+0000",
         "959-26-9580",
         87378
        ],
        [
         5798546,
         "Cary",
         "Ethan",
         "Blampied",
         "M",
         "2000-01-16T05:00:00.000+0000",
         "666-40-8810",
         90455
        ],
        [
         5848963,
         "Carmelo",
         "Reinaldo",
         "Cereceres",
         "M",
         "2000-01-27T05:00:00.000+0000",
         "908-69-7114",
         86753
        ],
        [
         5867904,
         "Carmen",
         "Colton",
         "Lockhurst",
         "M",
         "2000-01-12T05:00:00.000+0000",
         "925-57-1757",
         78444
        ],
        [
         5870450,
         "Carmelo",
         "Leroy",
         "Dominico",
         "M",
         "2000-01-13T05:00:00.000+0000",
         "950-39-3027",
         79147
        ],
        [
         5975383,
         "Carlos",
         "Eldon",
         "Egarr",
         "M",
         "2000-01-05T05:00:00.000+0000",
         "970-35-2332",
         79229
        ],
        [
         6024072,
         "Carey",
         "Emanuel",
         "Wellfare",
         "M",
         "2000-01-02T05:00:00.000+0000",
         "666-67-7034",
         94674
        ],
        [
         6051713,
         "Carlo",
         "Lynn",
         "Whebell",
         "M",
         "2000-01-10T05:00:00.000+0000",
         "908-11-2144",
         67687
        ],
        [
         6119836,
         "Carlton",
         "Nathanael",
         "Fidgett",
         "M",
         "2000-01-05T05:00:00.000+0000",
         "948-43-2854",
         59465
        ],
        [
         6120674,
         "Carson",
         "Enrique",
         "Tabart",
         "M",
         "2000-01-22T05:00:00.000+0000",
         "974-57-6223",
         81158
        ],
        [
         6208902,
         "Carlo",
         "Avery",
         "Skamal",
         "M",
         "2000-01-25T05:00:00.000+0000",
         "941-70-9357",
         44153
        ],
        [
         6385394,
         "Cary",
         "Genaro",
         "Humphrey",
         "M",
         "2000-01-17T05:00:00.000+0000",
         "997-62-3330",
         93203
        ],
        [
         6577118,
         "Carmen",
         "Cecil",
         "Flemmich",
         "M",
         "2000-01-25T05:00:00.000+0000",
         "931-87-1011",
         58270
        ],
        [
         6687964,
         "Carmen",
         "Carmelo",
         "Gaenor",
         "M",
         "2000-01-07T05:00:00.000+0000",
         "932-57-4385",
         79854
        ],
        [
         6730795,
         "Carey",
         "Grover",
         "Fawthrop",
         "M",
         "2000-01-21T05:00:00.000+0000",
         "908-83-5598",
         57809
        ],
        [
         6787623,
         "Carlton",
         "Deon",
         "Prydie",
         "M",
         "2000-01-12T05:00:00.000+0000",
         "918-53-6691",
         52433
        ],
        [
         6824315,
         "Carmelo",
         "Seymour",
         "Howieson",
         "M",
         "2000-01-06T05:00:00.000+0000",
         "976-73-3845",
         51051
        ],
        [
         6922919,
         "Cary",
         "Abraham",
         "Addenbrooke",
         "M",
         "2000-01-15T05:00:00.000+0000",
         "988-76-9987",
         91513
        ],
        [
         7004327,
         "Carmine",
         "Elvin",
         "Hargreaves",
         "M",
         "2000-01-22T05:00:00.000+0000",
         "967-45-5109",
         69722
        ],
        [
         7015054,
         "Carmine",
         "Harrison",
         "Styles",
         "M",
         "2000-01-14T05:00:00.000+0000",
         "927-13-7320",
         23725
        ],
        [
         7029203,
         "Carson",
         "Mohammad",
         "Moisey",
         "M",
         "2000-01-23T05:00:00.000+0000",
         "943-70-7142",
         82342
        ],
        [
         7040181,
         "Carter",
         "Teodoro",
         "Coughan",
         "M",
         "2000-01-29T05:00:00.000+0000",
         "981-92-1260",
         78527
        ],
        [
         7075305,
         "Carson",
         "Ross",
         "Borg",
         "M",
         "2000-01-10T05:00:00.000+0000",
         "914-86-2341",
         58446
        ],
        [
         7180217,
         "Carl",
         "Shawn",
         "Despenser",
         "M",
         "2000-01-29T05:00:00.000+0000",
         "903-32-2929",
         87203
        ],
        [
         7181422,
         "Carl",
         "Parker",
         "Costan",
         "M",
         "2000-01-27T05:00:00.000+0000",
         "962-73-1477",
         76352
        ],
        [
         7225175,
         "Carlo",
         "Brenton",
         "Daniello",
         "M",
         "2000-01-21T05:00:00.000+0000",
         "924-76-1868",
         69444
        ],
        [
         7257942,
         "Carmine",
         "Clinton",
         "Giannini",
         "M",
         "2000-01-08T05:00:00.000+0000",
         "977-12-9414",
         91581
        ],
        [
         7274104,
         "Carmen",
         "Eusebio",
         "Bagster",
         "M",
         "2000-01-21T05:00:00.000+0000",
         "982-34-7118",
         67711
        ],
        [
         7301233,
         "Carl",
         "Patrick",
         "Doucette",
         "M",
         "2000-01-04T05:00:00.000+0000",
         "934-14-8545",
         78731
        ],
        [
         7460532,
         "Carl",
         "Arlen",
         "Belson",
         "M",
         "2000-01-20T05:00:00.000+0000",
         "948-24-7544",
         86964
        ],
        [
         7461656,
         "Carlton",
         "Orlando",
         "Mechi",
         "M",
         "2000-01-15T05:00:00.000+0000",
         "995-84-3786",
         63324
        ],
        [
         7475110,
         "Carmine",
         "Earnest",
         "Eccles",
         "M",
         "2000-01-30T05:00:00.000+0000",
         "930-14-4542",
         63040
        ],
        [
         7517029,
         "Carson",
         "Donovan",
         "Polleye",
         "M",
         "2000-01-21T05:00:00.000+0000",
         "994-65-3936",
         90842
        ],
        [
         7688830,
         "Carlos",
         "Gerard",
         "Backe",
         "M",
         "2000-01-08T05:00:00.000+0000",
         "993-41-9412",
         48840
        ],
        [
         7769698,
         "Cary",
         "Gilberto",
         "Lineker",
         "M",
         "2000-01-10T05:00:00.000+0000",
         "953-77-3221",
         42939
        ],
        [
         7834546,
         "Carmen",
         "Ronny",
         "Setchfield",
         "M",
         "2000-01-21T05:00:00.000+0000",
         "983-38-7567",
         66627
        ],
        [
         7954578,
         "Carlos",
         "Donn",
         "Blowne",
         "M",
         "2000-01-14T05:00:00.000+0000",
         "666-60-2214",
         77524
        ],
        [
         7955586,
         "Carlo",
         "Sandy",
         "Theaker",
         "M",
         "2000-01-20T05:00:00.000+0000",
         "910-48-4471",
         64663
        ],
        [
         7962250,
         "Carmen",
         "Mitchel",
         "Pancoast",
         "M",
         "2000-01-30T05:00:00.000+0000",
         "986-86-8480",
         81228
        ],
        [
         7962348,
         "Carey",
         "Raymond",
         "Matiewe",
         "M",
         "2000-01-10T05:00:00.000+0000",
         "963-54-2792",
         44749
        ],
        [
         7988267,
         "Carl",
         "Mose",
         "Denyukhin",
         "M",
         "2000-01-22T05:00:00.000+0000",
         "992-39-2734",
         91818
        ],
        [
         8003027,
         "Carl",
         "Dino",
         "Haeslier",
         "M",
         "2000-01-17T05:00:00.000+0000",
         "907-74-8186",
         61114
        ],
        [
         8121437,
         "Carrol",
         "Emilio",
         "Slayford",
         "M",
         "2000-01-17T05:00:00.000+0000",
         "904-57-5633",
         98488
        ],
        [
         8158314,
         "Carl",
         "Jospeh",
         "Gracey",
         "M",
         "2000-01-23T05:00:00.000+0000",
         "925-50-8374",
         82606
        ],
        [
         8168573,
         "Carmelo",
         "Modesto",
         "McKinna",
         "M",
         "2000-01-09T05:00:00.000+0000",
         "941-26-5797",
         76100
        ],
        [
         8211731,
         "Carlton",
         "Florentino",
         "Simpkin",
         "M",
         "2000-01-18T05:00:00.000+0000",
         "987-67-3265",
         51217
        ],
        [
         8460405,
         "Carmine",
         "Elbert",
         "Sherston",
         "M",
         "2000-01-04T05:00:00.000+0000",
         "959-89-6114",
         99245
        ],
        [
         8472510,
         "Carter",
         "Kyle",
         "Kivlin",
         "M",
         "2000-01-02T05:00:00.000+0000",
         "903-20-4608",
         58816
        ],
        [
         8498604,
         "Cary",
         "Porfirio",
         "Ackermann",
         "M",
         "2000-01-07T05:00:00.000+0000",
         "902-64-4850",
         15427
        ],
        [
         8509726,
         "Carlton",
         "Lino",
         "Munehay",
         "M",
         "2000-01-09T05:00:00.000+0000",
         "959-39-3792",
         73896
        ],
        [
         8536322,
         "Carmine",
         "Alfredo",
         "Verduin",
         "M",
         "2000-01-15T05:00:00.000+0000",
         "966-62-4521",
         78648
        ],
        [
         8611480,
         "Carl",
         "Nelson",
         "Metrick",
         "M",
         "2000-01-02T05:00:00.000+0000",
         "979-89-4880",
         65788
        ],
        [
         8613300,
         "Carl",
         "Ryan",
         "Danzelman",
         "M",
         "2000-01-16T05:00:00.000+0000",
         "947-83-4754",
         59325
        ],
        [
         8622446,
         "Carson",
         "Bennie",
         "Lardge",
         "M",
         "2000-01-10T05:00:00.000+0000",
         "922-25-7229",
         82874
        ],
        [
         8689256,
         "Carmine",
         "Garret",
         "Rowthorne",
         "M",
         "2000-01-23T05:00:00.000+0000",
         "971-73-7853",
         66899
        ],
        [
         8711364,
         "Carson",
         "Bobby",
         "Reditt",
         "M",
         "2000-01-19T05:00:00.000+0000",
         "946-17-9453",
         82767
        ],
        [
         8744482,
         "Carter",
         "Louis",
         "Mattschas",
         "M",
         "2000-01-23T05:00:00.000+0000",
         "934-70-2110",
         94948
        ],
        [
         8826978,
         "Carlos",
         "Robert",
         "Eyles",
         "M",
         "2000-01-17T05:00:00.000+0000",
         "984-89-4823",
         88621
        ],
        [
         8850324,
         "Carey",
         "Len",
         "Sole",
         "M",
         "2000-01-18T05:00:00.000+0000",
         "964-40-7341",
         57096
        ],
        [
         8857166,
         "Carlos",
         "Lionel",
         "Rooke",
         "M",
         "2000-01-11T05:00:00.000+0000",
         "944-36-5902",
         76901
        ],
        [
         8906820,
         "Carl",
         "Dudley",
         "Khristyukhin",
         "M",
         "2000-01-19T05:00:00.000+0000",
         "923-33-8767",
         42869
        ],
        [
         8918390,
         "Carmen",
         "Jess",
         "Hornig",
         "M",
         "2000-01-05T05:00:00.000+0000",
         "945-46-1947",
         63985
        ],
        [
         9010197,
         "Carlo",
         "Reyes",
         "Thurber",
         "M",
         "2000-01-08T05:00:00.000+0000",
         "985-83-4058",
         86135
        ],
        [
         9051470,
         "Carey",
         "Genaro",
         "Walshaw",
         "M",
         "2000-01-13T05:00:00.000+0000",
         "949-21-2779",
         91518
        ],
        [
         9064637,
         "Carroll",
         "Sol",
         "Hesbrook",
         "M",
         "2000-01-19T05:00:00.000+0000",
         "957-66-4203",
         81901
        ],
        [
         9141079,
         "Carl",
         "Harry",
         "Bewsey",
         "M",
         "2000-01-10T05:00:00.000+0000",
         "994-43-2557",
         87553
        ],
        [
         9223714,
         "Carey",
         "Howard",
         "Pitfield",
         "M",
         "2000-01-10T05:00:00.000+0000",
         "941-38-5352",
         64305
        ],
        [
         9256999,
         "Carlo",
         "Norbert",
         "Christoffels",
         "M",
         "2000-01-24T05:00:00.000+0000",
         "993-36-1937",
         80695
        ],
        [
         9261587,
         "Carey",
         "Earle",
         "Maddern",
         "M",
         "2000-01-08T05:00:00.000+0000",
         "937-51-9953",
         77096
        ],
        [
         9374775,
         "Carrol",
         "Nick",
         "Brittian",
         "M",
         "2000-01-12T05:00:00.000+0000",
         "920-17-8175",
         63703
        ],
        [
         9392444,
         "Carmine",
         "Titus",
         "Rochewell",
         "M",
         "2000-01-08T05:00:00.000+0000",
         "976-10-3933",
         92595
        ],
        [
         9410594,
         "Carmen",
         "Gavin",
         "Escot",
         "M",
         "2000-01-23T05:00:00.000+0000",
         "947-40-7539",
         35382
        ],
        [
         9435895,
         "Cary",
         "Jeffery",
         "Pawelek",
         "M",
         "2000-01-29T05:00:00.000+0000",
         "982-54-8830",
         46970
        ],
        [
         9472280,
         "Carmine",
         "Freeman",
         "Schole",
         "M",
         "2000-01-17T05:00:00.000+0000",
         "936-74-4924",
         62667
        ],
        [
         9549499,
         "Carrol",
         "Lloyd",
         "Costa",
         "M",
         "2000-01-11T05:00:00.000+0000",
         "935-52-6925",
         48399
        ],
        [
         9623644,
         "Carrol",
         "Tomas",
         "Cartin",
         "M",
         "2000-01-17T05:00:00.000+0000",
         "932-39-9619",
         109307
        ],
        [
         9664871,
         "Carlee",
         "Rayna",
         "Dashper",
         "F",
         "2000-01-11T05:00:00.000+0000",
         "959-96-7177",
         73939
        ],
        [
         9674640,
         "Carmella",
         "Keisha",
         "Barber",
         "F",
         "2000-01-14T05:00:00.000+0000",
         "964-72-6087",
         59928
        ],
        [
         9737961,
         "Carylon",
         "Jama",
         "Burd",
         "F",
         "2000-01-30T05:00:00.000+0000",
         "949-10-1709",
         62026
        ],
        [
         9767876,
         "Carley",
         "Deedee",
         "Donalson",
         "F",
         "2000-01-25T05:00:00.000+0000",
         "989-55-3995",
         92907
        ],
        [
         9869691,
         "Carlton",
         "Danial",
         "Buncher",
         "M",
         "2000-01-10T05:00:00.000+0000",
         "930-36-2886",
         33122
        ],
        [
         9906485,
         "Carson",
         "Eugene",
         "MacGille",
         "M",
         "2000-01-10T05:00:00.000+0000",
         "934-72-8173",
         86801
        ],
        [
         9935082,
         "Carl",
         "Galen",
         "De Bischop",
         "M",
         "2000-01-12T05:00:00.000+0000",
         "922-88-9347",
         64885
        ],
        [
         9970180,
         "Carmelo",
         "Cameron",
         "Readitt",
         "M",
         "2000-01-21T05:00:00.000+0000",
         "933-40-6741",
         99303
        ]
       ],
       "datasetInfos": [],
       "dbfsResultPath": null,
       "isJsonSchema": true,
       "metadata": {},
       "overflow": false,
       "plotOptions": {
        "customPlotOptions": {},
        "displayType": "table",
        "pivotAggregation": null,
        "pivotColumns": null,
        "xColumns": null,
        "yColumns": null
       },
       "removedWidgets": [],
       "schema": [
        {
         "metadata": "{}",
         "name": "id",
         "type": "\"integer\""
        },
        {
         "metadata": "{}",
         "name": "firstName",
         "type": "\"string\""
        },
        {
         "metadata": "{}",
         "name": "middleName",
         "type": "\"string\""
        },
        {
         "metadata": "{}",
         "name": "lastName",
         "type": "\"string\""
        },
        {
         "metadata": "{}",
         "name": "gender",
         "type": "\"string\""
        },
        {
         "metadata": "{}",
         "name": "birthDate",
         "type": "\"timestamp\""
        },
        {
         "metadata": "{}",
         "name": "ssn",
         "type": "\"string\""
        },
        {
         "metadata": "{}",
         "name": "salary",
         "type": "\"integer\""
        }
       ],
       "type": "table"
      }
     },
     "output_type": "display_data"
    }
   ],
   "source": [
    "%sql\n",
    "SELECT * FROM people WHERE SUBSTR(firstName,1,3) = 'Car' AND DATE(birthDate) > '2000-01-01';"
   ]
  },
  {
   "cell_type": "markdown",
   "metadata": {
    "application/vnd.databricks.v1+cell": {
     "inputWidgets": {},
     "nuid": "838fdf73-a806-40ee-b8d7-d8681775e7ff",
     "showTitle": false,
     "title": ""
    }
   },
   "source": [
    "### Q8\n",
    "\n",
    "Prepare a short summary no less than 100 words for the [The Google File System](http://static.googleusercontent.com/media/research.google.com/en//archive/gfs-sosp2003.pdf)."
   ]
  },
  {
   "cell_type": "markdown",
   "metadata": {
    "application/vnd.databricks.v1+cell": {
     "inputWidgets": {},
     "nuid": "95f2aa4d-28bb-40ef-b3e9-1ff26ed0fd03",
     "showTitle": false,
     "title": ""
    }
   },
   "source": [
    "Google File System (GFS) is a scalable distributed file system (DFS) created by Google Inc. and developed to accommodate Google’s expanding data processing requirements. GFS provides fault tolerance, reliability, scalability, availability, and performance to large networks and connected nodes. GFS is made up of several storage systems built from low-cost commodity hardware components. It is optimized to accommodate Google's different data use and storage needs, such as its search engine, which generates huge amounts of data that must be stored.\n",
    "\n",
    "The Google File System capitalized on the strength of off-the-shelf servers while minimizing hardware weaknesses.\n",
    "\n",
    "GFS is also known as GoogleFS.\n",
    "\n",
    "The GFS node cluster is a single master with multiple chunk servers that are continuously accessed by different client systems. Chunk servers store data as Linux files on local disks. Stored data is divided into large chunks (64 MB), which are replicated in the network a minimum of three times. The large chunk size reduces network overhead.\n",
    "\n",
    "GFS is designed to accommodate Google’s large cluster requirements without burdening applications. Files are stored in hierarchical directories identified by path names. Metadata - such as namespace, access control data, and mapping information - is controlled by the master, which interacts with and monitors the status updates of each chunk server through timed heartbeat messages.\n",
    "\n",
    "GFS features include:\\\n",
    "•\tFault tolerance\\\n",
    "•\tCritical data replication\\\n",
    "•\tAutomatic and efficient data recovery\\\n",
    "•\tHigh aggregate throughput\\\n",
    "•\tReduced client and master interaction because of large chunk server size\\\n",
    "•\tNamespace management and locking\\\n",
    "•\tHigh availability\n",
    "\n",
    "Reference: https://www.techopedia.com/definition/26906/google-file-system-gfs#:~:text=Google%20File%20System%20(GFS)%20is,large%20networks%20and%20connected%20nodes."
   ]
  },
  {
   "cell_type": "markdown",
   "metadata": {
    "application/vnd.databricks.v1+cell": {
     "inputWidgets": {},
     "nuid": "fc1b682b-377f-4f27-be64-e0ac7b94d52f",
     "showTitle": false,
     "title": ""
    }
   },
   "source": [
    "## Notes\n",
    "\n",
    "After done with the assignment, please upload your work to the blackboard. Please make sure you upload:\n",
    "\n",
    "- The outputs of the code in the notebook\n",
    "- The pdf version of the notebook\n",
    "\n",
    "Best of luck!"
   ]
  }
 ],
 "metadata": {
  "application/vnd.databricks.v1+notebook": {
   "dashboards": [],
   "language": "python",
   "notebookMetadata": {
    "pythonIndentUnit": 4
   },
   "notebookName": "DS_610_assignment_02_mir",
   "notebookOrigID": 2427816926367153,
   "widgets": {}
  },
  "kernelspec": {
   "display_name": "Python 3 (ipykernel)",
   "language": "python",
   "name": "python3"
  },
  "language_info": {
   "codemirror_mode": {
    "name": "ipython",
    "version": 3
   },
   "file_extension": ".py",
   "mimetype": "text/x-python",
   "name": "python",
   "nbconvert_exporter": "python",
   "pygments_lexer": "ipython3",
   "version": "3.8.8"
  }
 },
 "nbformat": 4,
 "nbformat_minor": 1
}
