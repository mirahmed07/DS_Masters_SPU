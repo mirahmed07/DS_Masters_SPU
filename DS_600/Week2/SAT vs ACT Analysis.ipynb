{
 "cells": [
  {
   "cell_type": "markdown",
   "metadata": {},
   "source": [
    "This is a code example from https://towardsdatascience.com/exploratory-data-analysis-tutorial-in-python-15602b417445 and has been adapted from the repository at: https://github.com/cbratkovics/sat_act_analysis"
   ]
  },
  {
   "cell_type": "markdown",
   "metadata": {},
   "source": [
    "# Step 1: Import Libraries"
   ]
  },
  {
   "cell_type": "code",
   "execution_count": 1,
   "metadata": {},
   "outputs": [],
   "source": [
    "import numpy as np                  # import numpy with the alias np\n",
    "import pandas as pd                 # import pandas with the alias pd\n",
    "import seaborn as sns               # import seaborn with the alias sns\n",
    "import matplotlib.pyplot as plt     # import matplotlib.pyplot with the alias plt\n",
    "\n",
    "# Set up backend of matplotlib to inline to view visuals in Jupyter Notebook.\n",
    "%matplotlib inline"
   ]
  },
  {
   "cell_type": "markdown",
   "metadata": {},
   "source": [
    "# Step 2: Load SAT and ACT Scores into Panads DataFrame"
   ]
  },
  {
   "cell_type": "code",
   "execution_count": 2,
   "metadata": {},
   "outputs": [],
   "source": [
    "sat_17 = pd.read_csv('sat_act_data/sat_2017.csv')\n",
    "sat_18 = pd.read_csv('sat_act_data/sat_2018.csv')\n",
    "act_17 = pd.read_csv('sat_act_data/act_2017.csv')\n",
    "act_18 = pd.read_csv('sat_act_data/act_2018.csv')\n",
    "sat_17.name = 'SAT 2017'\n",
    "sat_18.name = 'SAT 2018'\n",
    "act_17.name = 'ACT 2017'\n",
    "act_18.name = 'ACT 2018'"
   ]
  },
  {
   "cell_type": "markdown",
   "metadata": {},
   "source": [
    "# Step 3: Check Dimensions of the Loaded DataFrames"
   ]
  },
  {
   "cell_type": "code",
   "execution_count": 3,
   "metadata": {},
   "outputs": [
    {
     "name": "stdout",
     "output_type": "stream",
     "text": [
      "SAT 2017 shape =  (51, 5)\n",
      "SAT 2018 shape =  (51, 5)\n",
      "ACT 2017 shape =  (52, 7)\n",
      "ACT 2018 shape =  (53, 3)\n"
     ]
    }
   ],
   "source": [
    "print(\"SAT 2017 shape = \", sat_17.shape)\n",
    "print(\"SAT 2018 shape = \", sat_18.shape)\n",
    "print(\"ACT 2017 shape = \", act_17.shape)\n",
    "print(\"ACT 2018 shape = \", act_18.shape)"
   ]
  },
  {
   "cell_type": "markdown",
   "metadata": {},
   "source": [
    "There are 50 states plus D.C. in the United States. Therefore, we should have 51 rows in each DataFrame. It seems we need to clean up!"
   ]
  },
  {
   "cell_type": "markdown",
   "metadata": {},
   "source": [
    "# Step 4: Check the Features Names and Types"
   ]
  },
  {
   "cell_type": "markdown",
   "metadata": {},
   "source": [
    "First, let us peek at the first five rows of each data frame. This is done by invoking the \"head\" function on each data frame."
   ]
  },
  {
   "cell_type": "code",
   "execution_count": 4,
   "metadata": {},
   "outputs": [
    {
     "name": "stdout",
     "output_type": "stream",
     "text": [
      "        State Participation  Evidence-Based Reading and Writing  Math  Total\n",
      "0     Alabama            5%                                 593   572   1165\n",
      "1      Alaska           38%                                 547   533   1080\n",
      "2     Arizona           30%                                 563   553   1116\n",
      "3    Arkansas            3%                                 614   594   1208\n",
      "4  California           53%                                 531   524   1055\n",
      "        State Participation  Evidence-Based Reading and Writing  Math  Total\n",
      "0     Alabama            6%                                 595   571   1166\n",
      "1      Alaska           43%                                 562   544   1106\n",
      "2     Arizona           29%                                 577   572   1149\n",
      "3    Arkansas            5%                                 592   576   1169\n",
      "4  California           60%                                 540   536   1076\n",
      "      State Participation  English  Math  Reading  Science Composite\n",
      "0  National           60%     20.3  20.7     21.4     21.0      21.0\n",
      "1   Alabama          100%     18.9  18.4     19.7     19.4      19.2\n",
      "2    Alaska           65%     18.7  19.8     20.4     19.9      19.8\n",
      "3   Arizona           62%     18.6  19.8     20.1     19.8      19.7\n",
      "4  Arkansas          100%     18.9  19.0     19.7     19.5      19.4\n",
      "           State Participation Composite\n",
      "0          Maine            7%        24\n",
      "1   Rhode Island           15%      24.2\n",
      "2  New Hampshire           16%      25.1\n",
      "3       Delaware           17%      23.8\n",
      "4   Pennsylvania           20%      23.5\n"
     ]
    }
   ],
   "source": [
    "print(sat_17.head())\n",
    "print(sat_18.head())\n",
    "print(act_17.head())\n",
    "print(act_18.head())"
   ]
  },
  {
   "cell_type": "markdown",
   "metadata": {},
   "source": [
    "Next, let us look at the data types of the data frames. In Pandas, there are different object types such as: 1) object: text or mixed numeric and non-numeric values; 2) int64: integer numbers; 3) float64: floating point numbers; 4) bool: true/false values; 5) datetime64: date and time values; 6) timedelta[ns]: differences between two datetimes; 7) category: finite list of text values."
   ]
  },
  {
   "cell_type": "code",
   "execution_count": 5,
   "metadata": {},
   "outputs": [
    {
     "name": "stdout",
     "output_type": "stream",
     "text": [
      "\tData Types of SAT 17:\n",
      "State                                 object\n",
      "Participation                         object\n",
      "Evidence-Based Reading and Writing     int64\n",
      "Math                                   int64\n",
      "Total                                  int64\n",
      "dtype: object\n",
      "\n",
      "\tData Types of SAT 18:\n",
      "State                                 object\n",
      "Participation                         object\n",
      "Evidence-Based Reading and Writing     int64\n",
      "Math                                   int64\n",
      "Total                                  int64\n",
      "dtype: object\n",
      "\n",
      "\tData Types of ACT 17:\n",
      "State             object\n",
      "Participation     object\n",
      "English          float64\n",
      "Math             float64\n",
      "Reading          float64\n",
      "Science          float64\n",
      "Composite         object\n",
      "dtype: object\n",
      "\n",
      "\tData Types of ACT 18:\n",
      "State            object\n",
      "Participation    object\n",
      "Composite        object\n",
      "dtype: object\n",
      "\n"
     ]
    }
   ],
   "source": [
    "print(\"\\tData Types of SAT 17:\\n%s\\n\" % sat_17.dtypes)\n",
    "print(\"\\tData Types of SAT 18:\\n%s\\n\" % sat_18.dtypes)\n",
    "print(\"\\tData Types of ACT 17:\\n%s\\n\" % act_17.dtypes)\n",
    "print(\"\\tData Types of ACT 18:\\n%s\\n\" % act_18.dtypes)"
   ]
  },
  {
   "cell_type": "markdown",
   "metadata": {},
   "source": [
    "Let us focus on the ACT 17 data frame. Notice something interesting (Hint: the column named \"Composite\")?"
   ]
  },
  {
   "cell_type": "code",
   "execution_count": 6,
   "metadata": {},
   "outputs": [
    {
     "name": "stdout",
     "output_type": "stream",
     "text": [
      "\tData Types of ACT 17:\n",
      "State             object\n",
      "Participation     object\n",
      "English          float64\n",
      "Math             float64\n",
      "Reading          float64\n",
      "Science          float64\n",
      "Composite         object\n",
      "dtype: object\n",
      "\n",
      "      State Participation  English  Math  Reading  Science Composite\n",
      "0  National           60%     20.3  20.7     21.4     21.0      21.0\n",
      "1   Alabama          100%     18.9  18.4     19.7     19.4      19.2\n",
      "2    Alaska           65%     18.7  19.8     20.4     19.9      19.8\n",
      "3   Arizona           62%     18.6  19.8     20.1     19.8      19.7\n",
      "4  Arkansas          100%     18.9  19.0     19.7     19.5      19.4\n"
     ]
    }
   ],
   "source": [
    "print(\"\\tData Types of ACT 17:\\n%s\\n\" % act_17.dtypes)\n",
    "print(act_17.head())"
   ]
  },
  {
   "cell_type": "markdown",
   "metadata": {},
   "source": [
    "Some questions to consider before data cleanup: 1) Are the state names consistent? 2) Do the numbers make sense (> 0, no junk values, for percentages between 0 and 100, etc.)"
   ]
  },
  {
   "cell_type": "markdown",
   "metadata": {},
   "source": [
    "# Step 5: Data Cleanup"
   ]
  },
  {
   "cell_type": "markdown",
   "metadata": {},
   "source": [
    "For this exercise, we will just look at the composite/total scores and their relationship with participation rate in both ACT and SATs. We shall drop unnecessary columns before the start. Note that ACT 18 data frame just has composite score to begin with."
   ]
  },
  {
   "cell_type": "code",
   "execution_count": 7,
   "metadata": {},
   "outputs": [],
   "source": [
    "sat_17.drop(columns = ['Evidence-Based Reading and Writing', 'Math'], inplace = True)\n",
    "sat_18.drop(columns = ['Evidence-Based Reading and Writing', 'Math'], inplace = True)\n",
    "act_17.drop(columns = ['English', 'Math', 'Reading', 'Science'], inplace = True)"
   ]
  },
  {
   "cell_type": "markdown",
   "metadata": {},
   "source": [
    "## Step 5.1: Cleanup of Scores."
   ]
  },
  {
   "cell_type": "markdown",
   "metadata": {},
   "source": [
    "Let us figure out the number of distinct ACT composite scores in 2017. In order to do this, sub-select the data frame \"act_17\" just for the column name \"Composite\" and perform \"value_counts\". The flag \"ascending=False\" means that the count is sorted from highest to lowest."
   ]
  },
  {
   "cell_type": "code",
   "execution_count": 8,
   "metadata": {},
   "outputs": [
    {
     "data": {
      "text/plain": [
       "20.3     3\n",
       "21.4     3\n",
       "19.8     3\n",
       "20.4     2\n",
       "21.9     2\n",
       "24.2     2\n",
       "19.7     2\n",
       "24.1     2\n",
       "21.8     2\n",
       "23.6     2\n",
       "19.4     2\n",
       "21.5     1\n",
       "19.1     1\n",
       "20.8     1\n",
       "25.4     1\n",
       "20.2x    1\n",
       "20.7     1\n",
       "25.5     1\n",
       "18.7     1\n",
       "18.6     1\n",
       "22.3     1\n",
       "24.3     1\n",
       "24.0     1\n",
       "25.2     1\n",
       "19.2     1\n",
       "20.5     1\n",
       "21.7     1\n",
       "19.0     1\n",
       "19.5     1\n",
       "22.8     1\n",
       "22.0     1\n",
       "21.0     1\n",
       "17.8     1\n",
       "22.6     1\n",
       "23.8     1\n",
       "23.7     1\n",
       "20.0     1\n",
       "23.9     1\n",
       "Name: Composite, dtype: int64"
      ]
     },
     "execution_count": 8,
     "metadata": {},
     "output_type": "execute_result"
    }
   ],
   "source": [
    "act_17['Composite'].value_counts(ascending=False)"
   ]
  },
  {
   "cell_type": "markdown",
   "metadata": {},
   "source": [
    "Note that we need to clean up one of the values \"20.2x\" (extraneous \"x\"). We can simply do this by applying a lambda function on the column and re-assigning it to the same column."
   ]
  },
  {
   "cell_type": "code",
   "execution_count": 9,
   "metadata": {},
   "outputs": [],
   "source": [
    "act_17['Composite'] = act_17['Composite'].apply(lambda x_cell: x_cell.strip('x'))"
   ]
  },
  {
   "cell_type": "markdown",
   "metadata": {},
   "source": [
    "Now let us take a look at the 2018 ACT composite scores."
   ]
  },
  {
   "cell_type": "code",
   "execution_count": 10,
   "metadata": {},
   "outputs": [
    {
     "data": {
      "text/plain": [
       "23.9     3\n",
       "20       3\n",
       "20.3     3\n",
       "19.2     2\n",
       "24.2     2\n",
       "19.4     2\n",
       "21.3     2\n",
       "22.5     2\n",
       "24       2\n",
       "19.1     2\n",
       "20.8     1\n",
       "19.3     1\n",
       "20.1     1\n",
       "22.7     1\n",
       "19.6     1\n",
       "22.3     1\n",
       "18.6     1\n",
       "17.7     1\n",
       "20.7     1\n",
       "25.5     1\n",
       "23.6     1\n",
       "18.3     1\n",
       "21.4     1\n",
       "20.2     1\n",
       "21.9     1\n",
       "23.7     1\n",
       "21.8     1\n",
       "24.1     1\n",
       "23.8     1\n",
       "18.9     1\n",
       "20.4     1\n",
       "25.6     1\n",
       "24.5     1\n",
       "19.9     1\n",
       "21.6     1\n",
       "22.2     1\n",
       "#REF!    1\n",
       "23.5     1\n",
       "25.1     1\n",
       "20.5     1\n",
       "Name: Composite, dtype: int64"
      ]
     },
     "execution_count": 10,
     "metadata": {},
     "output_type": "execute_result"
    }
   ],
   "source": [
    "act_18['Composite'].value_counts(ascending=False)"
   ]
  },
  {
   "cell_type": "markdown",
   "metadata": {},
   "source": [
    "Note that there is another row whose composite score column is a junk value (\"#REF!\"). How can we get rid of this row? First of all, let us find it! For this, we can use Pandas.DataFrame.loc which locates a group of rows and columns by labels or a boolean array."
   ]
  },
  {
   "cell_type": "code",
   "execution_count": 11,
   "metadata": {},
   "outputs": [
    {
     "data": {
      "text/html": [
       "<div>\n",
       "<style scoped>\n",
       "    .dataframe tbody tr th:only-of-type {\n",
       "        vertical-align: middle;\n",
       "    }\n",
       "\n",
       "    .dataframe tbody tr th {\n",
       "        vertical-align: top;\n",
       "    }\n",
       "\n",
       "    .dataframe thead th {\n",
       "        text-align: right;\n",
       "    }\n",
       "</style>\n",
       "<table border=\"1\" class=\"dataframe\">\n",
       "  <thead>\n",
       "    <tr style=\"text-align: right;\">\n",
       "      <th></th>\n",
       "      <th>State</th>\n",
       "      <th>Participation</th>\n",
       "      <th>Composite</th>\n",
       "    </tr>\n",
       "  </thead>\n",
       "  <tbody>\n",
       "    <tr>\n",
       "      <th>23</th>\n",
       "      <td>National</td>\n",
       "      <td>50%</td>\n",
       "      <td>#REF!</td>\n",
       "    </tr>\n",
       "  </tbody>\n",
       "</table>\n",
       "</div>"
      ],
      "text/plain": [
       "       State Participation Composite\n",
       "23  National           50%     #REF!"
      ]
     },
     "execution_count": 11,
     "metadata": {},
     "output_type": "execute_result"
    }
   ],
   "source": [
    "act_18.loc[act_18['Composite'] == \"#REF!\"]"
   ]
  },
  {
   "cell_type": "markdown",
   "metadata": {},
   "source": [
    "The row number with the index 23 has \"State\" value equal to \"National\". This does not make sense since it is not a name of a U.S. state. Now let us get rid of this entire row!"
   ]
  },
  {
   "cell_type": "code",
   "execution_count": 12,
   "metadata": {},
   "outputs": [],
   "source": [
    "act_18.drop(act_18.index[23], inplace=True)"
   ]
  },
  {
   "cell_type": "markdown",
   "metadata": {},
   "source": [
    "Does \"act_17\" data frame have the same problem? It turns out the row number with the index 0 has this problem."
   ]
  },
  {
   "cell_type": "code",
   "execution_count": 13,
   "metadata": {},
   "outputs": [
    {
     "data": {
      "text/html": [
       "<div>\n",
       "<style scoped>\n",
       "    .dataframe tbody tr th:only-of-type {\n",
       "        vertical-align: middle;\n",
       "    }\n",
       "\n",
       "    .dataframe tbody tr th {\n",
       "        vertical-align: top;\n",
       "    }\n",
       "\n",
       "    .dataframe thead th {\n",
       "        text-align: right;\n",
       "    }\n",
       "</style>\n",
       "<table border=\"1\" class=\"dataframe\">\n",
       "  <thead>\n",
       "    <tr style=\"text-align: right;\">\n",
       "      <th></th>\n",
       "      <th>State</th>\n",
       "      <th>Participation</th>\n",
       "      <th>Composite</th>\n",
       "    </tr>\n",
       "  </thead>\n",
       "  <tbody>\n",
       "    <tr>\n",
       "      <th>0</th>\n",
       "      <td>National</td>\n",
       "      <td>60%</td>\n",
       "      <td>21.0</td>\n",
       "    </tr>\n",
       "  </tbody>\n",
       "</table>\n",
       "</div>"
      ],
      "text/plain": [
       "      State Participation Composite\n",
       "0  National           60%      21.0"
      ]
     },
     "execution_count": 13,
     "metadata": {},
     "output_type": "execute_result"
    }
   ],
   "source": [
    "act_17[act_17['State'] == 'National']"
   ]
  },
  {
   "cell_type": "markdown",
   "metadata": {},
   "source": [
    "Let us drop this row as well for act_17."
   ]
  },
  {
   "cell_type": "code",
   "execution_count": 14,
   "metadata": {},
   "outputs": [],
   "source": [
    "act_17.drop(act_17.index[0], inplace=True)"
   ]
  },
  {
   "cell_type": "markdown",
   "metadata": {},
   "source": [
    "## Step 5.2 Reconciling State Names"
   ]
  },
  {
   "cell_type": "markdown",
   "metadata": {},
   "source": [
    "Next, we have to see whether the state names are consistent across SAT and ACT scores. The following is the routine used for it."
   ]
  },
  {
   "cell_type": "code",
   "execution_count": 15,
   "metadata": {},
   "outputs": [],
   "source": [
    "def compare_values(act_col, sat_col):\n",
    "    act_vals = []\n",
    "    sat_vals = []\n",
    "    \n",
    "    for a_val in act_col:\n",
    "        act_vals.append(a_val)\n",
    "    for s_val in sat_col:\n",
    "        sat_vals.append(s_val)\n",
    "    \n",
    "    print('Values in ACT only: ')\n",
    "    for val_a in act_vals:\n",
    "        if (val_a not in sat_vals):\n",
    "            print(val_a)\n",
    "            \n",
    "    print('----------------------------')\n",
    "        \n",
    "    print('Values in SAT only: ')\n",
    "    for val_s in sat_vals:\n",
    "        if (val_s not in act_vals):\n",
    "            print(val_s)"
   ]
  },
  {
   "cell_type": "code",
   "execution_count": 16,
   "metadata": {},
   "outputs": [
    {
     "name": "stdout",
     "output_type": "stream",
     "text": [
      "Values in ACT only: \n",
      "Washington, D.C.\n",
      "----------------------------\n",
      "Values in SAT only: \n",
      "District of Columbia\n"
     ]
    }
   ],
   "source": [
    "compare_values(act_18['State'], sat_18['State'])"
   ]
  },
  {
   "cell_type": "code",
   "execution_count": 17,
   "metadata": {},
   "outputs": [
    {
     "name": "stdout",
     "output_type": "stream",
     "text": [
      "Values in ACT only: \n",
      "----------------------------\n",
      "Values in SAT only: \n"
     ]
    }
   ],
   "source": [
    "compare_values(act_17['State'], sat_17['State'])"
   ]
  },
  {
   "cell_type": "markdown",
   "metadata": {},
   "source": [
    "We see that for 2018, the Washington D.C. has two different values. We need to reconcile this. We can use the replace function to convert \"Washington, D.C.\" -> \"District of Columbia\"."
   ]
  },
  {
   "cell_type": "code",
   "execution_count": 18,
   "metadata": {},
   "outputs": [],
   "source": [
    "act_18['State'].replace({'Washington, D.C.': 'District of Columbia'}, inplace=True)"
   ]
  },
  {
   "cell_type": "markdown",
   "metadata": {},
   "source": [
    "## Step 5.3: Cleanup Participation by Removing Percentage Signs"
   ]
  },
  {
   "cell_type": "code",
   "execution_count": 19,
   "metadata": {},
   "outputs": [],
   "source": [
    "def fix_participation(column):\n",
    "    return column.apply(lambda cells: cells.strip('%'))"
   ]
  },
  {
   "cell_type": "code",
   "execution_count": 20,
   "metadata": {},
   "outputs": [],
   "source": [
    "act_17['Participation'] = fix_participation(act_17['Participation'])\n",
    "act_18['Participation'] = fix_participation(act_18['Participation'])\n",
    "sat_17['Participation'] = fix_participation(sat_17['Participation'])\n",
    "sat_18['Participation'] = fix_participation(sat_18['Participation'])"
   ]
  },
  {
   "cell_type": "markdown",
   "metadata": {},
   "source": [
    "## Step 5.4: Convert Numbers to Numeric Types."
   ]
  },
  {
   "cell_type": "code",
   "execution_count": 21,
   "metadata": {},
   "outputs": [
    {
     "name": "stdout",
     "output_type": "stream",
     "text": [
      "\tData Types of SAT 17:\n",
      "State            object\n",
      "Participation    object\n",
      "Total             int64\n",
      "dtype: object\n",
      "\n",
      "\tData Types of SAT 18:\n",
      "State            object\n",
      "Participation    object\n",
      "Total             int64\n",
      "dtype: object\n",
      "\n",
      "\tData Types of ACT 17:\n",
      "State            object\n",
      "Participation    object\n",
      "Composite        object\n",
      "dtype: object\n",
      "\n",
      "\tData Types of ACT 18:\n",
      "State            object\n",
      "Participation    object\n",
      "Composite        object\n",
      "dtype: object\n",
      "\n"
     ]
    }
   ],
   "source": [
    "print(\"\\tData Types of SAT 17:\\n%s\\n\" % sat_17.dtypes)\n",
    "print(\"\\tData Types of SAT 18:\\n%s\\n\" % sat_18.dtypes)\n",
    "print(\"\\tData Types of ACT 17:\\n%s\\n\" % act_17.dtypes)\n",
    "print(\"\\tData Types of ACT 18:\\n%s\\n\" % act_18.dtypes)"
   ]
  },
  {
   "cell_type": "code",
   "execution_count": 22,
   "metadata": {},
   "outputs": [
    {
     "name": "stdout",
     "output_type": "stream",
     "text": [
      "After conversion:\n",
      "\n",
      "\n",
      "\tData Types of SAT 17:\n",
      "State             object\n",
      "Participation    float64\n",
      "Total            float64\n",
      "dtype: object\n",
      "\n",
      "\tData Types of SAT 18:\n",
      "State             object\n",
      "Participation    float64\n",
      "Total            float64\n",
      "dtype: object\n",
      "\n",
      "\tData Types of ACT 17:\n",
      "State             object\n",
      "Participation    float64\n",
      "Composite        float64\n",
      "dtype: object\n",
      "\n",
      "\tData Types of ACT 18:\n",
      "State             object\n",
      "Participation    float64\n",
      "Composite        float64\n",
      "dtype: object\n",
      "\n"
     ]
    }
   ],
   "source": [
    "def convert_to_float(df):\n",
    "    features = [col for col in df.columns if col != 'State']\n",
    "    df[features] = df[features].astype(float)\n",
    "    return df\n",
    "\n",
    "act_17 = convert_to_float(act_17)\n",
    "sat_17 = convert_to_float(sat_17)\n",
    "act_18 = convert_to_float(act_18)\n",
    "sat_18 = convert_to_float(sat_18)\n",
    "\n",
    "print(\"After conversion:\\n\\n\")\n",
    "print(\"\\tData Types of SAT 17:\\n%s\\n\" % sat_17.dtypes)\n",
    "print(\"\\tData Types of SAT 18:\\n%s\\n\" % sat_18.dtypes)\n",
    "print(\"\\tData Types of ACT 17:\\n%s\\n\" % act_17.dtypes)\n",
    "print(\"\\tData Types of ACT 18:\\n%s\\n\" % act_18.dtypes)"
   ]
  },
  {
   "cell_type": "markdown",
   "metadata": {},
   "source": [
    "What would have happened if we try to run the conversion right after loading the data?"
   ]
  },
  {
   "cell_type": "markdown",
   "metadata": {},
   "source": [
    "## Step 5.5: Check for Duplicate Data"
   ]
  },
  {
   "cell_type": "markdown",
   "metadata": {},
   "source": [
    "Recall that we have potentially duplicate rows. Let us find the shape of each data frame again:"
   ]
  },
  {
   "cell_type": "code",
   "execution_count": 23,
   "metadata": {},
   "outputs": [
    {
     "name": "stdout",
     "output_type": "stream",
     "text": [
      "SAT 2017 shape =  (51, 3)\n",
      "SAT 2018 shape =  (51, 3)\n",
      "ACT 2017 shape =  (51, 3)\n",
      "ACT 2018 shape =  (52, 3)\n"
     ]
    }
   ],
   "source": [
    "print(\"SAT 2017 shape = \", sat_17.shape)\n",
    "print(\"SAT 2018 shape = \", sat_18.shape)\n",
    "print(\"ACT 2017 shape = \", act_17.shape)\n",
    "print(\"ACT 2018 shape = \", act_18.shape)"
   ]
  },
  {
   "cell_type": "markdown",
   "metadata": {},
   "source": [
    "We need to investigate ACT 2018 data frame. Let us see if we have any duplicate state names. Recall that value_counts returns a Pandas Series and we just need to select a subset whose count is not 1."
   ]
  },
  {
   "cell_type": "code",
   "execution_count": 24,
   "metadata": {},
   "outputs": [
    {
     "data": {
      "text/plain": [
       "Maine    2\n",
       "Name: State, dtype: int64"
      ]
     },
     "execution_count": 24,
     "metadata": {},
     "output_type": "execute_result"
    }
   ],
   "source": [
    "counts = act_18['State'].value_counts()\n",
    "counts[counts != 1]"
   ]
  },
  {
   "cell_type": "code",
   "execution_count": 25,
   "metadata": {},
   "outputs": [
    {
     "data": {
      "text/html": [
       "<div>\n",
       "<style scoped>\n",
       "    .dataframe tbody tr th:only-of-type {\n",
       "        vertical-align: middle;\n",
       "    }\n",
       "\n",
       "    .dataframe tbody tr th {\n",
       "        vertical-align: top;\n",
       "    }\n",
       "\n",
       "    .dataframe thead th {\n",
       "        text-align: right;\n",
       "    }\n",
       "</style>\n",
       "<table border=\"1\" class=\"dataframe\">\n",
       "  <thead>\n",
       "    <tr style=\"text-align: right;\">\n",
       "      <th></th>\n",
       "      <th>State</th>\n",
       "      <th>Participation</th>\n",
       "      <th>Composite</th>\n",
       "    </tr>\n",
       "  </thead>\n",
       "  <tbody>\n",
       "    <tr>\n",
       "      <th>0</th>\n",
       "      <td>Maine</td>\n",
       "      <td>7.0</td>\n",
       "      <td>24.0</td>\n",
       "    </tr>\n",
       "    <tr>\n",
       "      <th>52</th>\n",
       "      <td>Maine</td>\n",
       "      <td>7.0</td>\n",
       "      <td>24.0</td>\n",
       "    </tr>\n",
       "  </tbody>\n",
       "</table>\n",
       "</div>"
      ],
      "text/plain": [
       "    State  Participation  Composite\n",
       "0   Maine            7.0       24.0\n",
       "52  Maine            7.0       24.0"
      ]
     },
     "execution_count": 25,
     "metadata": {},
     "output_type": "execute_result"
    }
   ],
   "source": [
    "act_18[act_18['State'] == 'Maine']"
   ]
  },
  {
   "cell_type": "markdown",
   "metadata": {},
   "source": [
    "Since we found the duplicate, let us delete one of the rows."
   ]
  },
  {
   "cell_type": "code",
   "execution_count": 26,
   "metadata": {},
   "outputs": [
    {
     "name": "stdout",
     "output_type": "stream",
     "text": [
      "SAT 2017 shape =  (51, 3)\n",
      "SAT 2018 shape =  (51, 3)\n",
      "ACT 2017 shape =  (51, 3)\n",
      "ACT 2018 shape =  (51, 3)\n"
     ]
    }
   ],
   "source": [
    "act_18.drop(act_18.index[0], inplace=True)\n",
    "print(\"SAT 2017 shape = \", sat_17.shape)\n",
    "print(\"SAT 2018 shape = \", sat_18.shape)\n",
    "print(\"ACT 2017 shape = \", act_17.shape)\n",
    "print(\"ACT 2018 shape = \", act_18.shape)"
   ]
  },
  {
   "cell_type": "markdown",
   "metadata": {},
   "source": [
    "## Step 5.6: Check for Missing Data"
   ]
  },
  {
   "cell_type": "code",
   "execution_count": 27,
   "metadata": {},
   "outputs": [
    {
     "name": "stdout",
     "output_type": "stream",
     "text": [
      "\tSAT 2017 null count:\n",
      "State            0\n",
      "Participation    0\n",
      "Total            0\n",
      "dtype: int64\n",
      "\n",
      "\tSAT 2018 null count:\n",
      "State            0\n",
      "Participation    0\n",
      "Total            0\n",
      "dtype: int64\n",
      "\n",
      "\tACT 2017 null count:\n",
      "State            0\n",
      "Participation    0\n",
      "Composite        0\n",
      "dtype: int64\n",
      "\n",
      "\tACT 2018 null count:\n",
      "State            0\n",
      "Participation    0\n",
      "Composite        0\n",
      "dtype: int64\n",
      "\n"
     ]
    }
   ],
   "source": [
    "print(\"\\tSAT 2017 null count:\\n%s\\n\" % sat_17.isnull().sum())\n",
    "print(\"\\tSAT 2018 null count:\\n%s\\n\" % sat_18.isnull().sum())\n",
    "print(\"\\tACT 2017 null count:\\n%s\\n\" % act_17.isnull().sum())\n",
    "print(\"\\tACT 2018 null count:\\n%s\\n\" % act_18.isnull().sum())"
   ]
  },
  {
   "cell_type": "markdown",
   "metadata": {},
   "source": [
    "## Step 5.7: Sort DataFrames by State"
   ]
  },
  {
   "cell_type": "code",
   "execution_count": 28,
   "metadata": {},
   "outputs": [],
   "source": [
    "sat_17.sort_values(by=['State'], inplace=True)\n",
    "sat_17 = sat_17.reset_index(drop=True)\n",
    "sat_18.sort_values(by=['State'], inplace=True)\n",
    "sat_18 = sat_18.reset_index(drop=True)\n",
    "act_17.sort_values(by=['State'], inplace=True)\n",
    "act_17 = act_17.reset_index(drop=True)\n",
    "act_18.sort_values(by=['State'], inplace=True)\n",
    "act_18 = act_18.reset_index(drop=True)"
   ]
  },
  {
   "cell_type": "markdown",
   "metadata": {},
   "source": [
    "## Step 5.8: Merge Necessary Data Frames for Analysis"
   ]
  },
  {
   "cell_type": "code",
   "execution_count": 29,
   "metadata": {},
   "outputs": [],
   "source": [
    "# rename the 2017 SAT columns\n",
    "sat_17.rename(columns={\n",
    "    'State':'state',\n",
    "    'Participation':'sat_participation_17',\n",
    "    'Total':'sat_score_17'\n",
    "    }, inplace=True)\n",
    "\n",
    "# rename the 2018 SAT columns\n",
    "sat_18.rename(columns={\n",
    "    'State':'state',\n",
    "    'Participation':'sat_participation_18',\n",
    "    'Total':'sat_score_18'\n",
    "    }, inplace=True)\n",
    "\n",
    "# rename the 2017 ACT columns\n",
    "act_17.rename(columns={\n",
    "    'State':'state',\n",
    "    'Participation':'act_participation_17',\n",
    "    'Composite':'act_composite_17'\n",
    "}, inplace=True)\n",
    "\n",
    "# rename the 2018 ACT columns\n",
    "act_18.rename(columns={\n",
    "    'State':'state',\n",
    "    'Participation':'act_participation_18',\n",
    "    'Composite':'act_composite_18'\n",
    "}, inplace=True)"
   ]
  },
  {
   "cell_type": "code",
   "execution_count": 31,
   "metadata": {},
   "outputs": [
    {
     "data": {
      "text/html": [
       "<div>\n",
       "<style scoped>\n",
       "    .dataframe tbody tr th:only-of-type {\n",
       "        vertical-align: middle;\n",
       "    }\n",
       "\n",
       "    .dataframe tbody tr th {\n",
       "        vertical-align: top;\n",
       "    }\n",
       "\n",
       "    .dataframe thead th {\n",
       "        text-align: right;\n",
       "    }\n",
       "</style>\n",
       "<table border=\"1\" class=\"dataframe\">\n",
       "  <thead>\n",
       "    <tr style=\"text-align: right;\">\n",
       "      <th></th>\n",
       "      <th>state</th>\n",
       "      <th>sat_participation_17</th>\n",
       "      <th>sat_score_17</th>\n",
       "      <th>act_participation_17</th>\n",
       "      <th>act_composite_17</th>\n",
       "    </tr>\n",
       "  </thead>\n",
       "  <tbody>\n",
       "    <tr>\n",
       "      <th>0</th>\n",
       "      <td>Alabama</td>\n",
       "      <td>5.0</td>\n",
       "      <td>1165.0</td>\n",
       "      <td>100.0</td>\n",
       "      <td>19.2</td>\n",
       "    </tr>\n",
       "    <tr>\n",
       "      <th>1</th>\n",
       "      <td>Alaska</td>\n",
       "      <td>38.0</td>\n",
       "      <td>1080.0</td>\n",
       "      <td>65.0</td>\n",
       "      <td>19.8</td>\n",
       "    </tr>\n",
       "    <tr>\n",
       "      <th>2</th>\n",
       "      <td>Arizona</td>\n",
       "      <td>30.0</td>\n",
       "      <td>1116.0</td>\n",
       "      <td>62.0</td>\n",
       "      <td>19.7</td>\n",
       "    </tr>\n",
       "    <tr>\n",
       "      <th>3</th>\n",
       "      <td>Arkansas</td>\n",
       "      <td>3.0</td>\n",
       "      <td>1208.0</td>\n",
       "      <td>100.0</td>\n",
       "      <td>19.4</td>\n",
       "    </tr>\n",
       "    <tr>\n",
       "      <th>4</th>\n",
       "      <td>California</td>\n",
       "      <td>53.0</td>\n",
       "      <td>1055.0</td>\n",
       "      <td>31.0</td>\n",
       "      <td>22.8</td>\n",
       "    </tr>\n",
       "  </tbody>\n",
       "</table>\n",
       "</div>"
      ],
      "text/plain": [
       "        state  sat_participation_17  sat_score_17  act_participation_17  \\\n",
       "0     Alabama                   5.0        1165.0                 100.0   \n",
       "1      Alaska                  38.0        1080.0                  65.0   \n",
       "2     Arizona                  30.0        1116.0                  62.0   \n",
       "3    Arkansas                   3.0        1208.0                 100.0   \n",
       "4  California                  53.0        1055.0                  31.0   \n",
       "\n",
       "   act_composite_17  \n",
       "0              19.2  \n",
       "1              19.8  \n",
       "2              19.7  \n",
       "3              19.4  \n",
       "4              22.8  "
      ]
     },
     "execution_count": 31,
     "metadata": {},
     "output_type": "execute_result"
    }
   ],
   "source": [
    "sat_act_17 = pd.merge(sat_17, act_17, on = 'state', how='outer')\n",
    "sat_act_17.name = 'SAT/ACT 2017'\n",
    "sat_act_17.head()"
   ]
  },
  {
   "cell_type": "code",
   "execution_count": 32,
   "metadata": {},
   "outputs": [
    {
     "data": {
      "text/html": [
       "<div>\n",
       "<style scoped>\n",
       "    .dataframe tbody tr th:only-of-type {\n",
       "        vertical-align: middle;\n",
       "    }\n",
       "\n",
       "    .dataframe tbody tr th {\n",
       "        vertical-align: top;\n",
       "    }\n",
       "\n",
       "    .dataframe thead th {\n",
       "        text-align: right;\n",
       "    }\n",
       "</style>\n",
       "<table border=\"1\" class=\"dataframe\">\n",
       "  <thead>\n",
       "    <tr style=\"text-align: right;\">\n",
       "      <th></th>\n",
       "      <th>state</th>\n",
       "      <th>sat_participation_18</th>\n",
       "      <th>sat_score_18</th>\n",
       "      <th>act_participation_18</th>\n",
       "      <th>act_composite_18</th>\n",
       "    </tr>\n",
       "  </thead>\n",
       "  <tbody>\n",
       "    <tr>\n",
       "      <th>0</th>\n",
       "      <td>Alabama</td>\n",
       "      <td>6.0</td>\n",
       "      <td>1166.0</td>\n",
       "      <td>100.0</td>\n",
       "      <td>19.1</td>\n",
       "    </tr>\n",
       "    <tr>\n",
       "      <th>1</th>\n",
       "      <td>Alaska</td>\n",
       "      <td>43.0</td>\n",
       "      <td>1106.0</td>\n",
       "      <td>33.0</td>\n",
       "      <td>20.8</td>\n",
       "    </tr>\n",
       "    <tr>\n",
       "      <th>2</th>\n",
       "      <td>Arizona</td>\n",
       "      <td>29.0</td>\n",
       "      <td>1149.0</td>\n",
       "      <td>66.0</td>\n",
       "      <td>19.2</td>\n",
       "    </tr>\n",
       "    <tr>\n",
       "      <th>3</th>\n",
       "      <td>Arkansas</td>\n",
       "      <td>5.0</td>\n",
       "      <td>1169.0</td>\n",
       "      <td>100.0</td>\n",
       "      <td>19.4</td>\n",
       "    </tr>\n",
       "    <tr>\n",
       "      <th>4</th>\n",
       "      <td>California</td>\n",
       "      <td>60.0</td>\n",
       "      <td>1076.0</td>\n",
       "      <td>27.0</td>\n",
       "      <td>22.7</td>\n",
       "    </tr>\n",
       "  </tbody>\n",
       "</table>\n",
       "</div>"
      ],
      "text/plain": [
       "        state  sat_participation_18  sat_score_18  act_participation_18  \\\n",
       "0     Alabama                   6.0        1166.0                 100.0   \n",
       "1      Alaska                  43.0        1106.0                  33.0   \n",
       "2     Arizona                  29.0        1149.0                  66.0   \n",
       "3    Arkansas                   5.0        1169.0                 100.0   \n",
       "4  California                  60.0        1076.0                  27.0   \n",
       "\n",
       "   act_composite_18  \n",
       "0              19.1  \n",
       "1              20.8  \n",
       "2              19.2  \n",
       "3              19.4  \n",
       "4              22.7  "
      ]
     },
     "execution_count": 32,
     "metadata": {},
     "output_type": "execute_result"
    }
   ],
   "source": [
    "sat_act_18 = pd.merge(sat_18, act_18, on = 'state', how='outer')\n",
    "sat_act_18 = sat_act_18.reset_index(drop=True)\n",
    "sat_act_18.head()"
   ]
  },
  {
   "cell_type": "code",
   "execution_count": 34,
   "metadata": {},
   "outputs": [
    {
     "data": {
      "text/html": [
       "<div>\n",
       "<style scoped>\n",
       "    .dataframe tbody tr th:only-of-type {\n",
       "        vertical-align: middle;\n",
       "    }\n",
       "\n",
       "    .dataframe tbody tr th {\n",
       "        vertical-align: top;\n",
       "    }\n",
       "\n",
       "    .dataframe thead th {\n",
       "        text-align: right;\n",
       "    }\n",
       "</style>\n",
       "<table border=\"1\" class=\"dataframe\">\n",
       "  <thead>\n",
       "    <tr style=\"text-align: right;\">\n",
       "      <th></th>\n",
       "      <th>state</th>\n",
       "      <th>sat_participation_17</th>\n",
       "      <th>sat_score_17</th>\n",
       "      <th>act_participation_17</th>\n",
       "      <th>act_composite_17</th>\n",
       "      <th>sat_participation_18</th>\n",
       "      <th>sat_score_18</th>\n",
       "      <th>act_participation_18</th>\n",
       "      <th>act_composite_18</th>\n",
       "    </tr>\n",
       "  </thead>\n",
       "  <tbody>\n",
       "    <tr>\n",
       "      <th>0</th>\n",
       "      <td>Alabama</td>\n",
       "      <td>5.0</td>\n",
       "      <td>1165.0</td>\n",
       "      <td>100.0</td>\n",
       "      <td>19.2</td>\n",
       "      <td>6.0</td>\n",
       "      <td>1166.0</td>\n",
       "      <td>100.0</td>\n",
       "      <td>19.1</td>\n",
       "    </tr>\n",
       "    <tr>\n",
       "      <th>1</th>\n",
       "      <td>Alaska</td>\n",
       "      <td>38.0</td>\n",
       "      <td>1080.0</td>\n",
       "      <td>65.0</td>\n",
       "      <td>19.8</td>\n",
       "      <td>43.0</td>\n",
       "      <td>1106.0</td>\n",
       "      <td>33.0</td>\n",
       "      <td>20.8</td>\n",
       "    </tr>\n",
       "    <tr>\n",
       "      <th>2</th>\n",
       "      <td>Arizona</td>\n",
       "      <td>30.0</td>\n",
       "      <td>1116.0</td>\n",
       "      <td>62.0</td>\n",
       "      <td>19.7</td>\n",
       "      <td>29.0</td>\n",
       "      <td>1149.0</td>\n",
       "      <td>66.0</td>\n",
       "      <td>19.2</td>\n",
       "    </tr>\n",
       "    <tr>\n",
       "      <th>3</th>\n",
       "      <td>Arkansas</td>\n",
       "      <td>3.0</td>\n",
       "      <td>1208.0</td>\n",
       "      <td>100.0</td>\n",
       "      <td>19.4</td>\n",
       "      <td>5.0</td>\n",
       "      <td>1169.0</td>\n",
       "      <td>100.0</td>\n",
       "      <td>19.4</td>\n",
       "    </tr>\n",
       "    <tr>\n",
       "      <th>4</th>\n",
       "      <td>California</td>\n",
       "      <td>53.0</td>\n",
       "      <td>1055.0</td>\n",
       "      <td>31.0</td>\n",
       "      <td>22.8</td>\n",
       "      <td>60.0</td>\n",
       "      <td>1076.0</td>\n",
       "      <td>27.0</td>\n",
       "      <td>22.7</td>\n",
       "    </tr>\n",
       "  </tbody>\n",
       "</table>\n",
       "</div>"
      ],
      "text/plain": [
       "        state  sat_participation_17  sat_score_17  act_participation_17  \\\n",
       "0     Alabama                   5.0        1165.0                 100.0   \n",
       "1      Alaska                  38.0        1080.0                  65.0   \n",
       "2     Arizona                  30.0        1116.0                  62.0   \n",
       "3    Arkansas                   3.0        1208.0                 100.0   \n",
       "4  California                  53.0        1055.0                  31.0   \n",
       "\n",
       "   act_composite_17  sat_participation_18  sat_score_18  act_participation_18  \\\n",
       "0              19.2                   6.0        1166.0                 100.0   \n",
       "1              19.8                  43.0        1106.0                  33.0   \n",
       "2              19.7                  29.0        1149.0                  66.0   \n",
       "3              19.4                   5.0        1169.0                 100.0   \n",
       "4              22.8                  60.0        1076.0                  27.0   \n",
       "\n",
       "   act_composite_18  \n",
       "0              19.1  \n",
       "1              20.8  \n",
       "2              19.2  \n",
       "3              19.4  \n",
       "4              22.7  "
      ]
     },
     "execution_count": 34,
     "metadata": {},
     "output_type": "execute_result"
    }
   ],
   "source": [
    "df = pd.merge(sat_act_17, sat_act_18, on = 'state', how='outer')\n",
    "df.head()"
   ]
  },
  {
   "cell_type": "markdown",
   "metadata": {},
   "source": [
    "# Step 6: Analysis"
   ]
  },
  {
   "cell_type": "markdown",
   "metadata": {},
   "source": [
    "Basic statistics on the data frame can be performed by calling \"describe\" on it."
   ]
  },
  {
   "cell_type": "code",
   "execution_count": 35,
   "metadata": {},
   "outputs": [
    {
     "data": {
      "text/html": [
       "<div>\n",
       "<style scoped>\n",
       "    .dataframe tbody tr th:only-of-type {\n",
       "        vertical-align: middle;\n",
       "    }\n",
       "\n",
       "    .dataframe tbody tr th {\n",
       "        vertical-align: top;\n",
       "    }\n",
       "\n",
       "    .dataframe thead th {\n",
       "        text-align: right;\n",
       "    }\n",
       "</style>\n",
       "<table border=\"1\" class=\"dataframe\">\n",
       "  <thead>\n",
       "    <tr style=\"text-align: right;\">\n",
       "      <th></th>\n",
       "      <th>count</th>\n",
       "      <th>mean</th>\n",
       "      <th>std</th>\n",
       "      <th>min</th>\n",
       "      <th>25%</th>\n",
       "      <th>50%</th>\n",
       "      <th>75%</th>\n",
       "      <th>max</th>\n",
       "    </tr>\n",
       "  </thead>\n",
       "  <tbody>\n",
       "    <tr>\n",
       "      <th>sat_participation_17</th>\n",
       "      <td>51.0</td>\n",
       "      <td>39.803922</td>\n",
       "      <td>35.276632</td>\n",
       "      <td>2.0</td>\n",
       "      <td>4.00</td>\n",
       "      <td>38.0</td>\n",
       "      <td>66.00</td>\n",
       "      <td>100.0</td>\n",
       "    </tr>\n",
       "    <tr>\n",
       "      <th>sat_score_17</th>\n",
       "      <td>51.0</td>\n",
       "      <td>1126.098039</td>\n",
       "      <td>92.494812</td>\n",
       "      <td>950.0</td>\n",
       "      <td>1055.50</td>\n",
       "      <td>1107.0</td>\n",
       "      <td>1212.00</td>\n",
       "      <td>1295.0</td>\n",
       "    </tr>\n",
       "    <tr>\n",
       "      <th>act_participation_17</th>\n",
       "      <td>51.0</td>\n",
       "      <td>65.254902</td>\n",
       "      <td>32.140842</td>\n",
       "      <td>8.0</td>\n",
       "      <td>31.00</td>\n",
       "      <td>69.0</td>\n",
       "      <td>100.00</td>\n",
       "      <td>100.0</td>\n",
       "    </tr>\n",
       "    <tr>\n",
       "      <th>act_composite_17</th>\n",
       "      <td>51.0</td>\n",
       "      <td>21.519608</td>\n",
       "      <td>2.020695</td>\n",
       "      <td>17.8</td>\n",
       "      <td>19.80</td>\n",
       "      <td>21.4</td>\n",
       "      <td>23.60</td>\n",
       "      <td>25.5</td>\n",
       "    </tr>\n",
       "    <tr>\n",
       "      <th>sat_participation_18</th>\n",
       "      <td>51.0</td>\n",
       "      <td>45.745098</td>\n",
       "      <td>37.314256</td>\n",
       "      <td>2.0</td>\n",
       "      <td>4.50</td>\n",
       "      <td>52.0</td>\n",
       "      <td>77.50</td>\n",
       "      <td>100.0</td>\n",
       "    </tr>\n",
       "    <tr>\n",
       "      <th>sat_score_18</th>\n",
       "      <td>51.0</td>\n",
       "      <td>1120.019608</td>\n",
       "      <td>94.155083</td>\n",
       "      <td>977.0</td>\n",
       "      <td>1057.50</td>\n",
       "      <td>1098.0</td>\n",
       "      <td>1204.00</td>\n",
       "      <td>1298.0</td>\n",
       "    </tr>\n",
       "    <tr>\n",
       "      <th>act_participation_18</th>\n",
       "      <td>51.0</td>\n",
       "      <td>61.725490</td>\n",
       "      <td>34.037085</td>\n",
       "      <td>7.0</td>\n",
       "      <td>28.50</td>\n",
       "      <td>66.0</td>\n",
       "      <td>100.00</td>\n",
       "      <td>100.0</td>\n",
       "    </tr>\n",
       "    <tr>\n",
       "      <th>act_composite_18</th>\n",
       "      <td>51.0</td>\n",
       "      <td>21.496078</td>\n",
       "      <td>2.111583</td>\n",
       "      <td>17.7</td>\n",
       "      <td>19.95</td>\n",
       "      <td>21.3</td>\n",
       "      <td>23.65</td>\n",
       "      <td>25.6</td>\n",
       "    </tr>\n",
       "  </tbody>\n",
       "</table>\n",
       "</div>"
      ],
      "text/plain": [
       "                      count         mean        std    min      25%     50%  \\\n",
       "sat_participation_17   51.0    39.803922  35.276632    2.0     4.00    38.0   \n",
       "sat_score_17           51.0  1126.098039  92.494812  950.0  1055.50  1107.0   \n",
       "act_participation_17   51.0    65.254902  32.140842    8.0    31.00    69.0   \n",
       "act_composite_17       51.0    21.519608   2.020695   17.8    19.80    21.4   \n",
       "sat_participation_18   51.0    45.745098  37.314256    2.0     4.50    52.0   \n",
       "sat_score_18           51.0  1120.019608  94.155083  977.0  1057.50  1098.0   \n",
       "act_participation_18   51.0    61.725490  34.037085    7.0    28.50    66.0   \n",
       "act_composite_18       51.0    21.496078   2.111583   17.7    19.95    21.3   \n",
       "\n",
       "                          75%     max  \n",
       "sat_participation_17    66.00   100.0  \n",
       "sat_score_17          1212.00  1295.0  \n",
       "act_participation_17   100.00   100.0  \n",
       "act_composite_17        23.60    25.5  \n",
       "sat_participation_18    77.50   100.0  \n",
       "sat_score_18          1204.00  1298.0  \n",
       "act_participation_18   100.00   100.0  \n",
       "act_composite_18        23.65    25.6  "
      ]
     },
     "execution_count": 35,
     "metadata": {},
     "output_type": "execute_result"
    }
   ],
   "source": [
    "df.describe().T"
   ]
  },
  {
   "cell_type": "markdown",
   "metadata": {},
   "source": [
    "## Step 6.1: Correlation Analysis"
   ]
  },
  {
   "cell_type": "code",
   "execution_count": 37,
   "metadata": {},
   "outputs": [
    {
     "data": {
      "image/png": "[encoded data removed]",
      "text/plain": [
       "<Figure size 1080x720 with 2 Axes>"
      ]
     },
     "metadata": {
      "needs_background": "light"
     },
     "output_type": "display_data"
    }
   ],
   "source": [
    "plt.figure(figsize = (15,10))\n",
    "plt.title('SAT and ACT Correlation Heatmap', fontsize = 16);\n",
    "\n",
    "# Mask to remove redundancy from the heatmap.\n",
    "mask = np.zeros_like(df.corr(), dtype=bool)\n",
    "mask[np.triu_indices_from(mask)] = True\n",
    "sns.heatmap(df.corr(), mask=mask, vmin=-1, vmax = 1, cmap = \"coolwarm\",  annot = True);"
   ]
  },
  {
   "cell_type": "markdown",
   "metadata": {},
   "source": [
    "Let us just focus on the participation rates."
   ]
  },
  {
   "cell_type": "code",
   "execution_count": 38,
   "metadata": {},
   "outputs": [
    {
     "data": {
      "image/png": "[encoded data removed]",
      "text/plain": [
       "<Figure size 576x432 with 2 Axes>"
      ]
     },
     "metadata": {
      "needs_background": "light"
     },
     "output_type": "display_data"
    }
   ],
   "source": [
    "plt.figure(figsize = (8,6))\n",
    "features = ['sat_participation_17', 'sat_participation_18', 'act_participation_17', 'act_participation_18']\n",
    "plt.title('SAT and ACT Participation Rate Correlations', fontsize = 16);\n",
    "mask = np.zeros_like(df[features].corr(), dtype=bool)\n",
    "mask[np.triu_indices_from(mask)] = True\n",
    "sns.heatmap(df[features].corr(), mask=mask, vmin=-1, vmax = 1, cmap = \"coolwarm\",  annot = True);"
   ]
  },
  {
   "cell_type": "markdown",
   "metadata": {},
   "source": [
    "Now just the scores."
   ]
  },
  {
   "cell_type": "code",
   "execution_count": 39,
   "metadata": {},
   "outputs": [
    {
     "data": {
      "image/png": "[encoded data removed]",
      "text/plain": [
       "<Figure size 576x432 with 2 Axes>"
      ]
     },
     "metadata": {
      "needs_background": "light"
     },
     "output_type": "display_data"
    }
   ],
   "source": [
    "plt.figure(figsize = (8,6))\n",
    "features = ['sat_score_17', 'sat_score_18', 'act_composite_17', 'act_composite_18']\n",
    "plt.title('Average SAT Score vs Average ACT Composite Score Correlations', fontsize = 16);\n",
    "mask = np.zeros_like(df[features].corr(), dtype=bool)\n",
    "mask[np.triu_indices_from(mask)] = True\n",
    "sns.heatmap(df[features].corr(), mask=mask, vmin=-1, vmax = 1, cmap = \"coolwarm\",  annot = True);"
   ]
  },
  {
   "cell_type": "markdown",
   "metadata": {},
   "source": [
    "## Step 6.2: Box Plots"
   ]
  },
  {
   "cell_type": "code",
   "execution_count": 41,
   "metadata": {},
   "outputs": [
    {
     "name": "stderr",
     "output_type": "stream",
     "text": [
      "C:\\ProgramData\\Anaconda3\\lib\\site-packages\\seaborn\\_decorators.py:36: FutureWarning: Pass the following variable as a keyword arg: x. From version 0.12, the only valid positional argument will be `data`, and passing other arguments without an explicit keyword will result in an error or misinterpretation.\n",
      "  warnings.warn(\n",
      "C:\\ProgramData\\Anaconda3\\lib\\site-packages\\seaborn\\_decorators.py:36: FutureWarning: Pass the following variable as a keyword arg: x. From version 0.12, the only valid positional argument will be `data`, and passing other arguments without an explicit keyword will result in an error or misinterpretation.\n",
      "  warnings.warn(\n",
      "C:\\ProgramData\\Anaconda3\\lib\\site-packages\\seaborn\\_decorators.py:36: FutureWarning: Pass the following variable as a keyword arg: x. From version 0.12, the only valid positional argument will be `data`, and passing other arguments without an explicit keyword will result in an error or misinterpretation.\n",
      "  warnings.warn(\n",
      "C:\\ProgramData\\Anaconda3\\lib\\site-packages\\seaborn\\_decorators.py:36: FutureWarning: Pass the following variable as a keyword arg: x. From version 0.12, the only valid positional argument will be `data`, and passing other arguments without an explicit keyword will result in an error or misinterpretation.\n",
      "  warnings.warn(\n"
     ]
    },
    {
     "data": {
      "image/png": "[encoded data removed]",
      "text/plain": [
       "<Figure size 864x576 with 4 Axes>"
      ]
     },
     "metadata": {
      "needs_background": "light"
     },
     "output_type": "display_data"
    }
   ],
   "source": [
    "# Boxplots comparing the average participation rates of the 2017 ACT, 2018 ACT, 2017 SAT, and 2018 SAT.\n",
    "fig, ax = plt.subplots(nrows = 2, ncols = 2, figsize = (12,8))\n",
    "\n",
    "sns.boxplot(df[\"sat_participation_17\"], ax = ax[0,0], orient=\"h\", color = 'orange').set(\n",
    "    xlabel='', title='SAT Participation Rates 2017');\n",
    "\n",
    "sns.boxplot(df[\"sat_participation_18\"], ax = ax[0,1], orient=\"h\", color = 'orange').set(\n",
    "    xlabel='', title='SAT Participation Rates 2018');\n",
    "\n",
    "sns.boxplot(df[\"act_participation_17\"], ax = ax[1,0], orient=\"h\", color= 'pink').set(\n",
    "    xlabel='', title='ACT Participation Rates 2017');\n",
    "\n",
    "sns.boxplot(df[\"act_participation_18\"], ax = ax[1,1], orient=\"h\", color = 'pink').set(\n",
    "    xlabel='', title='ACT Participation Rates 2018');\n",
    "\n",
    "plt.tight_layout()"
   ]
  },
  {
   "cell_type": "code",
   "execution_count": null,
   "metadata": {},
   "outputs": [],
   "source": [
    "## Step 6.3: Histograms"
   ]
  },
  {
   "cell_type": "code",
   "execution_count": 44,
   "metadata": {},
   "outputs": [
    {
     "data": {
      "image/png": "[encoded data removed]",
      "text/plain": [
       "<Figure size 1080x576 with 2 Axes>"
      ]
     },
     "metadata": {
      "needs_background": "light"
     },
     "output_type": "display_data"
    }
   ],
   "source": [
    "plt.figure(figsize = (15,8))\n",
    "\n",
    "# SAT Participation Rates 2017 histogram\n",
    "plt.subplot(1,2,1) \n",
    "sns.histplot(df.sat_participation_17, kde=False,bins=8);\n",
    "\n",
    "plt.title('SAT Participation Rates 2017 Distribution', fontsize=16)\n",
    "plt.xlabel('Participation Rate', fontsize=14)\n",
    "plt.ylabel('Frequency', fontsize=14)\n",
    "\n",
    "plt.xlim(0, 101)\n",
    "plt.xticks(fontsize=12)\n",
    "plt.yticks(fontsize=12)\n",
    "\n",
    "# ACT Participation Rates 2017 histogram\n",
    "plt.subplot(1,2,2) \n",
    "sns.histplot(df.act_participation_17, kde=False, bins=8);\n",
    "\n",
    "plt.title('ACT Participation Rates 2017 Distribution', fontsize=16)\n",
    "plt.xlabel('Participation Rate', fontsize=14)\n",
    "plt.ylabel('Frequency', fontsize=14)\n",
    "\n",
    "plt.xlim(0, 101)\n",
    "plt.xticks(fontsize=12)\n",
    "plt.yticks(fontsize=12)\n",
    "\n",
    "plt.tight_layout()"
   ]
  },
  {
   "cell_type": "code",
   "execution_count": 45,
   "metadata": {},
   "outputs": [
    {
     "data": {
      "image/png": "[encoded data removed]",
      "text/plain": [
       "<Figure size 1080x576 with 2 Axes>"
      ]
     },
     "metadata": {
      "needs_background": "light"
     },
     "output_type": "display_data"
    }
   ],
   "source": [
    "plt.figure(figsize = (15,8))\n",
    "\n",
    "# SAT Participation Rates 2018 histogram\n",
    "plt.subplot(1,2,1) \n",
    "sns.histplot(df.sat_participation_18, kde=False, bins=8);\n",
    "\n",
    "plt.title('SAT Participation Rates 2018 Distribution', fontsize=16);\n",
    "plt.xlabel('Participation Rate', fontsize=14)\n",
    "plt.ylabel('Frequency', fontsize=14)\n",
    "plt.xlim(0, 101)\n",
    "plt.xticks(fontsize=12)\n",
    "plt.yticks(fontsize=12)\n",
    "\n",
    "# ACT Participation Rates 2018 histogram\n",
    "plt.subplot(1,2,2) \n",
    "sns.histplot(df.act_participation_18,kde=False,bins=8);\n",
    "plt.title('ACT Participation Rates 2018 Distribution', fontsize=16);\n",
    "plt.xlabel('Participation Rate', fontsize=14)\n",
    "plt.ylabel('Frequency', fontsize=14)\n",
    "plt.xlim(0, 101)\n",
    "plt.xticks(fontsize=12)\n",
    "plt.yticks(fontsize=12)\n",
    "plt.tight_layout()"
   ]
  }
 ],
 "metadata": {
  "kernelspec": {
   "display_name": "Python 3",
   "language": "python",
   "name": "python3"
  },
  "language_info": {
   "codemirror_mode": {
    "name": "ipython",
    "version": 3
   },
   "file_extension": ".py",
   "mimetype": "text/x-python",
   "name": "python",
   "nbconvert_exporter": "python",
   "pygments_lexer": "ipython3",
   "version": "3.8.8"
  }
 },
 "nbformat": 4,
 "nbformat_minor": 4
}
