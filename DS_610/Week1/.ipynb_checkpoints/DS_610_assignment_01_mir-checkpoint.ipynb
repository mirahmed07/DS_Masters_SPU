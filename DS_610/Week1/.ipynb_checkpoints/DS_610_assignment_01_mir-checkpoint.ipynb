{
 "cells": [
  {
   "cell_type": "markdown",
   "metadata": {},
   "source": [
    "# 1. Write a Python program to swap two variables with and without using the extra/third variable."
   ]
  },
  {
   "cell_type": "code",
   "execution_count": 1,
   "metadata": {},
   "outputs": [
    {
     "name": "stdout",
     "output_type": "stream",
     "text": [
      "first_num = 20\n",
      "second_num = 10\n"
     ]
    }
   ],
   "source": [
    "first_num = 10\n",
    "second_num = 20\n",
    "first_num, second_num = second_num, first_num\n",
    "print(f'first_num = {first_num}')\n",
    "print(f'second_num = {second_num}')"
   ]
  },
  {
   "cell_type": "markdown",
   "metadata": {},
   "source": [
    "# 2. List the basic data types in Python and classify them as mutable or/and ordered. Also, specify the corresponding class."
   ]
  },
  {
   "cell_type": "markdown",
   "metadata": {},
   "source": [
    "| Data Type | Ordered | Mutable | Class |\n",
    "| --- | --- | --- | --- |\n",
    "| String | ✅ | ❌ | str |\n",
    "| Integer | ❌ | ❌ | int |\n",
    "| Float | ❌ | ❌ | float |\n",
    "| Dictionary | ✅ | ✅ | dict |\n",
    "| List | ✅ | ✅ | list |\n",
    "| Set | ❌ | ✅ | set |\n",
    "| Tuple | ✅ | ❌ | tuple |\n",
    "| Boolean | ❌ | ❌ | bool |"
   ]
  },
  {
   "cell_type": "markdown",
   "metadata": {},
   "source": [
    "# 3. Write a Python program to count the number of times the word ‘because’ occurs in a string. Consider the comparison as case-insensitive.\n",
    "Input : 'You cannot end a sentence with because because because is a conjunction.' \\\n",
    "count_because(input) \\\n",
    "Output : 3"
   ]
  },
  {
   "cell_type": "code",
   "execution_count": 2,
   "metadata": {},
   "outputs": [
    {
     "data": {
      "text/plain": [
       "3"
      ]
     },
     "execution_count": 2,
     "metadata": {},
     "output_type": "execute_result"
    }
   ],
   "source": [
    "def count_because(sentence):\n",
    "    word = 'because'\n",
    "    counter = sentence.upper().count(word.upper())\n",
    "    return counter\n",
    "\n",
    "sentence = 'You cannot end a sentence with because because because is a conjunction.'\n",
    "\n",
    "count_because(sentence)"
   ]
  },
  {
   "cell_type": "markdown",
   "metadata": {},
   "source": [
    "# 4. Using filter() function, return the list of prime numbers given the input list of numbers."
   ]
  },
  {
   "cell_type": "code",
   "execution_count": 3,
   "metadata": {},
   "outputs": [
    {
     "data": {
      "text/plain": [
       "[2, 3, 5, 7]"
      ]
     },
     "execution_count": 3,
     "metadata": {},
     "output_type": "execute_result"
    }
   ],
   "source": [
    "# list containing numbers\n",
    "my_list = [1, 2, 3, 4, 5, 6, 7, 8, 9 ,10]\n",
    "\n",
    "# Function to check prime numbers\n",
    "def is_prime(number):\n",
    "    for i in range(2, number):\n",
    "        if number % i == 0:\n",
    "            return False\n",
    "    return number > 1\n",
    "\n",
    "def filter_primes(any_list):\n",
    "    return list(set(filter(is_prime, any_list)))\n",
    "filter_primes(my_list)"
   ]
  },
  {
   "cell_type": "markdown",
   "metadata": {},
   "source": [
    "# 5. Use list comprehension to create a list of tuples of the first & last letters of every word in the string\n",
    "## “Farmer jack realized that big yellow quilts were expensive”."
   ]
  },
  {
   "cell_type": "code",
   "execution_count": 4,
   "metadata": {},
   "outputs": [
    {
     "data": {
      "text/plain": [
       "[('F', 'r'),\n",
       " ('j', 'k'),\n",
       " ('r', 'd'),\n",
       " ('t', 't'),\n",
       " ('b', 'g'),\n",
       " ('y', 'w'),\n",
       " ('q', 's'),\n",
       " ('w', 'e'),\n",
       " ('e', 'e')]"
      ]
     },
     "execution_count": 4,
     "metadata": {},
     "output_type": "execute_result"
    }
   ],
   "source": [
    "my_string = \"Farmer jack realized that big yellow quilts were expensive\"\n",
    "[(word[0], word[-1]) for word in my_string.split(' ')]"
   ]
  },
  {
   "cell_type": "markdown",
   "metadata": {},
   "source": [
    "# 6. Let A and B be objects of class Foo. \n",
    "# Which functions are called when print(A + B) is executed?\n",
    "a) \\_\\_add\\_\\_(), \\_\\_str_\\_() \\\n",
    "b) \\_\\_str\\_\\_(), \\_\\_add_\\_()\\\n",
    "c) \\_\\_sum\\_\\_(), \\_\\_str\\_\\_()\\\n",
    "d) \\_\\_str\\_\\_(), \\_\\_sum\\_\\_()"
   ]
  },
  {
   "cell_type": "markdown",
   "metadata": {},
   "source": [
    "*__Answer__*: a) \\_\\_add\\_\\_(), \\_\\_str\\_\\_() \\\n",
    "*__Reason__*: The function \\_\\_add\\_\\_() is called first since it is within the bracket. The function \\_\\_str\\_\\_() is then called on the object that we received after adding a and b."
   ]
  },
  {
   "cell_type": "markdown",
   "metadata": {},
   "source": [
    "# 7. Given an input string, write a Python program to print out words that start with second letter of English alphabet (case-insensitive) and also remove duplicates from the output."
   ]
  },
  {
   "cell_type": "code",
   "execution_count": 5,
   "metadata": {},
   "outputs": [
    {
     "name": "stdout",
     "output_type": "stream",
     "text": [
      "because\n",
      "Because\n"
     ]
    }
   ],
   "source": [
    "input_string = 'You cannot end a sentence with because Because because is a conjunction.'\n",
    "\n",
    "def words_with_b(sentence):\n",
    "    second_char = [chr(i) for i in range(ord('a'),ord('z')+1)][1]\n",
    "    words_list = list(dict.fromkeys(sentence.split(' ')))\n",
    "    for word in words_list:\n",
    "        if word.lower()[0] == second_char:\n",
    "            print(word)\n",
    "words_with_b(input_string)"
   ]
  },
  {
   "cell_type": "markdown",
   "metadata": {},
   "source": [
    "# 8. You are given three sides of a triangle: a, b and c. Return True if they constitute a right-angled triangle."
   ]
  },
  {
   "cell_type": "code",
   "execution_count": 6,
   "metadata": {},
   "outputs": [],
   "source": [
    "def right_triangle_check(a,b,c):\n",
    "    if (a**2 + b**2 == c**2) or (c**2 + b**2 == a**2) or (a**2 + c**2 == b**2):\n",
    "        return True\n",
    "    else:\n",
    "        return False"
   ]
  },
  {
   "cell_type": "code",
   "execution_count": 7,
   "metadata": {},
   "outputs": [
    {
     "data": {
      "text/plain": [
       "True"
      ]
     },
     "execution_count": 7,
     "metadata": {},
     "output_type": "execute_result"
    }
   ],
   "source": [
    "right_triangle_check(3,4,5)"
   ]
  },
  {
   "cell_type": "code",
   "execution_count": 8,
   "metadata": {},
   "outputs": [
    {
     "data": {
      "text/plain": [
       "True"
      ]
     },
     "execution_count": 8,
     "metadata": {},
     "output_type": "execute_result"
    }
   ],
   "source": [
    "right_triangle_check(5,4,3)"
   ]
  },
  {
   "cell_type": "code",
   "execution_count": 9,
   "metadata": {},
   "outputs": [
    {
     "data": {
      "text/plain": [
       "True"
      ]
     },
     "execution_count": 9,
     "metadata": {},
     "output_type": "execute_result"
    }
   ],
   "source": [
    "right_triangle_check(3,5,4)"
   ]
  },
  {
   "cell_type": "code",
   "execution_count": 10,
   "metadata": {},
   "outputs": [
    {
     "data": {
      "text/plain": [
       "False"
      ]
     },
     "execution_count": 10,
     "metadata": {},
     "output_type": "execute_result"
    }
   ],
   "source": [
    "right_triangle_check(4,6,3)"
   ]
  },
  {
   "cell_type": "markdown",
   "metadata": {},
   "source": [
    "# 9. Given a list of integers, write a Python function which returns indices of the two numbers such that they add up to a specific target. Explain your logic/code.\n",
    "Given nums = [2, 7, 11, 15], \\\n",
    "target = 9,\\\n",
    "Because nums[0] + nums[1] = 2 + 7 = 9, return [0, 1]."
   ]
  },
  {
   "cell_type": "code",
   "execution_count": 11,
   "metadata": {},
   "outputs": [
    {
     "data": {
      "text/plain": [
       "[0, 1]"
      ]
     },
     "execution_count": 11,
     "metadata": {},
     "output_type": "execute_result"
    }
   ],
   "source": [
    "nums = [2, 7, 11, 15]\n",
    "target = 9\n",
    "def two_indices(nums,target):\n",
    "# We will iterate through the nums list\n",
    "    for num in nums:\n",
    "# We will get the difference between the target and the specific item picked up in this iteration\n",
    "        diff = target- num\n",
    "# if the difference is an element of the nums list, then we will return the index of item and\n",
    "# the index of difference from the array as a list format\n",
    "        try:\n",
    "            if nums.index(diff):\n",
    "                return ([nums.index(num), nums.index(diff)])\n",
    "                break\n",
    "# in case the difference is not an element, we want our loop to continue to the next iteration\n",
    "        except:\n",
    "            continue\n",
    "two_indices(nums,target)"
   ]
  },
  {
   "cell_type": "markdown",
   "metadata": {},
   "source": [
    "# 10. Without using min() and max() functions, given an array length 1 or more of ints, write a Python program to return the difference between the largest and smallest values in the array. Explain your logic/code."
   ]
  },
  {
   "cell_type": "code",
   "execution_count": 12,
   "metadata": {},
   "outputs": [],
   "source": [
    "# create a function to derive the difference between the minimun and maximum from a given array\n",
    "def big_diff(nums):\n",
    "# initialize 2 variables with the first element of the array\n",
    "# they will treated as the minimum and maximum to start with\n",
    "    minimum = maximum = nums[0]\n",
    "# iterate through the array from the second element onwards\n",
    "    for num in nums[1:]:\n",
    "        if num < minimum:\n",
    "# the number is less than the value stored in the variable \"minimum\", so we override the variable\n",
    "# with this number\n",
    "            minimum = num\n",
    "        elif num > maximum:\n",
    "# the number is more than the value stored in the variable \"maximum\", so we override the variable\n",
    "# with this number\n",
    "            maximum = num\n",
    "        else:\n",
    "# we continue on to the next iteration\n",
    "            continue\n",
    "# create a variable to hold the difference between maximum and minimum\n",
    "    difference = maximum - minimum\n",
    "# finally return the difference variable\n",
    "    return difference"
   ]
  },
  {
   "cell_type": "code",
   "execution_count": 13,
   "metadata": {},
   "outputs": [
    {
     "data": {
      "text/plain": [
       "7"
      ]
     },
     "execution_count": 13,
     "metadata": {},
     "output_type": "execute_result"
    }
   ],
   "source": [
    "big_diff([10, 3, 5, 6])"
   ]
  },
  {
   "cell_type": "code",
   "execution_count": 14,
   "metadata": {},
   "outputs": [
    {
     "data": {
      "text/plain": [
       "8"
      ]
     },
     "execution_count": 14,
     "metadata": {},
     "output_type": "execute_result"
    }
   ],
   "source": [
    "big_diff([7, 2, 10, 9])"
   ]
  },
  {
   "cell_type": "code",
   "execution_count": 15,
   "metadata": {},
   "outputs": [
    {
     "data": {
      "text/plain": [
       "8"
      ]
     },
     "execution_count": 15,
     "metadata": {},
     "output_type": "execute_result"
    }
   ],
   "source": [
    "big_diff([2, 10, 7, 2])"
   ]
  }
 ],
 "metadata": {
  "kernelspec": {
   "display_name": "Python 3 (ipykernel)",
   "language": "python",
   "name": "python3"
  },
  "language_info": {
   "codemirror_mode": {
    "name": "ipython",
    "version": 3
   },
   "file_extension": ".py",
   "mimetype": "text/x-python",
   "name": "python",
   "nbconvert_exporter": "python",
   "pygments_lexer": "ipython3",
   "version": "3.8.8"
  }
 },
 "nbformat": 4,
 "nbformat_minor": 4
}
