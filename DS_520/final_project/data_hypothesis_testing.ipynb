{
 "cells": [
  {
   "cell_type": "code",
   "execution_count": 1,
   "metadata": {},
   "outputs": [],
   "source": [
    "# Dependencies and Setup\n",
    "import pandas as pd\n",
    "from statsmodels.stats.weightstats import ztest as ztest\n",
    "import statsmodels.api as sm\n",
    "from scipy import stats as st"
   ]
  },
  {
   "cell_type": "code",
   "execution_count": 2,
   "metadata": {},
   "outputs": [
    {
     "data": {
      "text/html": [
       "<div>\n",
       "<style scoped>\n",
       "    .dataframe tbody tr th:only-of-type {\n",
       "        vertical-align: middle;\n",
       "    }\n",
       "\n",
       "    .dataframe tbody tr th {\n",
       "        vertical-align: top;\n",
       "    }\n",
       "\n",
       "    .dataframe thead th {\n",
       "        text-align: right;\n",
       "    }\n",
       "</style>\n",
       "<table border=\"1\" class=\"dataframe\">\n",
       "  <thead>\n",
       "    <tr style=\"text-align: right;\">\n",
       "      <th></th>\n",
       "      <th>name</th>\n",
       "      <th>morningstar_category</th>\n",
       "      <th>ytdDaily</th>\n",
       "      <th>yr1</th>\n",
       "      <th>yr3</th>\n",
       "      <th>yr5</th>\n",
       "      <th>yr10</th>\n",
       "      <th>life_of_fund</th>\n",
       "      <th>net_expense_ratio</th>\n",
       "      <th>gross_expense_ratio</th>\n",
       "      <th>morningstar_rating_overall</th>\n",
       "      <th>risk</th>\n",
       "      <th>std_dev</th>\n",
       "      <th>sharpe_ratio_3_yr</th>\n",
       "      <th>beta</th>\n",
       "      <th>r2</th>\n",
       "      <th>minimum_investment</th>\n",
       "      <th>last_dividend</th>\n",
       "    </tr>\n",
       "  </thead>\n",
       "  <tbody>\n",
       "    <tr>\n",
       "      <th>0</th>\n",
       "      <td>Baron Partners Fund Institutional Shares (BPTIX)</td>\n",
       "      <td>Large Growth</td>\n",
       "      <td>44.60</td>\n",
       "      <td>110.27</td>\n",
       "      <td>65.56</td>\n",
       "      <td>47.54</td>\n",
       "      <td>29.02</td>\n",
       "      <td>27.02</td>\n",
       "      <td>1.30</td>\n",
       "      <td>1.30</td>\n",
       "      <td>1137.0</td>\n",
       "      <td>6</td>\n",
       "      <td>40.41</td>\n",
       "      <td>1.60</td>\n",
       "      <td>1.51</td>\n",
       "      <td>0.63</td>\n",
       "      <td>1000000.0</td>\n",
       "      <td>0.2224</td>\n",
       "    </tr>\n",
       "    <tr>\n",
       "      <th>1</th>\n",
       "      <td>Baron Partners Fund Retail Shares (BPTRX)</td>\n",
       "      <td>Large Growth</td>\n",
       "      <td>44.28</td>\n",
       "      <td>109.72</td>\n",
       "      <td>65.13</td>\n",
       "      <td>47.15</td>\n",
       "      <td>28.68</td>\n",
       "      <td>20.45</td>\n",
       "      <td>1.56</td>\n",
       "      <td>1.56</td>\n",
       "      <td>1137.0</td>\n",
       "      <td>6</td>\n",
       "      <td>40.39</td>\n",
       "      <td>1.59</td>\n",
       "      <td>1.51</td>\n",
       "      <td>0.63</td>\n",
       "      <td>2500.0</td>\n",
       "      <td>0.1243</td>\n",
       "    </tr>\n",
       "    <tr>\n",
       "      <th>2</th>\n",
       "      <td>Morgan Stanley Institutional Fund, Inc. Incept...</td>\n",
       "      <td>Small Growth</td>\n",
       "      <td>20.05</td>\n",
       "      <td>81.15</td>\n",
       "      <td>55.11</td>\n",
       "      <td>38.37</td>\n",
       "      <td>22.37</td>\n",
       "      <td>14.14</td>\n",
       "      <td>1.00</td>\n",
       "      <td>1.19</td>\n",
       "      <td>574.0</td>\n",
       "      <td>7</td>\n",
       "      <td>40.44</td>\n",
       "      <td>1.34</td>\n",
       "      <td>1.40</td>\n",
       "      <td>0.71</td>\n",
       "      <td>5000000.0</td>\n",
       "      <td>0.0000</td>\n",
       "    </tr>\n",
       "    <tr>\n",
       "      <th>3</th>\n",
       "      <td>Morgan Stanley Institutional Fund, Inc. Incept...</td>\n",
       "      <td>Small Growth</td>\n",
       "      <td>19.75</td>\n",
       "      <td>80.67</td>\n",
       "      <td>54.70</td>\n",
       "      <td>37.98</td>\n",
       "      <td>22.01</td>\n",
       "      <td>13.83</td>\n",
       "      <td>1.35</td>\n",
       "      <td>1.45</td>\n",
       "      <td>574.0</td>\n",
       "      <td>7</td>\n",
       "      <td>40.48</td>\n",
       "      <td>1.32</td>\n",
       "      <td>1.40</td>\n",
       "      <td>0.71</td>\n",
       "      <td>2500.0</td>\n",
       "      <td>0.0000</td>\n",
       "    </tr>\n",
       "    <tr>\n",
       "      <th>4</th>\n",
       "      <td>Morgan Stanley Institutional Fund, Inc. Incept...</td>\n",
       "      <td>Small Growth</td>\n",
       "      <td>NaN</td>\n",
       "      <td>79.39</td>\n",
       "      <td>53.46</td>\n",
       "      <td>36.90</td>\n",
       "      <td>21.11</td>\n",
       "      <td>13.00</td>\n",
       "      <td>2.10</td>\n",
       "      <td>2.27</td>\n",
       "      <td>574.0</td>\n",
       "      <td>7</td>\n",
       "      <td>40.42</td>\n",
       "      <td>1.30</td>\n",
       "      <td>1.40</td>\n",
       "      <td>0.71</td>\n",
       "      <td>2500.0</td>\n",
       "      <td>NaN</td>\n",
       "    </tr>\n",
       "  </tbody>\n",
       "</table>\n",
       "</div>"
      ],
      "text/plain": [
       "                                                name morningstar_category  \\\n",
       "0   Baron Partners Fund Institutional Shares (BPTIX)         Large Growth   \n",
       "1          Baron Partners Fund Retail Shares (BPTRX)         Large Growth   \n",
       "2  Morgan Stanley Institutional Fund, Inc. Incept...         Small Growth   \n",
       "3  Morgan Stanley Institutional Fund, Inc. Incept...         Small Growth   \n",
       "4  Morgan Stanley Institutional Fund, Inc. Incept...         Small Growth   \n",
       "\n",
       "   ytdDaily     yr1    yr3    yr5   yr10  life_of_fund  net_expense_ratio  \\\n",
       "0     44.60  110.27  65.56  47.54  29.02         27.02               1.30   \n",
       "1     44.28  109.72  65.13  47.15  28.68         20.45               1.56   \n",
       "2     20.05   81.15  55.11  38.37  22.37         14.14               1.00   \n",
       "3     19.75   80.67  54.70  37.98  22.01         13.83               1.35   \n",
       "4       NaN   79.39  53.46  36.90  21.11         13.00               2.10   \n",
       "\n",
       "   gross_expense_ratio  morningstar_rating_overall  risk  std_dev  \\\n",
       "0                 1.30                      1137.0     6    40.41   \n",
       "1                 1.56                      1137.0     6    40.39   \n",
       "2                 1.19                       574.0     7    40.44   \n",
       "3                 1.45                       574.0     7    40.48   \n",
       "4                 2.27                       574.0     7    40.42   \n",
       "\n",
       "   sharpe_ratio_3_yr  beta    r2  minimum_investment  last_dividend  \n",
       "0               1.60  1.51  0.63           1000000.0         0.2224  \n",
       "1               1.59  1.51  0.63              2500.0         0.1243  \n",
       "2               1.34  1.40  0.71           5000000.0         0.0000  \n",
       "3               1.32  1.40  0.71              2500.0         0.0000  \n",
       "4               1.30  1.40  0.71              2500.0            NaN  "
      ]
     },
     "execution_count": 2,
     "metadata": {},
     "output_type": "execute_result"
    }
   ],
   "source": [
    "# Importing the csv\n",
    "df= pd.read_csv('fidelity_mutual_funds_return_w_risk.csv')\n",
    "df.head()"
   ]
  },
  {
   "cell_type": "code",
   "execution_count": 3,
   "metadata": {},
   "outputs": [
    {
     "data": {
      "text/html": [
       "<div>\n",
       "<style scoped>\n",
       "    .dataframe tbody tr th:only-of-type {\n",
       "        vertical-align: middle;\n",
       "    }\n",
       "\n",
       "    .dataframe tbody tr th {\n",
       "        vertical-align: top;\n",
       "    }\n",
       "\n",
       "    .dataframe thead th {\n",
       "        text-align: right;\n",
       "    }\n",
       "</style>\n",
       "<table border=\"1\" class=\"dataframe\">\n",
       "  <thead>\n",
       "    <tr style=\"text-align: right;\">\n",
       "      <th></th>\n",
       "      <th>ytdDaily</th>\n",
       "      <th>yr1</th>\n",
       "      <th>yr3</th>\n",
       "      <th>yr5</th>\n",
       "      <th>yr10</th>\n",
       "      <th>life_of_fund</th>\n",
       "      <th>net_expense_ratio</th>\n",
       "      <th>gross_expense_ratio</th>\n",
       "      <th>morningstar_rating_overall</th>\n",
       "      <th>risk</th>\n",
       "      <th>std_dev</th>\n",
       "      <th>sharpe_ratio_3_yr</th>\n",
       "      <th>beta</th>\n",
       "      <th>r2</th>\n",
       "      <th>minimum_investment</th>\n",
       "      <th>last_dividend</th>\n",
       "    </tr>\n",
       "  </thead>\n",
       "  <tbody>\n",
       "    <tr>\n",
       "      <th>count</th>\n",
       "      <td>9359.000000</td>\n",
       "      <td>9520.000000</td>\n",
       "      <td>9204.000000</td>\n",
       "      <td>8922.000000</td>\n",
       "      <td>7283.000000</td>\n",
       "      <td>9613.000000</td>\n",
       "      <td>9625.000000</td>\n",
       "      <td>9624.000000</td>\n",
       "      <td>9102.000000</td>\n",
       "      <td>9626.000000</td>\n",
       "      <td>9154.000000</td>\n",
       "      <td>9154.000000</td>\n",
       "      <td>8189.000000</td>\n",
       "      <td>8189.000000</td>\n",
       "      <td>9.624000e+03</td>\n",
       "      <td>9178.000000</td>\n",
       "    </tr>\n",
       "    <tr>\n",
       "      <th>mean</th>\n",
       "      <td>12.841688</td>\n",
       "      <td>25.532315</td>\n",
       "      <td>12.170789</td>\n",
       "      <td>9.872851</td>\n",
       "      <td>8.455235</td>\n",
       "      <td>7.796146</td>\n",
       "      <td>1.154081</td>\n",
       "      <td>1.412057</td>\n",
       "      <td>464.152604</td>\n",
       "      <td>5.271556</td>\n",
       "      <td>14.547154</td>\n",
       "      <td>0.784549</td>\n",
       "      <td>0.788115</td>\n",
       "      <td>0.805881</td>\n",
       "      <td>2.455934e+05</td>\n",
       "      <td>0.116582</td>\n",
       "    </tr>\n",
       "    <tr>\n",
       "      <th>std</th>\n",
       "      <td>12.137653</td>\n",
       "      <td>20.381654</td>\n",
       "      <td>8.276280</td>\n",
       "      <td>7.080595</td>\n",
       "      <td>5.485703</td>\n",
       "      <td>5.245337</td>\n",
       "      <td>0.570965</td>\n",
       "      <td>1.333127</td>\n",
       "      <td>362.456368</td>\n",
       "      <td>1.665109</td>\n",
       "      <td>8.134948</td>\n",
       "      <td>0.391578</td>\n",
       "      <td>1.218248</td>\n",
       "      <td>0.282312</td>\n",
       "      <td>8.381462e+05</td>\n",
       "      <td>0.499280</td>\n",
       "    </tr>\n",
       "    <tr>\n",
       "      <th>min</th>\n",
       "      <td>-22.090000</td>\n",
       "      <td>-37.660000</td>\n",
       "      <td>-29.380000</td>\n",
       "      <td>-23.430000</td>\n",
       "      <td>-19.020000</td>\n",
       "      <td>-11.740000</td>\n",
       "      <td>0.000000</td>\n",
       "      <td>0.000000</td>\n",
       "      <td>10.000000</td>\n",
       "      <td>0.000000</td>\n",
       "      <td>0.180000</td>\n",
       "      <td>-2.450000</td>\n",
       "      <td>-21.000000</td>\n",
       "      <td>0.000000</td>\n",
       "      <td>0.000000e+00</td>\n",
       "      <td>0.000000</td>\n",
       "    </tr>\n",
       "    <tr>\n",
       "      <th>25%</th>\n",
       "      <td>1.890000</td>\n",
       "      <td>6.010000</td>\n",
       "      <td>5.460000</td>\n",
       "      <td>3.740000</td>\n",
       "      <td>3.760000</td>\n",
       "      <td>4.650000</td>\n",
       "      <td>0.760000</td>\n",
       "      <td>0.850000</td>\n",
       "      <td>186.000000</td>\n",
       "      <td>4.000000</td>\n",
       "      <td>7.192500</td>\n",
       "      <td>0.550000</td>\n",
       "      <td>0.820000</td>\n",
       "      <td>0.810000</td>\n",
       "      <td>2.500000e+03</td>\n",
       "      <td>0.013883</td>\n",
       "    </tr>\n",
       "    <tr>\n",
       "      <th>50%</th>\n",
       "      <td>11.970000</td>\n",
       "      <td>26.135000</td>\n",
       "      <td>11.265000</td>\n",
       "      <td>9.120000</td>\n",
       "      <td>8.180000</td>\n",
       "      <td>7.080000</td>\n",
       "      <td>1.050000</td>\n",
       "      <td>1.190000</td>\n",
       "      <td>361.000000</td>\n",
       "      <td>6.000000</td>\n",
       "      <td>16.080000</td>\n",
       "      <td>0.780000</td>\n",
       "      <td>0.960000</td>\n",
       "      <td>0.930000</td>\n",
       "      <td>2.500000e+03</td>\n",
       "      <td>0.034480</td>\n",
       "    </tr>\n",
       "    <tr>\n",
       "      <th>75%</th>\n",
       "      <td>22.070000</td>\n",
       "      <td>40.180000</td>\n",
       "      <td>16.950000</td>\n",
       "      <td>14.160000</td>\n",
       "      <td>12.530000</td>\n",
       "      <td>10.170000</td>\n",
       "      <td>1.490000</td>\n",
       "      <td>1.700000</td>\n",
       "      <td>631.000000</td>\n",
       "      <td>6.000000</td>\n",
       "      <td>19.870000</td>\n",
       "      <td>1.030000</td>\n",
       "      <td>1.050000</td>\n",
       "      <td>0.970000</td>\n",
       "      <td>5.000000e+03</td>\n",
       "      <td>0.118995</td>\n",
       "    </tr>\n",
       "    <tr>\n",
       "      <th>max</th>\n",
       "      <td>83.850000</td>\n",
       "      <td>146.460000</td>\n",
       "      <td>65.560000</td>\n",
       "      <td>47.540000</td>\n",
       "      <td>29.020000</td>\n",
       "      <td>82.450000</td>\n",
       "      <td>5.250000</td>\n",
       "      <td>46.990000</td>\n",
       "      <td>1250.000000</td>\n",
       "      <td>9.000000</td>\n",
       "      <td>59.740000</td>\n",
       "      <td>2.610000</td>\n",
       "      <td>8.750000</td>\n",
       "      <td>1.000000</td>\n",
       "      <td>1.000000e+07</td>\n",
       "      <td>24.012771</td>\n",
       "    </tr>\n",
       "  </tbody>\n",
       "</table>\n",
       "</div>"
      ],
      "text/plain": [
       "          ytdDaily          yr1          yr3          yr5         yr10  \\\n",
       "count  9359.000000  9520.000000  9204.000000  8922.000000  7283.000000   \n",
       "mean     12.841688    25.532315    12.170789     9.872851     8.455235   \n",
       "std      12.137653    20.381654     8.276280     7.080595     5.485703   \n",
       "min     -22.090000   -37.660000   -29.380000   -23.430000   -19.020000   \n",
       "25%       1.890000     6.010000     5.460000     3.740000     3.760000   \n",
       "50%      11.970000    26.135000    11.265000     9.120000     8.180000   \n",
       "75%      22.070000    40.180000    16.950000    14.160000    12.530000   \n",
       "max      83.850000   146.460000    65.560000    47.540000    29.020000   \n",
       "\n",
       "       life_of_fund  net_expense_ratio  gross_expense_ratio  \\\n",
       "count   9613.000000        9625.000000          9624.000000   \n",
       "mean       7.796146           1.154081             1.412057   \n",
       "std        5.245337           0.570965             1.333127   \n",
       "min      -11.740000           0.000000             0.000000   \n",
       "25%        4.650000           0.760000             0.850000   \n",
       "50%        7.080000           1.050000             1.190000   \n",
       "75%       10.170000           1.490000             1.700000   \n",
       "max       82.450000           5.250000            46.990000   \n",
       "\n",
       "       morningstar_rating_overall         risk      std_dev  \\\n",
       "count                 9102.000000  9626.000000  9154.000000   \n",
       "mean                   464.152604     5.271556    14.547154   \n",
       "std                    362.456368     1.665109     8.134948   \n",
       "min                     10.000000     0.000000     0.180000   \n",
       "25%                    186.000000     4.000000     7.192500   \n",
       "50%                    361.000000     6.000000    16.080000   \n",
       "75%                    631.000000     6.000000    19.870000   \n",
       "max                   1250.000000     9.000000    59.740000   \n",
       "\n",
       "       sharpe_ratio_3_yr         beta           r2  minimum_investment  \\\n",
       "count        9154.000000  8189.000000  8189.000000        9.624000e+03   \n",
       "mean            0.784549     0.788115     0.805881        2.455934e+05   \n",
       "std             0.391578     1.218248     0.282312        8.381462e+05   \n",
       "min            -2.450000   -21.000000     0.000000        0.000000e+00   \n",
       "25%             0.550000     0.820000     0.810000        2.500000e+03   \n",
       "50%             0.780000     0.960000     0.930000        2.500000e+03   \n",
       "75%             1.030000     1.050000     0.970000        5.000000e+03   \n",
       "max             2.610000     8.750000     1.000000        1.000000e+07   \n",
       "\n",
       "       last_dividend  \n",
       "count    9178.000000  \n",
       "mean        0.116582  \n",
       "std         0.499280  \n",
       "min         0.000000  \n",
       "25%         0.013883  \n",
       "50%         0.034480  \n",
       "75%         0.118995  \n",
       "max        24.012771  "
      ]
     },
     "execution_count": 3,
     "metadata": {},
     "output_type": "execute_result"
    }
   ],
   "source": [
    "# 5 number summary\n",
    "df.describe()"
   ]
  },
  {
   "cell_type": "markdown",
   "metadata": {},
   "source": [
    "# Null hypothesis:\n",
    "### mean < = 2"
   ]
  },
  {
   "cell_type": "markdown",
   "metadata": {},
   "source": [
    "# Alternate hypothesis:\n",
    "### mean > 2"
   ]
  },
  {
   "cell_type": "markdown",
   "metadata": {},
   "source": [
    "# Z test"
   ]
  },
  {
   "cell_type": "code",
   "execution_count": 4,
   "metadata": {},
   "outputs": [
    {
     "data": {
      "text/plain": [
       "(112.65324513458049, 0.0)"
      ]
     },
     "execution_count": 4,
     "metadata": {},
     "output_type": "execute_result"
    }
   ],
   "source": [
    "# perform one-tailed one sample z-test for 1 year return\n",
    "ztest(df['yr1'].dropna(), value=2, alternative='larger')"
   ]
  },
  {
   "cell_type": "code",
   "execution_count": 5,
   "metadata": {},
   "outputs": [
    {
     "data": {
      "text/plain": [
       "(117.89836121056116, 0.0)"
      ]
     },
     "execution_count": 5,
     "metadata": {},
     "output_type": "execute_result"
    }
   ],
   "source": [
    "# perform one-tailed one sample z-test for 3 years return\n",
    "ztest(df['yr3'].dropna(), value=2, alternative='larger')"
   ]
  },
  {
   "cell_type": "code",
   "execution_count": 6,
   "metadata": {},
   "outputs": [
    {
     "data": {
      "text/plain": [
       "(105.02516935238489, 0.0)"
      ]
     },
     "execution_count": 6,
     "metadata": {},
     "output_type": "execute_result"
    }
   ],
   "source": [
    "# perform one-tailed one sample z-test for 5 years return\n",
    "ztest(df['yr5'].dropna(), value=2, alternative='larger')"
   ]
  },
  {
   "cell_type": "code",
   "execution_count": 7,
   "metadata": {},
   "outputs": [
    {
     "data": {
      "text/plain": [
       "(100.4234153363224, 0.0)"
      ]
     },
     "execution_count": 7,
     "metadata": {},
     "output_type": "execute_result"
    }
   ],
   "source": [
    "# perform one-tailed one sample z-test for 10 years return\n",
    "ztest(df['yr10'].dropna(), value=2, alternative='larger')"
   ]
  },
  {
   "cell_type": "markdown",
   "metadata": {},
   "source": [
    "# As, we do not know the population standard deviation, it is ideal to perform t-test instead of Z-test."
   ]
  },
  {
   "cell_type": "markdown",
   "metadata": {},
   "source": [
    "# t-test for samples from the extracted dataset"
   ]
  },
  {
   "cell_type": "code",
   "execution_count": 20,
   "metadata": {},
   "outputs": [
    {
     "name": "stdout",
     "output_type": "stream",
     "text": [
      "t-test for sample set 1\n",
      "               yr1        yr3            yr5           yr10\n",
      "T-value  50.514499  51.859662   4.627003e+01   4.475664e+01\n",
      "P-value   0.000000   0.000000  5.912296e-307  2.747558e-274\n",
      "----------------------------\n",
      "t-test for sample set 2\n",
      "               yr1        yr3            yr5           yr10\n",
      "T-value  50.159165  52.310372   4.645610e+01   4.423719e+01\n",
      "P-value   0.000000   0.000000  1.664838e-309  2.467382e-269\n",
      "----------------------------\n",
      "t-test for sample set 3\n",
      "               yr1       yr3            yr5           yr10\n",
      "T-value  51.017836  51.63241   4.666277e+01   4.339198e+01\n",
      "P-value   0.000000   0.00000  2.354805e-310  2.866142e-262\n",
      "----------------------------\n",
      "t-test for sample set 4\n",
      "             yr1        yr3            yr5           yr10\n",
      "T-value  51.4154  52.264527   4.665277e+01   4.490573e+01\n",
      "P-value   0.0000   0.000000  6.632774e-313  1.183835e-280\n",
      "----------------------------\n",
      "t-test for sample set 5\n",
      "               yr1        yr3            yr5           yr10\n",
      "T-value  50.146113  53.091131   4.764776e+01   4.615014e+01\n",
      "P-value   0.000000   0.000000  3.453519e-320  1.296214e-286\n",
      "----------------------------\n"
     ]
    }
   ],
   "source": [
    "samles = []\n",
    "for i in range(5):\n",
    "    globals()[f'sample_df{i+1}'] = df.sample(frac=0.2)\n",
    "    print(f\"t-test for sample set {i+1}\")\n",
    "    print(globals()[f'sample_df{i+1}'][globals()[f'sample_df{i+1}'].columns[3:7]]\\\n",
    "                                 .apply(lambda period_sample: st.ttest_1samp(period_sample.dropna(), 2, alternative='greater'))\\\n",
    "         .rename({0: \"T-value\", 1: \"P-value\"}))\n",
    "    print(\"----------------------------\")"
   ]
  },
  {
   "cell_type": "markdown",
   "metadata": {},
   "source": [
    "### ANOVA test for year 1 returns between the sample sets"
   ]
  },
  {
   "cell_type": "code",
   "execution_count": 25,
   "metadata": {},
   "outputs": [
    {
     "data": {
      "text/plain": [
       "F_onewayResult(statistic=0.976104908022008, pvalue=0.41914989402138936)"
      ]
     },
     "execution_count": 25,
     "metadata": {},
     "output_type": "execute_result"
    }
   ],
   "source": [
    "st.f_oneway(sample_df1['yr1'].dropna(), sample_df2['yr1'].dropna(), sample_df3['yr1'].dropna(), sample_df4['yr1'].dropna(), sample_df5['yr1'].dropna())"
   ]
  },
  {
   "cell_type": "markdown",
   "metadata": {},
   "source": [
    "#### As P-value is higher than .05, we failed to reject the null hypothesis : means of year 1 returns are same across all the sample sets. "
   ]
  },
  {
   "cell_type": "markdown",
   "metadata": {},
   "source": [
    "### ANOVA test for year 3 returns between the sample sets"
   ]
  },
  {
   "cell_type": "code",
   "execution_count": 26,
   "metadata": {},
   "outputs": [
    {
     "data": {
      "text/plain": [
       "F_onewayResult(statistic=0.25137357500943647, pvalue=0.9089534385946078)"
      ]
     },
     "execution_count": 26,
     "metadata": {},
     "output_type": "execute_result"
    }
   ],
   "source": [
    "st.f_oneway(sample_df1['yr3'].dropna(), sample_df2['yr3'].dropna(), sample_df3['yr3'].dropna(), sample_df4['yr3'].dropna(), sample_df5['yr3'].dropna())"
   ]
  },
  {
   "cell_type": "markdown",
   "metadata": {},
   "source": [
    "#### As P-value is higher than .05, we failed to reject the null hypothesis : means of year 3 returns are same across all the sample sets."
   ]
  },
  {
   "cell_type": "markdown",
   "metadata": {},
   "source": [
    "### ANOVA test for year 5 returns between the sample sets"
   ]
  },
  {
   "cell_type": "code",
   "execution_count": 27,
   "metadata": {},
   "outputs": [
    {
     "data": {
      "text/plain": [
       "F_onewayResult(statistic=0.2793002275058427, pvalue=0.891524711935834)"
      ]
     },
     "execution_count": 27,
     "metadata": {},
     "output_type": "execute_result"
    }
   ],
   "source": [
    "st.f_oneway(sample_df1['yr5'].dropna(), sample_df2['yr5'].dropna(), sample_df3['yr5'].dropna(), sample_df4['yr5'].dropna(), sample_df5['yr5'].dropna())"
   ]
  },
  {
   "cell_type": "markdown",
   "metadata": {},
   "source": [
    "#### As P-value is higher than .05, we failed to reject the null hypothesis : means of year 5 returns are same across all the sample sets."
   ]
  },
  {
   "cell_type": "markdown",
   "metadata": {},
   "source": [
    "### ANOVA test for year 10 returns between the sample sets"
   ]
  },
  {
   "cell_type": "code",
   "execution_count": 28,
   "metadata": {},
   "outputs": [
    {
     "data": {
      "text/plain": [
       "F_onewayResult(statistic=0.3085145323459642, pvalue=0.8724490442929902)"
      ]
     },
     "execution_count": 28,
     "metadata": {},
     "output_type": "execute_result"
    }
   ],
   "source": [
    "st.f_oneway(sample_df1['yr10'].dropna(), sample_df2['yr10'].dropna(), sample_df3['yr10'].dropna(), sample_df4['yr10'].dropna(), sample_df5['yr10'].dropna())"
   ]
  },
  {
   "cell_type": "markdown",
   "metadata": {},
   "source": [
    "#### As P-value is higher than .05, we failed to reject the null hypothesis : means of year 10 returns are same across all the sample sets."
   ]
  },
  {
   "cell_type": "markdown",
   "metadata": {},
   "source": [
    "# t-test on the whole extracted dataset"
   ]
  },
  {
   "cell_type": "code",
   "execution_count": 10,
   "metadata": {},
   "outputs": [
    {
     "data": {
      "text/plain": [
       "Ttest_1sampResult(statistic=112.65324513458049, pvalue=0.0)"
      ]
     },
     "execution_count": 10,
     "metadata": {},
     "output_type": "execute_result"
    }
   ],
   "source": [
    "# perform one-tailed one sample t-test for 1 year return\n",
    "st.ttest_1samp(df['yr1'].dropna(), 2, alternative='greater')"
   ]
  },
  {
   "cell_type": "code",
   "execution_count": 11,
   "metadata": {},
   "outputs": [
    {
     "data": {
      "text/plain": [
       "Ttest_1sampResult(statistic=117.89836121056116, pvalue=0.0)"
      ]
     },
     "execution_count": 11,
     "metadata": {},
     "output_type": "execute_result"
    }
   ],
   "source": [
    "# perform one-tailed one sample t-test for 4 year return\n",
    "st.ttest_1samp(df['yr3'].dropna(), 2, alternative='greater')"
   ]
  },
  {
   "cell_type": "code",
   "execution_count": 12,
   "metadata": {},
   "outputs": [
    {
     "data": {
      "text/plain": [
       "Ttest_1sampResult(statistic=105.02516935238489, pvalue=0.0)"
      ]
     },
     "execution_count": 12,
     "metadata": {},
     "output_type": "execute_result"
    }
   ],
   "source": [
    "# perform one-tailed one sample t-test for 5 year return\n",
    "st.ttest_1samp(df['yr5'].dropna(), 2, alternative='greater')"
   ]
  },
  {
   "cell_type": "code",
   "execution_count": 13,
   "metadata": {},
   "outputs": [
    {
     "data": {
      "text/plain": [
       "Ttest_1sampResult(statistic=100.4234153363224, pvalue=0.0)"
      ]
     },
     "execution_count": 13,
     "metadata": {},
     "output_type": "execute_result"
    }
   ],
   "source": [
    "# perform one-tailed one sample t-test for 10 year return\n",
    "st.ttest_1samp(df['yr10'].dropna(), 2, alternative='greater')"
   ]
  },
  {
   "cell_type": "markdown",
   "metadata": {},
   "source": [
    "### In all cases as one tailed P-value is less than our 5% level of significance, we can reject the null hypothesis.\n",
    "### The mean is greater than 2."
   ]
  }
 ],
 "metadata": {
  "kernelspec": {
   "display_name": "Python 3",
   "language": "python",
   "name": "python3"
  },
  "language_info": {
   "codemirror_mode": {
    "name": "ipython",
    "version": 3
   },
   "file_extension": ".py",
   "mimetype": "text/x-python",
   "name": "python",
   "nbconvert_exporter": "python",
   "pygments_lexer": "ipython3",
   "version": "3.8.8"
  }
 },
 "nbformat": 4,
 "nbformat_minor": 4
}
