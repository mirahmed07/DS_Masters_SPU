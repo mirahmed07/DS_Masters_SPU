{
 "cells": [
  {
   "cell_type": "markdown",
   "metadata": {},
   "source": [
    "# Import basic libraries"
   ]
  },
  {
   "cell_type": "code",
   "execution_count": 1,
   "metadata": {},
   "outputs": [],
   "source": [
    "import numpy as np\n",
    "import pandas as pd"
   ]
  },
  {
   "cell_type": "code",
   "execution_count": 2,
   "metadata": {},
   "outputs": [
    {
     "data": {
      "text/plain": [
       "dict_keys(['data', 'target', 'frame', 'categories', 'feature_names', 'target_names', 'DESCR', 'details', 'url'])"
      ]
     },
     "execution_count": 2,
     "metadata": {},
     "output_type": "execute_result"
    }
   ],
   "source": [
    "from sklearn.datasets import fetch_openml\n",
    "mnist = fetch_openml('mnist_784', version=1, as_frame=False)\n",
    "mnist.keys()"
   ]
  },
  {
   "cell_type": "markdown",
   "metadata": {},
   "source": [
    "# Feature selection"
   ]
  },
  {
   "cell_type": "code",
   "execution_count": 3,
   "metadata": {},
   "outputs": [
    {
     "data": {
      "text/plain": [
       "(70000, 784)"
      ]
     },
     "execution_count": 3,
     "metadata": {},
     "output_type": "execute_result"
    }
   ],
   "source": [
    "X, y = mnist[\"data\"], mnist[\"target\"]\n",
    "X.shape"
   ]
  },
  {
   "cell_type": "code",
   "execution_count": 4,
   "metadata": {},
   "outputs": [
    {
     "data": {
      "text/plain": [
       "(70000,)"
      ]
     },
     "execution_count": 4,
     "metadata": {},
     "output_type": "execute_result"
    }
   ],
   "source": [
    "y.shape"
   ]
  },
  {
   "cell_type": "markdown",
   "metadata": {},
   "source": [
    "# Train, test split"
   ]
  },
  {
   "cell_type": "code",
   "execution_count": 5,
   "metadata": {},
   "outputs": [],
   "source": [
    "from sklearn.model_selection import train_test_split\n",
    "X_train, X_test, y_train, y_test = train_test_split(X, y, random_state=42)"
   ]
  },
  {
   "cell_type": "markdown",
   "metadata": {},
   "source": [
    "# Hyper parameter tuning using GridSearchCV"
   ]
  },
  {
   "cell_type": "code",
   "execution_count": 6,
   "metadata": {},
   "outputs": [
    {
     "name": "stdout",
     "output_type": "stream",
     "text": [
      "Fitting 5 folds for each of 6 candidates, totalling 30 fits\n",
      "[CV 1/5] END .................n_neighbors=3, weights=uniform; total time=  12.3s\n",
      "[CV 2/5] END .................n_neighbors=3, weights=uniform; total time=  10.6s\n",
      "[CV 3/5] END .................n_neighbors=3, weights=uniform; total time=  10.3s\n",
      "[CV 4/5] END .................n_neighbors=3, weights=uniform; total time=  10.4s\n",
      "[CV 5/5] END .................n_neighbors=3, weights=uniform; total time=  10.7s\n",
      "[CV 1/5] END ................n_neighbors=3, weights=distance; total time=  10.0s\n",
      "[CV 2/5] END ................n_neighbors=3, weights=distance; total time=  10.6s\n",
      "[CV 3/5] END ................n_neighbors=3, weights=distance; total time=  12.1s\n",
      "[CV 4/5] END ................n_neighbors=3, weights=distance; total time=  11.8s\n",
      "[CV 5/5] END ................n_neighbors=3, weights=distance; total time=  12.9s\n",
      "[CV 1/5] END .................n_neighbors=4, weights=uniform; total time=  14.6s\n",
      "[CV 2/5] END .................n_neighbors=4, weights=uniform; total time=  14.5s\n",
      "[CV 3/5] END .................n_neighbors=4, weights=uniform; total time=  14.5s\n",
      "[CV 4/5] END .................n_neighbors=4, weights=uniform; total time=  15.4s\n",
      "[CV 5/5] END .................n_neighbors=4, weights=uniform; total time=  15.0s\n",
      "[CV 1/5] END ................n_neighbors=4, weights=distance; total time=  14.7s\n",
      "[CV 2/5] END ................n_neighbors=4, weights=distance; total time=  15.1s\n",
      "[CV 3/5] END ................n_neighbors=4, weights=distance; total time=  15.2s\n",
      "[CV 4/5] END ................n_neighbors=4, weights=distance; total time=  17.0s\n",
      "[CV 5/5] END ................n_neighbors=4, weights=distance; total time=  16.4s\n",
      "[CV 1/5] END .................n_neighbors=5, weights=uniform; total time=  16.1s\n",
      "[CV 2/5] END .................n_neighbors=5, weights=uniform; total time=  16.1s\n",
      "[CV 3/5] END .................n_neighbors=5, weights=uniform; total time=  17.1s\n",
      "[CV 4/5] END .................n_neighbors=5, weights=uniform; total time=  16.7s\n",
      "[CV 5/5] END .................n_neighbors=5, weights=uniform; total time=  16.3s\n",
      "[CV 1/5] END ................n_neighbors=5, weights=distance; total time=  16.5s\n",
      "[CV 2/5] END ................n_neighbors=5, weights=distance; total time=  15.9s\n",
      "[CV 3/5] END ................n_neighbors=5, weights=distance; total time=  16.4s\n",
      "[CV 4/5] END ................n_neighbors=5, weights=distance; total time=  15.9s\n",
      "[CV 5/5] END ................n_neighbors=5, weights=distance; total time=  17.3s\n"
     ]
    },
    {
     "data": {
      "text/plain": [
       "GridSearchCV(cv=5, estimator=KNeighborsClassifier(),\n",
       "             param_grid=[{'n_neighbors': [3, 4, 5],\n",
       "                          'weights': ['uniform', 'distance']}],\n",
       "             verbose=3)"
      ]
     },
     "execution_count": 6,
     "metadata": {},
     "output_type": "execute_result"
    }
   ],
   "source": [
    "from sklearn.model_selection import GridSearchCV\n",
    "from sklearn.neighbors import KNeighborsClassifier\n",
    "\n",
    "param_grid = [{'weights': [\"uniform\", \"distance\"], 'n_neighbors': [3, 4, 5]}]\n",
    "\n",
    "knn_clf = KNeighborsClassifier()\n",
    "grid_search = GridSearchCV(knn_clf, param_grid, cv=5, verbose=3)\n",
    "grid_search.fit(X_train, y_train)"
   ]
  },
  {
   "cell_type": "code",
   "execution_count": 7,
   "metadata": {},
   "outputs": [
    {
     "data": {
      "text/plain": [
       "{'n_neighbors': 4, 'weights': 'distance'}"
      ]
     },
     "execution_count": 7,
     "metadata": {},
     "output_type": "execute_result"
    }
   ],
   "source": [
    "grid_search.best_params_"
   ]
  },
  {
   "cell_type": "code",
   "execution_count": 8,
   "metadata": {},
   "outputs": [
    {
     "data": {
      "text/plain": [
       "0.9717523809523809"
      ]
     },
     "execution_count": 8,
     "metadata": {},
     "output_type": "execute_result"
    }
   ],
   "source": [
    "grid_search.best_score_"
   ]
  },
  {
   "cell_type": "code",
   "execution_count": 9,
   "metadata": {},
   "outputs": [
    {
     "data": {
      "text/plain": [
       "0.9719428571428571"
      ]
     },
     "execution_count": 9,
     "metadata": {},
     "output_type": "execute_result"
    }
   ],
   "source": [
    "from sklearn.metrics import accuracy_score\n",
    "\n",
    "y_pred = grid_search.predict(X_test)\n",
    "accuracy_score(y_test, y_pred)"
   ]
  },
  {
   "cell_type": "code",
   "execution_count": 10,
   "metadata": {},
   "outputs": [
    {
     "name": "stdout",
     "output_type": "stream",
     "text": [
      "              precision    recall  f1-score   support\n",
      "\n",
      "           0       0.98      0.99      0.99      1714\n",
      "           1       0.96      1.00      0.98      1977\n",
      "           2       0.98      0.96      0.97      1761\n",
      "           3       0.97      0.97      0.97      1806\n",
      "           4       0.97      0.97      0.97      1587\n",
      "           5       0.97      0.97      0.97      1607\n",
      "           6       0.98      0.99      0.99      1761\n",
      "           7       0.96      0.97      0.97      1878\n",
      "           8       0.99      0.94      0.96      1657\n",
      "           9       0.95      0.96      0.96      1752\n",
      "\n",
      "    accuracy                           0.97     17500\n",
      "   macro avg       0.97      0.97      0.97     17500\n",
      "weighted avg       0.97      0.97      0.97     17500\n",
      "\n"
     ]
    }
   ],
   "source": [
    "from sklearn.metrics import classification_report\n",
    "print(classification_report(y_test, y_pred, \n",
    "                            target_names = np.unique(y)))"
   ]
  }
 ],
 "metadata": {
  "kernelspec": {
   "display_name": "Python 3",
   "language": "python",
   "name": "python3"
  },
  "language_info": {
   "codemirror_mode": {
    "name": "ipython",
    "version": 3
   },
   "file_extension": ".py",
   "mimetype": "text/x-python",
   "name": "python",
   "nbconvert_exporter": "python",
   "pygments_lexer": "ipython3",
   "version": "3.8.8"
  }
 },
 "nbformat": 4,
 "nbformat_minor": 4
}
