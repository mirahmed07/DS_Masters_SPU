{
 "cells": [
  {
   "cell_type": "markdown",
   "metadata": {},
   "source": [
    "# 1. Write\t a\t Python\t function\t that\t accepts\t a\t string\t and\t calculates\t the\t number\t of\t upper\t case letters\tand\tlower\tcase\tletters.\tInput\tstring\tmight\tcontain\tspecial\tcharacters\t(say\t@,\t#).\tYou need\tto\tignore\tthem\twhile\tperforming\tthe\tcalculation.\t"
   ]
  },
  {
   "cell_type": "code",
   "execution_count": 1,
   "metadata": {
    "scrolled": true
   },
   "outputs": [],
   "source": [
    "my_string = 'AsDfGhJkL123@'"
   ]
  },
  {
   "cell_type": "code",
   "execution_count": 2,
   "metadata": {},
   "outputs": [],
   "source": [
    "def case_count(string):\n",
    "    fixed_string = ''.join([char for char in my_string if char.isalpha()])\n",
    "    uppercase_count = 0\n",
    "    lowercase_count = 0\n",
    "    for char in fixed_string:\n",
    "        if char.isupper():\n",
    "            uppercase_count += 1\n",
    "        else:\n",
    "            lowercase_count += 1\n",
    "    print(f'Number of uppercase letters = {uppercase_count}')\n",
    "    print(f'Number of lowercase letters = {lowercase_count}')"
   ]
  },
  {
   "cell_type": "code",
   "execution_count": 3,
   "metadata": {},
   "outputs": [
    {
     "name": "stdout",
     "output_type": "stream",
     "text": [
      "Number of uppercase letters = 5\n",
      "Number of lowercase letters = 4\n"
     ]
    }
   ],
   "source": [
    "case_count(my_string)"
   ]
  },
  {
   "cell_type": "markdown",
   "metadata": {},
   "source": [
    "# 2. Write\ta\tPython\tfunction\tthat\tchecks\twhether\ta\tnumber\tis\tin\ta\tgiven\trange\t(inclusive\tof\thigh and\tlow)"
   ]
  },
  {
   "cell_type": "code",
   "execution_count": 4,
   "metadata": {},
   "outputs": [],
   "source": [
    "def range_check(a,b,n):\n",
    "    if a < b:\n",
    "        if n >= a:\n",
    "            if n <= b:\n",
    "                print(f\"{n} is within the range {a}-{b}\")\n",
    "            else:\n",
    "                print(f\"{n} is not within the range {a}-{b}\")    \n",
    "        else:\n",
    "            print(f\"{n} is not within the range {a}-{b}\")                \n",
    "    if a > b:\n",
    "        if n <= a:\n",
    "            if n >= b:\n",
    "                print(f\"{n} is within the range {b}-{a}\")\n",
    "            else: \n",
    "                print(f\"{n} is not within the range {b}-{a}\")\n",
    "        else:\n",
    "            print(f\"{n} is not within the range {b}-{a}\") "
   ]
  },
  {
   "cell_type": "code",
   "execution_count": 5,
   "metadata": {},
   "outputs": [
    {
     "name": "stdout",
     "output_type": "stream",
     "text": [
      "0 is not within the range 1-9\n",
      "1 is within the range 1-9\n",
      "5 is within the range 1-9\n",
      "9 is within the range 1-9\n",
      "10 is not within the range 1-9\n"
     ]
    }
   ],
   "source": [
    "# Test 1\n",
    "range_check(1,9,0)\n",
    "range_check(1,9,1)\n",
    "range_check(1,9,5)\n",
    "range_check(1,9,9)\n",
    "range_check(1,9,10)"
   ]
  },
  {
   "cell_type": "code",
   "execution_count": 6,
   "metadata": {},
   "outputs": [
    {
     "name": "stdout",
     "output_type": "stream",
     "text": [
      "0 is not within the range 1-9\n",
      "1 is within the range 1-9\n",
      "5 is within the range 1-9\n",
      "9 is within the range 1-9\n",
      "10 is not within the range 1-9\n"
     ]
    }
   ],
   "source": [
    "# Test 2\n",
    "range_check(9,1,0)\n",
    "range_check(9,1,1)\n",
    "range_check(9,1,5)\n",
    "range_check(9,1,9)\n",
    "range_check(9,1,10)"
   ]
  },
  {
   "cell_type": "markdown",
   "metadata": {},
   "source": [
    "# 3. Read\t a\t string\t and\t a\t pattern\t and\t return\t True\tif\t the\t pattern\t exists\tin\t the\t string\t otherwise False.\t"
   ]
  },
  {
   "cell_type": "code",
   "execution_count": 7,
   "metadata": {},
   "outputs": [
    {
     "name": "stdout",
     "output_type": "stream",
     "text": [
      "True\n"
     ]
    }
   ],
   "source": [
    "# Scenario 1\n",
    "my_string = 'This is a string'\n",
    "pattern = 'is'\n",
    "if pattern in my_string:\n",
    "    print('True')\n",
    "else:\n",
    "    print('False')"
   ]
  },
  {
   "cell_type": "code",
   "execution_count": 8,
   "metadata": {},
   "outputs": [
    {
     "name": "stdout",
     "output_type": "stream",
     "text": [
      "False\n"
     ]
    }
   ],
   "source": [
    "# Scenario 2\n",
    "my_string = 'This is a string'\n",
    "pattern = 'isa'\n",
    "if pattern in my_string:\n",
    "    print('True')\n",
    "else:\n",
    "    print('False')"
   ]
  },
  {
   "cell_type": "code",
   "execution_count": 9,
   "metadata": {},
   "outputs": [
    {
     "name": "stdout",
     "output_type": "stream",
     "text": [
      "True\n"
     ]
    }
   ],
   "source": [
    "# Alternate solution - scenario 1\n",
    "my_string = 'This is a string'\n",
    "pattern = 'is'\n",
    "if my_string.find(pattern) >= 0:\n",
    "    print('True')\n",
    "else:\n",
    "    print('False')"
   ]
  },
  {
   "cell_type": "code",
   "execution_count": 10,
   "metadata": {},
   "outputs": [
    {
     "name": "stdout",
     "output_type": "stream",
     "text": [
      "False\n"
     ]
    }
   ],
   "source": [
    "# Alternate solution - scenario 2\n",
    "my_string = 'This is a string'\n",
    "pattern = 'isa'\n",
    "if my_string.find(pattern) >= 0:\n",
    "    print('True')\n",
    "else:\n",
    "    print('False')"
   ]
  },
  {
   "cell_type": "markdown",
   "metadata": {},
   "source": [
    "# 4. Write\ta\tPython\tprogram\tto\tfind\tthe\tfactorial\tof\ta\tnumber"
   ]
  },
  {
   "cell_type": "code",
   "execution_count": 11,
   "metadata": {},
   "outputs": [],
   "source": [
    "def factorial(number):\n",
    "#     number = int(input(\"Enter an integer:\"))\n",
    "    result = 1\n",
    "    if number == 0:\n",
    "        print(\"The factorial of 0 is 1\")\n",
    "    else:\n",
    "        for i in range(1,number+1):\n",
    "            result = result*i\n",
    "        print(f'The factorial of {number} is {result}')"
   ]
  },
  {
   "cell_type": "code",
   "execution_count": 12,
   "metadata": {},
   "outputs": [
    {
     "name": "stdout",
     "output_type": "stream",
     "text": [
      "The factorial of 6 is 720\n"
     ]
    }
   ],
   "source": [
    "factorial(6)"
   ]
  },
  {
   "cell_type": "code",
   "execution_count": 13,
   "metadata": {},
   "outputs": [
    {
     "name": "stdout",
     "output_type": "stream",
     "text": [
      "The factorial of 0 is 1\n"
     ]
    }
   ],
   "source": [
    "factorial(0)"
   ]
  },
  {
   "cell_type": "markdown",
   "metadata": {},
   "source": [
    "# 5. Implement\t a\t simple\t calculator\t :\t Read\t two\t numbers\t and\t the\t operation\t (addition/ subtraction/multiplication/division/reminder/floor\tdivision), Output\tthe\tcorresponding\tresult.\t[Hint:\tuse\tif/elif/else]"
   ]
  },
  {
   "cell_type": "code",
   "execution_count": 14,
   "metadata": {},
   "outputs": [],
   "source": [
    "def calculator(number1,number2,operator):\n",
    "    if operator.lower() == \"addition\":\n",
    "        result = number1 + number2\n",
    "    elif operator.lower() == \"subtraction\":\n",
    "        result = number1 - number2\n",
    "    elif operator.lower() == \"multiplication\":\n",
    "        result = number1 * number2\n",
    "    elif operator.lower() == \"division\":\n",
    "        result = number1 / number2\n",
    "    elif operator.lower() == \"remainder\":\n",
    "        result = number1 % number2\n",
    "    elif operator.lower() == \"floor division\":\n",
    "        result = number1 // number2\n",
    "    return result"
   ]
  },
  {
   "cell_type": "code",
   "execution_count": 15,
   "metadata": {},
   "outputs": [
    {
     "data": {
      "text/plain": [
       "19"
      ]
     },
     "execution_count": 15,
     "metadata": {},
     "output_type": "execute_result"
    }
   ],
   "source": [
    "calculator(16,3,\"addition\")"
   ]
  },
  {
   "cell_type": "code",
   "execution_count": 16,
   "metadata": {},
   "outputs": [
    {
     "data": {
      "text/plain": [
       "13"
      ]
     },
     "execution_count": 16,
     "metadata": {},
     "output_type": "execute_result"
    }
   ],
   "source": [
    "calculator(16,3,\"subtraction\")"
   ]
  },
  {
   "cell_type": "code",
   "execution_count": 17,
   "metadata": {},
   "outputs": [
    {
     "data": {
      "text/plain": [
       "48"
      ]
     },
     "execution_count": 17,
     "metadata": {},
     "output_type": "execute_result"
    }
   ],
   "source": [
    "calculator(16,3,\"multiplication\")"
   ]
  },
  {
   "cell_type": "code",
   "execution_count": 18,
   "metadata": {},
   "outputs": [
    {
     "data": {
      "text/plain": [
       "5.333333333333333"
      ]
     },
     "execution_count": 18,
     "metadata": {},
     "output_type": "execute_result"
    }
   ],
   "source": [
    "calculator(16,3,\"division\")"
   ]
  },
  {
   "cell_type": "code",
   "execution_count": 19,
   "metadata": {},
   "outputs": [
    {
     "data": {
      "text/plain": [
       "1"
      ]
     },
     "execution_count": 19,
     "metadata": {},
     "output_type": "execute_result"
    }
   ],
   "source": [
    "calculator(16,3,\"remainder\")"
   ]
  },
  {
   "cell_type": "code",
   "execution_count": 20,
   "metadata": {},
   "outputs": [
    {
     "data": {
      "text/plain": [
       "5"
      ]
     },
     "execution_count": 20,
     "metadata": {},
     "output_type": "execute_result"
    }
   ],
   "source": [
    "calculator(16,3,\"floor division\")"
   ]
  },
  {
   "cell_type": "markdown",
   "metadata": {},
   "source": [
    "# 6. Write\ta\tPython\tprogram\tto\tcalculate\tthe\tarea\tof\ta\ttriangle"
   ]
  },
  {
   "cell_type": "code",
   "execution_count": 21,
   "metadata": {},
   "outputs": [],
   "source": [
    "def triangle_area(a,b,c):\n",
    "    s = (a+b+c)/2\n",
    "    area=(s*(s-a)*(s-b)*(s-c))**(.5)\n",
    "    return area"
   ]
  },
  {
   "cell_type": "code",
   "execution_count": 22,
   "metadata": {},
   "outputs": [
    {
     "data": {
      "text/plain": [
       "24.0"
      ]
     },
     "execution_count": 22,
     "metadata": {},
     "output_type": "execute_result"
    }
   ],
   "source": [
    "triangle_area(6,8,10)"
   ]
  },
  {
   "cell_type": "markdown",
   "metadata": {},
   "source": [
    "# 7. You\t are\t given\t three\t sides\t of\t a\t triangle:\t a,\t b\t and\t c.\t Return\t True\tif\t they\t constitute\t a\t rightangled\ttriangle."
   ]
  },
  {
   "cell_type": "code",
   "execution_count": 23,
   "metadata": {},
   "outputs": [],
   "source": [
    "def right_triangle_check(a,b,c):\n",
    "    if (a**2 + b**2 == c**2) or (c**2 + b**2 == a**2) or (a**2 + c**2 == b**2):\n",
    "        print(\"It is a right triangle!\")\n",
    "    else:\n",
    "        print(\"It is not a right triangle!\")"
   ]
  },
  {
   "cell_type": "code",
   "execution_count": 24,
   "metadata": {},
   "outputs": [
    {
     "name": "stdout",
     "output_type": "stream",
     "text": [
      "It is a right triangle!\n"
     ]
    }
   ],
   "source": [
    "right_triangle_check(3,4,5)"
   ]
  },
  {
   "cell_type": "code",
   "execution_count": 25,
   "metadata": {},
   "outputs": [
    {
     "name": "stdout",
     "output_type": "stream",
     "text": [
      "It is a right triangle!\n"
     ]
    }
   ],
   "source": [
    "right_triangle_check(5,4,3)"
   ]
  },
  {
   "cell_type": "code",
   "execution_count": 26,
   "metadata": {},
   "outputs": [
    {
     "name": "stdout",
     "output_type": "stream",
     "text": [
      "It is a right triangle!\n"
     ]
    }
   ],
   "source": [
    "right_triangle_check(3,5,4)"
   ]
  },
  {
   "cell_type": "code",
   "execution_count": 27,
   "metadata": {},
   "outputs": [
    {
     "name": "stdout",
     "output_type": "stream",
     "text": [
      "It is not a right triangle!\n"
     ]
    }
   ],
   "source": [
    "right_triangle_check(4,6,3)"
   ]
  },
  {
   "cell_type": "markdown",
   "metadata": {},
   "source": [
    "# 8. Write\ta\tpython\tprogram\twhich\treturns\tthe\treverse\tof\ta\tnumber.\tDon't\tuse\tstring\toperations."
   ]
  },
  {
   "cell_type": "code",
   "execution_count": 28,
   "metadata": {},
   "outputs": [],
   "source": [
    "def reverse_number():\n",
    "    number = int(input(\"Enter an integer number: \"))\n",
    "    rev_number = 0  \n",
    "\n",
    "    while (number > 0): \n",
    "        remainder = number % 10  \n",
    "        rev_number = (rev_number * 10) + remainder  \n",
    "        number = number // 10 \n",
    "\n",
    "    print(f\"The reverse number is : {rev_number}\") "
   ]
  },
  {
   "cell_type": "code",
   "execution_count": 29,
   "metadata": {},
   "outputs": [
    {
     "name": "stdout",
     "output_type": "stream",
     "text": [
      "Enter an integer number: 12345\n",
      "The reverse number is : 54321\n"
     ]
    }
   ],
   "source": [
    "reverse_number()"
   ]
  },
  {
   "cell_type": "markdown",
   "metadata": {},
   "source": [
    "# 9. Take\ttwo\tstrings\tfrom\tSTDIN,\treturns\tTrue\tif\tone\tis\tthe\tpalindrome\tof\tanother. Palindrome:\t a\t word,\t phrase,\t or\t sequence\t that\t reads\t the\t same\t backward\t as\t forward,\t e.g.,\tmadam"
   ]
  },
  {
   "cell_type": "code",
   "execution_count": 30,
   "metadata": {},
   "outputs": [],
   "source": [
    "def palindromes_check():\n",
    "    string1 = input(\"Enter first string: \").lower()\n",
    "    string2 = input(\"Enter second string: \").lower()\n",
    "\n",
    "    if (string1 == string1[::-1]) & (string1[::-1] == string2):\n",
    "        return True\n",
    "    else:\n",
    "        return False"
   ]
  },
  {
   "cell_type": "code",
   "execution_count": 31,
   "metadata": {},
   "outputs": [
    {
     "name": "stdout",
     "output_type": "stream",
     "text": [
      "Enter first string: madam\n",
      "Enter second string: Madam\n"
     ]
    },
    {
     "data": {
      "text/plain": [
       "True"
      ]
     },
     "execution_count": 31,
     "metadata": {},
     "output_type": "execute_result"
    }
   ],
   "source": [
    "palindromes_check()"
   ]
  },
  {
   "cell_type": "markdown",
   "metadata": {},
   "source": [
    "# 10. Write\ta\tPython\tprogram\tto\tfind\tthe\taverage\tof\tall\tthe\tnumbers\tin\ta\tgiven\tlist."
   ]
  },
  {
   "cell_type": "code",
   "execution_count": 32,
   "metadata": {},
   "outputs": [],
   "source": [
    "def list_average(my_list):\n",
    "    average = sum(my_list) / len(my_list)\n",
    "    return average"
   ]
  },
  {
   "cell_type": "code",
   "execution_count": 33,
   "metadata": {},
   "outputs": [
    {
     "name": "stdout",
     "output_type": "stream",
     "text": [
      "[0, 1, 2, 3, 4]\n",
      "Average of the list elements is = 2.0\n"
     ]
    }
   ],
   "source": [
    "num_list = [x for x in range(5)]\n",
    "print(num_list)\n",
    "print(f'Average of the list elements is = {list_average(num_list)}')"
   ]
  },
  {
   "cell_type": "markdown",
   "metadata": {},
   "source": [
    "# 11. Write\ta\tPython\tprogram\tto\tcombine\tvalues\tin\ta\tlist\tof\tdictionaries.\t"
   ]
  },
  {
   "cell_type": "code",
   "execution_count": 34,
   "metadata": {},
   "outputs": [],
   "source": [
    "input_list = [{'item': 'item1', 'amount': 400},{'item': 'item2', 'amount': 300},\\\n",
    "              {'item': 'item1', 'amount': 750}]"
   ]
  },
  {
   "cell_type": "code",
   "execution_count": 35,
   "metadata": {},
   "outputs": [],
   "source": [
    "def combined_output(item_list):\n",
    "    combined_output = {}\n",
    "    for item in item_list:\n",
    "        if item['item'] not in combined_output:\n",
    "            combined_output[item['item']] = item['amount']\n",
    "        else:\n",
    "            combined_output[item['item']] += item['amount']\n",
    "    return combined_output"
   ]
  },
  {
   "cell_type": "code",
   "execution_count": 36,
   "metadata": {},
   "outputs": [
    {
     "data": {
      "text/plain": [
       "{'item1': 1150, 'item2': 300}"
      ]
     },
     "execution_count": 36,
     "metadata": {},
     "output_type": "execute_result"
    }
   ],
   "source": [
    "combined_output(input_list)"
   ]
  },
  {
   "cell_type": "code",
   "execution_count": 37,
   "metadata": {
    "scrolled": true
   },
   "outputs": [
    {
     "data": {
      "text/plain": [
       "{}"
      ]
     },
     "execution_count": 37,
     "metadata": {},
     "output_type": "execute_result"
    }
   ],
   "source": [
    "combined_output([])"
   ]
  },
  {
   "cell_type": "markdown",
   "metadata": {},
   "source": [
    "Empty list will return an empty dictionary."
   ]
  },
  {
   "cell_type": "code",
   "execution_count": 38,
   "metadata": {},
   "outputs": [
    {
     "name": "stdout",
     "output_type": "stream",
     "text": [
      "{'item1': 1150, 'item2': 300}\n"
     ]
    }
   ],
   "source": [
    "# Alternate solution\n",
    "from collections import Counter\n",
    "\n",
    "combined_values = Counter()\n",
    "for item in input_list:\n",
    "    combined_values[item['item']] += item['amount']\n",
    "print(dict(combined_values)) "
   ]
  }
 ],
 "metadata": {
  "kernelspec": {
   "display_name": "Python 3",
   "language": "python",
   "name": "python3"
  },
  "language_info": {
   "codemirror_mode": {
    "name": "ipython",
    "version": 3
   },
   "file_extension": ".py",
   "mimetype": "text/x-python",
   "name": "python",
   "nbconvert_exporter": "python",
   "pygments_lexer": "ipython3",
   "version": "3.8.8"
  }
 },
 "nbformat": 4,
 "nbformat_minor": 4
}
