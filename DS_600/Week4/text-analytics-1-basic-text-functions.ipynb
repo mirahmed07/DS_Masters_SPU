{
 "cells": [
  {
   "cell_type": "markdown",
   "metadata": {
    "_cell_guid": "79c7e3d0-c299-4dcb-8224-4455121ee9b0",
    "_uuid": "d629ff2d2480ee46fbb7e2d37f6b5fab8052498a",
    "collapsed": true
   },
   "source": [
    "> <BIG><H1><Font color = \"blue\"> Introduction to Text Analytics </Font> </H1> </BIG>  \n",
    "\n",
    "<P>Just to give you a quick motivation on why you should be interested to work with text is the immence scope of text analytics in today's world. You must have heard of various terms I am going to through below, they are very strong implementation of text analytics: \n",
    "</P>\n",
    "<P>In today's world we have created <B>ROBOTs</B>, <B>Chatbots</B>, building <B>Artificially Intelligent Machines</B>, where you ask a question in your own languages (natural language) and it process the input using <B>NLP (Natural Language Processing)</B>. It converts the natural language instructions into machine language which can further be converted to machine instructions and then can be used to fetch the information to answer your query. It may use <B>Sentiment Analysis</B>  techniques by using <B>text analytics</B>/<B>stream analytics</B>/<B>text mining</B>, and tell you what people are buying, what are the latest trending topics, what issues are worrying people or whom they may prefer to vote in the next elections.</P> \n",
    "<P>Sentiment mining, product recommendation by shopping portals, stock market analysis, market basket analysis, fraud detection are few use cases of text analytics. Getting involved in one of these would be quite exciting for you. Enjoy texting..</P>\n",
    "<BR><HR>   \n",
    "    \n",
    "\n",
    "<H2><Font color = \"navy\">Working with Text in Python  </Font></H2>         \n",
    "  \n",
    "To experience the great fun of <B>working with text in python</B>, we should be aware of important basic operations on text data and their related functions. Next major learning on text processing would be exploring the <B>nltk</B> module. Basically you don't need to manually write long codes, nltk does most of it for you. But before jumping in to nltk & NLP, we should get some hands on basic text functions. The purpose of this kernal is to touch base these, then we will start the fun part of text processing.\n",
    "\n",
    "Like any programming languages, we have several structures here as well to hold different types/shapes of data. <BR>\n",
    "    *Alphabets*        : A-Z, a-z  \n",
    "    *Digits*               : 0-9  \n",
    "    *Symbols*          : ~!@#$%^&*(){}\\|:\";'<>?,./ and so on.   \n",
    "\n",
    "<BR>\n",
    " > Constructs: Character, word & sentence\n",
    "<ul>\n",
    "  <li>A character is any of the above. </li>\n",
    "  <li>A word is meaningful combination of more than one character.  (Often alphabets only)</li>\n",
    "  <li>A Sentence is grammatically arranged combination of such words.  It is the basic unit of language which expresses a complete thought.</li>\n",
    "  <li>A file is collection of such sentences.</li>\n",
    "</ul>"
   ]
  },
  {
   "cell_type": "markdown",
   "metadata": {
    "_cell_guid": "6d00813d-7e89-4bd2-a3e4-0fde47ac7be4",
    "_uuid": "8e8c48924ad01dc0e1f8eaa8af7d0ff933fe32a9",
    "collapsed": true
   },
   "source": [
    "<P><SMALL><I>References: \n",
    "i) Applied text mining in python @ Coursera. \n",
    "ii) Natural Lanuage Processing in Python @ Udemy.  iii) nltk - The Book.</I></SMALL></P>\n",
    "    "
   ]
  },
  {
   "cell_type": "markdown",
   "metadata": {
    "_cell_guid": "d687eb75-e89b-4866-9538-5bdfe535485f",
    "_uuid": "46aa38cf5eeb70b4affe3c63439e19fc6420ca23"
   },
   "source": [
    "<BR>\n",
    "<H2><Font color = \"blue\"> BASIC FUNCTIONS </Font> </H2>\n",
    "<HR>"
   ]
  },
  {
   "cell_type": "code",
   "execution_count": 1,
   "metadata": {
    "_cell_guid": "884d2750-92c5-433b-89fc-efde9cb2de60",
    "_uuid": "ef04b1f70703aec4ba7dddc0c2d63ba0cc043ee2"
   },
   "outputs": [],
   "source": [
    "# Lets create a text object to work upon\n",
    "txt = \"A word is meaningful combination of more than one character.\"\n",
    "print(txt)"
   ]
  },
  {
   "cell_type": "code",
   "execution_count": 2,
   "metadata": {
    "_cell_guid": "bee2dcc6-6f31-4e87-9b26-9f0604b6e794",
    "_uuid": "0bc4b9161dcef4f2c3b3c1eca5873e088b85ef0a"
   },
   "outputs": [],
   "source": [
    "# Find the length of a String (no. of charater).\n",
    "len(txt)"
   ]
  },
  {
   "cell_type": "code",
   "execution_count": 3,
   "metadata": {
    "_cell_guid": "a3aa0f62-b858-4051-8690-b6887f54d0eb",
    "_uuid": "934a4a8d9444e8adcd5c0874e098961fa8d8b0d6"
   },
   "outputs": [
    {
     "name": "stdout",
     "output_type": "stream",
     "text": [
      "['A', 'word', 'is', 'meaningful', 'combination', 'of', 'more', 'than', 'one', 'character.']\n"
     ]
    }
   ],
   "source": [
    "## Split a sentence into words\n",
    "# The split() function below breaks our sentence into words based on the split character provided as paraneter.\n",
    "# The default splitting character is space. split() returns a list of tokens/words.\n",
    "words = txt.split(' ')\n",
    "print(words)"
   ]
  },
  {
   "cell_type": "code",
   "execution_count": 4,
   "metadata": {
    "_cell_guid": "53c3fc58-adf7-4250-a3de-0c27b3375014",
    "_uuid": "b5d33f55c487252ab1fe9c3ce14d0fdcc5da1ed2"
   },
   "outputs": [
    {
     "data": {
      "text/plain": [
       "10"
      ]
     },
     "execution_count": 4,
     "metadata": {},
     "output_type": "execute_result"
    }
   ],
   "source": [
    "# How many words/splits we have?\n",
    "len(words)\n",
    "# len() works in same way for strings & lists both."
   ]
  },
  {
   "cell_type": "markdown",
   "metadata": {
    "_cell_guid": "7d6cdf6d-1e77-45d4-a003-03fad5c006b8",
    "_uuid": "35f3c1d0d2e144639190d4867c8fcd97cab4714d"
   },
   "source": [
    "> **Tokenization :** When we split text data into words or sentences then each split is called a token. The process of breaking the data into tokens is called tokenization. We have various built-in functions for these kind of tasks which we will be working-on in coming sessions. The **nltk** *(Natural Language Tool Kit)* module provides many more useful functions for text processing."
   ]
  },
  {
   "cell_type": "code",
   "execution_count": 5,
   "metadata": {
    "_cell_guid": "deb8d5a2-4931-4aee-a79d-a04da1d56960",
    "_uuid": "42f22be1703f65f57421494e6658ab8d17b79404"
   },
   "outputs": [
    {
     "data": {
      "text/plain": [
       "['word', 'meaningful', 'combination', 'more', 'than', 'character.']"
      ]
     },
     "execution_count": 5,
     "metadata": {},
     "output_type": "execute_result"
    }
   ],
   "source": [
    "## Filterinag words in a list\n",
    "# Suppose we want to subset only for those words that are 4 or more character long\n",
    "[word for word in words if len(word) >= 4]"
   ]
  },
  {
   "cell_type": "code",
   "execution_count": 6,
   "metadata": {
    "_cell_guid": "766aec26-9e81-4218-82f6-340538dd620e",
    "_uuid": "576cfeca9cff5356d01d05e149bb548bc0fb94fe"
   },
   "outputs": [
    {
     "data": {
      "text/plain": [
       "['A']"
      ]
     },
     "execution_count": 6,
     "metadata": {},
     "output_type": "execute_result"
    }
   ],
   "source": [
    "# Find words with first letter as CAPITAL\n",
    "[word for word in words if word.istitle()]"
   ]
  },
  {
   "cell_type": "code",
   "execution_count": 7,
   "metadata": {
    "_cell_guid": "0eb488ca-7eb6-4f05-965b-837d1853d53e",
    "_uuid": "1f573abbe67238f870a7dcf98e3df84939618e65"
   },
   "outputs": [
    {
     "data": {
      "text/plain": [
       "['combination', 'than']"
      ]
     },
     "execution_count": 7,
     "metadata": {},
     "output_type": "execute_result"
    }
   ],
   "source": [
    "# Find words ends with 'n'\n",
    "[word for word in words if word.endswith('n')]"
   ]
  },
  {
   "cell_type": "code",
   "execution_count": 8,
   "metadata": {
    "_cell_guid": "413f9476-e9cb-4e32-90ae-f78a9f364df6",
    "_uuid": "e0532eb4802070e8b725b6f6688a7d6736b29364"
   },
   "outputs": [
    {
     "data": {
      "text/plain": [
       "['To', 'to']"
      ]
     },
     "execution_count": 8,
     "metadata": {},
     "output_type": "execute_result"
    }
   ],
   "source": [
    "# Edit: MM_20180518\n",
    "# A SHORTCUT to use key character to find both upper and lower case strings\n",
    "# Use lower() or upper() in conjunction.\n",
    "\n",
    "[word for word in 'To be or not to be'.split(' ') if word.upper().startswith('T')]"
   ]
  },
  {
   "cell_type": "code",
   "execution_count": 9,
   "metadata": {
    "_cell_guid": "009d671e-ad6c-4d26-9e7d-04ec00e399e1",
    "_uuid": "b36ece5be768b6eff59bb35fa4493b5d48a8153e"
   },
   "outputs": [
    {
     "data": {
      "text/plain": [
       "6"
      ]
     },
     "execution_count": 9,
     "metadata": {},
     "output_type": "execute_result"
    }
   ],
   "source": [
    "### Finding Unique words among the list of words\n",
    "# When you are working with text, you wouldn't want to keep dulicate words in your bag.\n",
    "# This will cause redundant works for the program, and will consume extra memory as well\n",
    "\n",
    "# Let's create a string/sentence with duplicate words.\n",
    "txt1 = 'To be or not to be'           # Here 'to' & 'be' are duplicates.\n",
    "words1 = txt1.split(' ')                # Split the words\n",
    "\n",
    "# Print number of elements in the list\n",
    "len(words1)"
   ]
  },
  {
   "cell_type": "code",
   "execution_count": 10,
   "metadata": {
    "_cell_guid": "0a143285-927d-4291-9b10-4552476a2f95",
    "_uuid": "84877d481cec108df006a956c000db8f33807c93"
   },
   "outputs": [
    {
     "data": {
      "text/plain": [
       "5"
      ]
     },
     "execution_count": 10,
     "metadata": {},
     "output_type": "execute_result"
    }
   ],
   "source": [
    "# Print unique number of elements in the list\n",
    "len(set(words1))"
   ]
  },
  {
   "cell_type": "code",
   "execution_count": 11,
   "metadata": {
    "_cell_guid": "c0946e49-46af-4237-9e94-cf100c66e72f",
    "_uuid": "c2169927b07d91fc7abbaac26aa6a446f3271bec"
   },
   "outputs": [
    {
     "data": {
      "text/plain": [
       "4"
      ]
     },
     "execution_count": 11,
     "metadata": {},
     "output_type": "execute_result"
    }
   ],
   "source": [
    "# Here, we had 4 unique words but the instances of 'to' have different cases.\n",
    "# We can convert these in lower cases to remove complete redundancy.\n",
    "len(set([word.lower() for word in words1]))"
   ]
  },
  {
   "cell_type": "markdown",
   "metadata": {
    "_cell_guid": "f4165efb-1cd1-4882-8ef4-e0f2a4851910",
    "_uuid": "28c8b9a5a99e12d682bdcb378a943cd0fb089817"
   },
   "source": [
    " <BR>\n",
    "<H2><Font color = \"blue\"> Subsetting a String </Font> </H2>\n",
    "<HR>"
   ]
  },
  {
   "cell_type": "code",
   "execution_count": 12,
   "metadata": {
    "_cell_guid": "5fbbd08f-eb0c-4d12-a853-7bdb88f64da7",
    "_uuid": "bdc22b4dd6b41b59472db26305150279edef9709"
   },
   "outputs": [
    {
     "data": {
      "text/plain": [
       "'Hell'"
      ]
     },
     "execution_count": 12,
     "metadata": {},
     "output_type": "execute_result"
    }
   ],
   "source": [
    "# We can subset the string just like a list.\n",
    "# index in python starts with 0, and is exclusive of upper range\n",
    "txt2 = 'Hello World!'\n",
    "\n",
    "txt2[0:4]"
   ]
  },
  {
   "cell_type": "markdown",
   "metadata": {
    "_cell_guid": "52a63d51-e749-4d83-93c7-2faeff3a86ce",
    "_uuid": "fad67c1b0332a1de0d0e4482d41910695746b4d9"
   },
   "source": [
    "Notice above that 0-4 is 5 numbers (0,1,2,3,4), but it returned only 4 characters because the upper bound in exclusive."
   ]
  },
  {
   "cell_type": "code",
   "execution_count": 13,
   "metadata": {
    "_cell_guid": "8075be4e-879e-4405-a688-3cf9c02c7540",
    "_uuid": "f935e4ad995f722e19b2bd83992c1f348c794761"
   },
   "outputs": [
    {
     "data": {
      "text/plain": [
       "'Hell'"
      ]
     },
     "execution_count": 13,
     "metadata": {},
     "output_type": "execute_result"
    }
   ],
   "source": [
    "# We can omit lower bound in case we want to filter from start\n",
    "txt2[:4]     # This will return same result as above"
   ]
  },
  {
   "cell_type": "code",
   "execution_count": 14,
   "metadata": {
    "_cell_guid": "9037dd55-b946-438a-b8b5-f1ea6f159b09",
    "_uuid": "730711b59e819b73a02bd12e3a30f0dda6306e8d"
   },
   "outputs": [
    {
     "data": {
      "text/plain": [
       "'o World!'"
      ]
     },
     "execution_count": 14,
     "metadata": {},
     "output_type": "execute_result"
    }
   ],
   "source": [
    "# We can omit upper bound in case we want to filter till the end\n",
    "txt2[4:]"
   ]
  },
  {
   "cell_type": "code",
   "execution_count": 15,
   "metadata": {
    "_cell_guid": "a27a6732-8a8d-41cb-8a36-a1c9786b06b0",
    "_uuid": "48db781837c6cbee2a2cadff908bebdce334b7c8"
   },
   "outputs": [
    {
     "data": {
      "text/plain": [
       "'W'"
      ]
     },
     "execution_count": 15,
     "metadata": {},
     "output_type": "execute_result"
    }
   ],
   "source": [
    "# We can also put subsiquent filters to put a series of conditions\n",
    "txt2[6:][:1]      # To filter only the letter 'W' from the string"
   ]
  },
  {
   "cell_type": "code",
   "execution_count": 16,
   "metadata": {
    "_cell_guid": "1771e1e0-f0de-4765-a87e-8af00c277672",
    "_uuid": "b8b9e62e2663fe2c830b0a15c38ebf1f1f32d626"
   },
   "outputs": [
    {
     "name": "stdout",
     "output_type": "stream",
     "text": [
      "['H', 'e', 'l', 'l', 'o', ' ', 'W', 'o', 'r', 'l', 'd', '!']\n",
      "['H', 'e', 'l', 'l', 'o', ' ', 'W', 'o', 'r', 'l', 'd', '!']\n"
     ]
    }
   ],
   "source": [
    "### Fetch characters from a String\n",
    "# We can break our string into a character list in two ways\n",
    "# Using the list() function:\n",
    "print(list(txt2))\n",
    "\n",
    "# By looping in:\n",
    "print([c for c in txt2])\n",
    "\n",
    "# Both would give same output."
   ]
  },
  {
   "cell_type": "markdown",
   "metadata": {
    "_cell_guid": "bf80e07b-77ab-479e-ac4a-ad6727cc04d5",
    "_uuid": "c6c8b65ca0a6a2349f08b76cad2fd1c3c2a6760b"
   },
   "source": [
    "<BR>\n",
    "<H2><Font color = \"blue\">  Word comparison functions </Font> </H2>\n",
    "<HR>"
   ]
  },
  {
   "cell_type": "code",
   "execution_count": 17,
   "metadata": {
    "_cell_guid": "0d0424ba-0198-4c6c-b03a-b6bd097f8dd2",
    "_uuid": "553e6e028db21384d77517950d73aa80266dc192"
   },
   "outputs": [
    {
     "data": {
      "text/plain": [
       "True"
      ]
     },
     "execution_count": 17,
     "metadata": {},
     "output_type": "execute_result"
    }
   ],
   "source": [
    "txt3 = \"Hello\"\n",
    "# Starts With\n",
    "txt2.startswith('H')    # Whether the string starts with 'H'"
   ]
  },
  {
   "cell_type": "code",
   "execution_count": 18,
   "metadata": {
    "_cell_guid": "7806f6b8-29b1-4812-b4e3-fb1f234e965e",
    "_uuid": "7ece25681ffe05fc8d24af8bca51f0bb16070fc8"
   },
   "outputs": [
    {
     "data": {
      "text/plain": [
       "False"
      ]
     },
     "execution_count": 18,
     "metadata": {},
     "output_type": "execute_result"
    }
   ],
   "source": [
    "# Ends With\n",
    "txt3.endswith('H')     # Whether the string ends with 'H'"
   ]
  },
  {
   "cell_type": "code",
   "execution_count": 19,
   "metadata": {
    "_cell_guid": "56c9d8ac-3b0d-458d-a6c0-6da2efe531bb",
    "_uuid": "8d09810bce8d8c2b7a8a3e95fe1c3f1ca21f3572"
   },
   "outputs": [
    {
     "data": {
      "text/plain": [
       "True"
      ]
     },
     "execution_count": 19,
     "metadata": {},
     "output_type": "execute_result"
    }
   ],
   "source": [
    "# Find character in string\n",
    "'e' in txt3            # Whether we have character 'e' in string"
   ]
  },
  {
   "cell_type": "code",
   "execution_count": 20,
   "metadata": {
    "_cell_guid": "7e23ba12-77a2-46df-bced-49f464f2e2c8",
    "_uuid": "f0d55727331b35f9c8ba4a8852a7fd8d0803e54c"
   },
   "outputs": [
    {
     "data": {
      "text/plain": [
       "False"
      ]
     },
     "execution_count": 20,
     "metadata": {},
     "output_type": "execute_result"
    }
   ],
   "source": [
    "# Whether it is in upper case\n",
    "txt3.isupper()"
   ]
  },
  {
   "cell_type": "code",
   "execution_count": 21,
   "metadata": {
    "_cell_guid": "c357245c-37d6-4a03-a64e-008ccb673a52",
    "_uuid": "f434608679f451104cb6b221af2a4a95a0fa640e"
   },
   "outputs": [
    {
     "data": {
      "text/plain": [
       "False"
      ]
     },
     "execution_count": 21,
     "metadata": {},
     "output_type": "execute_result"
    }
   ],
   "source": [
    "# Whether it is in lower case\n",
    "txt3.islower()"
   ]
  },
  {
   "cell_type": "code",
   "execution_count": 22,
   "metadata": {
    "_cell_guid": "ddf445f9-419a-4f87-b831-c3ad587a6c20",
    "_uuid": "305d3e46d5fec138a195ca8b53e370f3bca04987"
   },
   "outputs": [
    {
     "data": {
      "text/plain": [
       "True"
      ]
     },
     "execution_count": 22,
     "metadata": {},
     "output_type": "execute_result"
    }
   ],
   "source": [
    "# Whether it is in camel case\n",
    "txt3.istitle()"
   ]
  },
  {
   "cell_type": "code",
   "execution_count": 23,
   "metadata": {
    "_cell_guid": "cba2fc9f-7b20-4db7-9670-a6948493b42a",
    "_uuid": "83309987bba26e939a16fdae48c33c2caf5a45ae"
   },
   "outputs": [
    {
     "data": {
      "text/plain": [
       "True"
      ]
     },
     "execution_count": 23,
     "metadata": {},
     "output_type": "execute_result"
    }
   ],
   "source": [
    "# Whether the string has all alphabets only\n",
    "txt3.isalpha()"
   ]
  },
  {
   "cell_type": "code",
   "execution_count": 24,
   "metadata": {
    "_cell_guid": "909528c0-0d3d-4197-a871-c0178d152a09",
    "_uuid": "9da0743384786cce968ba2cdc82bc1a8c08f029e"
   },
   "outputs": [
    {
     "data": {
      "text/plain": [
       "False"
      ]
     },
     "execution_count": 24,
     "metadata": {},
     "output_type": "execute_result"
    }
   ],
   "source": [
    "# Whether the string is all numerics/digits\n",
    "txt3.isdigit()"
   ]
  },
  {
   "cell_type": "code",
   "execution_count": 25,
   "metadata": {
    "_cell_guid": "f0eb3221-bbe2-4c45-b242-94e81cc7bcd6",
    "_uuid": "6b8bd4b2e7bbec960e5363b50df0931b171dc267"
   },
   "outputs": [
    {
     "data": {
      "text/plain": [
       "True"
      ]
     },
     "execution_count": 25,
     "metadata": {},
     "output_type": "execute_result"
    }
   ],
   "source": [
    "# Whether the string is alpha-numeric\n",
    "'Hello123'.isalnum() "
   ]
  },
  {
   "cell_type": "markdown",
   "metadata": {
    "_cell_guid": "be8e1df9-5f62-455e-a30c-46d6a9942509",
    "_uuid": "62142130a4337889b96f4e759970f23683bdd74e"
   },
   "source": [
    " <BR>\n",
    " <H2><Font color = \"blue\">  String Operations </Font> </H2>\n",
    " <HR>"
   ]
  },
  {
   "cell_type": "code",
   "execution_count": 26,
   "metadata": {
    "_cell_guid": "8fdb2ea1-cbf4-48e5-960f-f8aca4d4988d",
    "_uuid": "f63f4d8ef5ce06645cbd106585832e0574ccbebf",
    "scrolled": true
   },
   "outputs": [
    {
     "name": "stdout",
     "output_type": "stream",
     "text": [
      "hello\n",
      "HELLO\n",
      "Hello\n"
     ]
    }
   ],
   "source": [
    "# Change cases of strings\n",
    "print(txt3.lower())   # To lower case\n",
    "print(txt3.upper())   # To upper case\n",
    "print(txt3.title())   # to camel case or title case"
   ]
  },
  {
   "cell_type": "code",
   "execution_count": 27,
   "metadata": {
    "_cell_guid": "77b0f21d-a811-4708-9a60-71b838701ad8",
    "_uuid": "7c0a5c6addf5ef97d7ff4f19ad93c8a5626a0569"
   },
   "outputs": [
    {
     "name": "stdout",
     "output_type": "stream",
     "text": [
      "['This', 'is', 'a', 'sentence.']\n"
     ]
    },
    {
     "data": {
      "text/plain": [
       "'This is a sentence.'"
      ]
     },
     "execution_count": 27,
     "metadata": {},
     "output_type": "execute_result"
    }
   ],
   "source": [
    "# SPLIT AND JOIN strings\n",
    "\n",
    "# We have seen how to split a string at the beginning, let's see how to join them back.\n",
    "txt4 = \"This is a sentence.\"\n",
    "words4 = txt4.split()\n",
    "print(words4)\n",
    "\n",
    "# We can join the tokens back to a sentence using join() function\n",
    "' '.join(words4)"
   ]
  },
  {
   "cell_type": "code",
   "execution_count": 28,
   "metadata": {
    "_cell_guid": "d052efa4-9015-42a2-ae5a-d821eb54f228",
    "_uuid": "62a59fc5e86e1808df192253fe2d5d5d8b14cf5c"
   },
   "outputs": [
    {
     "data": {
      "text/plain": [
       "['Hi, how are you?', 'Hope everything is fine at your end.']"
      ]
     },
     "execution_count": 28,
     "metadata": {},
     "output_type": "execute_result"
    }
   ],
   "source": [
    "# SPLIT String into sentences.\n",
    "\n",
    "# The function splitlines() can be used to split a string into sentences.\n",
    "# It splits by the new line character. Useful when working with text files (will see in later sections).\n",
    "txt5 = \"Hi, how are you?\\nHope everything is fine at your end.\"\n",
    "txt5.splitlines()"
   ]
  },
  {
   "cell_type": "code",
   "execution_count": 29,
   "metadata": {
    "_cell_guid": "fe0f3f60-757a-49da-b15b-f558f76bbabb",
    "_uuid": "b8ad5cfe753b9dac5e10b6a55837be9689386c8d"
   },
   "outputs": [
    {
     "data": {
      "text/plain": [
       "54"
      ]
     },
     "execution_count": 29,
     "metadata": {},
     "output_type": "execute_result"
    }
   ],
   "source": [
    "# Stripping/Trimming white spaces from string\n",
    "txt6 = \"  This is a string with white spaces on both sides..  \"\n",
    "\n",
    "# Length of the text before stripping\n",
    "len(txt6)"
   ]
  },
  {
   "cell_type": "code",
   "execution_count": 30,
   "metadata": {
    "_cell_guid": "b8a13d1a-acab-474f-a3eb-794909907ee9",
    "_uuid": "b1b9ca355e5f0195b1b3d2c1116a51225ad16ea0"
   },
   "outputs": [
    {
     "name": "stdout",
     "output_type": "stream",
     "text": [
      "This is a string with white spaces on both sides..\n",
      "50\n"
     ]
    }
   ],
   "source": [
    "# Stripping white spcae from both side\n",
    "print(txt6.strip())\n",
    "print(len(txt6.strip()))"
   ]
  },
  {
   "cell_type": "code",
   "execution_count": 31,
   "metadata": {
    "_cell_guid": "9c619e5f-7f97-4408-9811-e906cabd99a4",
    "_uuid": "b463ee3364902ff16ff438a07eceb63472fc6c19"
   },
   "outputs": [
    {
     "name": "stdout",
     "output_type": "stream",
     "text": [
      "  This is a string with white spaces on both sides..\n",
      "52\n"
     ]
    }
   ],
   "source": [
    "# Stripping white spcae from right side only\n",
    "print(txt6.rstrip())\n",
    "print(len(txt6.rstrip()))"
   ]
  },
  {
   "cell_type": "code",
   "execution_count": 32,
   "metadata": {
    "_cell_guid": "f2bc924b-b900-4cb1-a7a1-62b03daec029",
    "_uuid": "dae6cb2c49134de146113954cf884fedb26b259e"
   },
   "outputs": [
    {
     "name": "stdout",
     "output_type": "stream",
     "text": [
      "This is a string with white spaces on both sides..  \n",
      "52\n"
     ]
    }
   ],
   "source": [
    "# Stripping white spcae from left side only\n",
    "print(txt6.lstrip())\n",
    "print(len(txt6.lstrip()))"
   ]
  },
  {
   "cell_type": "code",
   "execution_count": 33,
   "metadata": {
    "_cell_guid": "aeeb7d89-1841-4c52-ab3b-4f793e29a067",
    "_uuid": "42f27e617c1ab3758241b78e62880b2c45564e8f"
   },
   "outputs": [
    {
     "name": "stdout",
     "output_type": "stream",
     "text": [
      "Hello World!\n"
     ]
    },
    {
     "data": {
      "text/plain": [
       "4"
      ]
     },
     "execution_count": 33,
     "metadata": {},
     "output_type": "execute_result"
    }
   ],
   "source": [
    "## Find a character in a string from left\n",
    "print(txt2)\n",
    "txt2.find('o')   # Returns location/index of first occurance (from left) 'o' in String."
   ]
  },
  {
   "cell_type": "code",
   "execution_count": 34,
   "metadata": {
    "_cell_guid": "13597905-684e-4a91-b906-e153922717c0",
    "_uuid": "bd2e7aaa0d7d837ce72efa9cee892f5e9bc32d85"
   },
   "outputs": [
    {
     "data": {
      "text/plain": [
       "7"
      ]
     },
     "execution_count": 34,
     "metadata": {},
     "output_type": "execute_result"
    }
   ],
   "source": [
    "## Find a character in a string from right\n",
    "txt2.rfind('o')   # Returns location/index of first occurance (from right) 'o' in String."
   ]
  },
  {
   "cell_type": "markdown",
   "metadata": {
    "_cell_guid": "08420b9b-1886-424c-924f-194aaa4499e4",
    "_uuid": "d0abd79e0164841bd544e9e12f8b1ea6c9f5800b"
   },
   "source": [
    "That's it for this section. I hope you would have found some useful text functions. These functions along with some more *(coming up in further sections)*, are very helpful in preprocessing of the text data. As we all know that almost 70-80% of time is being spent by data scientists on preprocessing and feature engineering. This builds the base for any machine learning model. Our machine learning model is as good as the data it had been fed. See you in next section, till then happy texting.. \n",
    "<BR>\n",
    "<!-- Update_20180522 : hyperlinks updated -->\n",
    "<CODE>Update :  I have updated the links for next kernal. Please click below to visit the same. Thanks</CODE>\n",
    "<HR>\n",
    "<SMALL><I>\n",
    "<A href=\"https://www.kaggle.com/manish341/text-analytics-2-text-functions-continued\"  target=\"_blank\">\n",
    "Coming up next: Handling Larger Text/Reading Data from Text Files <- click here to open\n",
    "</A>\n",
    "</I></SMALL>\n",
    "   "
   ]
  }
 ],
 "metadata": {
  "kernelspec": {
   "display_name": "Python 3",
   "language": "python",
   "name": "python3"
  },
  "language_info": {
   "codemirror_mode": {
    "name": "ipython",
    "version": 3
   },
   "file_extension": ".py",
   "mimetype": "text/x-python",
   "name": "python",
   "nbconvert_exporter": "python",
   "pygments_lexer": "ipython3",
   "version": "3.8.8"
  }
 },
 "nbformat": 4,
 "nbformat_minor": 1
}
