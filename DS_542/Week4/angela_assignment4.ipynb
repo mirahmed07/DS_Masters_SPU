{
 "cells": [
  {
   "cell_type": "code",
   "execution_count": 1,
   "metadata": {},
   "outputs": [],
   "source": [
    "import pandas as pd"
   ]
  },
  {
   "cell_type": "code",
   "execution_count": 2,
   "metadata": {},
   "outputs": [],
   "source": [
    "pop_df = pd.read_html('https://www.infoplease.com/us/states/state-population-by-rank')[0]"
   ]
  },
  {
   "cell_type": "code",
   "execution_count": 3,
   "metadata": {},
   "outputs": [
    {
     "data": {
      "text/html": [
       "<div>\n",
       "<style scoped>\n",
       "    .dataframe tbody tr th:only-of-type {\n",
       "        vertical-align: middle;\n",
       "    }\n",
       "\n",
       "    .dataframe tbody tr th {\n",
       "        vertical-align: top;\n",
       "    }\n",
       "\n",
       "    .dataframe thead th {\n",
       "        text-align: right;\n",
       "    }\n",
       "</style>\n",
       "<table border=\"1\" class=\"dataframe\">\n",
       "  <thead>\n",
       "    <tr style=\"text-align: right;\">\n",
       "      <th></th>\n",
       "      <th>Rank</th>\n",
       "      <th>State</th>\n",
       "      <th>2020 Census</th>\n",
       "      <th>Percent of Total</th>\n",
       "    </tr>\n",
       "  </thead>\n",
       "  <tbody>\n",
       "    <tr>\n",
       "      <th>0</th>\n",
       "      <td>1.0</td>\n",
       "      <td>California</td>\n",
       "      <td>39538223</td>\n",
       "      <td>11.91%</td>\n",
       "    </tr>\n",
       "    <tr>\n",
       "      <th>1</th>\n",
       "      <td>2.0</td>\n",
       "      <td>Texas</td>\n",
       "      <td>29145505</td>\n",
       "      <td>8.74%</td>\n",
       "    </tr>\n",
       "    <tr>\n",
       "      <th>2</th>\n",
       "      <td>3.0</td>\n",
       "      <td>Florida</td>\n",
       "      <td>21538187</td>\n",
       "      <td>6.47%</td>\n",
       "    </tr>\n",
       "    <tr>\n",
       "      <th>3</th>\n",
       "      <td>4.0</td>\n",
       "      <td>New York</td>\n",
       "      <td>20201249</td>\n",
       "      <td>5.86%</td>\n",
       "    </tr>\n",
       "    <tr>\n",
       "      <th>4</th>\n",
       "      <td>5.0</td>\n",
       "      <td>Pennsylvania</td>\n",
       "      <td>13002700</td>\n",
       "      <td>3.86%</td>\n",
       "    </tr>\n",
       "  </tbody>\n",
       "</table>\n",
       "</div>"
      ],
      "text/plain": [
       "   Rank         State  2020 Census Percent of Total\n",
       "0   1.0    California     39538223           11.91%\n",
       "1   2.0         Texas     29145505            8.74%\n",
       "2   3.0       Florida     21538187            6.47%\n",
       "3   4.0      New York     20201249            5.86%\n",
       "4   5.0  Pennsylvania     13002700            3.86%"
      ]
     },
     "execution_count": 3,
     "metadata": {},
     "output_type": "execute_result"
    }
   ],
   "source": [
    "pop_df.head()"
   ]
  },
  {
   "cell_type": "code",
   "execution_count": 4,
   "metadata": {},
   "outputs": [
    {
     "data": {
      "text/plain": [
       "{'2020 Census': {'California': 39538223,\n",
       "  'Texas': 29145505,\n",
       "  'Florida': 21538187,\n",
       "  'New York': 20201249,\n",
       "  'Pennsylvania': 13002700,\n",
       "  'Illinois': 12801989,\n",
       "  'Ohio': 11799448,\n",
       "  'Georgia': 10711908,\n",
       "  'North Carolina': 10439388,\n",
       "  'Michigan': 10077331,\n",
       "  'New Jersey': 9288994,\n",
       "  'Virginia': 8631393,\n",
       "  'Washington': 7705281,\n",
       "  'Arizona': 7151502,\n",
       "  'Massachusetts': 7029917,\n",
       "  'Tennessee': 6910840,\n",
       "  'Indiana': 6785528,\n",
       "  'Maryland': 6177224,\n",
       "  'Missouri': 6154913,\n",
       "  'Wisconsin': 5893718,\n",
       "  'Colorado': 5773714,\n",
       "  'Minnesota': 5706494,\n",
       "  'South Carolina': 5118425,\n",
       "  'Alabama': 5024279,\n",
       "  'Louisiana': 4657757,\n",
       "  'Kentucky': 4505836,\n",
       "  'Oregon': 4237256,\n",
       "  'Oklahoma': 3959353,\n",
       "  'Connecticut': 3605944,\n",
       "  'Utah': 3205958,\n",
       "  'Iowa': 3271616,\n",
       "  'Nevada': 3104614,\n",
       "  'Arkansas': 3011524,\n",
       "  'Mississippi': 2961279,\n",
       "  'Kansas': 2937880,\n",
       "  'New Mexico': 2117522,\n",
       "  'Nebraska': 1961504,\n",
       "  'Idaho': 1839106,\n",
       "  'West Virginia': 1793716,\n",
       "  'Hawaii': 1455271,\n",
       "  'New Hampshire': 1377529,\n",
       "  'Maine': 1362359,\n",
       "  'Rhode Island': 1097379,\n",
       "  'Montana': 1084225,\n",
       "  'Delaware': 989948,\n",
       "  'South Dakota': 886667,\n",
       "  'North Dakota': 779094,\n",
       "  'Alaska': 733391,\n",
       "  'DC': 689545,\n",
       "  'Vermont': 643077,\n",
       "  'Wyoming': 576851}}"
      ]
     },
     "execution_count": 4,
     "metadata": {},
     "output_type": "execute_result"
    }
   ],
   "source": [
    "pop_dict = pop_df[['State', '2020 Census']][:-1].set_index('State').to_dict(orient = 'dict')\n",
    "pop_dict"
   ]
  },
  {
   "cell_type": "code",
   "execution_count": 5,
   "metadata": {
    "scrolled": true
   },
   "outputs": [
    {
     "data": {
      "text/plain": [
       "{'California': 39538223,\n",
       " 'Texas': 29145505,\n",
       " 'Florida': 21538187,\n",
       " 'New York': 20201249,\n",
       " 'Pennsylvania': 13002700,\n",
       " 'Illinois': 12801989,\n",
       " 'Ohio': 11799448,\n",
       " 'Georgia': 10711908,\n",
       " 'North Carolina': 10439388,\n",
       " 'Michigan': 10077331,\n",
       " 'New Jersey': 9288994,\n",
       " 'Virginia': 8631393,\n",
       " 'Washington': 7705281,\n",
       " 'Arizona': 7151502,\n",
       " 'Massachusetts': 7029917,\n",
       " 'Tennessee': 6910840,\n",
       " 'Indiana': 6785528,\n",
       " 'Maryland': 6177224,\n",
       " 'Missouri': 6154913,\n",
       " 'Wisconsin': 5893718,\n",
       " 'Colorado': 5773714,\n",
       " 'Minnesota': 5706494,\n",
       " 'South Carolina': 5118425,\n",
       " 'Alabama': 5024279,\n",
       " 'Louisiana': 4657757,\n",
       " 'Kentucky': 4505836,\n",
       " 'Oregon': 4237256,\n",
       " 'Oklahoma': 3959353,\n",
       " 'Connecticut': 3605944,\n",
       " 'Utah': 3205958,\n",
       " 'Iowa': 3271616,\n",
       " 'Nevada': 3104614,\n",
       " 'Arkansas': 3011524,\n",
       " 'Mississippi': 2961279,\n",
       " 'Kansas': 2937880,\n",
       " 'New Mexico': 2117522,\n",
       " 'Nebraska': 1961504,\n",
       " 'Idaho': 1839106,\n",
       " 'West Virginia': 1793716,\n",
       " 'Hawaii': 1455271,\n",
       " 'New Hampshire': 1377529,\n",
       " 'Maine': 1362359,\n",
       " 'Rhode Island': 1097379,\n",
       " 'Montana': 1084225,\n",
       " 'Delaware': 989948,\n",
       " 'South Dakota': 886667,\n",
       " 'North Dakota': 779094,\n",
       " 'Alaska': 733391,\n",
       " 'DC': 689545,\n",
       " 'Vermont': 643077,\n",
       " 'Wyoming': 576851}"
      ]
     },
     "execution_count": 5,
     "metadata": {},
     "output_type": "execute_result"
    }
   ],
   "source": [
    "final_dict = pop_dict['2020 Census']\n",
    "final_dict"
   ]
  },
  {
   "cell_type": "code",
   "execution_count": 6,
   "metadata": {},
   "outputs": [
    {
     "name": "stdout",
     "output_type": "stream",
     "text": [
      "California : 39538223\n",
      "Texas : 29145505\n",
      "Florida : 21538187\n",
      "New York : 20201249\n",
      "Pennsylvania : 13002700\n",
      "Illinois : 12801989\n",
      "Ohio : 11799448\n",
      "Georgia : 10711908\n",
      "North Carolina : 10439388\n",
      "Michigan : 10077331\n",
      "New Jersey : 9288994\n",
      "Virginia : 8631393\n",
      "Washington : 7705281\n",
      "Arizona : 7151502\n",
      "Massachusetts : 7029917\n",
      "Tennessee : 6910840\n",
      "Indiana : 6785528\n"
     ]
    }
   ],
   "source": [
    "for key,value in final_dict.items():\n",
    "    if final_dict[key] >= 6500000:\n",
    "        print(f'{key} : {value}')"
   ]
  }
 ],
 "metadata": {
  "kernelspec": {
   "display_name": "Python 3",
   "language": "python",
   "name": "python3"
  },
  "language_info": {
   "codemirror_mode": {
    "name": "ipython",
    "version": 3
   },
   "file_extension": ".py",
   "mimetype": "text/x-python",
   "name": "python",
   "nbconvert_exporter": "python",
   "pygments_lexer": "ipython3",
   "version": "3.8.8"
  }
 },
 "nbformat": 4,
 "nbformat_minor": 4
}
