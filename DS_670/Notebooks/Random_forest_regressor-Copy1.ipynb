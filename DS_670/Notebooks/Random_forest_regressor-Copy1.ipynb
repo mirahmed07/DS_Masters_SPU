{
 "cells": [
  {
   "cell_type": "markdown",
   "metadata": {},
   "source": [
    "# Packages"
   ]
  },
  {
   "cell_type": "code",
   "execution_count": 1,
   "metadata": {
    "ExecuteTime": {
     "end_time": "2023-03-25T17:25:28.926885Z",
     "start_time": "2023-03-25T17:25:20.714399Z"
    }
   },
   "outputs": [],
   "source": [
    "import pandas as pd\n",
    "pd.set_option('display.max_columns', 68)\n",
    "pd.options.display.float_format = '{:,.2f}'.format\n",
    "import numpy as np\n",
    "import matplotlib.pyplot as plt\n",
    "%matplotlib inline\n",
    "import seaborn as sns\n",
    "import plotly.express as px\n",
    "from sklearn.model_selection import train_test_split, GridSearchCV\n",
    "from sklearn.preprocessing import MinMaxScaler\n",
    "from sklearn.ensemble import RandomForestClassifier,RandomForestRegressor\n",
    "from sklearn.metrics import classification_report\n",
    "import joblib\n",
    "from sklearn.preprocessing import LabelEncoder\n",
    "from tensorflow.keras.utils import to_categorical"
   ]
  },
  {
   "cell_type": "markdown",
   "metadata": {},
   "source": [
    "# Data Import and EDA"
   ]
  },
  {
   "cell_type": "code",
   "execution_count": 2,
   "metadata": {
    "ExecuteTime": {
     "end_time": "2023-03-25T17:25:28.974667Z",
     "start_time": "2023-03-25T17:25:28.928893Z"
    }
   },
   "outputs": [
    {
     "data": {
      "text/html": [
       "<div>\n",
       "<style scoped>\n",
       "    .dataframe tbody tr th:only-of-type {\n",
       "        vertical-align: middle;\n",
       "    }\n",
       "\n",
       "    .dataframe tbody tr th {\n",
       "        vertical-align: top;\n",
       "    }\n",
       "\n",
       "    .dataframe thead th {\n",
       "        text-align: right;\n",
       "    }\n",
       "</style>\n",
       "<table border=\"1\" class=\"dataframe\">\n",
       "  <thead>\n",
       "    <tr style=\"text-align: right;\">\n",
       "      <th></th>\n",
       "      <th>county_name</th>\n",
       "      <th>year</th>\n",
       "      <th>num_of_bedrooms</th>\n",
       "      <th>house_value_index</th>\n",
       "      <th>est_pop</th>\n",
       "      <th>median_hh_income</th>\n",
       "      <th>poverty_count</th>\n",
       "      <th>poverty_rate</th>\n",
       "      <th>st_abb</th>\n",
       "      <th>state_code</th>\n",
       "      <th>county_code</th>\n",
       "      <th>tax_rate</th>\n",
       "      <th>apr_30</th>\n",
       "      <th>points_30</th>\n",
       "      <th>apr_15</th>\n",
       "      <th>points_15</th>\n",
       "    </tr>\n",
       "  </thead>\n",
       "  <tbody>\n",
       "    <tr>\n",
       "      <th>0</th>\n",
       "      <td>ATLANTIC</td>\n",
       "      <td>2010</td>\n",
       "      <td>1</td>\n",
       "      <td>120,414.14</td>\n",
       "      <td>274654</td>\n",
       "      <td>51457</td>\n",
       "      <td>36693</td>\n",
       "      <td>13.60</td>\n",
       "      <td>NJ</td>\n",
       "      <td>34</td>\n",
       "      <td>1</td>\n",
       "      <td>2.67</td>\n",
       "      <td>4.69</td>\n",
       "      <td>0.72</td>\n",
       "      <td>4.10</td>\n",
       "      <td>0.67</td>\n",
       "    </tr>\n",
       "    <tr>\n",
       "      <th>1</th>\n",
       "      <td>ATLANTIC</td>\n",
       "      <td>2011</td>\n",
       "      <td>1</td>\n",
       "      <td>106,680.39</td>\n",
       "      <td>274635</td>\n",
       "      <td>49983</td>\n",
       "      <td>35108</td>\n",
       "      <td>13.10</td>\n",
       "      <td>NJ</td>\n",
       "      <td>34</td>\n",
       "      <td>1</td>\n",
       "      <td>2.65</td>\n",
       "      <td>4.45</td>\n",
       "      <td>0.72</td>\n",
       "      <td>3.68</td>\n",
       "      <td>0.71</td>\n",
       "    </tr>\n",
       "    <tr>\n",
       "      <th>2</th>\n",
       "      <td>ATLANTIC</td>\n",
       "      <td>2012</td>\n",
       "      <td>1</td>\n",
       "      <td>100,139.16</td>\n",
       "      <td>274657</td>\n",
       "      <td>50881</td>\n",
       "      <td>38245</td>\n",
       "      <td>14.20</td>\n",
       "      <td>NJ</td>\n",
       "      <td>34</td>\n",
       "      <td>1</td>\n",
       "      <td>2.73</td>\n",
       "      <td>3.66</td>\n",
       "      <td>0.72</td>\n",
       "      <td>2.93</td>\n",
       "      <td>0.68</td>\n",
       "    </tr>\n",
       "    <tr>\n",
       "      <th>3</th>\n",
       "      <td>ATLANTIC</td>\n",
       "      <td>2013</td>\n",
       "      <td>1</td>\n",
       "      <td>94,991.76</td>\n",
       "      <td>274360</td>\n",
       "      <td>51668</td>\n",
       "      <td>46281</td>\n",
       "      <td>17.10</td>\n",
       "      <td>NJ</td>\n",
       "      <td>34</td>\n",
       "      <td>1</td>\n",
       "      <td>2.87</td>\n",
       "      <td>3.98</td>\n",
       "      <td>0.73</td>\n",
       "      <td>3.10</td>\n",
       "      <td>0.70</td>\n",
       "    </tr>\n",
       "    <tr>\n",
       "      <th>4</th>\n",
       "      <td>ATLANTIC</td>\n",
       "      <td>2014</td>\n",
       "      <td>1</td>\n",
       "      <td>92,839.52</td>\n",
       "      <td>272634</td>\n",
       "      <td>54208</td>\n",
       "      <td>40761</td>\n",
       "      <td>15.10</td>\n",
       "      <td>NJ</td>\n",
       "      <td>34</td>\n",
       "      <td>1</td>\n",
       "      <td>2.84</td>\n",
       "      <td>4.17</td>\n",
       "      <td>0.59</td>\n",
       "      <td>3.29</td>\n",
       "      <td>0.57</td>\n",
       "    </tr>\n",
       "  </tbody>\n",
       "</table>\n",
       "</div>"
      ],
      "text/plain": [
       "  county_name  year  num_of_bedrooms  house_value_index  est_pop  \\\n",
       "0    ATLANTIC  2010                1         120,414.14   274654   \n",
       "1    ATLANTIC  2011                1         106,680.39   274635   \n",
       "2    ATLANTIC  2012                1         100,139.16   274657   \n",
       "3    ATLANTIC  2013                1          94,991.76   274360   \n",
       "4    ATLANTIC  2014                1          92,839.52   272634   \n",
       "\n",
       "   median_hh_income  poverty_count  poverty_rate st_abb  state_code  \\\n",
       "0             51457          36693         13.60     NJ          34   \n",
       "1             49983          35108         13.10     NJ          34   \n",
       "2             50881          38245         14.20     NJ          34   \n",
       "3             51668          46281         17.10     NJ          34   \n",
       "4             54208          40761         15.10     NJ          34   \n",
       "\n",
       "   county_code  tax_rate  apr_30  points_30  apr_15  points_15  \n",
       "0            1      2.67    4.69       0.72    4.10       0.67  \n",
       "1            1      2.65    4.45       0.72    3.68       0.71  \n",
       "2            1      2.73    3.66       0.72    2.93       0.68  \n",
       "3            1      2.87    3.98       0.73    3.10       0.70  \n",
       "4            1      2.84    4.17       0.59    3.29       0.57  "
      ]
     },
     "execution_count": 2,
     "metadata": {},
     "output_type": "execute_result"
    }
   ],
   "source": [
    "df = pd.read_csv('../Resources/final_data2.csv')\n",
    "df.head()"
   ]
  },
  {
   "cell_type": "code",
   "execution_count": 3,
   "metadata": {
    "ExecuteTime": {
     "end_time": "2023-03-25T17:25:30.407885Z",
     "start_time": "2023-03-25T17:25:30.387838Z"
    }
   },
   "outputs": [
    {
     "data": {
      "text/plain": [
       "(1260, 16)"
      ]
     },
     "execution_count": 3,
     "metadata": {},
     "output_type": "execute_result"
    }
   ],
   "source": [
    "df.shape"
   ]
  },
  {
   "cell_type": "code",
   "execution_count": 4,
   "metadata": {
    "ExecuteTime": {
     "end_time": "2023-03-25T17:25:32.048126Z",
     "start_time": "2023-03-25T17:25:31.986930Z"
    }
   },
   "outputs": [
    {
     "data": {
      "text/html": [
       "<div>\n",
       "<style scoped>\n",
       "    .dataframe tbody tr th:only-of-type {\n",
       "        vertical-align: middle;\n",
       "    }\n",
       "\n",
       "    .dataframe tbody tr th {\n",
       "        vertical-align: top;\n",
       "    }\n",
       "\n",
       "    .dataframe thead th {\n",
       "        text-align: right;\n",
       "    }\n",
       "</style>\n",
       "<table border=\"1\" class=\"dataframe\">\n",
       "  <thead>\n",
       "    <tr style=\"text-align: right;\">\n",
       "      <th></th>\n",
       "      <th>year</th>\n",
       "      <th>num_of_bedrooms</th>\n",
       "      <th>house_value_index</th>\n",
       "      <th>est_pop</th>\n",
       "      <th>median_hh_income</th>\n",
       "      <th>poverty_count</th>\n",
       "      <th>poverty_rate</th>\n",
       "      <th>state_code</th>\n",
       "      <th>county_code</th>\n",
       "      <th>tax_rate</th>\n",
       "      <th>apr_30</th>\n",
       "      <th>points_30</th>\n",
       "      <th>apr_15</th>\n",
       "      <th>points_15</th>\n",
       "    </tr>\n",
       "  </thead>\n",
       "  <tbody>\n",
       "    <tr>\n",
       "      <th>count</th>\n",
       "      <td>1,260.00</td>\n",
       "      <td>1,260.00</td>\n",
       "      <td>1,260.00</td>\n",
       "      <td>1,260.00</td>\n",
       "      <td>1,260.00</td>\n",
       "      <td>1,260.00</td>\n",
       "      <td>1,260.00</td>\n",
       "      <td>1,260.00</td>\n",
       "      <td>1,260.00</td>\n",
       "      <td>1,260.00</td>\n",
       "      <td>1,260.00</td>\n",
       "      <td>1,260.00</td>\n",
       "      <td>1,260.00</td>\n",
       "      <td>1,260.00</td>\n",
       "    </tr>\n",
       "    <tr>\n",
       "      <th>mean</th>\n",
       "      <td>2,015.50</td>\n",
       "      <td>3.00</td>\n",
       "      <td>301,526.97</td>\n",
       "      <td>423,663.90</td>\n",
       "      <td>76,414.14</td>\n",
       "      <td>42,851.11</td>\n",
       "      <td>10.05</td>\n",
       "      <td>34.00</td>\n",
       "      <td>21.00</td>\n",
       "      <td>3.38</td>\n",
       "      <td>3.92</td>\n",
       "      <td>0.63</td>\n",
       "      <td>3.22</td>\n",
       "      <td>0.60</td>\n",
       "    </tr>\n",
       "    <tr>\n",
       "      <th>std</th>\n",
       "      <td>3.45</td>\n",
       "      <td>1.41</td>\n",
       "      <td>174,631.35</td>\n",
       "      <td>253,661.54</td>\n",
       "      <td>18,476.21</td>\n",
       "      <td>32,803.23</td>\n",
       "      <td>4.06</td>\n",
       "      <td>0.00</td>\n",
       "      <td>12.12</td>\n",
       "      <td>1.65</td>\n",
       "      <td>0.50</td>\n",
       "      <td>0.09</td>\n",
       "      <td>0.51</td>\n",
       "      <td>0.09</td>\n",
       "    </tr>\n",
       "    <tr>\n",
       "      <th>min</th>\n",
       "      <td>2,010.00</td>\n",
       "      <td>1.00</td>\n",
       "      <td>47,502.88</td>\n",
       "      <td>62,341.00</td>\n",
       "      <td>45,438.00</td>\n",
       "      <td>4,793.00</td>\n",
       "      <td>3.90</td>\n",
       "      <td>34.00</td>\n",
       "      <td>1.00</td>\n",
       "      <td>0.97</td>\n",
       "      <td>2.96</td>\n",
       "      <td>0.48</td>\n",
       "      <td>2.27</td>\n",
       "      <td>0.45</td>\n",
       "    </tr>\n",
       "    <tr>\n",
       "      <th>25%</th>\n",
       "      <td>2,012.75</td>\n",
       "      <td>2.00</td>\n",
       "      <td>171,183.50</td>\n",
       "      <td>150,928.75</td>\n",
       "      <td>61,363.25</td>\n",
       "      <td>16,560.50</td>\n",
       "      <td>6.67</td>\n",
       "      <td>34.00</td>\n",
       "      <td>11.00</td>\n",
       "      <td>2.47</td>\n",
       "      <td>3.66</td>\n",
       "      <td>0.53</td>\n",
       "      <td>2.93</td>\n",
       "      <td>0.49</td>\n",
       "    </tr>\n",
       "    <tr>\n",
       "      <th>50%</th>\n",
       "      <td>2,015.50</td>\n",
       "      <td>3.00</td>\n",
       "      <td>263,753.40</td>\n",
       "      <td>448,449.00</td>\n",
       "      <td>74,839.00</td>\n",
       "      <td>36,293.50</td>\n",
       "      <td>9.45</td>\n",
       "      <td>34.00</td>\n",
       "      <td>21.00</td>\n",
       "      <td>2.97</td>\n",
       "      <td>3.96</td>\n",
       "      <td>0.65</td>\n",
       "      <td>3.19</td>\n",
       "      <td>0.61</td>\n",
       "    </tr>\n",
       "    <tr>\n",
       "      <th>75%</th>\n",
       "      <td>2,018.25</td>\n",
       "      <td>4.00</td>\n",
       "      <td>388,531.82</td>\n",
       "      <td>603,111.25</td>\n",
       "      <td>87,602.25</td>\n",
       "      <td>63,450.25</td>\n",
       "      <td>13.10</td>\n",
       "      <td>34.00</td>\n",
       "      <td>31.00</td>\n",
       "      <td>3.69</td>\n",
       "      <td>4.24</td>\n",
       "      <td>0.72</td>\n",
       "      <td>3.46</td>\n",
       "      <td>0.69</td>\n",
       "    </tr>\n",
       "    <tr>\n",
       "      <th>max</th>\n",
       "      <td>2,021.00</td>\n",
       "      <td>5.00</td>\n",
       "      <td>1,312,995.76</td>\n",
       "      <td>953,819.00</td>\n",
       "      <td>123,708.00</td>\n",
       "      <td>136,161.00</td>\n",
       "      <td>20.10</td>\n",
       "      <td>34.00</td>\n",
       "      <td>41.00</td>\n",
       "      <td>9.66</td>\n",
       "      <td>4.69</td>\n",
       "      <td>0.73</td>\n",
       "      <td>4.10</td>\n",
       "      <td>0.71</td>\n",
       "    </tr>\n",
       "  </tbody>\n",
       "</table>\n",
       "</div>"
      ],
      "text/plain": [
       "          year  num_of_bedrooms  house_value_index    est_pop  \\\n",
       "count 1,260.00         1,260.00           1,260.00   1,260.00   \n",
       "mean  2,015.50             3.00         301,526.97 423,663.90   \n",
       "std       3.45             1.41         174,631.35 253,661.54   \n",
       "min   2,010.00             1.00          47,502.88  62,341.00   \n",
       "25%   2,012.75             2.00         171,183.50 150,928.75   \n",
       "50%   2,015.50             3.00         263,753.40 448,449.00   \n",
       "75%   2,018.25             4.00         388,531.82 603,111.25   \n",
       "max   2,021.00             5.00       1,312,995.76 953,819.00   \n",
       "\n",
       "       median_hh_income  poverty_count  poverty_rate  state_code  county_code  \\\n",
       "count          1,260.00       1,260.00      1,260.00    1,260.00     1,260.00   \n",
       "mean          76,414.14      42,851.11         10.05       34.00        21.00   \n",
       "std           18,476.21      32,803.23          4.06        0.00        12.12   \n",
       "min           45,438.00       4,793.00          3.90       34.00         1.00   \n",
       "25%           61,363.25      16,560.50          6.67       34.00        11.00   \n",
       "50%           74,839.00      36,293.50          9.45       34.00        21.00   \n",
       "75%           87,602.25      63,450.25         13.10       34.00        31.00   \n",
       "max          123,708.00     136,161.00         20.10       34.00        41.00   \n",
       "\n",
       "       tax_rate   apr_30  points_30   apr_15  points_15  \n",
       "count  1,260.00 1,260.00   1,260.00 1,260.00   1,260.00  \n",
       "mean       3.38     3.92       0.63     3.22       0.60  \n",
       "std        1.65     0.50       0.09     0.51       0.09  \n",
       "min        0.97     2.96       0.48     2.27       0.45  \n",
       "25%        2.47     3.66       0.53     2.93       0.49  \n",
       "50%        2.97     3.96       0.65     3.19       0.61  \n",
       "75%        3.69     4.24       0.72     3.46       0.69  \n",
       "max        9.66     4.69       0.73     4.10       0.71  "
      ]
     },
     "execution_count": 4,
     "metadata": {},
     "output_type": "execute_result"
    }
   ],
   "source": [
    "df.describe()"
   ]
  },
  {
   "cell_type": "code",
   "execution_count": 5,
   "metadata": {
    "ExecuteTime": {
     "end_time": "2023-03-25T17:25:36.805406Z",
     "start_time": "2023-03-25T17:25:36.778999Z"
    }
   },
   "outputs": [],
   "source": [
    "# label encoding of counties\n",
    "le = LabelEncoder()\n",
    "df['county_label'] = le.fit_transform(df['county_name'])"
   ]
  },
  {
   "cell_type": "code",
   "execution_count": 6,
   "metadata": {
    "ExecuteTime": {
     "end_time": "2023-03-25T17:25:37.587918Z",
     "start_time": "2023-03-25T17:25:37.560427Z"
    }
   },
   "outputs": [
    {
     "data": {
      "text/html": [
       "<div>\n",
       "<style scoped>\n",
       "    .dataframe tbody tr th:only-of-type {\n",
       "        vertical-align: middle;\n",
       "    }\n",
       "\n",
       "    .dataframe tbody tr th {\n",
       "        vertical-align: top;\n",
       "    }\n",
       "\n",
       "    .dataframe thead th {\n",
       "        text-align: right;\n",
       "    }\n",
       "</style>\n",
       "<table border=\"1\" class=\"dataframe\">\n",
       "  <thead>\n",
       "    <tr style=\"text-align: right;\">\n",
       "      <th></th>\n",
       "      <th>county_name</th>\n",
       "      <th>year</th>\n",
       "      <th>num_of_bedrooms</th>\n",
       "      <th>house_value_index</th>\n",
       "      <th>est_pop</th>\n",
       "      <th>median_hh_income</th>\n",
       "      <th>poverty_count</th>\n",
       "      <th>poverty_rate</th>\n",
       "      <th>st_abb</th>\n",
       "      <th>state_code</th>\n",
       "      <th>county_code</th>\n",
       "      <th>tax_rate</th>\n",
       "      <th>apr_30</th>\n",
       "      <th>points_30</th>\n",
       "      <th>apr_15</th>\n",
       "      <th>points_15</th>\n",
       "      <th>county_label</th>\n",
       "    </tr>\n",
       "  </thead>\n",
       "  <tbody>\n",
       "    <tr>\n",
       "      <th>0</th>\n",
       "      <td>ATLANTIC</td>\n",
       "      <td>2010</td>\n",
       "      <td>1</td>\n",
       "      <td>120,414.14</td>\n",
       "      <td>274654</td>\n",
       "      <td>51457</td>\n",
       "      <td>36693</td>\n",
       "      <td>13.60</td>\n",
       "      <td>NJ</td>\n",
       "      <td>34</td>\n",
       "      <td>1</td>\n",
       "      <td>2.67</td>\n",
       "      <td>4.69</td>\n",
       "      <td>0.72</td>\n",
       "      <td>4.10</td>\n",
       "      <td>0.67</td>\n",
       "      <td>0</td>\n",
       "    </tr>\n",
       "    <tr>\n",
       "      <th>1</th>\n",
       "      <td>ATLANTIC</td>\n",
       "      <td>2011</td>\n",
       "      <td>1</td>\n",
       "      <td>106,680.39</td>\n",
       "      <td>274635</td>\n",
       "      <td>49983</td>\n",
       "      <td>35108</td>\n",
       "      <td>13.10</td>\n",
       "      <td>NJ</td>\n",
       "      <td>34</td>\n",
       "      <td>1</td>\n",
       "      <td>2.65</td>\n",
       "      <td>4.45</td>\n",
       "      <td>0.72</td>\n",
       "      <td>3.68</td>\n",
       "      <td>0.71</td>\n",
       "      <td>0</td>\n",
       "    </tr>\n",
       "    <tr>\n",
       "      <th>2</th>\n",
       "      <td>ATLANTIC</td>\n",
       "      <td>2012</td>\n",
       "      <td>1</td>\n",
       "      <td>100,139.16</td>\n",
       "      <td>274657</td>\n",
       "      <td>50881</td>\n",
       "      <td>38245</td>\n",
       "      <td>14.20</td>\n",
       "      <td>NJ</td>\n",
       "      <td>34</td>\n",
       "      <td>1</td>\n",
       "      <td>2.73</td>\n",
       "      <td>3.66</td>\n",
       "      <td>0.72</td>\n",
       "      <td>2.93</td>\n",
       "      <td>0.68</td>\n",
       "      <td>0</td>\n",
       "    </tr>\n",
       "    <tr>\n",
       "      <th>3</th>\n",
       "      <td>ATLANTIC</td>\n",
       "      <td>2013</td>\n",
       "      <td>1</td>\n",
       "      <td>94,991.76</td>\n",
       "      <td>274360</td>\n",
       "      <td>51668</td>\n",
       "      <td>46281</td>\n",
       "      <td>17.10</td>\n",
       "      <td>NJ</td>\n",
       "      <td>34</td>\n",
       "      <td>1</td>\n",
       "      <td>2.87</td>\n",
       "      <td>3.98</td>\n",
       "      <td>0.73</td>\n",
       "      <td>3.10</td>\n",
       "      <td>0.70</td>\n",
       "      <td>0</td>\n",
       "    </tr>\n",
       "    <tr>\n",
       "      <th>4</th>\n",
       "      <td>ATLANTIC</td>\n",
       "      <td>2014</td>\n",
       "      <td>1</td>\n",
       "      <td>92,839.52</td>\n",
       "      <td>272634</td>\n",
       "      <td>54208</td>\n",
       "      <td>40761</td>\n",
       "      <td>15.10</td>\n",
       "      <td>NJ</td>\n",
       "      <td>34</td>\n",
       "      <td>1</td>\n",
       "      <td>2.84</td>\n",
       "      <td>4.17</td>\n",
       "      <td>0.59</td>\n",
       "      <td>3.29</td>\n",
       "      <td>0.57</td>\n",
       "      <td>0</td>\n",
       "    </tr>\n",
       "  </tbody>\n",
       "</table>\n",
       "</div>"
      ],
      "text/plain": [
       "  county_name  year  num_of_bedrooms  house_value_index  est_pop  \\\n",
       "0    ATLANTIC  2010                1         120,414.14   274654   \n",
       "1    ATLANTIC  2011                1         106,680.39   274635   \n",
       "2    ATLANTIC  2012                1         100,139.16   274657   \n",
       "3    ATLANTIC  2013                1          94,991.76   274360   \n",
       "4    ATLANTIC  2014                1          92,839.52   272634   \n",
       "\n",
       "   median_hh_income  poverty_count  poverty_rate st_abb  state_code  \\\n",
       "0             51457          36693         13.60     NJ          34   \n",
       "1             49983          35108         13.10     NJ          34   \n",
       "2             50881          38245         14.20     NJ          34   \n",
       "3             51668          46281         17.10     NJ          34   \n",
       "4             54208          40761         15.10     NJ          34   \n",
       "\n",
       "   county_code  tax_rate  apr_30  points_30  apr_15  points_15  county_label  \n",
       "0            1      2.67    4.69       0.72    4.10       0.67             0  \n",
       "1            1      2.65    4.45       0.72    3.68       0.71             0  \n",
       "2            1      2.73    3.66       0.72    2.93       0.68             0  \n",
       "3            1      2.87    3.98       0.73    3.10       0.70             0  \n",
       "4            1      2.84    4.17       0.59    3.29       0.57             0  "
      ]
     },
     "execution_count": 6,
     "metadata": {},
     "output_type": "execute_result"
    }
   ],
   "source": [
    "df.head()"
   ]
  },
  {
   "cell_type": "code",
   "execution_count": 7,
   "metadata": {
    "ExecuteTime": {
     "end_time": "2023-03-25T17:25:39.058639Z",
     "start_time": "2023-03-25T17:25:39.029443Z"
    }
   },
   "outputs": [
    {
     "data": {
      "text/html": [
       "<div>\n",
       "<style scoped>\n",
       "    .dataframe tbody tr th:only-of-type {\n",
       "        vertical-align: middle;\n",
       "    }\n",
       "\n",
       "    .dataframe tbody tr th {\n",
       "        vertical-align: top;\n",
       "    }\n",
       "\n",
       "    .dataframe thead th {\n",
       "        text-align: right;\n",
       "    }\n",
       "</style>\n",
       "<table border=\"1\" class=\"dataframe\">\n",
       "  <thead>\n",
       "    <tr style=\"text-align: right;\">\n",
       "      <th></th>\n",
       "      <th>county_name</th>\n",
       "      <th>county_label</th>\n",
       "    </tr>\n",
       "  </thead>\n",
       "  <tbody>\n",
       "    <tr>\n",
       "      <th>0</th>\n",
       "      <td>ATLANTIC</td>\n",
       "      <td>0</td>\n",
       "    </tr>\n",
       "    <tr>\n",
       "      <th>1</th>\n",
       "      <td>BERGEN</td>\n",
       "      <td>1</td>\n",
       "    </tr>\n",
       "    <tr>\n",
       "      <th>2</th>\n",
       "      <td>BURLINGTON</td>\n",
       "      <td>2</td>\n",
       "    </tr>\n",
       "    <tr>\n",
       "      <th>3</th>\n",
       "      <td>CAMDEN</td>\n",
       "      <td>3</td>\n",
       "    </tr>\n",
       "    <tr>\n",
       "      <th>4</th>\n",
       "      <td>CAPE MAY</td>\n",
       "      <td>4</td>\n",
       "    </tr>\n",
       "    <tr>\n",
       "      <th>5</th>\n",
       "      <td>CUMBERLAND</td>\n",
       "      <td>5</td>\n",
       "    </tr>\n",
       "    <tr>\n",
       "      <th>6</th>\n",
       "      <td>ESSEX</td>\n",
       "      <td>6</td>\n",
       "    </tr>\n",
       "    <tr>\n",
       "      <th>7</th>\n",
       "      <td>GLOUCESTER</td>\n",
       "      <td>7</td>\n",
       "    </tr>\n",
       "    <tr>\n",
       "      <th>8</th>\n",
       "      <td>HUDSON</td>\n",
       "      <td>8</td>\n",
       "    </tr>\n",
       "    <tr>\n",
       "      <th>9</th>\n",
       "      <td>HUNTERDON</td>\n",
       "      <td>9</td>\n",
       "    </tr>\n",
       "    <tr>\n",
       "      <th>10</th>\n",
       "      <td>MERCER</td>\n",
       "      <td>10</td>\n",
       "    </tr>\n",
       "    <tr>\n",
       "      <th>11</th>\n",
       "      <td>MIDDLESEX</td>\n",
       "      <td>11</td>\n",
       "    </tr>\n",
       "    <tr>\n",
       "      <th>12</th>\n",
       "      <td>MONMOUTH</td>\n",
       "      <td>12</td>\n",
       "    </tr>\n",
       "    <tr>\n",
       "      <th>13</th>\n",
       "      <td>MORRIS</td>\n",
       "      <td>13</td>\n",
       "    </tr>\n",
       "    <tr>\n",
       "      <th>14</th>\n",
       "      <td>OCEAN</td>\n",
       "      <td>14</td>\n",
       "    </tr>\n",
       "    <tr>\n",
       "      <th>15</th>\n",
       "      <td>PASSAIC</td>\n",
       "      <td>15</td>\n",
       "    </tr>\n",
       "    <tr>\n",
       "      <th>16</th>\n",
       "      <td>SALEM</td>\n",
       "      <td>16</td>\n",
       "    </tr>\n",
       "    <tr>\n",
       "      <th>17</th>\n",
       "      <td>SOMERSET</td>\n",
       "      <td>17</td>\n",
       "    </tr>\n",
       "    <tr>\n",
       "      <th>18</th>\n",
       "      <td>SUSSEX</td>\n",
       "      <td>18</td>\n",
       "    </tr>\n",
       "    <tr>\n",
       "      <th>19</th>\n",
       "      <td>UNION</td>\n",
       "      <td>19</td>\n",
       "    </tr>\n",
       "    <tr>\n",
       "      <th>20</th>\n",
       "      <td>WARREN</td>\n",
       "      <td>20</td>\n",
       "    </tr>\n",
       "  </tbody>\n",
       "</table>\n",
       "</div>"
      ],
      "text/plain": [
       "   county_name  county_label\n",
       "0     ATLANTIC             0\n",
       "1       BERGEN             1\n",
       "2   BURLINGTON             2\n",
       "3       CAMDEN             3\n",
       "4     CAPE MAY             4\n",
       "5   CUMBERLAND             5\n",
       "6        ESSEX             6\n",
       "7   GLOUCESTER             7\n",
       "8       HUDSON             8\n",
       "9    HUNTERDON             9\n",
       "10      MERCER            10\n",
       "11   MIDDLESEX            11\n",
       "12    MONMOUTH            12\n",
       "13      MORRIS            13\n",
       "14       OCEAN            14\n",
       "15     PASSAIC            15\n",
       "16       SALEM            16\n",
       "17    SOMERSET            17\n",
       "18      SUSSEX            18\n",
       "19       UNION            19\n",
       "20      WARREN            20"
      ]
     },
     "execution_count": 7,
     "metadata": {},
     "output_type": "execute_result"
    }
   ],
   "source": [
    "ref_df = df[['county_name','county_label']].drop_duplicates().reset_index(drop=True)\n",
    "ref_df"
   ]
  },
  {
   "cell_type": "markdown",
   "metadata": {},
   "source": [
    "# Train test split"
   ]
  },
  {
   "cell_type": "code",
   "execution_count": 47,
   "metadata": {
    "ExecuteTime": {
     "end_time": "2023-03-25T17:50:03.364798Z",
     "start_time": "2023-03-25T17:50:03.335243Z"
    }
   },
   "outputs": [
    {
     "name": "stdout",
     "output_type": "stream",
     "text": [
      "(1260, 8) (1260,)\n"
     ]
    }
   ],
   "source": [
    "# feature selection\n",
    "X = df.drop([\"house_value_index\", 'county_name', 'st_abb','state_code','county_code','apr_30','points_30','apr_15','points_15'], axis=1)\n",
    "y = df[\"house_value_index\"]\n",
    "print(X.shape, y.shape)"
   ]
  },
  {
   "cell_type": "code",
   "execution_count": 48,
   "metadata": {
    "ExecuteTime": {
     "end_time": "2023-03-25T17:50:11.186543Z",
     "start_time": "2023-03-25T17:50:11.169383Z"
    }
   },
   "outputs": [],
   "source": [
    "# Split data into training and testing groups and scale data \n",
    "X_train, X_test, y_train, y_test = train_test_split(X, y, random_state=1)"
   ]
  },
  {
   "cell_type": "markdown",
   "metadata": {},
   "source": [
    "# Model fit"
   ]
  },
  {
   "cell_type": "code",
   "execution_count": 49,
   "metadata": {
    "ExecuteTime": {
     "end_time": "2023-03-25T17:50:13.362505Z",
     "start_time": "2023-03-25T17:50:12.505717Z"
    }
   },
   "outputs": [
    {
     "data": {
      "text/html": [
       "<style>#sk-container-id-5 {color: black;background-color: white;}#sk-container-id-5 pre{padding: 0;}#sk-container-id-5 div.sk-toggleable {background-color: white;}#sk-container-id-5 label.sk-toggleable__label {cursor: pointer;display: block;width: 100%;margin-bottom: 0;padding: 0.3em;box-sizing: border-box;text-align: center;}#sk-container-id-5 label.sk-toggleable__label-arrow:before {content: \"▸\";float: left;margin-right: 0.25em;color: #696969;}#sk-container-id-5 label.sk-toggleable__label-arrow:hover:before {color: black;}#sk-container-id-5 div.sk-estimator:hover label.sk-toggleable__label-arrow:before {color: black;}#sk-container-id-5 div.sk-toggleable__content {max-height: 0;max-width: 0;overflow: hidden;text-align: left;background-color: #f0f8ff;}#sk-container-id-5 div.sk-toggleable__content pre {margin: 0.2em;color: black;border-radius: 0.25em;background-color: #f0f8ff;}#sk-container-id-5 input.sk-toggleable__control:checked~div.sk-toggleable__content {max-height: 200px;max-width: 100%;overflow: auto;}#sk-container-id-5 input.sk-toggleable__control:checked~label.sk-toggleable__label-arrow:before {content: \"▾\";}#sk-container-id-5 div.sk-estimator input.sk-toggleable__control:checked~label.sk-toggleable__label {background-color: #d4ebff;}#sk-container-id-5 div.sk-label input.sk-toggleable__control:checked~label.sk-toggleable__label {background-color: #d4ebff;}#sk-container-id-5 input.sk-hidden--visually {border: 0;clip: rect(1px 1px 1px 1px);clip: rect(1px, 1px, 1px, 1px);height: 1px;margin: -1px;overflow: hidden;padding: 0;position: absolute;width: 1px;}#sk-container-id-5 div.sk-estimator {font-family: monospace;background-color: #f0f8ff;border: 1px dotted black;border-radius: 0.25em;box-sizing: border-box;margin-bottom: 0.5em;}#sk-container-id-5 div.sk-estimator:hover {background-color: #d4ebff;}#sk-container-id-5 div.sk-parallel-item::after {content: \"\";width: 100%;border-bottom: 1px solid gray;flex-grow: 1;}#sk-container-id-5 div.sk-label:hover label.sk-toggleable__label {background-color: #d4ebff;}#sk-container-id-5 div.sk-serial::before {content: \"\";position: absolute;border-left: 1px solid gray;box-sizing: border-box;top: 0;bottom: 0;left: 50%;z-index: 0;}#sk-container-id-5 div.sk-serial {display: flex;flex-direction: column;align-items: center;background-color: white;padding-right: 0.2em;padding-left: 0.2em;position: relative;}#sk-container-id-5 div.sk-item {position: relative;z-index: 1;}#sk-container-id-5 div.sk-parallel {display: flex;align-items: stretch;justify-content: center;background-color: white;position: relative;}#sk-container-id-5 div.sk-item::before, #sk-container-id-5 div.sk-parallel-item::before {content: \"\";position: absolute;border-left: 1px solid gray;box-sizing: border-box;top: 0;bottom: 0;left: 50%;z-index: -1;}#sk-container-id-5 div.sk-parallel-item {display: flex;flex-direction: column;z-index: 1;position: relative;background-color: white;}#sk-container-id-5 div.sk-parallel-item:first-child::after {align-self: flex-end;width: 50%;}#sk-container-id-5 div.sk-parallel-item:last-child::after {align-self: flex-start;width: 50%;}#sk-container-id-5 div.sk-parallel-item:only-child::after {width: 0;}#sk-container-id-5 div.sk-dashed-wrapped {border: 1px dashed gray;margin: 0 0.4em 0.5em 0.4em;box-sizing: border-box;padding-bottom: 0.4em;background-color: white;}#sk-container-id-5 div.sk-label label {font-family: monospace;font-weight: bold;display: inline-block;line-height: 1.2em;}#sk-container-id-5 div.sk-label-container {text-align: center;}#sk-container-id-5 div.sk-container {/* jupyter's `normalize.less` sets `[hidden] { display: none; }` but bootstrap.min.css set `[hidden] { display: none !important; }` so we also need the `!important` here to be able to override the default hidden behavior on the sphinx rendered scikit-learn.org. See: https://github.com/scikit-learn/scikit-learn/issues/21755 */display: inline-block !important;position: relative;}#sk-container-id-5 div.sk-text-repr-fallback {display: none;}</style><div id=\"sk-container-id-5\" class=\"sk-top-container\"><div class=\"sk-text-repr-fallback\"><pre>RandomForestRegressor(n_estimators=200)</pre><b>In a Jupyter environment, please rerun this cell to show the HTML representation or trust the notebook. <br />On GitHub, the HTML representation is unable to render, please try loading this page with nbviewer.org.</b></div><div class=\"sk-container\" hidden><div class=\"sk-item\"><div class=\"sk-estimator sk-toggleable\"><input class=\"sk-toggleable__control sk-hidden--visually\" id=\"sk-estimator-id-9\" type=\"checkbox\" checked><label for=\"sk-estimator-id-9\" class=\"sk-toggleable__label sk-toggleable__label-arrow\">RandomForestRegressor</label><div class=\"sk-toggleable__content\"><pre>RandomForestRegressor(n_estimators=200)</pre></div></div></div></div></div>"
      ],
      "text/plain": [
       "RandomForestRegressor(n_estimators=200)"
      ]
     },
     "execution_count": 49,
     "metadata": {},
     "output_type": "execute_result"
    }
   ],
   "source": [
    "# Fit the data into model\n",
    "rfm = RandomForestRegressor(n_estimators=200)\n",
    "rfm.fit(X_train, y_train)"
   ]
  },
  {
   "cell_type": "code",
   "execution_count": 50,
   "metadata": {
    "ExecuteTime": {
     "end_time": "2023-03-25T17:50:13.409405Z",
     "start_time": "2023-03-25T17:50:13.365494Z"
    },
    "scrolled": true
   },
   "outputs": [
    {
     "data": {
      "text/plain": [
       "[(0.5306595114263427, 'num_of_bedrooms'),\n",
       " (0.1396069078584677, 'tax_rate'),\n",
       " (0.10944174975601374, 'est_pop'),\n",
       " (0.07608939712704978, 'median_hh_income'),\n",
       " (0.04986793563321422, 'year'),\n",
       " (0.03541293721712579, 'county_label'),\n",
       " (0.03336319510425408, 'poverty_count'),\n",
       " (0.025558365877532137, 'poverty_rate')]"
      ]
     },
     "execution_count": 50,
     "metadata": {},
     "output_type": "execute_result"
    }
   ],
   "source": [
    "sorted(zip(rfm.feature_importances_, X.columns), reverse=True)"
   ]
  },
  {
   "cell_type": "code",
   "execution_count": 51,
   "metadata": {
    "ExecuteTime": {
     "end_time": "2023-03-25T17:50:16.867761Z",
     "start_time": "2023-03-25T17:50:16.682165Z"
    }
   },
   "outputs": [
    {
     "name": "stdout",
     "output_type": "stream",
     "text": [
      "Training Data Score: 0.9937723196024478\n",
      "Testing Data Score: 0.9707401005841938\n",
      "Production Data Score: 0.9885677436372031\n"
     ]
    }
   ],
   "source": [
    "predictions = rfm.predict(X_test)\n",
    "print(f\"Training Data Score: {rfm.score(X_train, y_train)}\")\n",
    "print(f\"Testing Data Score: {rfm.score(X_test, y_test)}\")\n",
    "print(f\"Production Data Score: {rfm.score(X, y)}\")"
   ]
  },
  {
   "cell_type": "code",
   "execution_count": 52,
   "metadata": {
    "ExecuteTime": {
     "end_time": "2023-03-25T17:51:00.272713Z",
     "start_time": "2023-03-25T17:51:00.256608Z"
    }
   },
   "outputs": [],
   "source": [
    "from sklearn.metrics import mean_squared_error as MSE"
   ]
  },
  {
   "cell_type": "code",
   "execution_count": 77,
   "metadata": {
    "ExecuteTime": {
     "end_time": "2023-03-25T18:03:42.627937Z",
     "start_time": "2023-03-25T18:03:42.601530Z"
    }
   },
   "outputs": [
    {
     "name": "stdout",
     "output_type": "stream",
     "text": [
      "Mean Squared Error:  806404319.2723241\n",
      "Root Mean Squared Error:  28397.25900984678\n"
     ]
    }
   ],
   "source": [
    "MSE_score = MSE(y_test,predictions)\n",
    "print(\"Mean Squared Error: \",MSE_score.mean())\n",
    "print(\"Root Mean Squared Error: \",np.sqrt(MSE_score.mean()))"
   ]
  },
  {
   "cell_type": "markdown",
   "metadata": {},
   "source": [
    "# Hyperparameter Tuning"
   ]
  },
  {
   "cell_type": "code",
   "execution_count": 19,
   "metadata": {
    "ExecuteTime": {
     "end_time": "2023-03-25T17:26:51.767328Z",
     "start_time": "2023-03-25T17:26:51.750909Z"
    }
   },
   "outputs": [
    {
     "data": {
      "text/plain": [
       "{'bootstrap': True,\n",
       " 'ccp_alpha': 0.0,\n",
       " 'criterion': 'squared_error',\n",
       " 'max_depth': None,\n",
       " 'max_features': 1.0,\n",
       " 'max_leaf_nodes': None,\n",
       " 'max_samples': None,\n",
       " 'min_impurity_decrease': 0.0,\n",
       " 'min_samples_leaf': 1,\n",
       " 'min_samples_split': 2,\n",
       " 'min_weight_fraction_leaf': 0.0,\n",
       " 'n_estimators': 200,\n",
       " 'n_jobs': None,\n",
       " 'oob_score': False,\n",
       " 'random_state': None,\n",
       " 'verbose': 0,\n",
       " 'warm_start': False}"
      ]
     },
     "execution_count": 19,
     "metadata": {},
     "output_type": "execute_result"
    }
   ],
   "source": [
    "# Get randomforest params\n",
    "rfm.get_params()"
   ]
  },
  {
   "cell_type": "code",
   "execution_count": 25,
   "metadata": {
    "ExecuteTime": {
     "end_time": "2023-03-25T17:29:29.634227Z",
     "start_time": "2023-03-25T17:29:29.625219Z"
    }
   },
   "outputs": [],
   "source": [
    "# Create the GridSearchCV model\n",
    "param_grid = {\n",
    "    'n_estimators': [200, 250, 150],\n",
    "    'max_features': [1, 'sqrt', 'log2'],\n",
    "    'criterion': ['squared_error', 'absolute_error'],\n",
    "    'max_depth': [None, 5, 10]\n",
    "}\n",
    "grid = GridSearchCV(rfm, param_grid, cv=5, verbose=3)"
   ]
  },
  {
   "cell_type": "code",
   "execution_count": 26,
   "metadata": {
    "ExecuteTime": {
     "end_time": "2023-03-25T17:33:45.474873Z",
     "start_time": "2023-03-25T17:29:30.284814Z"
    },
    "scrolled": true
   },
   "outputs": [
    {
     "name": "stdout",
     "output_type": "stream",
     "text": [
      "Fitting 5 folds for each of 54 candidates, totalling 270 fits\n",
      "[CV 1/5] END criterion=squared_error, max_depth=None, max_features=1, n_estimators=200;, score=0.695 total time=   0.3s\n",
      "[CV 2/5] END criterion=squared_error, max_depth=None, max_features=1, n_estimators=200;, score=0.707 total time=   0.3s\n",
      "[CV 3/5] END criterion=squared_error, max_depth=None, max_features=1, n_estimators=200;, score=0.723 total time=   0.4s\n",
      "[CV 4/5] END criterion=squared_error, max_depth=None, max_features=1, n_estimators=200;, score=0.699 total time=   0.3s\n",
      "[CV 5/5] END criterion=squared_error, max_depth=None, max_features=1, n_estimators=200;, score=0.720 total time=   0.3s\n",
      "[CV 1/5] END criterion=squared_error, max_depth=None, max_features=1, n_estimators=250;, score=0.703 total time=   0.5s\n",
      "[CV 2/5] END criterion=squared_error, max_depth=None, max_features=1, n_estimators=250;, score=0.705 total time=   0.4s\n",
      "[CV 3/5] END criterion=squared_error, max_depth=None, max_features=1, n_estimators=250;, score=0.732 total time=   0.3s\n",
      "[CV 4/5] END criterion=squared_error, max_depth=None, max_features=1, n_estimators=250;, score=0.722 total time=   0.4s\n",
      "[CV 5/5] END criterion=squared_error, max_depth=None, max_features=1, n_estimators=250;, score=0.718 total time=   0.4s\n",
      "[CV 1/5] END criterion=squared_error, max_depth=None, max_features=1, n_estimators=150;, score=0.712 total time=   0.2s\n",
      "[CV 2/5] END criterion=squared_error, max_depth=None, max_features=1, n_estimators=150;, score=0.704 total time=   0.2s\n",
      "[CV 3/5] END criterion=squared_error, max_depth=None, max_features=1, n_estimators=150;, score=0.714 total time=   0.2s\n",
      "[CV 4/5] END criterion=squared_error, max_depth=None, max_features=1, n_estimators=150;, score=0.726 total time=   0.2s\n",
      "[CV 5/5] END criterion=squared_error, max_depth=None, max_features=1, n_estimators=150;, score=0.737 total time=   0.2s\n",
      "[CV 1/5] END criterion=squared_error, max_depth=None, max_features=sqrt, n_estimators=200;, score=0.894 total time=   0.3s\n",
      "[CV 2/5] END criterion=squared_error, max_depth=None, max_features=sqrt, n_estimators=200;, score=0.899 total time=   0.4s\n",
      "[CV 3/5] END criterion=squared_error, max_depth=None, max_features=sqrt, n_estimators=200;, score=0.902 total time=   0.4s\n",
      "[CV 4/5] END criterion=squared_error, max_depth=None, max_features=sqrt, n_estimators=200;, score=0.912 total time=   0.4s\n",
      "[CV 5/5] END criterion=squared_error, max_depth=None, max_features=sqrt, n_estimators=200;, score=0.877 total time=   0.4s\n",
      "[CV 1/5] END criterion=squared_error, max_depth=None, max_features=sqrt, n_estimators=250;, score=0.887 total time=   0.5s\n",
      "[CV 2/5] END criterion=squared_error, max_depth=None, max_features=sqrt, n_estimators=250;, score=0.899 total time=   0.5s\n",
      "[CV 3/5] END criterion=squared_error, max_depth=None, max_features=sqrt, n_estimators=250;, score=0.907 total time=   0.5s\n",
      "[CV 4/5] END criterion=squared_error, max_depth=None, max_features=sqrt, n_estimators=250;, score=0.907 total time=   0.7s\n",
      "[CV 5/5] END criterion=squared_error, max_depth=None, max_features=sqrt, n_estimators=250;, score=0.874 total time=   0.7s\n",
      "[CV 1/5] END criterion=squared_error, max_depth=None, max_features=sqrt, n_estimators=150;, score=0.896 total time=   0.3s\n",
      "[CV 2/5] END criterion=squared_error, max_depth=None, max_features=sqrt, n_estimators=150;, score=0.894 total time=   0.2s\n",
      "[CV 3/5] END criterion=squared_error, max_depth=None, max_features=sqrt, n_estimators=150;, score=0.904 total time=   0.2s\n",
      "[CV 4/5] END criterion=squared_error, max_depth=None, max_features=sqrt, n_estimators=150;, score=0.911 total time=   0.2s\n",
      "[CV 5/5] END criterion=squared_error, max_depth=None, max_features=sqrt, n_estimators=150;, score=0.880 total time=   0.2s\n",
      "[CV 1/5] END criterion=squared_error, max_depth=None, max_features=log2, n_estimators=200;, score=0.888 total time=   0.3s\n",
      "[CV 2/5] END criterion=squared_error, max_depth=None, max_features=log2, n_estimators=200;, score=0.899 total time=   0.4s\n",
      "[CV 3/5] END criterion=squared_error, max_depth=None, max_features=log2, n_estimators=200;, score=0.908 total time=   0.3s\n",
      "[CV 4/5] END criterion=squared_error, max_depth=None, max_features=log2, n_estimators=200;, score=0.908 total time=   0.4s\n",
      "[CV 5/5] END criterion=squared_error, max_depth=None, max_features=log2, n_estimators=200;, score=0.876 total time=   0.3s\n",
      "[CV 1/5] END criterion=squared_error, max_depth=None, max_features=log2, n_estimators=250;, score=0.892 total time=   0.5s\n",
      "[CV 2/5] END criterion=squared_error, max_depth=None, max_features=log2, n_estimators=250;, score=0.904 total time=   0.4s\n",
      "[CV 3/5] END criterion=squared_error, max_depth=None, max_features=log2, n_estimators=250;, score=0.904 total time=   0.5s\n",
      "[CV 4/5] END criterion=squared_error, max_depth=None, max_features=log2, n_estimators=250;, score=0.909 total time=   0.5s\n",
      "[CV 5/5] END criterion=squared_error, max_depth=None, max_features=log2, n_estimators=250;, score=0.873 total time=   0.4s\n",
      "[CV 1/5] END criterion=squared_error, max_depth=None, max_features=log2, n_estimators=150;, score=0.891 total time=   0.2s\n",
      "[CV 2/5] END criterion=squared_error, max_depth=None, max_features=log2, n_estimators=150;, score=0.893 total time=   0.3s\n",
      "[CV 3/5] END criterion=squared_error, max_depth=None, max_features=log2, n_estimators=150;, score=0.900 total time=   0.2s\n",
      "[CV 4/5] END criterion=squared_error, max_depth=None, max_features=log2, n_estimators=150;, score=0.899 total time=   0.3s\n",
      "[CV 5/5] END criterion=squared_error, max_depth=None, max_features=log2, n_estimators=150;, score=0.879 total time=   0.2s\n",
      "[CV 1/5] END criterion=squared_error, max_depth=5, max_features=1, n_estimators=200;, score=0.497 total time=   0.2s\n",
      "[CV 2/5] END criterion=squared_error, max_depth=5, max_features=1, n_estimators=200;, score=0.458 total time=   0.2s\n",
      "[CV 3/5] END criterion=squared_error, max_depth=5, max_features=1, n_estimators=200;, score=0.498 total time=   0.2s\n",
      "[CV 4/5] END criterion=squared_error, max_depth=5, max_features=1, n_estimators=200;, score=0.485 total time=   0.2s\n",
      "[CV 5/5] END criterion=squared_error, max_depth=5, max_features=1, n_estimators=200;, score=0.457 total time=   0.2s\n",
      "[CV 1/5] END criterion=squared_error, max_depth=5, max_features=1, n_estimators=250;, score=0.473 total time=   0.2s\n",
      "[CV 2/5] END criterion=squared_error, max_depth=5, max_features=1, n_estimators=250;, score=0.424 total time=   0.2s\n",
      "[CV 3/5] END criterion=squared_error, max_depth=5, max_features=1, n_estimators=250;, score=0.517 total time=   0.2s\n",
      "[CV 4/5] END criterion=squared_error, max_depth=5, max_features=1, n_estimators=250;, score=0.486 total time=   0.2s\n",
      "[CV 5/5] END criterion=squared_error, max_depth=5, max_features=1, n_estimators=250;, score=0.465 total time=   0.2s\n",
      "[CV 1/5] END criterion=squared_error, max_depth=5, max_features=1, n_estimators=150;, score=0.481 total time=   0.1s\n",
      "[CV 2/5] END criterion=squared_error, max_depth=5, max_features=1, n_estimators=150;, score=0.419 total time=   0.1s\n",
      "[CV 3/5] END criterion=squared_error, max_depth=5, max_features=1, n_estimators=150;, score=0.503 total time=   0.1s\n",
      "[CV 4/5] END criterion=squared_error, max_depth=5, max_features=1, n_estimators=150;, score=0.482 total time=   0.1s\n",
      "[CV 5/5] END criterion=squared_error, max_depth=5, max_features=1, n_estimators=150;, score=0.475 total time=   0.1s\n",
      "[CV 1/5] END criterion=squared_error, max_depth=5, max_features=sqrt, n_estimators=200;, score=0.753 total time=   0.2s\n",
      "[CV 2/5] END criterion=squared_error, max_depth=5, max_features=sqrt, n_estimators=200;, score=0.748 total time=   0.2s\n",
      "[CV 3/5] END criterion=squared_error, max_depth=5, max_features=sqrt, n_estimators=200;, score=0.788 total time=   0.2s\n",
      "[CV 4/5] END criterion=squared_error, max_depth=5, max_features=sqrt, n_estimators=200;, score=0.767 total time=   0.2s\n",
      "[CV 5/5] END criterion=squared_error, max_depth=5, max_features=sqrt, n_estimators=200;, score=0.738 total time=   0.2s\n",
      "[CV 1/5] END criterion=squared_error, max_depth=5, max_features=sqrt, n_estimators=250;, score=0.757 total time=   0.3s\n",
      "[CV 2/5] END criterion=squared_error, max_depth=5, max_features=sqrt, n_estimators=250;, score=0.737 total time=   0.3s\n",
      "[CV 3/5] END criterion=squared_error, max_depth=5, max_features=sqrt, n_estimators=250;, score=0.790 total time=   0.3s\n"
     ]
    },
    {
     "name": "stdout",
     "output_type": "stream",
     "text": [
      "[CV 4/5] END criterion=squared_error, max_depth=5, max_features=sqrt, n_estimators=250;, score=0.767 total time=   0.3s\n",
      "[CV 5/5] END criterion=squared_error, max_depth=5, max_features=sqrt, n_estimators=250;, score=0.721 total time=   0.3s\n",
      "[CV 1/5] END criterion=squared_error, max_depth=5, max_features=sqrt, n_estimators=150;, score=0.749 total time=   0.1s\n",
      "[CV 2/5] END criterion=squared_error, max_depth=5, max_features=sqrt, n_estimators=150;, score=0.759 total time=   0.1s\n",
      "[CV 3/5] END criterion=squared_error, max_depth=5, max_features=sqrt, n_estimators=150;, score=0.788 total time=   0.2s\n",
      "[CV 4/5] END criterion=squared_error, max_depth=5, max_features=sqrt, n_estimators=150;, score=0.760 total time=   0.1s\n",
      "[CV 5/5] END criterion=squared_error, max_depth=5, max_features=sqrt, n_estimators=150;, score=0.754 total time=   0.1s\n",
      "[CV 1/5] END criterion=squared_error, max_depth=5, max_features=log2, n_estimators=200;, score=0.745 total time=   0.2s\n",
      "[CV 2/5] END criterion=squared_error, max_depth=5, max_features=log2, n_estimators=200;, score=0.734 total time=   0.2s\n",
      "[CV 3/5] END criterion=squared_error, max_depth=5, max_features=log2, n_estimators=200;, score=0.800 total time=   0.2s\n",
      "[CV 4/5] END criterion=squared_error, max_depth=5, max_features=log2, n_estimators=200;, score=0.751 total time=   0.3s\n",
      "[CV 5/5] END criterion=squared_error, max_depth=5, max_features=log2, n_estimators=200;, score=0.748 total time=   0.2s\n",
      "[CV 1/5] END criterion=squared_error, max_depth=5, max_features=log2, n_estimators=250;, score=0.760 total time=   0.4s\n",
      "[CV 2/5] END criterion=squared_error, max_depth=5, max_features=log2, n_estimators=250;, score=0.740 total time=   0.3s\n",
      "[CV 3/5] END criterion=squared_error, max_depth=5, max_features=log2, n_estimators=250;, score=0.779 total time=   0.3s\n",
      "[CV 4/5] END criterion=squared_error, max_depth=5, max_features=log2, n_estimators=250;, score=0.757 total time=   0.3s\n",
      "[CV 5/5] END criterion=squared_error, max_depth=5, max_features=log2, n_estimators=250;, score=0.738 total time=   0.3s\n",
      "[CV 1/5] END criterion=squared_error, max_depth=5, max_features=log2, n_estimators=150;, score=0.727 total time=   0.1s\n",
      "[CV 2/5] END criterion=squared_error, max_depth=5, max_features=log2, n_estimators=150;, score=0.743 total time=   0.1s\n",
      "[CV 3/5] END criterion=squared_error, max_depth=5, max_features=log2, n_estimators=150;, score=0.774 total time=   0.1s\n",
      "[CV 4/5] END criterion=squared_error, max_depth=5, max_features=log2, n_estimators=150;, score=0.755 total time=   0.1s\n",
      "[CV 5/5] END criterion=squared_error, max_depth=5, max_features=log2, n_estimators=150;, score=0.720 total time=   0.1s\n",
      "[CV 1/5] END criterion=squared_error, max_depth=10, max_features=1, n_estimators=200;, score=0.634 total time=   0.2s\n",
      "[CV 2/5] END criterion=squared_error, max_depth=10, max_features=1, n_estimators=200;, score=0.640 total time=   0.2s\n",
      "[CV 3/5] END criterion=squared_error, max_depth=10, max_features=1, n_estimators=200;, score=0.677 total time=   0.2s\n",
      "[CV 4/5] END criterion=squared_error, max_depth=10, max_features=1, n_estimators=200;, score=0.665 total time=   0.2s\n",
      "[CV 5/5] END criterion=squared_error, max_depth=10, max_features=1, n_estimators=200;, score=0.690 total time=   0.2s\n",
      "[CV 1/5] END criterion=squared_error, max_depth=10, max_features=1, n_estimators=250;, score=0.646 total time=   0.3s\n",
      "[CV 2/5] END criterion=squared_error, max_depth=10, max_features=1, n_estimators=250;, score=0.663 total time=   0.3s\n",
      "[CV 3/5] END criterion=squared_error, max_depth=10, max_features=1, n_estimators=250;, score=0.694 total time=   0.3s\n",
      "[CV 4/5] END criterion=squared_error, max_depth=10, max_features=1, n_estimators=250;, score=0.666 total time=   0.3s\n",
      "[CV 5/5] END criterion=squared_error, max_depth=10, max_features=1, n_estimators=250;, score=0.669 total time=   0.3s\n",
      "[CV 1/5] END criterion=squared_error, max_depth=10, max_features=1, n_estimators=150;, score=0.614 total time=   0.1s\n",
      "[CV 2/5] END criterion=squared_error, max_depth=10, max_features=1, n_estimators=150;, score=0.655 total time=   0.1s\n",
      "[CV 3/5] END criterion=squared_error, max_depth=10, max_features=1, n_estimators=150;, score=0.685 total time=   0.1s\n",
      "[CV 4/5] END criterion=squared_error, max_depth=10, max_features=1, n_estimators=150;, score=0.673 total time=   0.2s\n",
      "[CV 5/5] END criterion=squared_error, max_depth=10, max_features=1, n_estimators=150;, score=0.690 total time=   0.2s\n",
      "[CV 1/5] END criterion=squared_error, max_depth=10, max_features=sqrt, n_estimators=200;, score=0.880 total time=   0.3s\n",
      "[CV 2/5] END criterion=squared_error, max_depth=10, max_features=sqrt, n_estimators=200;, score=0.890 total time=   0.3s\n",
      "[CV 3/5] END criterion=squared_error, max_depth=10, max_features=sqrt, n_estimators=200;, score=0.896 total time=   0.3s\n",
      "[CV 4/5] END criterion=squared_error, max_depth=10, max_features=sqrt, n_estimators=200;, score=0.894 total time=   0.3s\n",
      "[CV 5/5] END criterion=squared_error, max_depth=10, max_features=sqrt, n_estimators=200;, score=0.865 total time=   0.3s\n",
      "[CV 1/5] END criterion=squared_error, max_depth=10, max_features=sqrt, n_estimators=250;, score=0.878 total time=   0.4s\n",
      "[CV 2/5] END criterion=squared_error, max_depth=10, max_features=sqrt, n_estimators=250;, score=0.876 total time=   0.4s\n",
      "[CV 3/5] END criterion=squared_error, max_depth=10, max_features=sqrt, n_estimators=250;, score=0.893 total time=   0.4s\n",
      "[CV 4/5] END criterion=squared_error, max_depth=10, max_features=sqrt, n_estimators=250;, score=0.901 total time=   0.4s\n",
      "[CV 5/5] END criterion=squared_error, max_depth=10, max_features=sqrt, n_estimators=250;, score=0.865 total time=   0.4s\n",
      "[CV 1/5] END criterion=squared_error, max_depth=10, max_features=sqrt, n_estimators=150;, score=0.880 total time=   0.2s\n",
      "[CV 2/5] END criterion=squared_error, max_depth=10, max_features=sqrt, n_estimators=150;, score=0.891 total time=   0.2s\n",
      "[CV 3/5] END criterion=squared_error, max_depth=10, max_features=sqrt, n_estimators=150;, score=0.898 total time=   0.2s\n",
      "[CV 4/5] END criterion=squared_error, max_depth=10, max_features=sqrt, n_estimators=150;, score=0.893 total time=   0.2s\n",
      "[CV 5/5] END criterion=squared_error, max_depth=10, max_features=sqrt, n_estimators=150;, score=0.875 total time=   0.2s\n",
      "[CV 1/5] END criterion=squared_error, max_depth=10, max_features=log2, n_estimators=200;, score=0.884 total time=   0.3s\n",
      "[CV 2/5] END criterion=squared_error, max_depth=10, max_features=log2, n_estimators=200;, score=0.892 total time=   0.3s\n",
      "[CV 3/5] END criterion=squared_error, max_depth=10, max_features=log2, n_estimators=200;, score=0.896 total time=   0.3s\n",
      "[CV 4/5] END criterion=squared_error, max_depth=10, max_features=log2, n_estimators=200;, score=0.898 total time=   0.3s\n",
      "[CV 5/5] END criterion=squared_error, max_depth=10, max_features=log2, n_estimators=200;, score=0.869 total time=   0.3s\n",
      "[CV 1/5] END criterion=squared_error, max_depth=10, max_features=log2, n_estimators=250;, score=0.882 total time=   0.4s\n",
      "[CV 2/5] END criterion=squared_error, max_depth=10, max_features=log2, n_estimators=250;, score=0.879 total time=   0.4s\n",
      "[CV 3/5] END criterion=squared_error, max_depth=10, max_features=log2, n_estimators=250;, score=0.892 total time=   0.4s\n",
      "[CV 4/5] END criterion=squared_error, max_depth=10, max_features=log2, n_estimators=250;, score=0.900 total time=   0.4s\n",
      "[CV 5/5] END criterion=squared_error, max_depth=10, max_features=log2, n_estimators=250;, score=0.867 total time=   0.4s\n",
      "[CV 1/5] END criterion=squared_error, max_depth=10, max_features=log2, n_estimators=150;, score=0.873 total time=   0.2s\n",
      "[CV 2/5] END criterion=squared_error, max_depth=10, max_features=log2, n_estimators=150;, score=0.883 total time=   0.2s\n",
      "[CV 3/5] END criterion=squared_error, max_depth=10, max_features=log2, n_estimators=150;, score=0.901 total time=   0.2s\n",
      "[CV 4/5] END criterion=squared_error, max_depth=10, max_features=log2, n_estimators=150;, score=0.897 total time=   0.2s\n",
      "[CV 5/5] END criterion=squared_error, max_depth=10, max_features=log2, n_estimators=150;, score=0.864 total time=   0.2s\n",
      "[CV 1/5] END criterion=absolute_error, max_depth=None, max_features=1, n_estimators=200;, score=0.665 total time=   1.3s\n",
      "[CV 2/5] END criterion=absolute_error, max_depth=None, max_features=1, n_estimators=200;, score=0.646 total time=   1.1s\n"
     ]
    },
    {
     "name": "stdout",
     "output_type": "stream",
     "text": [
      "[CV 3/5] END criterion=absolute_error, max_depth=None, max_features=1, n_estimators=200;, score=0.708 total time=   1.1s\n",
      "[CV 4/5] END criterion=absolute_error, max_depth=None, max_features=1, n_estimators=200;, score=0.687 total time=   1.1s\n",
      "[CV 5/5] END criterion=absolute_error, max_depth=None, max_features=1, n_estimators=200;, score=0.680 total time=   1.2s\n",
      "[CV 1/5] END criterion=absolute_error, max_depth=None, max_features=1, n_estimators=250;, score=0.692 total time=   1.4s\n",
      "[CV 2/5] END criterion=absolute_error, max_depth=None, max_features=1, n_estimators=250;, score=0.654 total time=   1.4s\n",
      "[CV 3/5] END criterion=absolute_error, max_depth=None, max_features=1, n_estimators=250;, score=0.697 total time=   1.4s\n",
      "[CV 4/5] END criterion=absolute_error, max_depth=None, max_features=1, n_estimators=250;, score=0.676 total time=   1.4s\n",
      "[CV 5/5] END criterion=absolute_error, max_depth=None, max_features=1, n_estimators=250;, score=0.674 total time=   1.4s\n",
      "[CV 1/5] END criterion=absolute_error, max_depth=None, max_features=1, n_estimators=150;, score=0.670 total time=   0.9s\n",
      "[CV 2/5] END criterion=absolute_error, max_depth=None, max_features=1, n_estimators=150;, score=0.656 total time=   0.9s\n",
      "[CV 3/5] END criterion=absolute_error, max_depth=None, max_features=1, n_estimators=150;, score=0.709 total time=   0.8s\n",
      "[CV 4/5] END criterion=absolute_error, max_depth=None, max_features=1, n_estimators=150;, score=0.680 total time=   0.9s\n",
      "[CV 5/5] END criterion=absolute_error, max_depth=None, max_features=1, n_estimators=150;, score=0.689 total time=   0.8s\n",
      "[CV 1/5] END criterion=absolute_error, max_depth=None, max_features=sqrt, n_estimators=200;, score=0.899 total time=   2.2s\n",
      "[CV 2/5] END criterion=absolute_error, max_depth=None, max_features=sqrt, n_estimators=200;, score=0.892 total time=   2.0s\n",
      "[CV 3/5] END criterion=absolute_error, max_depth=None, max_features=sqrt, n_estimators=200;, score=0.908 total time=   2.0s\n",
      "[CV 4/5] END criterion=absolute_error, max_depth=None, max_features=sqrt, n_estimators=200;, score=0.910 total time=   1.9s\n",
      "[CV 5/5] END criterion=absolute_error, max_depth=None, max_features=sqrt, n_estimators=200;, score=0.870 total time=   2.1s\n",
      "[CV 1/5] END criterion=absolute_error, max_depth=None, max_features=sqrt, n_estimators=250;, score=0.894 total time=   2.5s\n",
      "[CV 2/5] END criterion=absolute_error, max_depth=None, max_features=sqrt, n_estimators=250;, score=0.893 total time=   2.4s\n",
      "[CV 3/5] END criterion=absolute_error, max_depth=None, max_features=sqrt, n_estimators=250;, score=0.911 total time=   2.4s\n",
      "[CV 4/5] END criterion=absolute_error, max_depth=None, max_features=sqrt, n_estimators=250;, score=0.909 total time=   2.5s\n",
      "[CV 5/5] END criterion=absolute_error, max_depth=None, max_features=sqrt, n_estimators=250;, score=0.872 total time=   2.5s\n",
      "[CV 1/5] END criterion=absolute_error, max_depth=None, max_features=sqrt, n_estimators=150;, score=0.896 total time=   1.5s\n",
      "[CV 2/5] END criterion=absolute_error, max_depth=None, max_features=sqrt, n_estimators=150;, score=0.889 total time=   1.6s\n",
      "[CV 3/5] END criterion=absolute_error, max_depth=None, max_features=sqrt, n_estimators=150;, score=0.902 total time=   1.5s\n",
      "[CV 4/5] END criterion=absolute_error, max_depth=None, max_features=sqrt, n_estimators=150;, score=0.903 total time=   1.5s\n",
      "[CV 5/5] END criterion=absolute_error, max_depth=None, max_features=sqrt, n_estimators=150;, score=0.861 total time=   1.4s\n",
      "[CV 1/5] END criterion=absolute_error, max_depth=None, max_features=log2, n_estimators=200;, score=0.885 total time=   2.0s\n",
      "[CV 2/5] END criterion=absolute_error, max_depth=None, max_features=log2, n_estimators=200;, score=0.892 total time=   1.9s\n",
      "[CV 3/5] END criterion=absolute_error, max_depth=None, max_features=log2, n_estimators=200;, score=0.905 total time=   1.9s\n",
      "[CV 4/5] END criterion=absolute_error, max_depth=None, max_features=log2, n_estimators=200;, score=0.897 total time=   1.9s\n",
      "[CV 5/5] END criterion=absolute_error, max_depth=None, max_features=log2, n_estimators=200;, score=0.870 total time=   1.9s\n",
      "[CV 1/5] END criterion=absolute_error, max_depth=None, max_features=log2, n_estimators=250;, score=0.903 total time=   2.4s\n",
      "[CV 2/5] END criterion=absolute_error, max_depth=None, max_features=log2, n_estimators=250;, score=0.893 total time=   2.4s\n",
      "[CV 3/5] END criterion=absolute_error, max_depth=None, max_features=log2, n_estimators=250;, score=0.910 total time=   2.4s\n",
      "[CV 4/5] END criterion=absolute_error, max_depth=None, max_features=log2, n_estimators=250;, score=0.909 total time=   2.6s\n",
      "[CV 5/5] END criterion=absolute_error, max_depth=None, max_features=log2, n_estimators=250;, score=0.866 total time=   2.5s\n",
      "[CV 1/5] END criterion=absolute_error, max_depth=None, max_features=log2, n_estimators=150;, score=0.898 total time=   1.4s\n",
      "[CV 2/5] END criterion=absolute_error, max_depth=None, max_features=log2, n_estimators=150;, score=0.906 total time=   1.5s\n",
      "[CV 3/5] END criterion=absolute_error, max_depth=None, max_features=log2, n_estimators=150;, score=0.904 total time=   1.6s\n",
      "[CV 4/5] END criterion=absolute_error, max_depth=None, max_features=log2, n_estimators=150;, score=0.906 total time=   1.5s\n",
      "[CV 5/5] END criterion=absolute_error, max_depth=None, max_features=log2, n_estimators=150;, score=0.872 total time=   1.4s\n",
      "[CV 1/5] END criterion=absolute_error, max_depth=5, max_features=1, n_estimators=200;, score=0.485 total time=   0.6s\n",
      "[CV 2/5] END criterion=absolute_error, max_depth=5, max_features=1, n_estimators=200;, score=0.398 total time=   0.7s\n",
      "[CV 3/5] END criterion=absolute_error, max_depth=5, max_features=1, n_estimators=200;, score=0.488 total time=   0.6s\n",
      "[CV 4/5] END criterion=absolute_error, max_depth=5, max_features=1, n_estimators=200;, score=0.438 total time=   0.6s\n",
      "[CV 5/5] END criterion=absolute_error, max_depth=5, max_features=1, n_estimators=200;, score=0.406 total time=   0.6s\n",
      "[CV 1/5] END criterion=absolute_error, max_depth=5, max_features=1, n_estimators=250;, score=0.491 total time=   0.8s\n",
      "[CV 2/5] END criterion=absolute_error, max_depth=5, max_features=1, n_estimators=250;, score=0.404 total time=   0.8s\n",
      "[CV 3/5] END criterion=absolute_error, max_depth=5, max_features=1, n_estimators=250;, score=0.488 total time=   0.8s\n",
      "[CV 4/5] END criterion=absolute_error, max_depth=5, max_features=1, n_estimators=250;, score=0.451 total time=   0.8s\n",
      "[CV 5/5] END criterion=absolute_error, max_depth=5, max_features=1, n_estimators=250;, score=0.394 total time=   0.8s\n",
      "[CV 1/5] END criterion=absolute_error, max_depth=5, max_features=1, n_estimators=150;, score=0.469 total time=   0.4s\n",
      "[CV 2/5] END criterion=absolute_error, max_depth=5, max_features=1, n_estimators=150;, score=0.413 total time=   0.5s\n",
      "[CV 3/5] END criterion=absolute_error, max_depth=5, max_features=1, n_estimators=150;, score=0.487 total time=   0.5s\n",
      "[CV 4/5] END criterion=absolute_error, max_depth=5, max_features=1, n_estimators=150;, score=0.456 total time=   0.5s\n",
      "[CV 5/5] END criterion=absolute_error, max_depth=5, max_features=1, n_estimators=150;, score=0.417 total time=   0.4s\n",
      "[CV 1/5] END criterion=absolute_error, max_depth=5, max_features=sqrt, n_estimators=200;, score=0.732 total time=   1.2s\n",
      "[CV 2/5] END criterion=absolute_error, max_depth=5, max_features=sqrt, n_estimators=200;, score=0.696 total time=   1.1s\n",
      "[CV 3/5] END criterion=absolute_error, max_depth=5, max_features=sqrt, n_estimators=200;, score=0.758 total time=   1.2s\n",
      "[CV 4/5] END criterion=absolute_error, max_depth=5, max_features=sqrt, n_estimators=200;, score=0.760 total time=   1.2s\n",
      "[CV 5/5] END criterion=absolute_error, max_depth=5, max_features=sqrt, n_estimators=200;, score=0.696 total time=   1.2s\n",
      "[CV 1/5] END criterion=absolute_error, max_depth=5, max_features=sqrt, n_estimators=250;, score=0.754 total time=   1.5s\n",
      "[CV 2/5] END criterion=absolute_error, max_depth=5, max_features=sqrt, n_estimators=250;, score=0.726 total time=   1.5s\n",
      "[CV 3/5] END criterion=absolute_error, max_depth=5, max_features=sqrt, n_estimators=250;, score=0.745 total time=   1.5s\n",
      "[CV 4/5] END criterion=absolute_error, max_depth=5, max_features=sqrt, n_estimators=250;, score=0.743 total time=   1.5s\n",
      "[CV 5/5] END criterion=absolute_error, max_depth=5, max_features=sqrt, n_estimators=250;, score=0.694 total time=   1.5s\n"
     ]
    },
    {
     "name": "stdout",
     "output_type": "stream",
     "text": [
      "[CV 1/5] END criterion=absolute_error, max_depth=5, max_features=sqrt, n_estimators=150;, score=0.754 total time=   0.8s\n",
      "[CV 2/5] END criterion=absolute_error, max_depth=5, max_features=sqrt, n_estimators=150;, score=0.735 total time=   1.0s\n",
      "[CV 3/5] END criterion=absolute_error, max_depth=5, max_features=sqrt, n_estimators=150;, score=0.771 total time=   1.2s\n",
      "[CV 4/5] END criterion=absolute_error, max_depth=5, max_features=sqrt, n_estimators=150;, score=0.749 total time=   1.0s\n",
      "[CV 5/5] END criterion=absolute_error, max_depth=5, max_features=sqrt, n_estimators=150;, score=0.685 total time=   1.0s\n",
      "[CV 1/5] END criterion=absolute_error, max_depth=5, max_features=log2, n_estimators=200;, score=0.734 total time=   1.3s\n",
      "[CV 2/5] END criterion=absolute_error, max_depth=5, max_features=log2, n_estimators=200;, score=0.710 total time=   1.3s\n",
      "[CV 3/5] END criterion=absolute_error, max_depth=5, max_features=log2, n_estimators=200;, score=0.739 total time=   1.3s\n",
      "[CV 4/5] END criterion=absolute_error, max_depth=5, max_features=log2, n_estimators=200;, score=0.763 total time=   1.3s\n",
      "[CV 5/5] END criterion=absolute_error, max_depth=5, max_features=log2, n_estimators=200;, score=0.709 total time=   1.4s\n",
      "[CV 1/5] END criterion=absolute_error, max_depth=5, max_features=log2, n_estimators=250;, score=0.767 total time=   1.6s\n",
      "[CV 2/5] END criterion=absolute_error, max_depth=5, max_features=log2, n_estimators=250;, score=0.703 total time=   1.8s\n",
      "[CV 3/5] END criterion=absolute_error, max_depth=5, max_features=log2, n_estimators=250;, score=0.755 total time=   1.7s\n",
      "[CV 4/5] END criterion=absolute_error, max_depth=5, max_features=log2, n_estimators=250;, score=0.767 total time=   1.8s\n",
      "[CV 5/5] END criterion=absolute_error, max_depth=5, max_features=log2, n_estimators=250;, score=0.693 total time=   1.9s\n",
      "[CV 1/5] END criterion=absolute_error, max_depth=5, max_features=log2, n_estimators=150;, score=0.756 total time=   1.0s\n",
      "[CV 2/5] END criterion=absolute_error, max_depth=5, max_features=log2, n_estimators=150;, score=0.695 total time=   1.1s\n",
      "[CV 3/5] END criterion=absolute_error, max_depth=5, max_features=log2, n_estimators=150;, score=0.744 total time=   1.0s\n",
      "[CV 4/5] END criterion=absolute_error, max_depth=5, max_features=log2, n_estimators=150;, score=0.755 total time=   1.1s\n",
      "[CV 5/5] END criterion=absolute_error, max_depth=5, max_features=log2, n_estimators=150;, score=0.698 total time=   1.1s\n",
      "[CV 1/5] END criterion=absolute_error, max_depth=10, max_features=1, n_estimators=200;, score=0.631 total time=   1.2s\n",
      "[CV 2/5] END criterion=absolute_error, max_depth=10, max_features=1, n_estimators=200;, score=0.590 total time=   0.9s\n",
      "[CV 3/5] END criterion=absolute_error, max_depth=10, max_features=1, n_estimators=200;, score=0.676 total time=   0.9s\n",
      "[CV 4/5] END criterion=absolute_error, max_depth=10, max_features=1, n_estimators=200;, score=0.650 total time=   0.9s\n",
      "[CV 5/5] END criterion=absolute_error, max_depth=10, max_features=1, n_estimators=200;, score=0.620 total time=   0.9s\n",
      "[CV 1/5] END criterion=absolute_error, max_depth=10, max_features=1, n_estimators=250;, score=0.641 total time=   1.2s\n",
      "[CV 2/5] END criterion=absolute_error, max_depth=10, max_features=1, n_estimators=250;, score=0.614 total time=   1.2s\n",
      "[CV 3/5] END criterion=absolute_error, max_depth=10, max_features=1, n_estimators=250;, score=0.643 total time=   1.2s\n",
      "[CV 4/5] END criterion=absolute_error, max_depth=10, max_features=1, n_estimators=250;, score=0.629 total time=   1.1s\n",
      "[CV 5/5] END criterion=absolute_error, max_depth=10, max_features=1, n_estimators=250;, score=0.643 total time=   1.2s\n",
      "[CV 1/5] END criterion=absolute_error, max_depth=10, max_features=1, n_estimators=150;, score=0.638 total time=   0.7s\n",
      "[CV 2/5] END criterion=absolute_error, max_depth=10, max_features=1, n_estimators=150;, score=0.619 total time=   0.6s\n",
      "[CV 3/5] END criterion=absolute_error, max_depth=10, max_features=1, n_estimators=150;, score=0.663 total time=   0.7s\n",
      "[CV 4/5] END criterion=absolute_error, max_depth=10, max_features=1, n_estimators=150;, score=0.630 total time=   0.7s\n",
      "[CV 5/5] END criterion=absolute_error, max_depth=10, max_features=1, n_estimators=150;, score=0.637 total time=   0.6s\n",
      "[CV 1/5] END criterion=absolute_error, max_depth=10, max_features=sqrt, n_estimators=200;, score=0.880 total time=   1.7s\n",
      "[CV 2/5] END criterion=absolute_error, max_depth=10, max_features=sqrt, n_estimators=200;, score=0.865 total time=   1.6s\n",
      "[CV 3/5] END criterion=absolute_error, max_depth=10, max_features=sqrt, n_estimators=200;, score=0.900 total time=   1.7s\n",
      "[CV 4/5] END criterion=absolute_error, max_depth=10, max_features=sqrt, n_estimators=200;, score=0.899 total time=   1.7s\n",
      "[CV 5/5] END criterion=absolute_error, max_depth=10, max_features=sqrt, n_estimators=200;, score=0.860 total time=   1.7s\n",
      "[CV 1/5] END criterion=absolute_error, max_depth=10, max_features=sqrt, n_estimators=250;, score=0.879 total time=   2.1s\n",
      "[CV 2/5] END criterion=absolute_error, max_depth=10, max_features=sqrt, n_estimators=250;, score=0.874 total time=   2.0s\n",
      "[CV 3/5] END criterion=absolute_error, max_depth=10, max_features=sqrt, n_estimators=250;, score=0.900 total time=   2.1s\n",
      "[CV 4/5] END criterion=absolute_error, max_depth=10, max_features=sqrt, n_estimators=250;, score=0.894 total time=   2.1s\n",
      "[CV 5/5] END criterion=absolute_error, max_depth=10, max_features=sqrt, n_estimators=250;, score=0.862 total time=   2.1s\n",
      "[CV 1/5] END criterion=absolute_error, max_depth=10, max_features=sqrt, n_estimators=150;, score=0.870 total time=   1.3s\n",
      "[CV 2/5] END criterion=absolute_error, max_depth=10, max_features=sqrt, n_estimators=150;, score=0.869 total time=   1.2s\n",
      "[CV 3/5] END criterion=absolute_error, max_depth=10, max_features=sqrt, n_estimators=150;, score=0.901 total time=   1.2s\n",
      "[CV 4/5] END criterion=absolute_error, max_depth=10, max_features=sqrt, n_estimators=150;, score=0.894 total time=   1.2s\n",
      "[CV 5/5] END criterion=absolute_error, max_depth=10, max_features=sqrt, n_estimators=150;, score=0.858 total time=   1.2s\n",
      "[CV 1/5] END criterion=absolute_error, max_depth=10, max_features=log2, n_estimators=200;, score=0.878 total time=   1.7s\n",
      "[CV 2/5] END criterion=absolute_error, max_depth=10, max_features=log2, n_estimators=200;, score=0.881 total time=   1.6s\n",
      "[CV 3/5] END criterion=absolute_error, max_depth=10, max_features=log2, n_estimators=200;, score=0.903 total time=   1.7s\n",
      "[CV 4/5] END criterion=absolute_error, max_depth=10, max_features=log2, n_estimators=200;, score=0.888 total time=   1.6s\n",
      "[CV 5/5] END criterion=absolute_error, max_depth=10, max_features=log2, n_estimators=200;, score=0.856 total time=   1.7s\n",
      "[CV 1/5] END criterion=absolute_error, max_depth=10, max_features=log2, n_estimators=250;, score=0.883 total time=   2.1s\n",
      "[CV 2/5] END criterion=absolute_error, max_depth=10, max_features=log2, n_estimators=250;, score=0.873 total time=   2.1s\n",
      "[CV 3/5] END criterion=absolute_error, max_depth=10, max_features=log2, n_estimators=250;, score=0.895 total time=   2.1s\n",
      "[CV 4/5] END criterion=absolute_error, max_depth=10, max_features=log2, n_estimators=250;, score=0.903 total time=   2.1s\n",
      "[CV 5/5] END criterion=absolute_error, max_depth=10, max_features=log2, n_estimators=250;, score=0.859 total time=   2.1s\n",
      "[CV 1/5] END criterion=absolute_error, max_depth=10, max_features=log2, n_estimators=150;, score=0.885 total time=   1.3s\n",
      "[CV 2/5] END criterion=absolute_error, max_depth=10, max_features=log2, n_estimators=150;, score=0.872 total time=   1.2s\n",
      "[CV 3/5] END criterion=absolute_error, max_depth=10, max_features=log2, n_estimators=150;, score=0.895 total time=   1.2s\n",
      "[CV 4/5] END criterion=absolute_error, max_depth=10, max_features=log2, n_estimators=150;, score=0.892 total time=   1.2s\n",
      "[CV 5/5] END criterion=absolute_error, max_depth=10, max_features=log2, n_estimators=150;, score=0.853 total time=   1.3s\n"
     ]
    },
    {
     "data": {
      "text/html": [
       "<style>#sk-container-id-3 {color: black;background-color: white;}#sk-container-id-3 pre{padding: 0;}#sk-container-id-3 div.sk-toggleable {background-color: white;}#sk-container-id-3 label.sk-toggleable__label {cursor: pointer;display: block;width: 100%;margin-bottom: 0;padding: 0.3em;box-sizing: border-box;text-align: center;}#sk-container-id-3 label.sk-toggleable__label-arrow:before {content: \"▸\";float: left;margin-right: 0.25em;color: #696969;}#sk-container-id-3 label.sk-toggleable__label-arrow:hover:before {color: black;}#sk-container-id-3 div.sk-estimator:hover label.sk-toggleable__label-arrow:before {color: black;}#sk-container-id-3 div.sk-toggleable__content {max-height: 0;max-width: 0;overflow: hidden;text-align: left;background-color: #f0f8ff;}#sk-container-id-3 div.sk-toggleable__content pre {margin: 0.2em;color: black;border-radius: 0.25em;background-color: #f0f8ff;}#sk-container-id-3 input.sk-toggleable__control:checked~div.sk-toggleable__content {max-height: 200px;max-width: 100%;overflow: auto;}#sk-container-id-3 input.sk-toggleable__control:checked~label.sk-toggleable__label-arrow:before {content: \"▾\";}#sk-container-id-3 div.sk-estimator input.sk-toggleable__control:checked~label.sk-toggleable__label {background-color: #d4ebff;}#sk-container-id-3 div.sk-label input.sk-toggleable__control:checked~label.sk-toggleable__label {background-color: #d4ebff;}#sk-container-id-3 input.sk-hidden--visually {border: 0;clip: rect(1px 1px 1px 1px);clip: rect(1px, 1px, 1px, 1px);height: 1px;margin: -1px;overflow: hidden;padding: 0;position: absolute;width: 1px;}#sk-container-id-3 div.sk-estimator {font-family: monospace;background-color: #f0f8ff;border: 1px dotted black;border-radius: 0.25em;box-sizing: border-box;margin-bottom: 0.5em;}#sk-container-id-3 div.sk-estimator:hover {background-color: #d4ebff;}#sk-container-id-3 div.sk-parallel-item::after {content: \"\";width: 100%;border-bottom: 1px solid gray;flex-grow: 1;}#sk-container-id-3 div.sk-label:hover label.sk-toggleable__label {background-color: #d4ebff;}#sk-container-id-3 div.sk-serial::before {content: \"\";position: absolute;border-left: 1px solid gray;box-sizing: border-box;top: 0;bottom: 0;left: 50%;z-index: 0;}#sk-container-id-3 div.sk-serial {display: flex;flex-direction: column;align-items: center;background-color: white;padding-right: 0.2em;padding-left: 0.2em;position: relative;}#sk-container-id-3 div.sk-item {position: relative;z-index: 1;}#sk-container-id-3 div.sk-parallel {display: flex;align-items: stretch;justify-content: center;background-color: white;position: relative;}#sk-container-id-3 div.sk-item::before, #sk-container-id-3 div.sk-parallel-item::before {content: \"\";position: absolute;border-left: 1px solid gray;box-sizing: border-box;top: 0;bottom: 0;left: 50%;z-index: -1;}#sk-container-id-3 div.sk-parallel-item {display: flex;flex-direction: column;z-index: 1;position: relative;background-color: white;}#sk-container-id-3 div.sk-parallel-item:first-child::after {align-self: flex-end;width: 50%;}#sk-container-id-3 div.sk-parallel-item:last-child::after {align-self: flex-start;width: 50%;}#sk-container-id-3 div.sk-parallel-item:only-child::after {width: 0;}#sk-container-id-3 div.sk-dashed-wrapped {border: 1px dashed gray;margin: 0 0.4em 0.5em 0.4em;box-sizing: border-box;padding-bottom: 0.4em;background-color: white;}#sk-container-id-3 div.sk-label label {font-family: monospace;font-weight: bold;display: inline-block;line-height: 1.2em;}#sk-container-id-3 div.sk-label-container {text-align: center;}#sk-container-id-3 div.sk-container {/* jupyter's `normalize.less` sets `[hidden] { display: none; }` but bootstrap.min.css set `[hidden] { display: none !important; }` so we also need the `!important` here to be able to override the default hidden behavior on the sphinx rendered scikit-learn.org. See: https://github.com/scikit-learn/scikit-learn/issues/21755 */display: inline-block !important;position: relative;}#sk-container-id-3 div.sk-text-repr-fallback {display: none;}</style><div id=\"sk-container-id-3\" class=\"sk-top-container\"><div class=\"sk-text-repr-fallback\"><pre>GridSearchCV(cv=5, estimator=RandomForestRegressor(n_estimators=200),\n",
       "             param_grid={&#x27;criterion&#x27;: [&#x27;squared_error&#x27;, &#x27;absolute_error&#x27;],\n",
       "                         &#x27;max_depth&#x27;: [None, 5, 10],\n",
       "                         &#x27;max_features&#x27;: [1, &#x27;sqrt&#x27;, &#x27;log2&#x27;],\n",
       "                         &#x27;n_estimators&#x27;: [200, 250, 150]},\n",
       "             verbose=3)</pre><b>In a Jupyter environment, please rerun this cell to show the HTML representation or trust the notebook. <br />On GitHub, the HTML representation is unable to render, please try loading this page with nbviewer.org.</b></div><div class=\"sk-container\" hidden><div class=\"sk-item sk-dashed-wrapped\"><div class=\"sk-label-container\"><div class=\"sk-label sk-toggleable\"><input class=\"sk-toggleable__control sk-hidden--visually\" id=\"sk-estimator-id-5\" type=\"checkbox\" ><label for=\"sk-estimator-id-5\" class=\"sk-toggleable__label sk-toggleable__label-arrow\">GridSearchCV</label><div class=\"sk-toggleable__content\"><pre>GridSearchCV(cv=5, estimator=RandomForestRegressor(n_estimators=200),\n",
       "             param_grid={&#x27;criterion&#x27;: [&#x27;squared_error&#x27;, &#x27;absolute_error&#x27;],\n",
       "                         &#x27;max_depth&#x27;: [None, 5, 10],\n",
       "                         &#x27;max_features&#x27;: [1, &#x27;sqrt&#x27;, &#x27;log2&#x27;],\n",
       "                         &#x27;n_estimators&#x27;: [200, 250, 150]},\n",
       "             verbose=3)</pre></div></div></div><div class=\"sk-parallel\"><div class=\"sk-parallel-item\"><div class=\"sk-item\"><div class=\"sk-label-container\"><div class=\"sk-label sk-toggleable\"><input class=\"sk-toggleable__control sk-hidden--visually\" id=\"sk-estimator-id-6\" type=\"checkbox\" ><label for=\"sk-estimator-id-6\" class=\"sk-toggleable__label sk-toggleable__label-arrow\">estimator: RandomForestRegressor</label><div class=\"sk-toggleable__content\"><pre>RandomForestRegressor(n_estimators=200)</pre></div></div></div><div class=\"sk-serial\"><div class=\"sk-item\"><div class=\"sk-estimator sk-toggleable\"><input class=\"sk-toggleable__control sk-hidden--visually\" id=\"sk-estimator-id-7\" type=\"checkbox\" ><label for=\"sk-estimator-id-7\" class=\"sk-toggleable__label sk-toggleable__label-arrow\">RandomForestRegressor</label><div class=\"sk-toggleable__content\"><pre>RandomForestRegressor(n_estimators=200)</pre></div></div></div></div></div></div></div></div></div></div>"
      ],
      "text/plain": [
       "GridSearchCV(cv=5, estimator=RandomForestRegressor(n_estimators=200),\n",
       "             param_grid={'criterion': ['squared_error', 'absolute_error'],\n",
       "                         'max_depth': [None, 5, 10],\n",
       "                         'max_features': [1, 'sqrt', 'log2'],\n",
       "                         'n_estimators': [200, 250, 150]},\n",
       "             verbose=3)"
      ]
     },
     "execution_count": 26,
     "metadata": {},
     "output_type": "execute_result"
    }
   ],
   "source": [
    "# Train the model with GridSearch\n",
    "grid.fit(X_train, y_train)"
   ]
  },
  {
   "cell_type": "code",
   "execution_count": 27,
   "metadata": {
    "ExecuteTime": {
     "end_time": "2023-03-25T17:33:45.490796Z",
     "start_time": "2023-03-25T17:33:45.477862Z"
    }
   },
   "outputs": [
    {
     "name": "stdout",
     "output_type": "stream",
     "text": [
      "{'criterion': 'absolute_error', 'max_depth': None, 'max_features': 'log2', 'n_estimators': 150}\n",
      "0.8969408131635307\n"
     ]
    }
   ],
   "source": [
    "print(grid.best_params_)\n",
    "print(grid.best_score_)"
   ]
  },
  {
   "cell_type": "code",
   "execution_count": 28,
   "metadata": {
    "ExecuteTime": {
     "end_time": "2023-03-25T17:35:00.687103Z",
     "start_time": "2023-03-25T17:34:58.593732Z"
    }
   },
   "outputs": [
    {
     "data": {
      "text/html": [
       "<style>#sk-container-id-4 {color: black;background-color: white;}#sk-container-id-4 pre{padding: 0;}#sk-container-id-4 div.sk-toggleable {background-color: white;}#sk-container-id-4 label.sk-toggleable__label {cursor: pointer;display: block;width: 100%;margin-bottom: 0;padding: 0.3em;box-sizing: border-box;text-align: center;}#sk-container-id-4 label.sk-toggleable__label-arrow:before {content: \"▸\";float: left;margin-right: 0.25em;color: #696969;}#sk-container-id-4 label.sk-toggleable__label-arrow:hover:before {color: black;}#sk-container-id-4 div.sk-estimator:hover label.sk-toggleable__label-arrow:before {color: black;}#sk-container-id-4 div.sk-toggleable__content {max-height: 0;max-width: 0;overflow: hidden;text-align: left;background-color: #f0f8ff;}#sk-container-id-4 div.sk-toggleable__content pre {margin: 0.2em;color: black;border-radius: 0.25em;background-color: #f0f8ff;}#sk-container-id-4 input.sk-toggleable__control:checked~div.sk-toggleable__content {max-height: 200px;max-width: 100%;overflow: auto;}#sk-container-id-4 input.sk-toggleable__control:checked~label.sk-toggleable__label-arrow:before {content: \"▾\";}#sk-container-id-4 div.sk-estimator input.sk-toggleable__control:checked~label.sk-toggleable__label {background-color: #d4ebff;}#sk-container-id-4 div.sk-label input.sk-toggleable__control:checked~label.sk-toggleable__label {background-color: #d4ebff;}#sk-container-id-4 input.sk-hidden--visually {border: 0;clip: rect(1px 1px 1px 1px);clip: rect(1px, 1px, 1px, 1px);height: 1px;margin: -1px;overflow: hidden;padding: 0;position: absolute;width: 1px;}#sk-container-id-4 div.sk-estimator {font-family: monospace;background-color: #f0f8ff;border: 1px dotted black;border-radius: 0.25em;box-sizing: border-box;margin-bottom: 0.5em;}#sk-container-id-4 div.sk-estimator:hover {background-color: #d4ebff;}#sk-container-id-4 div.sk-parallel-item::after {content: \"\";width: 100%;border-bottom: 1px solid gray;flex-grow: 1;}#sk-container-id-4 div.sk-label:hover label.sk-toggleable__label {background-color: #d4ebff;}#sk-container-id-4 div.sk-serial::before {content: \"\";position: absolute;border-left: 1px solid gray;box-sizing: border-box;top: 0;bottom: 0;left: 50%;z-index: 0;}#sk-container-id-4 div.sk-serial {display: flex;flex-direction: column;align-items: center;background-color: white;padding-right: 0.2em;padding-left: 0.2em;position: relative;}#sk-container-id-4 div.sk-item {position: relative;z-index: 1;}#sk-container-id-4 div.sk-parallel {display: flex;align-items: stretch;justify-content: center;background-color: white;position: relative;}#sk-container-id-4 div.sk-item::before, #sk-container-id-4 div.sk-parallel-item::before {content: \"\";position: absolute;border-left: 1px solid gray;box-sizing: border-box;top: 0;bottom: 0;left: 50%;z-index: -1;}#sk-container-id-4 div.sk-parallel-item {display: flex;flex-direction: column;z-index: 1;position: relative;background-color: white;}#sk-container-id-4 div.sk-parallel-item:first-child::after {align-self: flex-end;width: 50%;}#sk-container-id-4 div.sk-parallel-item:last-child::after {align-self: flex-start;width: 50%;}#sk-container-id-4 div.sk-parallel-item:only-child::after {width: 0;}#sk-container-id-4 div.sk-dashed-wrapped {border: 1px dashed gray;margin: 0 0.4em 0.5em 0.4em;box-sizing: border-box;padding-bottom: 0.4em;background-color: white;}#sk-container-id-4 div.sk-label label {font-family: monospace;font-weight: bold;display: inline-block;line-height: 1.2em;}#sk-container-id-4 div.sk-label-container {text-align: center;}#sk-container-id-4 div.sk-container {/* jupyter's `normalize.less` sets `[hidden] { display: none; }` but bootstrap.min.css set `[hidden] { display: none !important; }` so we also need the `!important` here to be able to override the default hidden behavior on the sphinx rendered scikit-learn.org. See: https://github.com/scikit-learn/scikit-learn/issues/21755 */display: inline-block !important;position: relative;}#sk-container-id-4 div.sk-text-repr-fallback {display: none;}</style><div id=\"sk-container-id-4\" class=\"sk-top-container\"><div class=\"sk-text-repr-fallback\"><pre>RandomForestRegressor(criterion=&#x27;absolute_error&#x27;, max_features=&#x27;log2&#x27;,\n",
       "                      n_estimators=150)</pre><b>In a Jupyter environment, please rerun this cell to show the HTML representation or trust the notebook. <br />On GitHub, the HTML representation is unable to render, please try loading this page with nbviewer.org.</b></div><div class=\"sk-container\" hidden><div class=\"sk-item\"><div class=\"sk-estimator sk-toggleable\"><input class=\"sk-toggleable__control sk-hidden--visually\" id=\"sk-estimator-id-8\" type=\"checkbox\" checked><label for=\"sk-estimator-id-8\" class=\"sk-toggleable__label sk-toggleable__label-arrow\">RandomForestRegressor</label><div class=\"sk-toggleable__content\"><pre>RandomForestRegressor(criterion=&#x27;absolute_error&#x27;, max_features=&#x27;log2&#x27;,\n",
       "                      n_estimators=150)</pre></div></div></div></div></div>"
      ],
      "text/plain": [
       "RandomForestRegressor(criterion='absolute_error', max_features='log2',\n",
       "                      n_estimators=150)"
      ]
     },
     "execution_count": 28,
     "metadata": {},
     "output_type": "execute_result"
    }
   ],
   "source": [
    "rfm_tuned = RandomForestRegressor(**grid.best_params_)\n",
    "rfm_tuned.fit(X_train, y_train)"
   ]
  },
  {
   "cell_type": "code",
   "execution_count": 29,
   "metadata": {
    "ExecuteTime": {
     "end_time": "2023-03-25T17:35:02.622411Z",
     "start_time": "2023-03-25T17:35:02.480610Z"
    }
   },
   "outputs": [
    {
     "name": "stdout",
     "output_type": "stream",
     "text": [
      "Training Data Score: 0.9816532650164224\n",
      "Testing Data Score: 0.9223066290289834\n",
      "Production Data Score: 0.9682439423054952\n"
     ]
    }
   ],
   "source": [
    "predictions = rfm_tuned.predict(X_test)\n",
    "print(f\"Training Data Score: {rfm_tuned.score(X_train, y_train)}\")\n",
    "print(f\"Testing Data Score: {rfm_tuned.score(X_test, y_test)}\")\n",
    "print(f\"Production Data Score: {rfm_tuned.score(X, y)}\")"
   ]
  },
  {
   "cell_type": "code",
   "execution_count": 28,
   "metadata": {
    "ExecuteTime": {
     "end_time": "2023-03-24T02:25:28.610566Z",
     "start_time": "2023-03-24T02:25:28.594829Z"
    }
   },
   "outputs": [
    {
     "name": "stdout",
     "output_type": "stream",
     "text": [
      "Mean Squared Error:  6933647341.006582\n",
      "Root Mean Squared Error:  83268.52551238422\n"
     ]
    }
   ],
   "source": [
    "MSE_score = MSE(y_test,predictions)\n",
    "print(\"Mean Squared Error: \",MSE_score.mean())\n",
    "print(\"Root Mean Squared Error: \",np.sqrt(MSE_score.mean()))"
   ]
  },
  {
   "cell_type": "markdown",
   "metadata": {},
   "source": [
    "The base model works better in this case."
   ]
  },
  {
   "cell_type": "markdown",
   "metadata": {},
   "source": [
    "# Export model"
   ]
  },
  {
   "cell_type": "code",
   "execution_count": 78,
   "metadata": {
    "ExecuteTime": {
     "end_time": "2023-03-25T18:03:46.626873Z",
     "start_time": "2023-03-25T18:03:46.480909Z"
    }
   },
   "outputs": [
    {
     "data": {
      "text/plain": [
       "['../Models/NJ_rfm_house_price2.sav']"
      ]
     },
     "execution_count": 78,
     "metadata": {},
     "output_type": "execute_result"
    }
   ],
   "source": [
    "#  save the model\n",
    "filename = '../Models/NJ_rfm_house_price2.sav'\n",
    "joblib.dump(rfm, filename)"
   ]
  },
  {
   "cell_type": "markdown",
   "metadata": {},
   "source": [
    "# Array for prediction"
   ]
  },
  {
   "cell_type": "code",
   "execution_count": 2,
   "metadata": {
    "ExecuteTime": {
     "end_time": "2023-03-25T17:13:29.731194Z",
     "start_time": "2023-03-25T17:13:29.635941Z"
    }
   },
   "outputs": [],
   "source": [
    "rfm = joblib.load('../Models/NJ_rfm_house_price.sav')"
   ]
  },
  {
   "cell_type": "code",
   "execution_count": 54,
   "metadata": {
    "ExecuteTime": {
     "end_time": "2023-03-25T17:52:01.835270Z",
     "start_time": "2023-03-25T17:52:01.822263Z"
    }
   },
   "outputs": [
    {
     "data": {
      "text/plain": [
       "Index(['year', 'num_of_bedrooms', 'est_pop', 'median_hh_income',\n",
       "       'poverty_count', 'poverty_rate', 'tax_rate', 'county_label'],\n",
       "      dtype='object')"
      ]
     },
     "execution_count": 54,
     "metadata": {},
     "output_type": "execute_result"
    }
   ],
   "source": [
    "X.columns"
   ]
  },
  {
   "cell_type": "code",
   "execution_count": 75,
   "metadata": {
    "ExecuteTime": {
     "end_time": "2023-03-25T18:01:22.102894Z",
     "start_time": "2023-03-25T18:01:22.070848Z"
    }
   },
   "outputs": [
    {
     "data": {
      "text/html": [
       "<div>\n",
       "<style scoped>\n",
       "    .dataframe tbody tr th:only-of-type {\n",
       "        vertical-align: middle;\n",
       "    }\n",
       "\n",
       "    .dataframe tbody tr th {\n",
       "        vertical-align: top;\n",
       "    }\n",
       "\n",
       "    .dataframe thead th {\n",
       "        text-align: right;\n",
       "    }\n",
       "</style>\n",
       "<table border=\"1\" class=\"dataframe\">\n",
       "  <thead>\n",
       "    <tr style=\"text-align: right;\">\n",
       "      <th></th>\n",
       "      <th>county_name</th>\n",
       "      <th>year</th>\n",
       "      <th>num_of_bedrooms</th>\n",
       "      <th>est_pop</th>\n",
       "      <th>median_hh_income</th>\n",
       "      <th>poverty_count</th>\n",
       "      <th>poverty_rate</th>\n",
       "      <th>tax_rate</th>\n",
       "      <th>county_label</th>\n",
       "    </tr>\n",
       "  </thead>\n",
       "  <tbody>\n",
       "    <tr>\n",
       "      <th>0</th>\n",
       "      <td>UNION</td>\n",
       "      <td>2026</td>\n",
       "      <td>3</td>\n",
       "      <td>572114</td>\n",
       "      <td>85926</td>\n",
       "      <td>52354</td>\n",
       "      <td>9.30</td>\n",
       "      <td>8.42</td>\n",
       "      <td>19</td>\n",
       "    </tr>\n",
       "  </tbody>\n",
       "</table>\n",
       "</div>"
      ],
      "text/plain": [
       "  county_name  year  num_of_bedrooms  est_pop  median_hh_income  \\\n",
       "0       UNION  2026                3   572114             85926   \n",
       "\n",
       "   poverty_count  poverty_rate  tax_rate  county_label  \n",
       "0          52354          9.30      8.42            19  "
      ]
     },
     "execution_count": 75,
     "metadata": {},
     "output_type": "execute_result"
    }
   ],
   "source": [
    "county='UNION'\n",
    "beds=3\n",
    "year = 2026\n",
    "df_filtered=df[(df['county_name']==county)][['county_name','year', 'num_of_bedrooms', 'est_pop', 'median_hh_income',\n",
    "       'poverty_count', 'poverty_rate', 'tax_rate', 'county_label']]\n",
    "county_label=ref_df[ref_df['county_name']==county]['county_label'].values[0]\n",
    "best_array = df_filtered[(df_filtered['county_name']==county)&\\\n",
    "              (df_filtered['num_of_bedrooms']==beds)].tail(1)\n",
    "best_array['year']=year\n",
    "best_array['county_label']=county_label\n",
    "# best_array['est_pop']=df_filtered['est_pop'].max()\n",
    "# best_array['median_hh_income']=df_filtered['median_hh_income'].max()\n",
    "# best_array['poverty_count']=df_filtered['poverty_count'].max()\n",
    "# best_array['poverty_rate']=df_filtered['poverty_rate'].max()\n",
    "# best_array['tax_rate']=df_filtered['tax_rate'].max()\n",
    "best_array.reset_index(drop=True,inplace=True)\n",
    "best_array"
   ]
  },
  {
   "cell_type": "code",
   "execution_count": 76,
   "metadata": {
    "ExecuteTime": {
     "end_time": "2023-03-25T18:01:22.323660Z",
     "start_time": "2023-03-25T18:01:22.277539Z"
    }
   },
   "outputs": [
    {
     "data": {
      "text/plain": [
       "410731.4104748989"
      ]
     },
     "execution_count": 76,
     "metadata": {},
     "output_type": "execute_result"
    }
   ],
   "source": [
    "rfm.predict(best_array.drop('county_name',axis=1))[0]"
   ]
  },
  {
   "cell_type": "code",
   "execution_count": 73,
   "metadata": {
    "ExecuteTime": {
     "end_time": "2023-03-25T17:57:30.366817Z",
     "start_time": "2023-03-25T17:57:30.328211Z"
    }
   },
   "outputs": [
    {
     "data": {
      "text/html": [
       "<div>\n",
       "<style scoped>\n",
       "    .dataframe tbody tr th:only-of-type {\n",
       "        vertical-align: middle;\n",
       "    }\n",
       "\n",
       "    .dataframe tbody tr th {\n",
       "        vertical-align: top;\n",
       "    }\n",
       "\n",
       "    .dataframe thead th {\n",
       "        text-align: right;\n",
       "    }\n",
       "</style>\n",
       "<table border=\"1\" class=\"dataframe\">\n",
       "  <thead>\n",
       "    <tr style=\"text-align: right;\">\n",
       "      <th></th>\n",
       "      <th>county_name</th>\n",
       "      <th>year</th>\n",
       "      <th>num_of_bedrooms</th>\n",
       "      <th>est_pop</th>\n",
       "      <th>median_hh_income</th>\n",
       "      <th>poverty_count</th>\n",
       "      <th>poverty_rate</th>\n",
       "      <th>tax_rate</th>\n",
       "      <th>county_label</th>\n",
       "    </tr>\n",
       "  </thead>\n",
       "  <tbody>\n",
       "    <tr>\n",
       "      <th>0</th>\n",
       "      <td>ESSEX</td>\n",
       "      <td>2026</td>\n",
       "      <td>3</td>\n",
       "      <td>784017</td>\n",
       "      <td>52288</td>\n",
       "      <td>125503</td>\n",
       "      <td>16.40</td>\n",
       "      <td>3.13</td>\n",
       "      <td>6</td>\n",
       "    </tr>\n",
       "  </tbody>\n",
       "</table>\n",
       "</div>"
      ],
      "text/plain": [
       "  county_name  year  num_of_bedrooms  est_pop  median_hh_income  \\\n",
       "0       ESSEX  2026                3   784017             52288   \n",
       "\n",
       "   poverty_count  poverty_rate  tax_rate  county_label  \n",
       "0         125503         16.40      3.13             6  "
      ]
     },
     "execution_count": 73,
     "metadata": {},
     "output_type": "execute_result"
    }
   ],
   "source": [
    "county='ESSEX'\n",
    "beds=3\n",
    "year = 2026\n",
    "df_filtered=df[(df['county_name']==county)][['county_name','year', 'num_of_bedrooms', 'est_pop', 'median_hh_income',\n",
    "       'poverty_count', 'poverty_rate', 'tax_rate', 'county_label']]\n",
    "county_label=ref_df[ref_df['county_name']==county]['county_label'].values[0]\n",
    "best_array = df_filtered[(df_filtered['county_name']==county)&\\\n",
    "              (df_filtered['num_of_bedrooms']==beds)].head(1)\n",
    "best_array['year']=year\n",
    "best_array['county_label']=county_label\n",
    "# best_array['est_pop']=df_filtered['est_pop'].max()\n",
    "# best_array['median_hh_income']=df_filtered['median_hh_income'].max()\n",
    "# best_array['poverty_count']=df_filtered['poverty_count'].max()\n",
    "# best_array['poverty_rate']=df_filtered['poverty_rate'].max()\n",
    "# best_array['tax_rate']=df_filtered['tax_rate'].max()\n",
    "best_array.reset_index(drop=True,inplace=True)\n",
    "best_array"
   ]
  },
  {
   "cell_type": "code",
   "execution_count": 74,
   "metadata": {
    "ExecuteTime": {
     "end_time": "2023-03-25T17:57:31.053005Z",
     "start_time": "2023-03-25T17:57:30.976688Z"
    }
   },
   "outputs": [
    {
     "data": {
      "text/plain": [
       "401481.3393907867"
      ]
     },
     "execution_count": 74,
     "metadata": {},
     "output_type": "execute_result"
    }
   ],
   "source": [
    "rfm.predict(best_array.drop('county_name',axis=1))[0]"
   ]
  },
  {
   "cell_type": "code",
   "execution_count": null,
   "metadata": {},
   "outputs": [],
   "source": []
  },
  {
   "cell_type": "code",
   "execution_count": null,
   "metadata": {},
   "outputs": [],
   "source": []
  },
  {
   "cell_type": "code",
   "execution_count": 42,
   "metadata": {
    "ExecuteTime": {
     "end_time": "2023-03-25T17:40:44.854213Z",
     "start_time": "2023-03-25T17:40:44.798782Z"
    }
   },
   "outputs": [
    {
     "name": "stderr",
     "output_type": "stream",
     "text": [
      "<ipython-input-42-22090fe27412>:10: SettingWithCopyWarning: \n",
      "A value is trying to be set on a copy of a slice from a DataFrame.\n",
      "Try using .loc[row_indexer,col_indexer] = value instead\n",
      "\n",
      "See the caveats in the documentation: https://pandas.pydata.org/pandas-docs/stable/user_guide/indexing.html#returning-a-view-versus-a-copy\n",
      "  best_array['year']=year\n",
      "<ipython-input-42-22090fe27412>:11: SettingWithCopyWarning: \n",
      "A value is trying to be set on a copy of a slice from a DataFrame.\n",
      "Try using .loc[row_indexer,col_indexer] = value instead\n",
      "\n",
      "See the caveats in the documentation: https://pandas.pydata.org/pandas-docs/stable/user_guide/indexing.html#returning-a-view-versus-a-copy\n",
      "  best_array['county_label']=county_label\n",
      "<ipython-input-42-22090fe27412>:13: SettingWithCopyWarning: \n",
      "A value is trying to be set on a copy of a slice from a DataFrame.\n",
      "Try using .loc[row_indexer,col_indexer] = value instead\n",
      "\n",
      "See the caveats in the documentation: https://pandas.pydata.org/pandas-docs/stable/user_guide/indexing.html#returning-a-view-versus-a-copy\n",
      "  best_array[i]=abs(best_array[i]+(year-2020)*corr.loc['year',i])\n"
     ]
    },
    {
     "data": {
      "text/html": [
       "<div>\n",
       "<style scoped>\n",
       "    .dataframe tbody tr th:only-of-type {\n",
       "        vertical-align: middle;\n",
       "    }\n",
       "\n",
       "    .dataframe tbody tr th {\n",
       "        vertical-align: top;\n",
       "    }\n",
       "\n",
       "    .dataframe thead th {\n",
       "        text-align: right;\n",
       "    }\n",
       "</style>\n",
       "<table border=\"1\" class=\"dataframe\">\n",
       "  <thead>\n",
       "    <tr style=\"text-align: right;\">\n",
       "      <th></th>\n",
       "      <th>county_name</th>\n",
       "      <th>year</th>\n",
       "      <th>num_of_bedrooms</th>\n",
       "      <th>house_value_index</th>\n",
       "      <th>est_pop</th>\n",
       "      <th>median_hh_income</th>\n",
       "      <th>poverty_count</th>\n",
       "      <th>poverty_rate</th>\n",
       "      <th>st_abb</th>\n",
       "      <th>state_code</th>\n",
       "      <th>county_code</th>\n",
       "      <th>tax_rate</th>\n",
       "      <th>apr_30</th>\n",
       "      <th>points_30</th>\n",
       "      <th>apr_15</th>\n",
       "      <th>points_15</th>\n",
       "      <th>county_label</th>\n",
       "    </tr>\n",
       "  </thead>\n",
       "  <tbody>\n",
       "    <tr>\n",
       "      <th>0</th>\n",
       "      <td>UNION</td>\n",
       "      <td>2024</td>\n",
       "      <td>3.00</td>\n",
       "      <td>435,056.61</td>\n",
       "      <td>572,114.00</td>\n",
       "      <td>85,926.00</td>\n",
       "      <td>52,354.00</td>\n",
       "      <td>9.30</td>\n",
       "      <td>NJ</td>\n",
       "      <td>34</td>\n",
       "      <td>39</td>\n",
       "      <td>8.42</td>\n",
       "      <td>2.96</td>\n",
       "      <td>0.68</td>\n",
       "      <td>2.27</td>\n",
       "      <td>0.64</td>\n",
       "      <td>19</td>\n",
       "    </tr>\n",
       "  </tbody>\n",
       "</table>\n",
       "</div>"
      ],
      "text/plain": [
       "  county_name  year  num_of_bedrooms  house_value_index    est_pop  \\\n",
       "0       UNION  2024             3.00         435,056.61 572,114.00   \n",
       "\n",
       "   median_hh_income  poverty_count  poverty_rate st_abb  state_code  \\\n",
       "0         85,926.00      52,354.00          9.30     NJ          34   \n",
       "\n",
       "   county_code  tax_rate  apr_30  points_30  apr_15  points_15  county_label  \n",
       "0           39      8.42    2.96       0.68    2.27       0.64            19  "
      ]
     },
     "execution_count": 42,
     "metadata": {},
     "output_type": "execute_result"
    }
   ],
   "source": [
    "county='UNION'\n",
    "beds=3\n",
    "year = 2024\n",
    "df_filtered=df[(df['county_name']==county)&(df['year']==df['year'].max())]\n",
    "corr = df_filtered.corr()\n",
    "corr.fillna(0, inplace=True)\n",
    "county_label=ref_df[ref_df['county_name']==county]['county_label'].values[0]\n",
    "best_array = df[(df['county_name']==county)&\\\n",
    "              (df['num_of_bedrooms']==beds)&(df['year']==df['year'].max())]\n",
    "best_array['year']=year\n",
    "best_array['county_label']=county_label\n",
    "for i in best_array.drop(['county_name', 'year', 'house_value_index', 'county_label', 'st_abb','state_code','county_code'],axis=1).columns.tolist():\n",
    "    best_array[i]=abs(best_array[i]+(year-2020)*corr.loc['year',i])\n",
    "best_array.reset_index(drop=True,inplace=True)\n",
    "best_array"
   ]
  },
  {
   "cell_type": "code",
   "execution_count": 43,
   "metadata": {
    "ExecuteTime": {
     "end_time": "2023-03-25T17:40:45.466500Z",
     "start_time": "2023-03-25T17:40:45.393232Z"
    }
   },
   "outputs": [
    {
     "data": {
      "text/plain": [
       "406771.3838783805"
      ]
     },
     "execution_count": 43,
     "metadata": {},
     "output_type": "execute_result"
    }
   ],
   "source": [
    "rfm.predict(best_array.drop(['county_name','house_value_index', 'st_abb','state_code','county_code'],axis=1))[0]"
   ]
  },
  {
   "cell_type": "code",
   "execution_count": 34,
   "metadata": {
    "ExecuteTime": {
     "end_time": "2023-03-25T17:18:17.829353Z",
     "start_time": "2023-03-25T17:18:17.791206Z"
    }
   },
   "outputs": [
    {
     "data": {
      "text/html": [
       "<div>\n",
       "<style scoped>\n",
       "    .dataframe tbody tr th:only-of-type {\n",
       "        vertical-align: middle;\n",
       "    }\n",
       "\n",
       "    .dataframe tbody tr th {\n",
       "        vertical-align: top;\n",
       "    }\n",
       "\n",
       "    .dataframe thead th {\n",
       "        text-align: right;\n",
       "    }\n",
       "</style>\n",
       "<table border=\"1\" class=\"dataframe\">\n",
       "  <thead>\n",
       "    <tr style=\"text-align: right;\">\n",
       "      <th></th>\n",
       "      <th>county_name</th>\n",
       "      <th>year</th>\n",
       "      <th>num_of_bedrooms</th>\n",
       "      <th>house_value_index</th>\n",
       "    </tr>\n",
       "  </thead>\n",
       "  <tbody>\n",
       "    <tr>\n",
       "      <th>412</th>\n",
       "      <td>UNION</td>\n",
       "      <td>2020</td>\n",
       "      <td>3</td>\n",
       "      <td>377,759.26</td>\n",
       "    </tr>\n",
       "  </tbody>\n",
       "</table>\n",
       "</div>"
      ],
      "text/plain": [
       "    county_name  year  num_of_bedrooms  house_value_index\n",
       "412       UNION  2020                3         377,759.26"
      ]
     },
     "execution_count": 34,
     "metadata": {},
     "output_type": "execute_result"
    }
   ],
   "source": [
    "df[(df[f'county_name']==county)&\\\n",
    "   (df['num_of_bedrooms']==beds)][['county_name', 'year',\\\n",
    "                                   'num_of_bedrooms','house_value_index']].tail(1)"
   ]
  },
  {
   "cell_type": "code",
   "execution_count": 29,
   "metadata": {
    "ExecuteTime": {
     "end_time": "2023-03-25T17:18:10.119667Z",
     "start_time": "2023-03-25T17:18:10.059122Z"
    }
   },
   "outputs": [
    {
     "data": {
      "text/html": [
       "<div>\n",
       "<style scoped>\n",
       "    .dataframe tbody tr th:only-of-type {\n",
       "        vertical-align: middle;\n",
       "    }\n",
       "\n",
       "    .dataframe tbody tr th {\n",
       "        vertical-align: top;\n",
       "    }\n",
       "\n",
       "    .dataframe thead th {\n",
       "        text-align: right;\n",
       "    }\n",
       "</style>\n",
       "<table border=\"1\" class=\"dataframe\">\n",
       "  <thead>\n",
       "    <tr style=\"text-align: right;\">\n",
       "      <th></th>\n",
       "      <th>county_name</th>\n",
       "      <th>year</th>\n",
       "      <th>min_tax_rate</th>\n",
       "      <th>avg_tax_rate</th>\n",
       "      <th>max_tax_rate</th>\n",
       "      <th>murder</th>\n",
       "      <th>rape</th>\n",
       "      <th>robbery</th>\n",
       "      <th>assault</th>\n",
       "      <th>burglary</th>\n",
       "      <th>larceny</th>\n",
       "      <th>auto_theft</th>\n",
       "      <th>avg_std_cnt_ele</th>\n",
       "      <th>avg_exp_ele</th>\n",
       "      <th>avg_score_ele</th>\n",
       "      <th>min_std_cnt_ele</th>\n",
       "      <th>min_exp_ele</th>\n",
       "      <th>min_score_ele</th>\n",
       "      <th>max_std_cnt_ele</th>\n",
       "      <th>max_exp_ele</th>\n",
       "      <th>max_score_ele</th>\n",
       "      <th>avg_std_cnt_mid</th>\n",
       "      <th>avg_exp_mid</th>\n",
       "      <th>avg_score_mid</th>\n",
       "      <th>min_std_cnt_mid</th>\n",
       "      <th>min_exp_mid</th>\n",
       "      <th>min_score_mid</th>\n",
       "      <th>max_std_cnt_mid</th>\n",
       "      <th>max_exp_mid</th>\n",
       "      <th>max_score_mid</th>\n",
       "      <th>avg_std_cnt_high</th>\n",
       "      <th>avg_exp_high</th>\n",
       "      <th>avg_score_high</th>\n",
       "      <th>min_std_cnt_high</th>\n",
       "      <th>min_exp_high</th>\n",
       "      <th>min_score_high</th>\n",
       "      <th>max_std_cnt_high</th>\n",
       "      <th>max_exp_high</th>\n",
       "      <th>max_score_high</th>\n",
       "      <th>est_pop</th>\n",
       "      <th>apr_30</th>\n",
       "      <th>points_30</th>\n",
       "      <th>apr_15</th>\n",
       "      <th>points_15</th>\n",
       "      <th>num_of_bedrooms</th>\n",
       "      <th>house_value_index</th>\n",
       "      <th>median_hh_income</th>\n",
       "      <th>poverty_count</th>\n",
       "      <th>poverty_rate</th>\n",
       "      <th>county_label</th>\n",
       "    </tr>\n",
       "  </thead>\n",
       "  <tbody>\n",
       "    <tr>\n",
       "      <th>0</th>\n",
       "      <td>UNION</td>\n",
       "      <td>2026</td>\n",
       "      <td>9.26</td>\n",
       "      <td>14.83</td>\n",
       "      <td>21.88</td>\n",
       "      <td>13.42</td>\n",
       "      <td>94.39</td>\n",
       "      <td>840.66</td>\n",
       "      <td>779.22</td>\n",
       "      <td>1,618.97</td>\n",
       "      <td>7,566.00</td>\n",
       "      <td>1,444.60</td>\n",
       "      <td>626.72</td>\n",
       "      <td>9,658.08</td>\n",
       "      <td>43.24</td>\n",
       "      <td>139.47</td>\n",
       "      <td>6,032.65</td>\n",
       "      <td>1.28</td>\n",
       "      <td>2,223.58</td>\n",
       "      <td>15,980.00</td>\n",
       "      <td>95.65</td>\n",
       "      <td>626.72</td>\n",
       "      <td>9,658.08</td>\n",
       "      <td>43.24</td>\n",
       "      <td>139.47</td>\n",
       "      <td>6,032.65</td>\n",
       "      <td>1.28</td>\n",
       "      <td>2,223.58</td>\n",
       "      <td>15,980.00</td>\n",
       "      <td>95.65</td>\n",
       "      <td>626.72</td>\n",
       "      <td>9,658.08</td>\n",
       "      <td>43.24</td>\n",
       "      <td>139.47</td>\n",
       "      <td>6,032.65</td>\n",
       "      <td>1.28</td>\n",
       "      <td>2,223.58</td>\n",
       "      <td>15,980.00</td>\n",
       "      <td>95.65</td>\n",
       "      <td>554,693.09</td>\n",
       "      <td>8.24</td>\n",
       "      <td>4.42</td>\n",
       "      <td>6.81</td>\n",
       "      <td>3.89</td>\n",
       "      <td>3.00</td>\n",
       "      <td>322,550.09</td>\n",
       "      <td>76,824.60</td>\n",
       "      <td>52,051.56</td>\n",
       "      <td>8.20</td>\n",
       "      <td>19</td>\n",
       "    </tr>\n",
       "  </tbody>\n",
       "</table>\n",
       "</div>"
      ],
      "text/plain": [
       "  county_name  year  min_tax_rate  avg_tax_rate  max_tax_rate  murder  rape  \\\n",
       "0       UNION  2026          9.26         14.83         21.88   13.42 94.39   \n",
       "\n",
       "   robbery  assault  burglary  larceny  auto_theft  avg_std_cnt_ele  \\\n",
       "0   840.66   779.22  1,618.97 7,566.00    1,444.60           626.72   \n",
       "\n",
       "   avg_exp_ele  avg_score_ele  min_std_cnt_ele  min_exp_ele  min_score_ele  \\\n",
       "0     9,658.08          43.24           139.47     6,032.65           1.28   \n",
       "\n",
       "   max_std_cnt_ele  max_exp_ele  max_score_ele  avg_std_cnt_mid  avg_exp_mid  \\\n",
       "0         2,223.58    15,980.00          95.65           626.72     9,658.08   \n",
       "\n",
       "   avg_score_mid  min_std_cnt_mid  min_exp_mid  min_score_mid  \\\n",
       "0          43.24           139.47     6,032.65           1.28   \n",
       "\n",
       "   max_std_cnt_mid  max_exp_mid  max_score_mid  avg_std_cnt_high  \\\n",
       "0         2,223.58    15,980.00          95.65            626.72   \n",
       "\n",
       "   avg_exp_high  avg_score_high  min_std_cnt_high  min_exp_high  \\\n",
       "0      9,658.08           43.24            139.47      6,032.65   \n",
       "\n",
       "   min_score_high  max_std_cnt_high  max_exp_high  max_score_high    est_pop  \\\n",
       "0            1.28          2,223.58     15,980.00           95.65 554,693.09   \n",
       "\n",
       "   apr_30  points_30  apr_15  points_15  num_of_bedrooms  house_value_index  \\\n",
       "0    8.24       4.42    6.81       3.89             3.00         322,550.09   \n",
       "\n",
       "   median_hh_income  poverty_count  poverty_rate  county_label  \n",
       "0         76,824.60      52,051.56          8.20            19  "
      ]
     },
     "execution_count": 29,
     "metadata": {},
     "output_type": "execute_result"
    }
   ],
   "source": [
    "county='UNION'\n",
    "beds=3\n",
    "yr = 2026\n",
    "df_filtered=df[(df['county_name']==county)]\n",
    "corr = df_filtered.corr()\n",
    "corr.fillna(0, inplace=True)\n",
    "county_label=ref_df[ref_df['county_name']==county]['county_label'].values[0]\n",
    "worst_array = df[(df['county_name']==county)&\\\n",
    "              (df['num_of_bedrooms']==beds)].head(1)\n",
    "worst_array['year']=yr\n",
    "worst_array['county_label']=county_label\n",
    "for i in worst_array.drop(['county_name', 'year', 'house_value_index', 'county_label'],axis=1).columns.tolist():\n",
    "    worst_array[i]=abs(worst_array[i]-(year-2020)*corr.loc['year',i])\n",
    "worst_array.reset_index(drop=True,inplace=True)\n",
    "worst_array"
   ]
  },
  {
   "cell_type": "code",
   "execution_count": 30,
   "metadata": {
    "ExecuteTime": {
     "end_time": "2023-03-25T17:18:10.885181Z",
     "start_time": "2023-03-25T17:18:10.860133Z"
    }
   },
   "outputs": [
    {
     "data": {
      "text/html": [
       "<div>\n",
       "<style scoped>\n",
       "    .dataframe tbody tr th:only-of-type {\n",
       "        vertical-align: middle;\n",
       "    }\n",
       "\n",
       "    .dataframe tbody tr th {\n",
       "        vertical-align: top;\n",
       "    }\n",
       "\n",
       "    .dataframe thead th {\n",
       "        text-align: right;\n",
       "    }\n",
       "</style>\n",
       "<table border=\"1\" class=\"dataframe\">\n",
       "  <thead>\n",
       "    <tr style=\"text-align: right;\">\n",
       "      <th></th>\n",
       "      <th>county_name</th>\n",
       "      <th>year</th>\n",
       "      <th>num_of_bedrooms</th>\n",
       "      <th>house_value_index</th>\n",
       "    </tr>\n",
       "  </thead>\n",
       "  <tbody>\n",
       "    <tr>\n",
       "      <th>412</th>\n",
       "      <td>UNION</td>\n",
       "      <td>2020</td>\n",
       "      <td>3</td>\n",
       "      <td>377,759.26</td>\n",
       "    </tr>\n",
       "  </tbody>\n",
       "</table>\n",
       "</div>"
      ],
      "text/plain": [
       "    county_name  year  num_of_bedrooms  house_value_index\n",
       "412       UNION  2020                3         377,759.26"
      ]
     },
     "execution_count": 30,
     "metadata": {},
     "output_type": "execute_result"
    }
   ],
   "source": [
    "df[(df[f'county_name']==county)&\\\n",
    "   (df['num_of_bedrooms']==beds)][['county_name', 'year', 'num_of_bedrooms','house_value_index']].tail(1)"
   ]
  },
  {
   "cell_type": "code",
   "execution_count": 36,
   "metadata": {
    "ExecuteTime": {
     "end_time": "2023-03-25T17:18:31.575516Z",
     "start_time": "2023-03-25T17:18:31.514842Z"
    }
   },
   "outputs": [
    {
     "data": {
      "text/plain": [
       "354041.48059682467"
      ]
     },
     "execution_count": 36,
     "metadata": {},
     "output_type": "execute_result"
    }
   ],
   "source": [
    "value = rfm.predict(worst_array.drop(['county_name','house_value_index', 'county_label'],axis=1))[0] + 2*np.sqrt(MSE_score.mean())\n",
    "value"
   ]
  },
  {
   "cell_type": "code",
   "execution_count": null,
   "metadata": {},
   "outputs": [],
   "source": []
  }
 ],
 "metadata": {
  "kernelspec": {
   "display_name": "Python 3 (ipykernel)",
   "language": "python",
   "name": "python3"
  },
  "language_info": {
   "codemirror_mode": {
    "name": "ipython",
    "version": 3
   },
   "file_extension": ".py",
   "mimetype": "text/x-python",
   "name": "python",
   "nbconvert_exporter": "python",
   "pygments_lexer": "ipython3",
   "version": "3.8.8"
  }
 },
 "nbformat": 4,
 "nbformat_minor": 4
}
