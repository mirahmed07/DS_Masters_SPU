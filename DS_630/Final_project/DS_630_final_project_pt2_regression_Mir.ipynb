{
 "cells": [
  {
   "cell_type": "markdown",
   "metadata": {},
   "source": [
    "# FIFA 22 Players - Regression"
   ]
  },
  {
   "cell_type": "markdown",
   "metadata": {},
   "source": [
    "The objective of this project is to mine the players dataset from FIFA 22 and create a model for determining the best position for a player depending on the best features."
   ]
  },
  {
   "cell_type": "markdown",
   "metadata": {},
   "source": [
    "The dataset was downloaded from: https://www.kaggle.com/cashncarry/fifa-22-complete-player-dataset"
   ]
  },
  {
   "cell_type": "markdown",
   "metadata": {},
   "source": [
    "The dataset contains attributes related to different soccer related abilities as well as some other features, i.e. value, wage, nationality, club name, playing position in club team, national team name, playing position in national team, jersey number in national team and club, release clause for clubs, contract info with clubs etc. The scores to the soccer related abilities are given out by FIFA ratings division on a scale of 0 to 100. TotalStats is sum of scores from all soccer abilities related attributes and BaseStats is sum of scores from position related attributes."
   ]
  },
  {
   "cell_type": "markdown",
   "metadata": {},
   "source": [
    "# Import libraries"
   ]
  },
  {
   "cell_type": "code",
   "execution_count": 1,
   "metadata": {},
   "outputs": [],
   "source": [
    "import pandas as pd\n",
    "import numpy as np"
   ]
  },
  {
   "cell_type": "code",
   "execution_count": 2,
   "metadata": {},
   "outputs": [],
   "source": [
    "from sklearn.ensemble import RandomForestRegressor\n",
    "from sklearn.model_selection import GridSearchCV\n",
    "from sklearn.metrics import mean_squared_error"
   ]
  },
  {
   "cell_type": "markdown",
   "metadata": {},
   "source": [
    "# Import CSV file"
   ]
  },
  {
   "cell_type": "code",
   "execution_count": 3,
   "metadata": {},
   "outputs": [
    {
     "data": {
      "text/html": [
       "<div>\n",
       "<style scoped>\n",
       "    .dataframe tbody tr th:only-of-type {\n",
       "        vertical-align: middle;\n",
       "    }\n",
       "\n",
       "    .dataframe tbody tr th {\n",
       "        vertical-align: top;\n",
       "    }\n",
       "\n",
       "    .dataframe thead th {\n",
       "        text-align: right;\n",
       "    }\n",
       "</style>\n",
       "<table border=\"1\" class=\"dataframe\">\n",
       "  <thead>\n",
       "    <tr style=\"text-align: right;\">\n",
       "      <th></th>\n",
       "      <th>ID</th>\n",
       "      <th>Name</th>\n",
       "      <th>FullName</th>\n",
       "      <th>Age</th>\n",
       "      <th>Height</th>\n",
       "      <th>Weight</th>\n",
       "      <th>PhotoUrl</th>\n",
       "      <th>Nationality</th>\n",
       "      <th>Overall</th>\n",
       "      <th>Potential</th>\n",
       "      <th>...</th>\n",
       "      <th>LMRating</th>\n",
       "      <th>CMRating</th>\n",
       "      <th>RMRating</th>\n",
       "      <th>LWBRating</th>\n",
       "      <th>CDMRating</th>\n",
       "      <th>RWBRating</th>\n",
       "      <th>LBRating</th>\n",
       "      <th>CBRating</th>\n",
       "      <th>RBRating</th>\n",
       "      <th>GKRating</th>\n",
       "    </tr>\n",
       "  </thead>\n",
       "  <tbody>\n",
       "    <tr>\n",
       "      <th>0</th>\n",
       "      <td>158023</td>\n",
       "      <td>L. Messi</td>\n",
       "      <td>Lionel Messi</td>\n",
       "      <td>34</td>\n",
       "      <td>170</td>\n",
       "      <td>72</td>\n",
       "      <td>https://cdn.sofifa.com/players/158/023/22_60.png</td>\n",
       "      <td>Argentina</td>\n",
       "      <td>93</td>\n",
       "      <td>93</td>\n",
       "      <td>...</td>\n",
       "      <td>93</td>\n",
       "      <td>90</td>\n",
       "      <td>93</td>\n",
       "      <td>69</td>\n",
       "      <td>67</td>\n",
       "      <td>69</td>\n",
       "      <td>64</td>\n",
       "      <td>53</td>\n",
       "      <td>64</td>\n",
       "      <td>22</td>\n",
       "    </tr>\n",
       "    <tr>\n",
       "      <th>1</th>\n",
       "      <td>188545</td>\n",
       "      <td>R. Lewandowski</td>\n",
       "      <td>Robert Lewandowski</td>\n",
       "      <td>32</td>\n",
       "      <td>185</td>\n",
       "      <td>81</td>\n",
       "      <td>https://cdn.sofifa.com/players/188/545/22_60.png</td>\n",
       "      <td>Poland</td>\n",
       "      <td>92</td>\n",
       "      <td>92</td>\n",
       "      <td>...</td>\n",
       "      <td>87</td>\n",
       "      <td>83</td>\n",
       "      <td>87</td>\n",
       "      <td>67</td>\n",
       "      <td>69</td>\n",
       "      <td>67</td>\n",
       "      <td>64</td>\n",
       "      <td>63</td>\n",
       "      <td>64</td>\n",
       "      <td>22</td>\n",
       "    </tr>\n",
       "    <tr>\n",
       "      <th>2</th>\n",
       "      <td>20801</td>\n",
       "      <td>Cristiano Ronaldo</td>\n",
       "      <td>C. Ronaldo dos Santos Aveiro</td>\n",
       "      <td>36</td>\n",
       "      <td>187</td>\n",
       "      <td>83</td>\n",
       "      <td>https://cdn.sofifa.com/players/020/801/22_60.png</td>\n",
       "      <td>Portugal</td>\n",
       "      <td>91</td>\n",
       "      <td>91</td>\n",
       "      <td>...</td>\n",
       "      <td>89</td>\n",
       "      <td>81</td>\n",
       "      <td>89</td>\n",
       "      <td>66</td>\n",
       "      <td>62</td>\n",
       "      <td>66</td>\n",
       "      <td>63</td>\n",
       "      <td>56</td>\n",
       "      <td>63</td>\n",
       "      <td>23</td>\n",
       "    </tr>\n",
       "    <tr>\n",
       "      <th>3</th>\n",
       "      <td>231747</td>\n",
       "      <td>K. Mbappé</td>\n",
       "      <td>Kylian Mbappé</td>\n",
       "      <td>22</td>\n",
       "      <td>182</td>\n",
       "      <td>73</td>\n",
       "      <td>https://cdn.sofifa.com/players/231/747/22_60.png</td>\n",
       "      <td>France</td>\n",
       "      <td>91</td>\n",
       "      <td>95</td>\n",
       "      <td>...</td>\n",
       "      <td>92</td>\n",
       "      <td>84</td>\n",
       "      <td>92</td>\n",
       "      <td>70</td>\n",
       "      <td>66</td>\n",
       "      <td>70</td>\n",
       "      <td>66</td>\n",
       "      <td>57</td>\n",
       "      <td>66</td>\n",
       "      <td>21</td>\n",
       "    </tr>\n",
       "    <tr>\n",
       "      <th>4</th>\n",
       "      <td>200389</td>\n",
       "      <td>J. Oblak</td>\n",
       "      <td>Jan Oblak</td>\n",
       "      <td>28</td>\n",
       "      <td>188</td>\n",
       "      <td>87</td>\n",
       "      <td>https://cdn.sofifa.com/players/200/389/22_60.png</td>\n",
       "      <td>Slovenia</td>\n",
       "      <td>91</td>\n",
       "      <td>93</td>\n",
       "      <td>...</td>\n",
       "      <td>38</td>\n",
       "      <td>41</td>\n",
       "      <td>38</td>\n",
       "      <td>35</td>\n",
       "      <td>39</td>\n",
       "      <td>35</td>\n",
       "      <td>35</td>\n",
       "      <td>36</td>\n",
       "      <td>35</td>\n",
       "      <td>92</td>\n",
       "    </tr>\n",
       "  </tbody>\n",
       "</table>\n",
       "<p>5 rows × 90 columns</p>\n",
       "</div>"
      ],
      "text/plain": [
       "       ID               Name                      FullName  Age  Height  \\\n",
       "0  158023           L. Messi                  Lionel Messi   34     170   \n",
       "1  188545     R. Lewandowski            Robert Lewandowski   32     185   \n",
       "2   20801  Cristiano Ronaldo  C. Ronaldo dos Santos Aveiro   36     187   \n",
       "3  231747          K. Mbappé                 Kylian Mbappé   22     182   \n",
       "4  200389           J. Oblak                     Jan Oblak   28     188   \n",
       "\n",
       "   Weight                                          PhotoUrl Nationality  \\\n",
       "0      72  https://cdn.sofifa.com/players/158/023/22_60.png   Argentina   \n",
       "1      81  https://cdn.sofifa.com/players/188/545/22_60.png      Poland   \n",
       "2      83  https://cdn.sofifa.com/players/020/801/22_60.png    Portugal   \n",
       "3      73  https://cdn.sofifa.com/players/231/747/22_60.png      France   \n",
       "4      87  https://cdn.sofifa.com/players/200/389/22_60.png    Slovenia   \n",
       "\n",
       "   Overall  Potential  ...  LMRating  CMRating  RMRating LWBRating CDMRating  \\\n",
       "0       93         93  ...        93        90        93        69        67   \n",
       "1       92         92  ...        87        83        87        67        69   \n",
       "2       91         91  ...        89        81        89        66        62   \n",
       "3       91         95  ...        92        84        92        70        66   \n",
       "4       91         93  ...        38        41        38        35        39   \n",
       "\n",
       "  RWBRating  LBRating  CBRating  RBRating GKRating  \n",
       "0        69        64        53        64       22  \n",
       "1        67        64        63        64       22  \n",
       "2        66        63        56        63       23  \n",
       "3        70        66        57        66       21  \n",
       "4        35        35        36        35       92  \n",
       "\n",
       "[5 rows x 90 columns]"
      ]
     },
     "execution_count": 3,
     "metadata": {},
     "output_type": "execute_result"
    }
   ],
   "source": [
    "# Read the csv file into a pandas DataFrame\n",
    "df = pd.read_csv('players_fifa22.csv')#, dtype= str)\n",
    "df.head()"
   ]
  },
  {
   "cell_type": "code",
   "execution_count": 4,
   "metadata": {},
   "outputs": [
    {
     "name": "stdout",
     "output_type": "stream",
     "text": [
      "<class 'pandas.core.frame.DataFrame'>\n",
      "RangeIndex: 19260 entries, 0 to 19259\n",
      "Data columns (total 90 columns):\n",
      " #   Column             Non-Null Count  Dtype  \n",
      "---  ------             --------------  -----  \n",
      " 0   ID                 19260 non-null  int64  \n",
      " 1   Name               19260 non-null  object \n",
      " 2   FullName           19260 non-null  object \n",
      " 3   Age                19260 non-null  int64  \n",
      " 4   Height             19260 non-null  int64  \n",
      " 5   Weight             19260 non-null  int64  \n",
      " 6   PhotoUrl           19260 non-null  object \n",
      " 7   Nationality        19260 non-null  object \n",
      " 8   Overall            19260 non-null  int64  \n",
      " 9   Potential          19260 non-null  int64  \n",
      " 10  Growth             19260 non-null  int64  \n",
      " 11  TotalStats         19260 non-null  int64  \n",
      " 12  BaseStats          19260 non-null  int64  \n",
      " 13  Positions          19260 non-null  object \n",
      " 14  BestPosition       19260 non-null  object \n",
      " 15  Club               19260 non-null  object \n",
      " 16  ValueEUR           19260 non-null  int64  \n",
      " 17  WageEUR            19260 non-null  int64  \n",
      " 18  ReleaseClause      19260 non-null  int64  \n",
      " 19  ClubPosition       19184 non-null  object \n",
      " 20  ContractUntil      19184 non-null  float64\n",
      " 21  ClubNumber         19184 non-null  float64\n",
      " 22  ClubJoined         19260 non-null  int64  \n",
      " 23  OnLoad             19260 non-null  bool   \n",
      " 24  NationalTeam       19260 non-null  object \n",
      " 25  NationalPosition   757 non-null    object \n",
      " 26  NationalNumber     757 non-null    float64\n",
      " 27  PreferredFoot      19260 non-null  object \n",
      " 28  IntReputation      19260 non-null  int64  \n",
      " 29  WeakFoot           19260 non-null  int64  \n",
      " 30  SkillMoves         19260 non-null  int64  \n",
      " 31  AttackingWorkRate  19260 non-null  object \n",
      " 32  DefensiveWorkRate  19260 non-null  object \n",
      " 33  PaceTotal          19260 non-null  int64  \n",
      " 34  ShootingTotal      19260 non-null  int64  \n",
      " 35  PassingTotal       19260 non-null  int64  \n",
      " 36  DribblingTotal     19260 non-null  int64  \n",
      " 37  DefendingTotal     19260 non-null  int64  \n",
      " 38  PhysicalityTotal   19260 non-null  int64  \n",
      " 39  Crossing           19260 non-null  int64  \n",
      " 40  Finishing          19260 non-null  int64  \n",
      " 41  HeadingAccuracy    19260 non-null  int64  \n",
      " 42  ShortPassing       19260 non-null  int64  \n",
      " 43  Volleys            19260 non-null  int64  \n",
      " 44  Dribbling          19260 non-null  int64  \n",
      " 45  Curve              19260 non-null  int64  \n",
      " 46  FKAccuracy         19260 non-null  int64  \n",
      " 47  LongPassing        19260 non-null  int64  \n",
      " 48  BallControl        19260 non-null  int64  \n",
      " 49  Acceleration       19260 non-null  int64  \n",
      " 50  SprintSpeed        19260 non-null  int64  \n",
      " 51  Agility            19260 non-null  int64  \n",
      " 52  Reactions          19260 non-null  int64  \n",
      " 53  Balance            19260 non-null  int64  \n",
      " 54  ShotPower          19260 non-null  int64  \n",
      " 55  Jumping            19260 non-null  int64  \n",
      " 56  Stamina            19260 non-null  int64  \n",
      " 57  Strength           19260 non-null  int64  \n",
      " 58  LongShots          19260 non-null  int64  \n",
      " 59  Aggression         19260 non-null  int64  \n",
      " 60  Interceptions      19260 non-null  int64  \n",
      " 61  Positioning        19260 non-null  int64  \n",
      " 62  Vision             19260 non-null  int64  \n",
      " 63  Penalties          19260 non-null  int64  \n",
      " 64  Composure          19260 non-null  int64  \n",
      " 65  Marking            19260 non-null  int64  \n",
      " 66  StandingTackle     19260 non-null  int64  \n",
      " 67  SlidingTackle      19260 non-null  int64  \n",
      " 68  GKDiving           19260 non-null  int64  \n",
      " 69  GKHandling         19260 non-null  int64  \n",
      " 70  GKKicking          19260 non-null  int64  \n",
      " 71  GKPositioning      19260 non-null  int64  \n",
      " 72  GKReflexes         19260 non-null  int64  \n",
      " 73  STRating           19260 non-null  int64  \n",
      " 74  LWRating           19260 non-null  int64  \n",
      " 75  LFRating           19260 non-null  int64  \n",
      " 76  CFRating           19260 non-null  int64  \n",
      " 77  RFRating           19260 non-null  int64  \n",
      " 78  RWRating           19260 non-null  int64  \n",
      " 79  CAMRating          19260 non-null  int64  \n",
      " 80  LMRating           19260 non-null  int64  \n",
      " 81  CMRating           19260 non-null  int64  \n",
      " 82  RMRating           19260 non-null  int64  \n",
      " 83  LWBRating          19260 non-null  int64  \n",
      " 84  CDMRating          19260 non-null  int64  \n",
      " 85  RWBRating          19260 non-null  int64  \n",
      " 86  LBRating           19260 non-null  int64  \n",
      " 87  CBRating           19260 non-null  int64  \n",
      " 88  RBRating           19260 non-null  int64  \n",
      " 89  GKRating           19260 non-null  int64  \n",
      "dtypes: bool(1), float64(3), int64(73), object(13)\n",
      "memory usage: 13.1+ MB\n"
     ]
    }
   ],
   "source": [
    "# Checking the data types of each column\n",
    "df.info()"
   ]
  },
  {
   "cell_type": "markdown",
   "metadata": {},
   "source": [
    "# Transforming categorical data to numerical data"
   ]
  },
  {
   "cell_type": "code",
   "execution_count": 5,
   "metadata": {},
   "outputs": [],
   "source": [
    "# Converting AttackingWorkRate & DefensiveWorkRate to numerical columns\n",
    "df['AttackingWorkRate_code'] = df['AttackingWorkRate'].apply(lambda x: 3 if x == 'High' \\\n",
    "                                                                  else (2 if x == 'Medium' else 1))\n",
    "df['DefensiveWorkRate_code'] = df['DefensiveWorkRate'].apply(lambda x: 3 if x == 'High' \\\n",
    "                                                                  else (2 if x == 'Medium' else 1))"
   ]
  },
  {
   "cell_type": "code",
   "execution_count": 6,
   "metadata": {},
   "outputs": [],
   "source": [
    "# Converting BestPosition to numerical categorical column\n",
    "df['BestPosition_code'] = df['BestPosition'].astype('category').cat.codes\n",
    "# df[['BestPosition', 'BestPosition_code']].value_counts()"
   ]
  },
  {
   "cell_type": "code",
   "execution_count": 7,
   "metadata": {},
   "outputs": [],
   "source": [
    "# Converting PreferredFoot to numerical categorical column\n",
    "df['PreferredFoot_code'] = df['PreferredFoot'].astype('category').cat.codes\n",
    "# df[['PreferredFoot', 'PreferredFoot_code']].value_counts()"
   ]
  },
  {
   "cell_type": "code",
   "execution_count": 8,
   "metadata": {},
   "outputs": [
    {
     "data": {
      "text/plain": [
       "{'BestPosition_code': {'RW': 12,\n",
       "  'ST': 14,\n",
       "  'GK': 5,\n",
       "  'CM': 4,\n",
       "  'LW': 8,\n",
       "  'CDM': 2,\n",
       "  'LM': 7,\n",
       "  'CF': 3,\n",
       "  'CB': 1,\n",
       "  'CAM': 0,\n",
       "  'LB': 6,\n",
       "  'RB': 10,\n",
       "  'RM': 11,\n",
       "  'LWB': 9,\n",
       "  'RWB': 13}}"
      ]
     },
     "execution_count": 8,
     "metadata": {},
     "output_type": "execute_result"
    }
   ],
   "source": [
    "# Creating a dictionary of BestPosition name and assigned code for future reference \n",
    "pos_dict = df[['BestPosition', 'BestPosition_code']].drop_duplicates()\\\n",
    "            .set_index('BestPosition', drop=True).to_dict(orient= 'dict')\n",
    "pos_dict"
   ]
  },
  {
   "cell_type": "code",
   "execution_count": 9,
   "metadata": {},
   "outputs": [
    {
     "data": {
      "text/plain": [
       "{'PreferredFoot_code': {'Left': 0, 'Right': 1}}"
      ]
     },
     "execution_count": 9,
     "metadata": {},
     "output_type": "execute_result"
    }
   ],
   "source": [
    "# Creating a dictionary of BestPosition name and assigned code for future reference \n",
    "PreferredFoot_dict = df[['PreferredFoot', 'PreferredFoot_code']].drop_duplicates()\\\n",
    "            .set_index('PreferredFoot', drop=True).to_dict(orient= 'dict')\n",
    "PreferredFoot_dict"
   ]
  },
  {
   "cell_type": "markdown",
   "metadata": {},
   "source": [
    "# Dropping unnecessary columns"
   ]
  },
  {
   "cell_type": "code",
   "execution_count": 10,
   "metadata": {},
   "outputs": [
    {
     "name": "stderr",
     "output_type": "stream",
     "text": [
      "C:\\ProgramData\\Anaconda3\\lib\\site-packages\\pandas\\core\\frame.py:4308: SettingWithCopyWarning: \n",
      "A value is trying to be set on a copy of a slice from a DataFrame\n",
      "\n",
      "See the caveats in the documentation: https://pandas.pydata.org/pandas-docs/stable/user_guide/indexing.html#returning-a-view-versus-a-copy\n",
      "  return super().drop(\n",
      "<ipython-input-10-7bbdcaa25303>:7: SettingWithCopyWarning: \n",
      "A value is trying to be set on a copy of a slice from a DataFrame\n",
      "\n",
      "See the caveats in the documentation: https://pandas.pydata.org/pandas-docs/stable/user_guide/indexing.html#returning-a-view-versus-a-copy\n",
      "  df_select.dropna(axis = 0, how = 'any', inplace = True)\n"
     ]
    },
    {
     "data": {
      "text/html": [
       "<div>\n",
       "<style scoped>\n",
       "    .dataframe tbody tr th:only-of-type {\n",
       "        vertical-align: middle;\n",
       "    }\n",
       "\n",
       "    .dataframe tbody tr th {\n",
       "        vertical-align: top;\n",
       "    }\n",
       "\n",
       "    .dataframe thead th {\n",
       "        text-align: right;\n",
       "    }\n",
       "</style>\n",
       "<table border=\"1\" class=\"dataframe\">\n",
       "  <thead>\n",
       "    <tr style=\"text-align: right;\">\n",
       "      <th></th>\n",
       "      <th>Age</th>\n",
       "      <th>Height</th>\n",
       "      <th>Weight</th>\n",
       "      <th>Overall</th>\n",
       "      <th>Growth</th>\n",
       "      <th>TotalStats</th>\n",
       "      <th>BaseStats</th>\n",
       "      <th>ValueEUR</th>\n",
       "      <th>WageEUR</th>\n",
       "      <th>WeakFoot</th>\n",
       "      <th>...</th>\n",
       "      <th>CDMRating</th>\n",
       "      <th>RWBRating</th>\n",
       "      <th>LBRating</th>\n",
       "      <th>CBRating</th>\n",
       "      <th>RBRating</th>\n",
       "      <th>GKRating</th>\n",
       "      <th>AttackingWorkRate_code</th>\n",
       "      <th>DefensiveWorkRate_code</th>\n",
       "      <th>BestPosition_code</th>\n",
       "      <th>PreferredFoot_code</th>\n",
       "    </tr>\n",
       "  </thead>\n",
       "  <tbody>\n",
       "    <tr>\n",
       "      <th>0</th>\n",
       "      <td>34</td>\n",
       "      <td>170</td>\n",
       "      <td>72</td>\n",
       "      <td>93</td>\n",
       "      <td>0</td>\n",
       "      <td>2219</td>\n",
       "      <td>462</td>\n",
       "      <td>78000000</td>\n",
       "      <td>320000</td>\n",
       "      <td>4</td>\n",
       "      <td>...</td>\n",
       "      <td>67</td>\n",
       "      <td>69</td>\n",
       "      <td>64</td>\n",
       "      <td>53</td>\n",
       "      <td>64</td>\n",
       "      <td>22</td>\n",
       "      <td>2</td>\n",
       "      <td>1</td>\n",
       "      <td>12</td>\n",
       "      <td>0</td>\n",
       "    </tr>\n",
       "    <tr>\n",
       "      <th>1</th>\n",
       "      <td>32</td>\n",
       "      <td>185</td>\n",
       "      <td>81</td>\n",
       "      <td>92</td>\n",
       "      <td>0</td>\n",
       "      <td>2212</td>\n",
       "      <td>460</td>\n",
       "      <td>119500000</td>\n",
       "      <td>270000</td>\n",
       "      <td>4</td>\n",
       "      <td>...</td>\n",
       "      <td>69</td>\n",
       "      <td>67</td>\n",
       "      <td>64</td>\n",
       "      <td>63</td>\n",
       "      <td>64</td>\n",
       "      <td>22</td>\n",
       "      <td>3</td>\n",
       "      <td>2</td>\n",
       "      <td>14</td>\n",
       "      <td>1</td>\n",
       "    </tr>\n",
       "    <tr>\n",
       "      <th>2</th>\n",
       "      <td>36</td>\n",
       "      <td>187</td>\n",
       "      <td>83</td>\n",
       "      <td>91</td>\n",
       "      <td>0</td>\n",
       "      <td>2208</td>\n",
       "      <td>457</td>\n",
       "      <td>45000000</td>\n",
       "      <td>270000</td>\n",
       "      <td>4</td>\n",
       "      <td>...</td>\n",
       "      <td>62</td>\n",
       "      <td>66</td>\n",
       "      <td>63</td>\n",
       "      <td>56</td>\n",
       "      <td>63</td>\n",
       "      <td>23</td>\n",
       "      <td>3</td>\n",
       "      <td>1</td>\n",
       "      <td>14</td>\n",
       "      <td>1</td>\n",
       "    </tr>\n",
       "    <tr>\n",
       "      <th>3</th>\n",
       "      <td>22</td>\n",
       "      <td>182</td>\n",
       "      <td>73</td>\n",
       "      <td>91</td>\n",
       "      <td>4</td>\n",
       "      <td>2175</td>\n",
       "      <td>470</td>\n",
       "      <td>194000000</td>\n",
       "      <td>230000</td>\n",
       "      <td>4</td>\n",
       "      <td>...</td>\n",
       "      <td>66</td>\n",
       "      <td>70</td>\n",
       "      <td>66</td>\n",
       "      <td>57</td>\n",
       "      <td>66</td>\n",
       "      <td>21</td>\n",
       "      <td>3</td>\n",
       "      <td>1</td>\n",
       "      <td>14</td>\n",
       "      <td>1</td>\n",
       "    </tr>\n",
       "    <tr>\n",
       "      <th>4</th>\n",
       "      <td>28</td>\n",
       "      <td>188</td>\n",
       "      <td>87</td>\n",
       "      <td>91</td>\n",
       "      <td>2</td>\n",
       "      <td>1413</td>\n",
       "      <td>489</td>\n",
       "      <td>112000000</td>\n",
       "      <td>130000</td>\n",
       "      <td>3</td>\n",
       "      <td>...</td>\n",
       "      <td>39</td>\n",
       "      <td>35</td>\n",
       "      <td>35</td>\n",
       "      <td>36</td>\n",
       "      <td>35</td>\n",
       "      <td>92</td>\n",
       "      <td>2</td>\n",
       "      <td>2</td>\n",
       "      <td>5</td>\n",
       "      <td>1</td>\n",
       "    </tr>\n",
       "  </tbody>\n",
       "</table>\n",
       "<p>5 rows × 72 columns</p>\n",
       "</div>"
      ],
      "text/plain": [
       "   Age  Height  Weight  Overall  Growth  TotalStats  BaseStats   ValueEUR  \\\n",
       "0   34     170      72       93       0        2219        462   78000000   \n",
       "1   32     185      81       92       0        2212        460  119500000   \n",
       "2   36     187      83       91       0        2208        457   45000000   \n",
       "3   22     182      73       91       4        2175        470  194000000   \n",
       "4   28     188      87       91       2        1413        489  112000000   \n",
       "\n",
       "   WageEUR  WeakFoot  ...  CDMRating  RWBRating  LBRating  CBRating  RBRating  \\\n",
       "0   320000         4  ...         67         69        64        53        64   \n",
       "1   270000         4  ...         69         67        64        63        64   \n",
       "2   270000         4  ...         62         66        63        56        63   \n",
       "3   230000         4  ...         66         70        66        57        66   \n",
       "4   130000         3  ...         39         35        35        36        35   \n",
       "\n",
       "   GKRating  AttackingWorkRate_code  DefensiveWorkRate_code  \\\n",
       "0        22                       2                       1   \n",
       "1        22                       3                       2   \n",
       "2        23                       3                       1   \n",
       "3        21                       3                       1   \n",
       "4        92                       2                       2   \n",
       "\n",
       "   BestPosition_code  PreferredFoot_code  \n",
       "0                 12                   0  \n",
       "1                 14                   1  \n",
       "2                 14                   1  \n",
       "3                 14                   1  \n",
       "4                  5                   1  \n",
       "\n",
       "[5 rows x 72 columns]"
      ]
     },
     "execution_count": 10,
     "metadata": {},
     "output_type": "execute_result"
    }
   ],
   "source": [
    "# Dropping object data types as well as some unnecessary columns from the dataframe \n",
    "numerics = ['int8','int16', 'int32', 'int64', 'float16', 'float32', 'float64']\n",
    "\n",
    "df_select = df.select_dtypes(include=numerics)\n",
    "df_select.drop(['ID', 'Potential', 'NationalNumber', 'ContractUntil', 'ClubNumber', 'ClubJoined',\\\n",
    "                'IntReputation','ReleaseClause'], axis =1, inplace = True)\n",
    "df_select.dropna(axis = 0, how = 'any', inplace = True)\n",
    "df_select.head()"
   ]
  },
  {
   "cell_type": "code",
   "execution_count": 11,
   "metadata": {},
   "outputs": [
    {
     "name": "stdout",
     "output_type": "stream",
     "text": [
      "<class 'pandas.core.frame.DataFrame'>\n",
      "Int64Index: 19260 entries, 0 to 19259\n",
      "Data columns (total 72 columns):\n",
      " #   Column                  Non-Null Count  Dtype\n",
      "---  ------                  --------------  -----\n",
      " 0   Age                     19260 non-null  int64\n",
      " 1   Height                  19260 non-null  int64\n",
      " 2   Weight                  19260 non-null  int64\n",
      " 3   Overall                 19260 non-null  int64\n",
      " 4   Growth                  19260 non-null  int64\n",
      " 5   TotalStats              19260 non-null  int64\n",
      " 6   BaseStats               19260 non-null  int64\n",
      " 7   ValueEUR                19260 non-null  int64\n",
      " 8   WageEUR                 19260 non-null  int64\n",
      " 9   WeakFoot                19260 non-null  int64\n",
      " 10  SkillMoves              19260 non-null  int64\n",
      " 11  PaceTotal               19260 non-null  int64\n",
      " 12  ShootingTotal           19260 non-null  int64\n",
      " 13  PassingTotal            19260 non-null  int64\n",
      " 14  DribblingTotal          19260 non-null  int64\n",
      " 15  DefendingTotal          19260 non-null  int64\n",
      " 16  PhysicalityTotal        19260 non-null  int64\n",
      " 17  Crossing                19260 non-null  int64\n",
      " 18  Finishing               19260 non-null  int64\n",
      " 19  HeadingAccuracy         19260 non-null  int64\n",
      " 20  ShortPassing            19260 non-null  int64\n",
      " 21  Volleys                 19260 non-null  int64\n",
      " 22  Dribbling               19260 non-null  int64\n",
      " 23  Curve                   19260 non-null  int64\n",
      " 24  FKAccuracy              19260 non-null  int64\n",
      " 25  LongPassing             19260 non-null  int64\n",
      " 26  BallControl             19260 non-null  int64\n",
      " 27  Acceleration            19260 non-null  int64\n",
      " 28  SprintSpeed             19260 non-null  int64\n",
      " 29  Agility                 19260 non-null  int64\n",
      " 30  Reactions               19260 non-null  int64\n",
      " 31  Balance                 19260 non-null  int64\n",
      " 32  ShotPower               19260 non-null  int64\n",
      " 33  Jumping                 19260 non-null  int64\n",
      " 34  Stamina                 19260 non-null  int64\n",
      " 35  Strength                19260 non-null  int64\n",
      " 36  LongShots               19260 non-null  int64\n",
      " 37  Aggression              19260 non-null  int64\n",
      " 38  Interceptions           19260 non-null  int64\n",
      " 39  Positioning             19260 non-null  int64\n",
      " 40  Vision                  19260 non-null  int64\n",
      " 41  Penalties               19260 non-null  int64\n",
      " 42  Composure               19260 non-null  int64\n",
      " 43  Marking                 19260 non-null  int64\n",
      " 44  StandingTackle          19260 non-null  int64\n",
      " 45  SlidingTackle           19260 non-null  int64\n",
      " 46  GKDiving                19260 non-null  int64\n",
      " 47  GKHandling              19260 non-null  int64\n",
      " 48  GKKicking               19260 non-null  int64\n",
      " 49  GKPositioning           19260 non-null  int64\n",
      " 50  GKReflexes              19260 non-null  int64\n",
      " 51  STRating                19260 non-null  int64\n",
      " 52  LWRating                19260 non-null  int64\n",
      " 53  LFRating                19260 non-null  int64\n",
      " 54  CFRating                19260 non-null  int64\n",
      " 55  RFRating                19260 non-null  int64\n",
      " 56  RWRating                19260 non-null  int64\n",
      " 57  CAMRating               19260 non-null  int64\n",
      " 58  LMRating                19260 non-null  int64\n",
      " 59  CMRating                19260 non-null  int64\n",
      " 60  RMRating                19260 non-null  int64\n",
      " 61  LWBRating               19260 non-null  int64\n",
      " 62  CDMRating               19260 non-null  int64\n",
      " 63  RWBRating               19260 non-null  int64\n",
      " 64  LBRating                19260 non-null  int64\n",
      " 65  CBRating                19260 non-null  int64\n",
      " 66  RBRating                19260 non-null  int64\n",
      " 67  GKRating                19260 non-null  int64\n",
      " 68  AttackingWorkRate_code  19260 non-null  int64\n",
      " 69  DefensiveWorkRate_code  19260 non-null  int64\n",
      " 70  BestPosition_code       19260 non-null  int8 \n",
      " 71  PreferredFoot_code      19260 non-null  int8 \n",
      "dtypes: int64(70), int8(2)\n",
      "memory usage: 10.5 MB\n"
     ]
    }
   ],
   "source": [
    "df_select.info()"
   ]
  },
  {
   "cell_type": "markdown",
   "metadata": {},
   "source": [
    "# Feature selection, splitting and scaling"
   ]
  },
  {
   "cell_type": "code",
   "execution_count": 12,
   "metadata": {},
   "outputs": [],
   "source": [
    "X = df_select.drop('Growth', axis = 1)\n",
    "y = df_select['Growth']"
   ]
  },
  {
   "cell_type": "code",
   "execution_count": 13,
   "metadata": {},
   "outputs": [],
   "source": [
    "from sklearn.model_selection import train_test_split\n",
    "X_train, X_test, y_train, y_test = train_test_split(X, y, random_state=42)"
   ]
  },
  {
   "cell_type": "code",
   "execution_count": 14,
   "metadata": {},
   "outputs": [],
   "source": [
    "from sklearn.preprocessing import StandardScaler\n",
    "\n",
    "# Create a StandardScater model and fit it to the training data\n",
    "\n",
    "X_scaler = StandardScaler().fit(X_train)\n",
    "X_train_scaled = X_scaler.transform(X_train)\n",
    "X_test_scaled = X_scaler.transform(X_test)"
   ]
  },
  {
   "cell_type": "markdown",
   "metadata": {},
   "source": [
    "# Linear Regression"
   ]
  },
  {
   "cell_type": "code",
   "execution_count": 15,
   "metadata": {},
   "outputs": [
    {
     "name": "stdout",
     "output_type": "stream",
     "text": [
      "LinearRegression()\n"
     ]
    }
   ],
   "source": [
    "from sklearn.linear_model import LinearRegression\n",
    "lin_reg_model = LinearRegression()\n",
    "lin_reg_model.fit(X_train_scaled, y_train)\n",
    "print(lin_reg_model)"
   ]
  },
  {
   "cell_type": "code",
   "execution_count": 16,
   "metadata": {},
   "outputs": [
    {
     "name": "stdout",
     "output_type": "stream",
     "text": [
      "Weight coefficients:  [-4.15916127e+00  1.61822466e-01 -1.40846374e-01 -1.05996938e+00\n",
      " -9.20054363e+12 -1.12611698e+12  9.63771506e-03  1.14573533e-01\n",
      "  6.25403458e-02  7.86437988e-02  3.00222077e+11  3.89970882e+11\n",
      "  2.77344840e+11  2.74715054e+11  4.61410880e+11  2.70783046e+11\n",
      "  6.09283368e+11  6.66774106e+11  5.86989942e+11  4.91133015e+11\n",
      "  5.98112245e+11  6.36653485e+11  6.15149312e+11  5.80041238e+11\n",
      "  5.06922676e+11  5.64420860e+11  5.14004593e+11  5.07306926e+11\n",
      "  5.03266776e+11  3.03856353e+11  4.83864569e+11  4.42902178e+11\n",
      "  4.06965259e+11  5.45395020e+11  4.26351750e+11  6.56192761e+11\n",
      "  5.74473953e+11  6.98653343e+11  6.63597042e+11  4.58521297e+11\n",
      "  5.35278581e+11  2.11425781e-01  6.82029712e+11  7.17244923e+11\n",
      "  7.01179664e+11  5.99676777e+11  5.74878934e+11  5.64329166e+11\n",
      "  5.82512915e+11  6.10635858e+11  2.06274414e+00 -9.09679670e+10\n",
      " -1.96179085e+11  9.41984858e+10  1.01980600e+11  9.09679670e+10\n",
      "  1.96643066e+00  6.48481929e+10 -1.20898438e+00 -6.48481929e+10\n",
      " -3.92079580e+10 -1.73339844e-02  3.92079580e+10  1.33949848e+10\n",
      "  1.55761719e+00 -1.33949848e+10 -1.85644531e+00  6.98852539e-02\n",
      "  1.19384766e-01 -1.14929199e-01 -1.40380859e-02]\n",
      "y-axis intercept:  5.310216842744128\n"
     ]
    }
   ],
   "source": [
    "print('Weight coefficients: ', lin_reg_model.coef_)\n",
    "print('y-axis intercept: ', lin_reg_model.intercept_) "
   ]
  },
  {
   "cell_type": "code",
   "execution_count": 17,
   "metadata": {},
   "outputs": [
    {
     "name": "stdout",
     "output_type": "stream",
     "text": [
      "Training Data Score: 0.7946445372593808\n",
      "Testing Data Score: 0.7949090244324191\n"
     ]
    }
   ],
   "source": [
    "print(f\"Training Data Score: {lin_reg_model.score(X_train_scaled, y_train)}\")\n",
    "print(f\"Testing Data Score: {lin_reg_model.score(X_test_scaled, y_test)}\")"
   ]
  },
  {
   "cell_type": "code",
   "execution_count": 18,
   "metadata": {},
   "outputs": [
    {
     "name": "stdout",
     "output_type": "stream",
     "text": [
      "Predicted Labels: [-0.44936263  5.96106118  8.78927286 -1.49140145 12.8269926 ]\n",
      "Actual Labels: [0, 5, 15, 0, 15]\n"
     ]
    }
   ],
   "source": [
    "predictions = lin_reg_model.predict(X_test_scaled)\n",
    "print(f\"Predicted Labels: {predictions[:5]}\")\n",
    "print(f\"Actual Labels: {list(y_test[:5])}\")"
   ]
  },
  {
   "cell_type": "code",
   "execution_count": 19,
   "metadata": {},
   "outputs": [
    {
     "name": "stdout",
     "output_type": "stream",
     "text": [
      "RMSE: 2.4574517852799835, R2: 0.7949090244324191\n"
     ]
    }
   ],
   "source": [
    "predictions_lin_reg = lin_reg_model.predict(X_test_scaled)\n",
    "MSE = mean_squared_error(y_test, predictions_lin_reg)\n",
    "r2 = lin_reg_model.score(X_test_scaled, y_test)\n",
    "\n",
    "print(f\"RMSE: {np.sqrt(MSE)}, R2: {r2}\")"
   ]
  },
  {
   "cell_type": "markdown",
   "metadata": {},
   "source": [
    "# Ridge regression"
   ]
  },
  {
   "cell_type": "code",
   "execution_count": 21,
   "metadata": {},
   "outputs": [
    {
     "name": "stdout",
     "output_type": "stream",
     "text": [
      "RMSE: 2.4574925236825735, R2: 0.7949022245854935\n"
     ]
    }
   ],
   "source": [
    "from sklearn.linear_model import Ridge\n",
    "reg_ridge = Ridge(alpha=.1)\n",
    "reg_ridge.fit(X_train_scaled, y_train)\n",
    "\n",
    "predictions_ridge = reg_ridge.predict(X_test_scaled)\n",
    "MSE = mean_squared_error(y_test, predictions_ridge)\n",
    "r2 = reg_ridge.score(X_test_scaled, y_test)\n",
    "\n",
    "print(f\"RMSE: {np.sqrt(MSE)}, R2: {r2}\")"
   ]
  },
  {
   "cell_type": "code",
   "execution_count": 23,
   "metadata": {},
   "outputs": [
    {
     "name": "stdout",
     "output_type": "stream",
     "text": [
      "Training Data Score: 0.7946673515033441\n",
      "Testing Data Score: 0.7949022245854935\n"
     ]
    }
   ],
   "source": [
    "print(f\"Training Data Score: {reg_ridge.score(X_train_scaled, y_train)}\")\n",
    "print(f\"Testing Data Score: {reg_ridge.score(X_test_scaled, y_test)}\")"
   ]
  },
  {
   "cell_type": "code",
   "execution_count": 24,
   "metadata": {},
   "outputs": [
    {
     "name": "stdout",
     "output_type": "stream",
     "text": [
      "Fitting 5 folds for each of 11 candidates, totalling 55 fits\n",
      "[CV 1/5] END ..........................alpha=0;, score=-6.271 total time=   0.0s\n",
      "[CV 2/5] END ..........................alpha=0;, score=-6.361 total time=   0.0s\n",
      "[CV 3/5] END ..........................alpha=0;, score=-6.440 total time=   0.0s\n",
      "[CV 4/5] END ..........................alpha=0;, score=-6.131 total time=   0.0s\n",
      "[CV 5/5] END ..........................alpha=0;, score=-6.272 total time=   0.0s\n",
      "[CV 1/5] END ..........................alpha=1;, score=-6.256 total time=   0.0s\n",
      "[CV 2/5] END ..........................alpha=1;, score=-6.269 total time=   0.0s\n",
      "[CV 3/5] END ..........................alpha=1;, score=-6.418 total time=   0.0s\n",
      "[CV 4/5] END ..........................alpha=1;, score=-6.128 total time=   0.0s\n",
      "[CV 5/5] END ..........................alpha=1;, score=-6.170 total time=   0.0s\n",
      "[CV 1/5] END ..........................alpha=2;, score=-6.255 total time=   0.0s\n",
      "[CV 2/5] END ..........................alpha=2;, score=-6.268 total time=   0.0s\n",
      "[CV 3/5] END ..........................alpha=2;, score=-6.418 total time=   0.0s\n",
      "[CV 4/5] END ..........................alpha=2;, score=-6.128 total time=   0.0s\n",
      "[CV 5/5] END ..........................alpha=2;, score=-6.169 total time=   0.0s\n",
      "[CV 1/5] END ..........................alpha=3;, score=-6.255 total time=   0.0s\n",
      "[CV 2/5] END ..........................alpha=3;, score=-6.268 total time=   0.0s\n",
      "[CV 3/5] END ..........................alpha=3;, score=-6.419 total time=   0.0s\n",
      "[CV 4/5] END ..........................alpha=3;, score=-6.128 total time=   0.0s\n",
      "[CV 5/5] END ..........................alpha=3;, score=-6.168 total time=   0.0s\n",
      "[CV 1/5] END ..........................alpha=4;, score=-6.255 total time=   0.0s\n",
      "[CV 2/5] END ..........................alpha=4;, score=-6.269 total time=   0.0s\n",
      "[CV 3/5] END ..........................alpha=4;, score=-6.420 total time=   0.0s\n",
      "[CV 4/5] END ..........................alpha=4;, score=-6.128 total time=   0.0s\n",
      "[CV 5/5] END ..........................alpha=4;, score=-6.168 total time=   0.0s\n",
      "[CV 1/5] END ..........................alpha=5;, score=-6.256 total time=   0.0s\n",
      "[CV 2/5] END ..........................alpha=5;, score=-6.269 total time=   0.0s\n",
      "[CV 3/5] END ..........................alpha=5;, score=-6.421 total time=   0.0s\n",
      "[CV 4/5] END ..........................alpha=5;, score=-6.129 total time=   0.0s\n",
      "[CV 5/5] END ..........................alpha=5;, score=-6.168 total time=   0.0s\n",
      "[CV 1/5] END ..........................alpha=6;, score=-6.256 total time=   0.0s\n",
      "[CV 2/5] END ..........................alpha=6;, score=-6.270 total time=   0.0s\n",
      "[CV 3/5] END ..........................alpha=6;, score=-6.422 total time=   0.0s\n",
      "[CV 4/5] END ..........................alpha=6;, score=-6.129 total time=   0.0s\n",
      "[CV 5/5] END ..........................alpha=6;, score=-6.167 total time=   0.0s\n",
      "[CV 1/5] END ..........................alpha=7;, score=-6.257 total time=   0.0s\n",
      "[CV 2/5] END ..........................alpha=7;, score=-6.271 total time=   0.0s\n",
      "[CV 3/5] END ..........................alpha=7;, score=-6.423 total time=   0.0s\n",
      "[CV 4/5] END ..........................alpha=7;, score=-6.130 total time=   0.0s\n",
      "[CV 5/5] END ..........................alpha=7;, score=-6.167 total time=   0.0s\n",
      "[CV 1/5] END ..........................alpha=8;, score=-6.258 total time=   0.0s\n",
      "[CV 2/5] END ..........................alpha=8;, score=-6.272 total time=   0.0s\n",
      "[CV 3/5] END ..........................alpha=8;, score=-6.424 total time=   0.0s\n",
      "[CV 4/5] END ..........................alpha=8;, score=-6.130 total time=   0.0s\n",
      "[CV 5/5] END ..........................alpha=8;, score=-6.168 total time=   0.0s\n",
      "[CV 1/5] END ..........................alpha=9;, score=-6.259 total time=   0.0s\n",
      "[CV 2/5] END ..........................alpha=9;, score=-6.273 total time=   0.0s\n",
      "[CV 3/5] END ..........................alpha=9;, score=-6.426 total time=   0.0s\n",
      "[CV 4/5] END ..........................alpha=9;, score=-6.131 total time=   0.0s\n",
      "[CV 5/5] END ..........................alpha=9;, score=-6.168 total time=   0.0s\n",
      "[CV 1/5] END .........................alpha=10;, score=-6.260 total time=   0.0s\n",
      "[CV 2/5] END .........................alpha=10;, score=-6.274 total time=   0.0s\n",
      "[CV 3/5] END .........................alpha=10;, score=-6.427 total time=   0.0s\n",
      "[CV 4/5] END .........................alpha=10;, score=-6.132 total time=   0.0s\n",
      "[CV 5/5] END .........................alpha=10;, score=-6.168 total time=   0.0s\n",
      "Wall time: 942 ms\n"
     ]
    },
    {
     "data": {
      "text/plain": [
       "GridSearchCV(cv=5, estimator=Ridge(alpha=0.1),\n",
       "             param_grid={'alpha': [0, 1, 2, 3, 4, 5, 6, 7, 8, 9, 10]},\n",
       "             scoring='neg_mean_squared_error', verbose=3)"
      ]
     },
     "execution_count": 24,
     "metadata": {},
     "output_type": "execute_result"
    }
   ],
   "source": [
    "%%time\n",
    "parameters = {'alpha': [x for x in range(11)]}\n",
    "# define the grid search\n",
    "Ridge_reg= GridSearchCV(reg_ridge, parameters, scoring='neg_mean_squared_error',cv=5, verbose = 3)\n",
    "\n",
    "#fit the grid search\n",
    "Ridge_reg.fit(X_train_scaled, y_train)"
   ]
  },
  {
   "cell_type": "code",
   "execution_count": 25,
   "metadata": {},
   "outputs": [
    {
     "data": {
      "text/plain": [
       "{'alpha': 2}"
      ]
     },
     "execution_count": 25,
     "metadata": {},
     "output_type": "execute_result"
    }
   ],
   "source": [
    "Ridge_reg.best_params_"
   ]
  },
  {
   "cell_type": "code",
   "execution_count": 26,
   "metadata": {},
   "outputs": [
    {
     "data": {
      "text/plain": [
       "Ridge(alpha=2)"
      ]
     },
     "execution_count": 26,
     "metadata": {},
     "output_type": "execute_result"
    }
   ],
   "source": [
    "Ridge_reg.best_estimator_"
   ]
  },
  {
   "cell_type": "code",
   "execution_count": 27,
   "metadata": {},
   "outputs": [
    {
     "data": {
      "text/plain": [
       "Ridge(alpha=2)"
      ]
     },
     "execution_count": 27,
     "metadata": {},
     "output_type": "execute_result"
    }
   ],
   "source": [
    "# best model\n",
    "best_ridge_model = Ridge_reg.best_estimator_\n",
    "best_ridge_model.fit(X_train_scaled, y_train)"
   ]
  },
  {
   "cell_type": "code",
   "execution_count": 28,
   "metadata": {},
   "outputs": [
    {
     "name": "stdout",
     "output_type": "stream",
     "text": [
      "Training Data Score: 0.7946494423867194\n",
      "Testing Data Score: 0.794922873167468\n"
     ]
    }
   ],
   "source": [
    "print(f\"Training Data Score: {best_ridge_model.score(X_train_scaled, y_train)}\")\n",
    "print(f\"Testing Data Score: {best_ridge_model.score(X_test_scaled, y_test)}\")"
   ]
  },
  {
   "cell_type": "code",
   "execution_count": 29,
   "metadata": {},
   "outputs": [
    {
     "name": "stdout",
     "output_type": "stream",
     "text": [
      "RMSE: 2.457368814361574, R2: 0.794922873167468\n"
     ]
    }
   ],
   "source": [
    "predictions_ridge = best_ridge_model.predict(X_test_scaled)\n",
    "MSE = mean_squared_error(y_test, predictions_ridge)\n",
    "r2 = best_ridge_model.score(X_test_scaled, y_test)\n",
    "\n",
    "print(f\"RMSE: {np.sqrt(MSE)}, R2: {r2}\")"
   ]
  },
  {
   "cell_type": "markdown",
   "metadata": {},
   "source": [
    "# Random Forest Regressor"
   ]
  },
  {
   "cell_type": "code",
   "execution_count": 30,
   "metadata": {},
   "outputs": [
    {
     "name": "stdout",
     "output_type": "stream",
     "text": [
      "Wall time: 1min 14s\n"
     ]
    },
    {
     "data": {
      "text/plain": [
       "RandomForestRegressor(n_estimators=200)"
      ]
     },
     "execution_count": 30,
     "metadata": {},
     "output_type": "execute_result"
    }
   ],
   "source": [
    "%%time\n",
    "# Fit the data into model\n",
    "rfr = RandomForestRegressor(n_estimators=200)\n",
    "rfr.fit(X_train_scaled, y_train)"
   ]
  },
  {
   "cell_type": "code",
   "execution_count": 31,
   "metadata": {},
   "outputs": [
    {
     "data": {
      "text/plain": [
       "[(0.8964824895865219, 'Age'),\n",
       " (0.009005134799600278, 'ValueEUR'),\n",
       " (0.008641971025045662, 'Overall'),\n",
       " (0.003619516528459422, 'WageEUR'),\n",
       " (0.0030708865033409094, 'Reactions'),\n",
       " (0.0028118624710873103, 'Crossing'),\n",
       " (0.002514057296041595, 'Positioning'),\n",
       " (0.0024825374674556765, 'Stamina'),\n",
       " (0.002125831068951181, 'HeadingAccuracy'),\n",
       " (0.0020680899191387776, 'Jumping'),\n",
       " (0.0019443015082688192, 'FKAccuracy'),\n",
       " (0.001927830193113276, 'Aggression'),\n",
       " (0.00186033652584893, 'Marking'),\n",
       " (0.0018497683050164966, 'BaseStats'),\n",
       " (0.0018217680215895369, 'Composure'),\n",
       " (0.0017978541308899265, 'BestPosition_code'),\n",
       " (0.0017120314047635772, 'Strength'),\n",
       " (0.0016976070565076463, 'Weight'),\n",
       " (0.0016891312984820476, 'Penalties'),\n",
       " (0.0016679280284369136, 'Agility'),\n",
       " (0.001667672364619912, 'GKReflexes'),\n",
       " (0.0016346022574873775, 'Vision'),\n",
       " (0.0016181322938855535, 'ShotPower'),\n",
       " (0.0015720571851052083, 'Height'),\n",
       " (0.0015631653977902335, 'Balance'),\n",
       " (0.0015296998442654046, 'SlidingTackle'),\n",
       " (0.0015077073438937428, 'LongPassing'),\n",
       " (0.0015064440151472886, 'PhysicalityTotal'),\n",
       " (0.0014740426945426557, 'GKHandling'),\n",
       " (0.0014382006647470154, 'GKPositioning'),\n",
       " (0.0014197767028382633, 'GKDiving'),\n",
       " (0.0013965200901234008, 'TotalStats'),\n",
       " (0.0013939155172681878, 'Volleys'),\n",
       " (0.0013870559761691764, 'PaceTotal'),\n",
       " (0.0013826782155919736, 'Curve'),\n",
       " (0.001375886549059234, 'Acceleration'),\n",
       " (0.0013541527796807021, 'GKKicking'),\n",
       " (0.0013155251840152513, 'Interceptions'),\n",
       " (0.0013124678865556808, 'Dribbling'),\n",
       " (0.0013053900286484317, 'SprintSpeed'),\n",
       " (0.0012800580288189237, 'LongShots'),\n",
       " (0.0012671861511375632, 'ShortPassing'),\n",
       " (0.0012554340791225958, 'Finishing'),\n",
       " (0.0011843813990276414, 'BallControl'),\n",
       " (0.0011706402609504053, 'ShootingTotal'),\n",
       " (0.001113253380585099, 'StandingTackle'),\n",
       " (0.0010428380577885829, 'PassingTotal'),\n",
       " (0.0009918637448100664, 'DribblingTotal'),\n",
       " (0.0009596130662806703, 'GKRating'),\n",
       " (0.0008900235569215451, 'DefendingTotal'),\n",
       " (0.0007379546762223687, 'CBRating'),\n",
       " (0.0007112185650685111, 'CDMRating'),\n",
       " (0.0006473059103563579, 'CMRating'),\n",
       " (0.0005855205064748796, 'LWBRating'),\n",
       " (0.0005780225599517493, 'STRating'),\n",
       " (0.0005696195862916436, 'RWBRating'),\n",
       " (0.0004686868419906633, 'CAMRating'),\n",
       " (0.0004492720191679404, 'WeakFoot'),\n",
       " (0.0004028921097179448, 'LBRating'),\n",
       " (0.00039154534857953674, 'LWRating'),\n",
       " (0.000389455694855659, 'RBRating'),\n",
       " (0.00038582982339904873, 'RWRating'),\n",
       " (0.00034312148051733273, 'RMRating'),\n",
       " (0.000312794391352829, 'LMRating'),\n",
       " (0.00030504734455571536, 'AttackingWorkRate_code'),\n",
       " (0.00030254187530631704, 'DefensiveWorkRate_code'),\n",
       " (0.00028179332370793824, 'RFRating'),\n",
       " (0.0002790103059783997, 'CFRating'),\n",
       " (0.00026647342307465824, 'LFRating'),\n",
       " (0.00024652383032596473, 'SkillMoves'),\n",
       " (0.00024405252766688133, 'PreferredFoot_code')]"
      ]
     },
     "execution_count": 31,
     "metadata": {},
     "output_type": "execute_result"
    }
   ],
   "source": [
    "sorted(zip(rfr.feature_importances_, X.columns), reverse=True)"
   ]
  },
  {
   "cell_type": "code",
   "execution_count": 32,
   "metadata": {},
   "outputs": [
    {
     "name": "stdout",
     "output_type": "stream",
     "text": [
      "Training Data Score: 98.968\n",
      "Testing Data Score: 92.778\n"
     ]
    }
   ],
   "source": [
    "predictions = rfr.predict(X_test_scaled)\n",
    "base_train_accuracy = round(rfr.score(X_train_scaled, y_train)*100,3)\n",
    "base_test_accuracy = round(rfr.score(X_test_scaled, y_test)*100,3)\n",
    "print(f\"Training Data Score: {base_train_accuracy}\")\n",
    "print(f\"Testing Data Score: {base_test_accuracy}\")"
   ]
  },
  {
   "cell_type": "code",
   "execution_count": 33,
   "metadata": {},
   "outputs": [
    {
     "name": "stdout",
     "output_type": "stream",
     "text": [
      "Predicted Labels: [ 0.     4.38   9.76   0.    16.885]\n",
      "Actual Labels: [0, 5, 15, 0, 15]\n"
     ]
    }
   ],
   "source": [
    "print(f\"Predicted Labels: {predictions[:5]}\")\n",
    "print(f\"Actual Labels: {list(y_test[:5])}\")"
   ]
  },
  {
   "cell_type": "code",
   "execution_count": 34,
   "metadata": {},
   "outputs": [
    {
     "name": "stdout",
     "output_type": "stream",
     "text": [
      "Mean Squared Error 2.126703753894081\n"
     ]
    }
   ],
   "source": [
    "from sklearn.metrics import mean_squared_error\n",
    "MSE_score = mean_squared_error(y_test,predictions)\n",
    "print(\"Mean Squared Error\",MSE_score.mean())"
   ]
  },
  {
   "cell_type": "code",
   "execution_count": 35,
   "metadata": {},
   "outputs": [
    {
     "data": {
      "text/plain": [
       "1.4583222393881543"
      ]
     },
     "execution_count": 35,
     "metadata": {},
     "output_type": "execute_result"
    }
   ],
   "source": [
    "np.sqrt(MSE_score)"
   ]
  },
  {
   "cell_type": "code",
   "execution_count": 36,
   "metadata": {},
   "outputs": [
    {
     "data": {
      "text/plain": [
       "{'bootstrap': True,\n",
       " 'ccp_alpha': 0.0,\n",
       " 'criterion': 'squared_error',\n",
       " 'max_depth': None,\n",
       " 'max_features': 'auto',\n",
       " 'max_leaf_nodes': None,\n",
       " 'max_samples': None,\n",
       " 'min_impurity_decrease': 0.0,\n",
       " 'min_samples_leaf': 1,\n",
       " 'min_samples_split': 2,\n",
       " 'min_weight_fraction_leaf': 0.0,\n",
       " 'n_estimators': 200,\n",
       " 'n_jobs': None,\n",
       " 'oob_score': False,\n",
       " 'random_state': None,\n",
       " 'verbose': 0,\n",
       " 'warm_start': False}"
      ]
     },
     "execution_count": 36,
     "metadata": {},
     "output_type": "execute_result"
    }
   ],
   "source": [
    "# Get randomforest params\n",
    "rfr.get_params()"
   ]
  },
  {
   "cell_type": "code",
   "execution_count": 37,
   "metadata": {},
   "outputs": [],
   "source": [
    "# Create the GridSearchCV model\n",
    "from sklearn.model_selection import GridSearchCV\n",
    "param_grid = {\n",
    "    'n_estimators': [100, 200,300]\n",
    "}\n",
    "rfr_grid = GridSearchCV(rfr, param_grid, cv=5, verbose=3)"
   ]
  },
  {
   "cell_type": "code",
   "execution_count": 38,
   "metadata": {},
   "outputs": [
    {
     "name": "stdout",
     "output_type": "stream",
     "text": [
      "Fitting 5 folds for each of 3 candidates, totalling 15 fits\n",
      "[CV 1/5] END ..................n_estimators=100;, score=0.918 total time=  28.4s\n",
      "[CV 2/5] END ..................n_estimators=100;, score=0.923 total time=  28.6s\n",
      "[CV 3/5] END ..................n_estimators=100;, score=0.920 total time=  28.4s\n",
      "[CV 4/5] END ..................n_estimators=100;, score=0.923 total time=  28.7s\n",
      "[CV 5/5] END ..................n_estimators=100;, score=0.925 total time=  27.9s\n",
      "[CV 1/5] END ..................n_estimators=200;, score=0.919 total time=  55.3s\n",
      "[CV 2/5] END ..................n_estimators=200;, score=0.924 total time=  55.2s\n",
      "[CV 3/5] END ..................n_estimators=200;, score=0.921 total time=  53.9s\n",
      "[CV 4/5] END ..................n_estimators=200;, score=0.924 total time=  54.0s\n",
      "[CV 5/5] END ..................n_estimators=200;, score=0.925 total time=  53.3s\n",
      "[CV 1/5] END ..................n_estimators=300;, score=0.919 total time= 1.4min\n",
      "[CV 2/5] END ..................n_estimators=300;, score=0.924 total time= 1.4min\n",
      "[CV 3/5] END ..................n_estimators=300;, score=0.921 total time= 1.4min\n",
      "[CV 4/5] END ..................n_estimators=300;, score=0.924 total time= 1.4min\n",
      "[CV 5/5] END ..................n_estimators=300;, score=0.925 total time= 1.4min\n",
      "Wall time: 15min 32s\n"
     ]
    },
    {
     "data": {
      "text/plain": [
       "GridSearchCV(cv=5, estimator=RandomForestRegressor(n_estimators=200),\n",
       "             param_grid={'n_estimators': [100, 200, 300]}, verbose=3)"
      ]
     },
     "execution_count": 38,
     "metadata": {},
     "output_type": "execute_result"
    }
   ],
   "source": [
    "%%time\n",
    "# Train the model with GridSearch\n",
    "rfr_grid.fit(X_train_scaled, y_train)"
   ]
  },
  {
   "cell_type": "code",
   "execution_count": 39,
   "metadata": {},
   "outputs": [
    {
     "data": {
      "text/plain": [
       "{'n_estimators': 300}"
      ]
     },
     "execution_count": 39,
     "metadata": {},
     "output_type": "execute_result"
    }
   ],
   "source": [
    "rfr_grid.best_params_\n",
    "# {'n_estimators': 300}"
   ]
  },
  {
   "cell_type": "code",
   "execution_count": 40,
   "metadata": {},
   "outputs": [
    {
     "data": {
      "text/plain": [
       "0.9897172994023559"
      ]
     },
     "execution_count": 40,
     "metadata": {},
     "output_type": "execute_result"
    }
   ],
   "source": [
    "rfr_grid.score(X_train_scaled, y_train)"
   ]
  },
  {
   "cell_type": "code",
   "execution_count": 41,
   "metadata": {},
   "outputs": [
    {
     "data": {
      "text/plain": [
       "0.9275252473297764"
      ]
     },
     "execution_count": 41,
     "metadata": {},
     "output_type": "execute_result"
    }
   ],
   "source": [
    "rfr_grid.score(X_test_scaled, y_test)"
   ]
  },
  {
   "cell_type": "code",
   "execution_count": 45,
   "metadata": {},
   "outputs": [
    {
     "name": "stdout",
     "output_type": "stream",
     "text": [
      "Wall time: 1min 49s\n"
     ]
    },
    {
     "data": {
      "text/plain": [
       "RandomForestRegressor(n_estimators=300, random_state=1)"
      ]
     },
     "execution_count": 45,
     "metadata": {},
     "output_type": "execute_result"
    }
   ],
   "source": [
    "%%time\n",
    "# Fit the data into model\n",
    "rfr_tuned = RandomForestRegressor(n_estimators=300, random_state=1)\n",
    "rfr_tuned.fit(X_train_scaled, y_train)"
   ]
  },
  {
   "cell_type": "code",
   "execution_count": 46,
   "metadata": {},
   "outputs": [
    {
     "name": "stdout",
     "output_type": "stream",
     "text": [
      " Training Score: 0.9898423876603489\n",
      " Testing Score: 0.9277775626980825\n"
     ]
    }
   ],
   "source": [
    "print(f' Training Score: {rfr_tuned.score(X_train_scaled, y_train)}')\n",
    "print(f' Testing Score: {rfr_tuned.score(X_test_scaled, y_test)}')"
   ]
  },
  {
   "cell_type": "code",
   "execution_count": 47,
   "metadata": {},
   "outputs": [
    {
     "name": "stdout",
     "output_type": "stream",
     "text": [
      "1.4583031054573803\n"
     ]
    }
   ],
   "source": [
    "rfr_predictions = rfr_tuned.predict(X_test_scaled)\n",
    "rfr_ln_mse = mean_squared_error(y_test, rfr_predictions)\n",
    "rfm_ln_rmse = np.sqrt(rfr_ln_mse)\n",
    "print(rfm_ln_rmse)"
   ]
  },
  {
   "cell_type": "markdown",
   "metadata": {},
   "source": [
    "# SVR"
   ]
  },
  {
   "cell_type": "code",
   "execution_count": 39,
   "metadata": {},
   "outputs": [
    {
     "name": "stdout",
     "output_type": "stream",
     "text": [
      "2.4818275822054643\n",
      "Wall time: 43.2 s\n"
     ]
    }
   ],
   "source": [
    "%%time\n",
    "from sklearn.svm import SVR\n",
    "from sklearn.metrics import mean_squared_error\n",
    "svm_reg_ln = SVR(kernel=\"linear\")\n",
    "svm_reg_ln.fit(X_train_scaled, y_train)\n",
    "predictions = svm_reg_ln.predict(X_test_scaled)\n",
    "svm_ln_mse = mean_squared_error(y_test, predictions)\n",
    "svm_ln_rmse = np.sqrt(svm_ln_mse)\n",
    "print(svm_ln_rmse)"
   ]
  },
  {
   "cell_type": "code",
   "execution_count": 40,
   "metadata": {},
   "outputs": [
    {
     "name": "stdout",
     "output_type": "stream",
     "text": [
      " Training Score: 0.7893478474803727\n",
      " Testing Score: 0.7893478474803727\n"
     ]
    }
   ],
   "source": [
    "print(f' Training Score: {svm_reg_ln.score(X_train_scaled, y_train)}')\n",
    "print(f' Testing Score: {svm_reg_ln.score(X_train_scaled, y_train)}')"
   ]
  },
  {
   "cell_type": "code",
   "execution_count": 41,
   "metadata": {},
   "outputs": [
    {
     "name": "stdout",
     "output_type": "stream",
     "text": [
      "1.870760400772687\n",
      "Wall time: 29.6 s\n"
     ]
    }
   ],
   "source": [
    "%%time\n",
    "svm_reg_rbf = SVR(kernel=\"rbf\")\n",
    "svm_reg_rbf.fit(X_train_scaled, y_train)\n",
    "predictions = svm_reg_rbf.predict(X_test_scaled)\n",
    "svm_rbf_mse = mean_squared_error(y_test, predictions)\n",
    "svm_rbf_rmse = np.sqrt(svm_rbf_mse)\n",
    "print(svm_rbf_rmse)"
   ]
  },
  {
   "cell_type": "code",
   "execution_count": 42,
   "metadata": {},
   "outputs": [
    {
     "name": "stdout",
     "output_type": "stream",
     "text": [
      " Training Score: 0.8861223626619954\n",
      " Testing Score: 0.8861223626619954\n"
     ]
    }
   ],
   "source": [
    "print(f' Training Score: {svm_reg_rbf.score(X_train_scaled, y_train)}')\n",
    "print(f' Testing Score: {svm_reg_rbf.score(X_train_scaled, y_train)}')"
   ]
  },
  {
   "cell_type": "code",
   "execution_count": 43,
   "metadata": {},
   "outputs": [
    {
     "name": "stdout",
     "output_type": "stream",
     "text": [
      "Fitting 3 folds for each of 20 candidates, totalling 60 fits\n",
      "[CV 1/3] END C=2, kernel=linear;, score=(train=0.791, test=0.786) total time=  29.5s\n",
      "[CV 2/3] END C=2, kernel=linear;, score=(train=0.793, test=0.783) total time=  31.6s\n",
      "[CV 3/3] END C=2, kernel=linear;, score=(train=0.786, test=0.791) total time=  30.1s\n",
      "[CV 1/3] END C=2, kernel=rbf;, score=(train=0.897, test=0.881) total time=  16.2s\n",
      "[CV 2/3] END C=2, kernel=rbf;, score=(train=0.897, test=0.882) total time=  16.0s\n",
      "[CV 3/3] END C=2, kernel=rbf;, score=(train=0.896, test=0.887) total time=  16.4s\n",
      "[CV 1/3] END C=4, kernel=linear;, score=(train=0.791, test=0.786) total time=  48.1s\n",
      "[CV 2/3] END C=4, kernel=linear;, score=(train=0.793, test=0.783) total time=  49.3s\n",
      "[CV 3/3] END C=4, kernel=linear;, score=(train=0.786, test=0.791) total time=  48.6s\n",
      "[CV 1/3] END C=4, kernel=rbf;, score=(train=0.913, test=0.895) total time=  17.4s\n",
      "[CV 2/3] END C=4, kernel=rbf;, score=(train=0.913, test=0.895) total time=  16.8s\n",
      "[CV 3/3] END C=4, kernel=rbf;, score=(train=0.913, test=0.898) total time=  16.5s\n",
      "[CV 1/3] END C=8, kernel=linear;, score=(train=0.791, test=0.786) total time= 1.4min\n",
      "[CV 2/3] END C=8, kernel=linear;, score=(train=0.793, test=0.783) total time= 1.4min\n",
      "[CV 3/3] END C=8, kernel=linear;, score=(train=0.786, test=0.791) total time= 1.4min\n",
      "[CV 1/3] END C=8, kernel=rbf;, score=(train=0.926, test=0.903) total time=  18.7s\n",
      "[CV 2/3] END C=8, kernel=rbf;, score=(train=0.926, test=0.903) total time=  18.8s\n",
      "[CV 3/3] END C=8, kernel=rbf;, score=(train=0.926, test=0.904) total time=  18.6s\n",
      "[CV 1/3] END C=16, kernel=linear;, score=(train=0.791, test=0.786) total time= 2.5min\n",
      "[CV 2/3] END C=16, kernel=linear;, score=(train=0.793, test=0.783) total time= 2.3min\n",
      "[CV 3/3] END C=16, kernel=linear;, score=(train=0.786, test=0.791) total time= 2.5min\n",
      "[CV 1/3] END C=16, kernel=rbf;, score=(train=0.938, test=0.908) total time=  22.5s\n",
      "[CV 2/3] END C=16, kernel=rbf;, score=(train=0.938, test=0.908) total time=  23.4s\n",
      "[CV 3/3] END C=16, kernel=rbf;, score=(train=0.938, test=0.908) total time=  21.8s\n",
      "[CV 1/3] END C=32, kernel=linear;, score=(train=0.791, test=0.786) total time= 4.5min\n",
      "[CV 2/3] END C=32, kernel=linear;, score=(train=0.793, test=0.783) total time= 4.4min\n",
      "[CV 3/3] END C=32, kernel=linear;, score=(train=0.786, test=0.791) total time= 4.6min\n",
      "[CV 1/3] END C=32, kernel=rbf;, score=(train=0.950, test=0.910) total time=  33.5s\n",
      "[CV 2/3] END C=32, kernel=rbf;, score=(train=0.950, test=0.910) total time=  31.8s\n",
      "[CV 3/3] END C=32, kernel=rbf;, score=(train=0.950, test=0.909) total time=  33.6s\n",
      "[CV 1/3] END C=64, kernel=linear;, score=(train=0.791, test=0.786) total time= 8.7min\n",
      "[CV 2/3] END C=64, kernel=linear;, score=(train=0.792, test=0.783) total time= 8.3min\n",
      "[CV 3/3] END C=64, kernel=linear;, score=(train=0.786, test=0.791) total time= 8.7min\n",
      "[CV 1/3] END C=64, kernel=rbf;, score=(train=0.962, test=0.910) total time=  56.1s\n",
      "[CV 2/3] END C=64, kernel=rbf;, score=(train=0.962, test=0.909) total time=  54.6s\n",
      "[CV 3/3] END C=64, kernel=rbf;, score=(train=0.962, test=0.909) total time=  54.2s\n",
      "[CV 1/3] END C=128, kernel=linear;, score=(train=0.791, test=0.786) total time=16.9min\n",
      "[CV 2/3] END C=128, kernel=linear;, score=(train=0.792, test=0.783) total time=16.3min\n",
      "[CV 3/3] END C=128, kernel=linear;, score=(train=0.786, test=0.791) total time=16.6min\n",
      "[CV 1/3] END C=128, kernel=rbf;, score=(train=0.973, test=0.906) total time= 1.7min\n",
      "[CV 2/3] END C=128, kernel=rbf;, score=(train=0.973, test=0.905) total time= 1.6min\n",
      "[CV 3/3] END C=128, kernel=rbf;, score=(train=0.973, test=0.905) total time= 1.6min\n",
      "[CV 1/3] END C=256, kernel=linear;, score=(train=0.791, test=0.786) total time=31.0min\n",
      "[CV 2/3] END C=256, kernel=linear;, score=(train=0.793, test=0.783) total time=30.7min\n",
      "[CV 3/3] END C=256, kernel=linear;, score=(train=0.786, test=0.791) total time=30.5min\n",
      "[CV 1/3] END C=256, kernel=rbf;, score=(train=0.983, test=0.898) total time= 4.0min\n",
      "[CV 2/3] END C=256, kernel=rbf;, score=(train=0.983, test=0.895) total time= 3.8min\n",
      "[CV 3/3] END C=256, kernel=rbf;, score=(train=0.983, test=0.896) total time= 3.8min\n",
      "[CV 1/3] END C=512, kernel=linear;, score=(train=0.791, test=0.786) total time=60.4min\n",
      "[CV 2/3] END C=512, kernel=linear;, score=(train=0.793, test=0.783) total time=44.7min\n",
      "[CV 3/3] END C=512, kernel=linear;, score=(train=0.786, test=0.792) total time=43.2min\n",
      "[CV 1/3] END C=512, kernel=rbf;, score=(train=0.991, test=0.885) total time= 5.3min\n",
      "[CV 2/3] END C=512, kernel=rbf;, score=(train=0.990, test=0.882) total time= 5.3min\n",
      "[CV 3/3] END C=512, kernel=rbf;, score=(train=0.991, test=0.883) total time= 5.4min\n",
      "[CV 1/3] END C=1024, kernel=linear;, score=(train=0.791, test=0.786) total time=92.7min\n",
      "[CV 2/3] END C=1024, kernel=linear;, score=(train=0.793, test=0.783) total time=116.9min\n",
      "[CV 3/3] END C=1024, kernel=linear;, score=(train=0.786, test=0.792) total time=122.0min\n",
      "[CV 1/3] END C=1024, kernel=rbf;, score=(train=0.996, test=0.869) total time=10.8min\n",
      "[CV 2/3] END C=1024, kernel=rbf;, score=(train=0.996, test=0.867) total time=11.0min\n",
      "[CV 3/3] END C=1024, kernel=rbf;, score=(train=0.996, test=0.867) total time=11.4min\n",
      "Wall time: 12h 41min 53s\n"
     ]
    },
    {
     "data": {
      "text/plain": [
       "GridSearchCV(cv=3, estimator=SVR(),\n",
       "             param_grid={'C': [2, 4, 8, 16, 32, 64, 128, 256, 512, 1024],\n",
       "                         'kernel': ['linear', 'rbf']},\n",
       "             return_train_score=True, verbose=3)"
      ]
     },
     "execution_count": 43,
     "metadata": {},
     "output_type": "execute_result"
    }
   ],
   "source": [
    "# %%time\n",
    "# param_grid = {'kernel': ['linear', 'rbf'], 'C': [2**x for x in range(1,11)]}\n",
    "# # train across 3 folds, that's a total of (8+16)*3=72 rounds of training \n",
    "# svr_grid = GridSearchCV(estimator=SVR(), param_grid= param_grid, cv=3,\n",
    "#                            return_train_score=True, verbose = 3)\n",
    "# svr_grid.fit(X_train_scaled, y_train)"
   ]
  },
  {
   "cell_type": "code",
   "execution_count": 44,
   "metadata": {},
   "outputs": [
    {
     "name": "stdout",
     "output_type": "stream",
     "text": [
      "{'C': 32, 'kernel': 'rbf'}\n",
      "0.9096533136006023\n"
     ]
    }
   ],
   "source": [
    "# print(svr_grid.best_params_)\n",
    "# print(svr_grid.best_score_)\n",
    "# {'C': 32, 'kernel': 'rbf'}\n",
    "# 0.9096533136006023"
   ]
  },
  {
   "cell_type": "code",
   "execution_count": 46,
   "metadata": {},
   "outputs": [
    {
     "name": "stdout",
     "output_type": "stream",
     "text": [
      "Wall time: 2min 9s\n"
     ]
    },
    {
     "data": {
      "text/plain": [
       "SVR(C=32)"
      ]
     },
     "execution_count": 46,
     "metadata": {},
     "output_type": "execute_result"
    }
   ],
   "source": [
    "%%time\n",
    "svm_reg_rbf_tuned = SVR(kernel=\"rbf\", C = 32)\n",
    "svm_reg_rbf_tuned.fit(X_train_scaled, y_train)"
   ]
  },
  {
   "cell_type": "code",
   "execution_count": 49,
   "metadata": {},
   "outputs": [
    {
     "name": "stdout",
     "output_type": "stream",
     "text": [
      " Training Score: 0.9484316955397023\n",
      " Testing Score: 0.9188830311313904\n"
     ]
    }
   ],
   "source": [
    "print(f' Training Score: {svm_reg_rbf_tuned.score(X_train_scaled, y_train)}')\n",
    "print(f' Testing Score: {svm_reg_rbf_tuned.score(X_test_scaled, y_test)}')"
   ]
  },
  {
   "cell_type": "code",
   "execution_count": 53,
   "metadata": {},
   "outputs": [
    {
     "name": "stdout",
     "output_type": "stream",
     "text": [
      "1.5454949391538066\n"
     ]
    }
   ],
   "source": [
    "svm_predictions = svm_reg_rbf_tuned.predict(X_test_scaled)\n",
    "svm_ln_mse = mean_squared_error(y_test, svm_predictions)\n",
    "svm_ln_rmse = np.sqrt(svm_ln_mse)\n",
    "print(svm_ln_rmse)"
   ]
  },
  {
   "cell_type": "markdown",
   "metadata": {},
   "source": [
    "So, random forest regressor model has the best accuracy."
   ]
  }
 ],
 "metadata": {
  "kernelspec": {
   "display_name": "Python 3",
   "language": "python",
   "name": "python3"
  },
  "language_info": {
   "codemirror_mode": {
    "name": "ipython",
    "version": 3
   },
   "file_extension": ".py",
   "mimetype": "text/x-python",
   "name": "python",
   "nbconvert_exporter": "python",
   "pygments_lexer": "ipython3",
   "version": "3.8.8"
  }
 },
 "nbformat": 4,
 "nbformat_minor": 4
}
