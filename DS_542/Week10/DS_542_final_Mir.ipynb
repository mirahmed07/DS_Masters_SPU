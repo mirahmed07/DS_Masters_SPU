{
 "cells": [
  {
   "cell_type": "markdown",
   "metadata": {},
   "source": [
    "# 1.\tGiven\ta\tlist\tof\tintegers,\twrite\ta\tPython\tfunction\twhich\treturns\tindices\tof\tthe\ttwo\tnumbers such\tthat\tthey\tadd\tup\tto\ta\tspecific\ttarget.\tExplain\tyour\tlogic/code.\t\n",
    "Given\tnums\t=\t[2,\t7,\t11,\t15],\ttarget\t=\t9,\n",
    "\n",
    "Because\tnums[0]\t+\tnums[1]\t=\t2\t+\t7\t=\t9,\treturn\t[0,\t1]."
   ]
  },
  {
   "cell_type": "code",
   "execution_count": 1,
   "metadata": {},
   "outputs": [
    {
     "data": {
      "text/plain": [
       "[0, 1]"
      ]
     },
     "execution_count": 1,
     "metadata": {},
     "output_type": "execute_result"
    }
   ],
   "source": [
    "nums = [2, 7, 11, 15]\n",
    "target = 9\n",
    "def two_numbers(nums,target):\n",
    "# We will iterate through the nums list\n",
    "    for num in nums:\n",
    "# We will get the difference between the target and the specific item picked up in this iteration \n",
    "        diff = target- num\n",
    "# if the difference is an element of the nums list, then we will return the index of item and \n",
    "# the index of difference from the array as a list format\n",
    "        try:\n",
    "            if nums.index(diff):\n",
    "                return ([nums.index(num), nums.index(diff)])\n",
    "                break\n",
    "# in case the difference is not an element, we want our loop to continue to the next iteration\n",
    "        except:\n",
    "            continue\n",
    "two_numbers(nums,target)"
   ]
  },
  {
   "cell_type": "markdown",
   "metadata": {},
   "source": [
    "# 2.\tWithout\t using\t swapcase(),\t You\t are\t given\t a\t string\t and\t your\t task\t is\t to\t swap\t cases.\t In\tother\twords,\tconvert\tall\tlowercase\tletters\tto\tuppercase\tletters\tand\tvice\tversa.\tExplain\tyour logic/code.\n",
    "Input:\tMcDonald’s\n",
    "\n",
    "Output:\tmCdONALD’S"
   ]
  },
  {
   "cell_type": "code",
   "execution_count": 2,
   "metadata": {},
   "outputs": [
    {
     "data": {
      "text/plain": [
       "'mCdONALD’S'"
      ]
     },
     "execution_count": 2,
     "metadata": {},
     "output_type": "execute_result"
    }
   ],
   "source": [
    "input_string = \"McDonald’s\"\n",
    "def case_swap(input_string):\n",
    "    # variable with empty string which will be modified through the for loop below\n",
    "    output_string = ''\n",
    "    # looping through the string to to check whether a letter is lower cased or not\n",
    "    for letter in input_string:\n",
    "        if letter.islower():\n",
    "    # convert lower cased letter to upper cased and add it to the new variable\n",
    "            output_string += letter.upper()\n",
    "        else:\n",
    "    # convert upper cased letter to lower cased and add it to the new variable\n",
    "            output_string += letter.lower()\n",
    "    # finally return the output string    \n",
    "    return output_string\n",
    "case_swap(input_string)"
   ]
  },
  {
   "cell_type": "markdown",
   "metadata": {},
   "source": [
    "# 3.\tGiven\ta\tstring\tand\ta\tstring\tlist,\twrite\ta\tPython\tprogram\tto\tremove\tthe\tstring\tfrom\tthe\tlist and\treturn\tthe\tmodified\tlist.\tExplain\tyour\tlogic/code.\n",
    "Input\tList: [‘You’,'cannot','end','a','sentence','with','because','Because','because','is','a','conjunction.']\n",
    "\n",
    "Input\tString\t:\t‘because’\n",
    "\n",
    "Output:\t['You',\t'cannot',\t'end',\t'a',\t'sentence',\t'with',\t'Because',\t'is',\t'a',\t‘conjunction.']"
   ]
  },
  {
   "cell_type": "code",
   "execution_count": 3,
   "metadata": {},
   "outputs": [
    {
     "data": {
      "text/plain": [
       "['You',\n",
       " 'cannot',\n",
       " 'end',\n",
       " 'a',\n",
       " 'sentence',\n",
       " 'with',\n",
       " 'Because',\n",
       " 'is',\n",
       " 'a',\n",
       " 'conjunction.']"
      ]
     },
     "execution_count": 3,
     "metadata": {},
     "output_type": "execute_result"
    }
   ],
   "source": [
    "input_list = ['You','cannot','end','a','sentence','with','because','Because',\\\n",
    "              'because','is','a','conjunction.']\n",
    "input_string = 'because'\n",
    "# We will use the count method ot get the frequency of the input string as an element of input list\n",
    "# and apply the remove method on the input list that many times \n",
    "def modify_list(input_list,input_string):\n",
    "    for count in range(input_list.count(input_string)):\n",
    "        input_list.remove(input_string)\n",
    "# finally return the modified list\n",
    "    return input_list\n",
    "modify_list(input_list,input_string)"
   ]
  },
  {
   "cell_type": "markdown",
   "metadata": {},
   "source": [
    "# 4.\tWithout\tusing\t‘import\ttextwrap’\n",
    "# Read\ta\tstring\tand\ta\twidth,\twrap\t the\tstring\tinto\ta\tparagraph\tof\twidth.\tExplain\t your\tlogic/code.\n",
    "## Input\t:\n",
    "ABCDEFGHIJKLIMNOQRSTUVWXYZ\t4\n",
    "## Output\t:\t\n",
    "ABCD\n",
    "\n",
    "EFGH\n",
    "\n",
    "IJKL\n",
    "\n",
    "IMNO\n",
    "\n",
    "QRST\n",
    "\n",
    "UVWX\n",
    "\n",
    "YZ"
   ]
  },
  {
   "cell_type": "code",
   "execution_count": 4,
   "metadata": {},
   "outputs": [
    {
     "name": "stdout",
     "output_type": "stream",
     "text": [
      "ABCD\n",
      "EFGH\n",
      "IJKL\n",
      "IMNO\n",
      "QRST\n",
      "UVWX\n",
      "YZ\n"
     ]
    }
   ],
   "source": [
    "input_string = 'ABCDEFGHIJKLIMNOQRSTUVWXYZ'\n",
    "width = 4\n",
    "def string_break(input_string, width):\n",
    "    # let us create an empty string variable to store the modified string\n",
    "    result = ''\n",
    "    # we will loop the input string with an incrementation of steps equal to the width \n",
    "    # and add a linebreak to the modified string\n",
    "    for letter in range(0,len(input_string),width):\n",
    "    # We want to avoid adding a linebreak at the end of the modified string\n",
    "    # which is why we are comparing whether we are at last batch of iteration\n",
    "        if len(input_string) - letter >4:\n",
    "    # Add the combination of letters with a linebreak to the new variable\n",
    "            result+=input_string[letter:letter+width]+\"\\n\"\n",
    "        else:\n",
    "    # Add the combination of letters without a linebreak to the new variable\n",
    "            result+=input_string[letter:letter+width]\n",
    "    # print the result\n",
    "    print(result)\n",
    "string_break(input_string, width)"
   ]
  },
  {
   "cell_type": "markdown",
   "metadata": {},
   "source": [
    "# 5.\tWithout\tusing\t‘from\tcollections\timport\tCounter’\n",
    "# Write\ta\tPython\tprogram\tto\tcombine\tvalues\tin\ta\tlist\tof\tdictionaries.\tExplain\tyour\tlogic/code.\n",
    "## Input\t:\n",
    "[{‘item’:\t ‘item1’,\t ‘amount’:\t 400},{‘item’:\t ‘item2’,\t ‘amount’:\t 300},{‘item’:\t ‘item1’,\t ‘amount’:\t\n",
    "750}]\n",
    "## Output\t:\n",
    "{‘item1’:\t1150,\t‘item2’:\t300}"
   ]
  },
  {
   "cell_type": "code",
   "execution_count": 5,
   "metadata": {},
   "outputs": [
    {
     "data": {
      "text/plain": [
       "{'item1': 1150, 'item2': 300}"
      ]
     },
     "execution_count": 5,
     "metadata": {},
     "output_type": "execute_result"
    }
   ],
   "source": [
    "input_list = [{'item': 'item1', 'amount': 400},{'item': 'item2', 'amount': 300},\\\n",
    "              {'item': 'item1', 'amount': 750}]\n",
    "# Creating a function that would work as counter for dictionary objects\n",
    "def combined_output(item_list):\n",
    "# create an empty dictionary\n",
    "    combined_output = {}\n",
    "# iterate through the items in the input list\n",
    "    for item in item_list:\n",
    "# as each item in the input list is a dictionary\n",
    "# we will use the dictionary's key to check whether the key exist in the new variable\n",
    "        if item['item'] not in combined_output:\n",
    "# the key does not exist which is why we add the key value pair to the new variable\n",
    "            combined_output[item['item']] = item['amount']\n",
    "        else:\n",
    "            combined_output[item['item']] += item['amount']\n",
    "# finally we return the new dictionary varible\n",
    "    return combined_output\n",
    "combined_output(input_list)"
   ]
  },
  {
   "cell_type": "markdown",
   "metadata": {},
   "source": [
    "# 6.\tWrite\t a\t Python\t program\t to\t return\t the\t number\t of\t even\tints\tin\t the\t given\t array.\t Explain your\tlogic/code.\n",
    "count_evens([2,\t1,\t2,\t3,\t4])\t→\t3\n",
    "\n",
    "count_evens([2,\t2,\t0])\t→\t3\n",
    "\n",
    "count_evens([1,\t3,\t5])\t→\t0"
   ]
  },
  {
   "cell_type": "code",
   "execution_count": 6,
   "metadata": {},
   "outputs": [],
   "source": [
    "# Create a function to count the number of even integers in a given array\n",
    "def count_evens(nums):\n",
    "# Initiate a counter variable which keeps track of occurences of even number in an array\n",
    "    counter = 0\n",
    "# Iterate through the array to check if a number is even or divisible by 2\n",
    "    for num in nums:\n",
    "        if num %2 == 0:\n",
    "# If a number is divisible by 2 then the remainder will be 0 which would indicate the number is even\n",
    "            counter += 1\n",
    "# Finally return the counter variable\n",
    "    return counter"
   ]
  },
  {
   "cell_type": "code",
   "execution_count": 7,
   "metadata": {},
   "outputs": [
    {
     "data": {
      "text/plain": [
       "3"
      ]
     },
     "execution_count": 7,
     "metadata": {},
     "output_type": "execute_result"
    }
   ],
   "source": [
    "count_evens([2, 1, 2, 3, 4])"
   ]
  },
  {
   "cell_type": "code",
   "execution_count": 8,
   "metadata": {},
   "outputs": [
    {
     "data": {
      "text/plain": [
       "3"
      ]
     },
     "execution_count": 8,
     "metadata": {},
     "output_type": "execute_result"
    }
   ],
   "source": [
    "count_evens([2, 2, 0])"
   ]
  },
  {
   "cell_type": "code",
   "execution_count": 9,
   "metadata": {},
   "outputs": [
    {
     "data": {
      "text/plain": [
       "0"
      ]
     },
     "execution_count": 9,
     "metadata": {},
     "output_type": "execute_result"
    }
   ],
   "source": [
    "count_evens([1, 3, 5])"
   ]
  },
  {
   "cell_type": "markdown",
   "metadata": {},
   "source": [
    "# 7.\tWithout\t using\t min()\t and\t max()\t functions,\t given\t an\t array\t length\t 1\t or\t more\t of\t ints, write\ta\tPython\tprogram\tto\treturn\tthe\tdifference\tbetween\tthe\tlargest\tand\tsmallest\tvalues\tin\tthe\tarray.\tExplain\tyour\tlogic/code.\n",
    "big_diff([10,\t3,\t5,\t6])\t→\t7\n",
    "\n",
    "big_diff([7,\t2,\t10,\t9])\t→\t8\n",
    "\n",
    "big_diff([2,\t10,\t7,\t2])\t→\t8"
   ]
  },
  {
   "cell_type": "code",
   "execution_count": 10,
   "metadata": {},
   "outputs": [],
   "source": [
    "# create a function to derive the difference between the minimun and maximum from a given array\n",
    "def big_diff(nums):\n",
    "# initialize 2 variables with the first element of the array\n",
    "# they will treated as the minimum and maximum to start with\n",
    "    minimum = maximum = nums[0]\n",
    "# iterate through the array from the second element onwards\n",
    "    for num in nums[1:]:\n",
    "        if num < minimum:\n",
    "# the number is less the value stored in the variable \"minimum\", so we override the variable\n",
    "# with this number \n",
    "            minimum = num\n",
    "        elif num > maximum:\n",
    "# the number is more the value stored in the variable \"maximum\", so we override the variable\n",
    "# with this number \n",
    "            maximum = num\n",
    "        else:\n",
    "# we continue on to the next iteration\n",
    "            continue\n",
    "# create a variable to hold the difference between maximum and minimum\n",
    "    difference = maximum - minimum\n",
    "# finally return the difference variable\n",
    "    return difference"
   ]
  },
  {
   "cell_type": "code",
   "execution_count": 11,
   "metadata": {},
   "outputs": [
    {
     "data": {
      "text/plain": [
       "7"
      ]
     },
     "execution_count": 11,
     "metadata": {},
     "output_type": "execute_result"
    }
   ],
   "source": [
    "big_diff([10, 3, 5, 6])"
   ]
  },
  {
   "cell_type": "code",
   "execution_count": 12,
   "metadata": {},
   "outputs": [
    {
     "data": {
      "text/plain": [
       "8"
      ]
     },
     "execution_count": 12,
     "metadata": {},
     "output_type": "execute_result"
    }
   ],
   "source": [
    "big_diff([7, 2, 10, 9])"
   ]
  },
  {
   "cell_type": "code",
   "execution_count": 13,
   "metadata": {},
   "outputs": [
    {
     "data": {
      "text/plain": [
       "8"
      ]
     },
     "execution_count": 13,
     "metadata": {},
     "output_type": "execute_result"
    }
   ],
   "source": [
    "big_diff([2, 10, 7, 2]) "
   ]
  },
  {
   "cell_type": "markdown",
   "metadata": {},
   "source": [
    "# 8. Write a Python program to return the number of times that the string \"code\" appears anywhere in the given string, except we'll\taccept any letter for the 'd', so \"cope\" and \"cooe\" count. Explain your\tlogic/code.\n",
    "count_code('aaacodebbb')\t→\t1\n",
    "\n",
    "count_code('codexxcode')\t→\t2\n",
    "\n",
    "count_code('cozexxcope')\t→\t2"
   ]
  },
  {
   "cell_type": "code",
   "execution_count": 14,
   "metadata": {},
   "outputs": [],
   "source": [
    "#  create a function that will return the number of occurences of a pattern in a given string\n",
    "def count_code(input_string):\n",
    "# import regular expression library\n",
    "    import re\n",
    "# as the first 2 letters of the 4- letter pattern is 'co' and the last letter is 'e' \n",
    "# we can pass [a-z] argument as the 3rd letter so regex would know any letter on the 3rd\n",
    "# position is accepted\n",
    "# re.findall() returns a list of all occurences for pattern match \n",
    "    occurences = re.findall('co'+'[a-z]'+'e', input_string)\n",
    "# finally return the length of list of occurences\n",
    "    return len(occurences)"
   ]
  },
  {
   "cell_type": "code",
   "execution_count": 15,
   "metadata": {},
   "outputs": [
    {
     "data": {
      "text/plain": [
       "1"
      ]
     },
     "execution_count": 15,
     "metadata": {},
     "output_type": "execute_result"
    }
   ],
   "source": [
    "count_code('aaacodebbb')"
   ]
  },
  {
   "cell_type": "code",
   "execution_count": 16,
   "metadata": {},
   "outputs": [
    {
     "data": {
      "text/plain": [
       "2"
      ]
     },
     "execution_count": 16,
     "metadata": {},
     "output_type": "execute_result"
    }
   ],
   "source": [
    "count_code('codexxcode')"
   ]
  },
  {
   "cell_type": "code",
   "execution_count": 17,
   "metadata": {},
   "outputs": [
    {
     "data": {
      "text/plain": [
       "2"
      ]
     },
     "execution_count": 17,
     "metadata": {},
     "output_type": "execute_result"
    }
   ],
   "source": [
    "count_code('cozexxcope')"
   ]
  },
  {
   "cell_type": "code",
   "execution_count": 18,
   "metadata": {},
   "outputs": [],
   "source": [
    "# Alternate solution\n",
    "def count_code2(input_string):\n",
    "# Initiate a counter variable\n",
    "    counter = 0\n",
    "# Create a list of unique possible patterns with the first 2 characters as'co', last (4th)\n",
    "# character as 'e' and third character being any character from the input string \n",
    "    patterns=list(set([\"co\"+char+\"e\" for char in input_string]))\n",
    "# iterate through patterns list to find each element/ pattern in the input string\n",
    "    for pattern in patterns:\n",
    "        if pattern in input_string:\n",
    "# macth found and we add the total occurence count of the pattern to the counter\n",
    "            counter+=input_string.count(pattern)\n",
    "# finally return the counter variable\n",
    "    return counter"
   ]
  },
  {
   "cell_type": "code",
   "execution_count": 19,
   "metadata": {},
   "outputs": [
    {
     "data": {
      "text/plain": [
       "1"
      ]
     },
     "execution_count": 19,
     "metadata": {},
     "output_type": "execute_result"
    }
   ],
   "source": [
    "count_code2('aaacodebbb')"
   ]
  },
  {
   "cell_type": "code",
   "execution_count": 20,
   "metadata": {},
   "outputs": [
    {
     "data": {
      "text/plain": [
       "2"
      ]
     },
     "execution_count": 20,
     "metadata": {},
     "output_type": "execute_result"
    }
   ],
   "source": [
    "count_code2('codexxcode')"
   ]
  },
  {
   "cell_type": "code",
   "execution_count": 21,
   "metadata": {},
   "outputs": [
    {
     "data": {
      "text/plain": [
       "2"
      ]
     },
     "execution_count": 21,
     "metadata": {},
     "output_type": "execute_result"
    }
   ],
   "source": [
    "count_code2('cozexxcope')"
   ]
  },
  {
   "cell_type": "markdown",
   "metadata": {},
   "source": [
    "# 9. We want make a package of goal kilos of chocolate. We have small bars (1 kilo each) and big bars (5 kilos each). Write a Python program to\treturn the number of small bars to use, assuming we always use big bars before small bars. Return -1 if it can't be done. Explain your logic/code.\n",
    "Method\tSignature\t:\tmake_chocolate(small,\tbig,\tgoal)\n",
    "\n",
    "make_chocolate(4,\t1,\t9)\t→\t4\n",
    "\n",
    "make_chocolate(4,\t1,\t10)\t→\t-1\n",
    "\n",
    "make_chocolate(4,\t1,\t7)\t→\t2"
   ]
  },
  {
   "cell_type": "code",
   "execution_count": 22,
   "metadata": {},
   "outputs": [],
   "source": [
    "def make_chocolate(small, big, goal):\n",
    "# calculate the total available bar weight\n",
    "    total_weight = (small*1) + (big*5)\n",
    "    if goal <= total_weight:\n",
    "# calculate the remaining weight after using all the big bars\n",
    "        difference = goal - (big*5)\n",
    "        if difference <= (small*1):\n",
    "# the remainder weight can be covered with available small bars\n",
    "# so we store the remainder value in a new variable\n",
    "            small_needed = difference\n",
    "        else:\n",
    "# the remainder weight can NOT be covered with available small bars\n",
    "# so we default the value of the new variable to -1 \n",
    "            small_needed = -1\n",
    "    else:\n",
    "# the goal weight can NOT be covered with available bars\n",
    "# so we default the value of the new variable to -1 \n",
    "        small_needed = -1\n",
    "# finally we return the new variable 'small_needed'\n",
    "    return small_needed"
   ]
  },
  {
   "cell_type": "code",
   "execution_count": 23,
   "metadata": {},
   "outputs": [
    {
     "data": {
      "text/plain": [
       "4"
      ]
     },
     "execution_count": 23,
     "metadata": {},
     "output_type": "execute_result"
    }
   ],
   "source": [
    "make_chocolate(4, 1, 9)"
   ]
  },
  {
   "cell_type": "code",
   "execution_count": 24,
   "metadata": {},
   "outputs": [
    {
     "data": {
      "text/plain": [
       "-1"
      ]
     },
     "execution_count": 24,
     "metadata": {},
     "output_type": "execute_result"
    }
   ],
   "source": [
    "make_chocolate(4, 1, 10)"
   ]
  },
  {
   "cell_type": "code",
   "execution_count": 25,
   "metadata": {},
   "outputs": [
    {
     "data": {
      "text/plain": [
       "2"
      ]
     },
     "execution_count": 25,
     "metadata": {},
     "output_type": "execute_result"
    }
   ],
   "source": [
    "make_chocolate(4, 1, 7)"
   ]
  },
  {
   "cell_type": "markdown",
   "metadata": {},
   "source": [
    "# 10. Given\t2 strings, a and b,\tWrite a\tPython program to return the number\tof the positions where they contain the same length 2 substring. So \"xxcaazz\" and \"xxbaaz\" yields 3, since the \"xx\", \"aa\", and \"az\" substrings appear in the same place in both strings. Explain your logic/code.\n",
    "string_match('xxcaazz',\t'xxbaaz')\t→\t3\n",
    "\n",
    "string_match('abc',\t'abc')\t→\t2\n",
    "\n",
    "string_match('abc',\t'axc')\t→\t0"
   ]
  },
  {
   "cell_type": "code",
   "execution_count": 26,
   "metadata": {},
   "outputs": [],
   "source": [
    "def string_match(string1, string2):\n",
    "# first we use list comprehension to create lists of 2 letter substrings from the strings\n",
    "    substrings1 = [string1[i]+string1[i+1] for i in range(len(string1)-1)]\n",
    "    substrings2 = [string2[i]+string2[i+1] for i in range(len(string2)-1)]\n",
    "# initailize the counter\n",
    "    counter = 0\n",
    "# iterate through both lists after zipping them to access items from both lists at the \n",
    "# same index or position at the same time and compare for match\n",
    "    for sub1,sub2 in zip(substrings1,substrings2):\n",
    "        if sub1 == sub2:\n",
    "# we increment the counter value if values match\n",
    "            counter += 1\n",
    "# finally we return the counter variable\n",
    "    return counter"
   ]
  },
  {
   "cell_type": "code",
   "execution_count": 27,
   "metadata": {},
   "outputs": [
    {
     "data": {
      "text/plain": [
       "3"
      ]
     },
     "execution_count": 27,
     "metadata": {},
     "output_type": "execute_result"
    }
   ],
   "source": [
    "string_match('xxcaazz', 'xxbaaz')"
   ]
  },
  {
   "cell_type": "code",
   "execution_count": 28,
   "metadata": {},
   "outputs": [
    {
     "data": {
      "text/plain": [
       "2"
      ]
     },
     "execution_count": 28,
     "metadata": {},
     "output_type": "execute_result"
    }
   ],
   "source": [
    "string_match('abc', 'abc')"
   ]
  },
  {
   "cell_type": "code",
   "execution_count": 29,
   "metadata": {},
   "outputs": [
    {
     "data": {
      "text/plain": [
       "0"
      ]
     },
     "execution_count": 29,
     "metadata": {},
     "output_type": "execute_result"
    }
   ],
   "source": [
    "string_match('abc', 'axc')"
   ]
  }
 ],
 "metadata": {
  "kernelspec": {
   "display_name": "Python 3",
   "language": "python",
   "name": "python3"
  },
  "language_info": {
   "codemirror_mode": {
    "name": "ipython",
    "version": 3
   },
   "file_extension": ".py",
   "mimetype": "text/x-python",
   "name": "python",
   "nbconvert_exporter": "python",
   "pygments_lexer": "ipython3",
   "version": "3.8.8"
  }
 },
 "nbformat": 4,
 "nbformat_minor": 4
}
