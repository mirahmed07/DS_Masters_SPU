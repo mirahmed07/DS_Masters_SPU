{
 "cells": [
  {
   "cell_type": "code",
   "execution_count": 1,
   "metadata": {
    "_cell_guid": "b1076dfc-b9ad-4769-8c92-a6c4dae69d19",
    "_uuid": "8f2839f25d086af736a60e9eeb907d3b93b6e0e5",
    "jupyter": {
     "outputs_hidden": true
    }
   },
   "outputs": [],
   "source": [
    "import numpy as np                   # linear algebra\n",
    "import pandas as pd                  # data processing, CSV file I/O (e.g. pd.read_csv)\n",
    "import matplotlib.pyplot as plt      # Data Visualization \n",
    "import seaborn as sns                # Python library for Vidualization\n",
    "# Comment this if the data visualisations doesn't work on your side\n",
    "%matplotlib inline\n",
    "\n",
    "plt.style.use('bmh')\n",
    "from sklearn.preprocessing import StandardScaler\n",
    "from sklearn.cluster import KMeans\n",
    "from sklearn.metrics import confusion_matrix, classification_report"
   ]
  },
  {
   "cell_type": "code",
   "execution_count": 30,
   "metadata": {
    "_cell_guid": "79c7e3d0-c299-4dcb-8224-4455121ee9b0",
    "_kg_hide-input": false,
    "_uuid": "d629ff2d2480ee46fbb7e2d37f6b5fab8052498a",
    "jupyter": {
     "outputs_hidden": true
    }
   },
   "outputs": [
    {
     "data": {
      "text/html": [
       "<div>\n",
       "<style scoped>\n",
       "    .dataframe tbody tr th:only-of-type {\n",
       "        vertical-align: middle;\n",
       "    }\n",
       "\n",
       "    .dataframe tbody tr th {\n",
       "        vertical-align: top;\n",
       "    }\n",
       "\n",
       "    .dataframe thead th {\n",
       "        text-align: right;\n",
       "    }\n",
       "</style>\n",
       "<table border=\"1\" class=\"dataframe\">\n",
       "  <thead>\n",
       "    <tr style=\"text-align: right;\">\n",
       "      <th></th>\n",
       "      <th>Unnamed: 0</th>\n",
       "      <th>Private</th>\n",
       "      <th>Apps</th>\n",
       "      <th>Accept</th>\n",
       "      <th>Enroll</th>\n",
       "      <th>Top10perc</th>\n",
       "      <th>Top25perc</th>\n",
       "      <th>F.Undergrad</th>\n",
       "      <th>P.Undergrad</th>\n",
       "      <th>Outstate</th>\n",
       "      <th>Room.Board</th>\n",
       "      <th>Books</th>\n",
       "      <th>Personal</th>\n",
       "      <th>PhD</th>\n",
       "      <th>Terminal</th>\n",
       "      <th>S.F.Ratio</th>\n",
       "      <th>perc.alumni</th>\n",
       "      <th>Expend</th>\n",
       "      <th>Grad.Rate</th>\n",
       "    </tr>\n",
       "  </thead>\n",
       "  <tbody>\n",
       "    <tr>\n",
       "      <th>0</th>\n",
       "      <td>Abilene Christian University</td>\n",
       "      <td>Yes</td>\n",
       "      <td>1660</td>\n",
       "      <td>1232</td>\n",
       "      <td>721</td>\n",
       "      <td>23</td>\n",
       "      <td>52</td>\n",
       "      <td>2885</td>\n",
       "      <td>537</td>\n",
       "      <td>7440</td>\n",
       "      <td>3300</td>\n",
       "      <td>450</td>\n",
       "      <td>2200</td>\n",
       "      <td>70</td>\n",
       "      <td>78</td>\n",
       "      <td>18.10</td>\n",
       "      <td>12</td>\n",
       "      <td>7041</td>\n",
       "      <td>60</td>\n",
       "    </tr>\n",
       "    <tr>\n",
       "      <th>1</th>\n",
       "      <td>Adelphi University</td>\n",
       "      <td>Yes</td>\n",
       "      <td>2186</td>\n",
       "      <td>1924</td>\n",
       "      <td>512</td>\n",
       "      <td>16</td>\n",
       "      <td>29</td>\n",
       "      <td>2683</td>\n",
       "      <td>1227</td>\n",
       "      <td>12280</td>\n",
       "      <td>6450</td>\n",
       "      <td>750</td>\n",
       "      <td>1500</td>\n",
       "      <td>29</td>\n",
       "      <td>30</td>\n",
       "      <td>12.20</td>\n",
       "      <td>16</td>\n",
       "      <td>10527</td>\n",
       "      <td>56</td>\n",
       "    </tr>\n",
       "    <tr>\n",
       "      <th>2</th>\n",
       "      <td>Adrian College</td>\n",
       "      <td>Yes</td>\n",
       "      <td>1428</td>\n",
       "      <td>1097</td>\n",
       "      <td>336</td>\n",
       "      <td>22</td>\n",
       "      <td>50</td>\n",
       "      <td>1036</td>\n",
       "      <td>99</td>\n",
       "      <td>11250</td>\n",
       "      <td>3750</td>\n",
       "      <td>400</td>\n",
       "      <td>1165</td>\n",
       "      <td>53</td>\n",
       "      <td>66</td>\n",
       "      <td>12.90</td>\n",
       "      <td>30</td>\n",
       "      <td>8735</td>\n",
       "      <td>54</td>\n",
       "    </tr>\n",
       "    <tr>\n",
       "      <th>3</th>\n",
       "      <td>Agnes Scott College</td>\n",
       "      <td>Yes</td>\n",
       "      <td>417</td>\n",
       "      <td>349</td>\n",
       "      <td>137</td>\n",
       "      <td>60</td>\n",
       "      <td>89</td>\n",
       "      <td>510</td>\n",
       "      <td>63</td>\n",
       "      <td>12960</td>\n",
       "      <td>5450</td>\n",
       "      <td>450</td>\n",
       "      <td>875</td>\n",
       "      <td>92</td>\n",
       "      <td>97</td>\n",
       "      <td>7.70</td>\n",
       "      <td>37</td>\n",
       "      <td>19016</td>\n",
       "      <td>59</td>\n",
       "    </tr>\n",
       "    <tr>\n",
       "      <th>4</th>\n",
       "      <td>Alaska Pacific University</td>\n",
       "      <td>Yes</td>\n",
       "      <td>193</td>\n",
       "      <td>146</td>\n",
       "      <td>55</td>\n",
       "      <td>16</td>\n",
       "      <td>44</td>\n",
       "      <td>249</td>\n",
       "      <td>869</td>\n",
       "      <td>7560</td>\n",
       "      <td>4120</td>\n",
       "      <td>800</td>\n",
       "      <td>1500</td>\n",
       "      <td>76</td>\n",
       "      <td>72</td>\n",
       "      <td>11.90</td>\n",
       "      <td>2</td>\n",
       "      <td>10922</td>\n",
       "      <td>15</td>\n",
       "    </tr>\n",
       "  </tbody>\n",
       "</table>\n",
       "</div>"
      ],
      "text/plain": [
       "                     Unnamed: 0 Private  Apps  Accept  Enroll  Top10perc  \\\n",
       "0  Abilene Christian University     Yes  1660    1232     721         23   \n",
       "1            Adelphi University     Yes  2186    1924     512         16   \n",
       "2                Adrian College     Yes  1428    1097     336         22   \n",
       "3           Agnes Scott College     Yes   417     349     137         60   \n",
       "4     Alaska Pacific University     Yes   193     146      55         16   \n",
       "\n",
       "   Top25perc  F.Undergrad  P.Undergrad  Outstate  Room.Board  Books  Personal  \\\n",
       "0         52         2885          537      7440        3300    450      2200   \n",
       "1         29         2683         1227     12280        6450    750      1500   \n",
       "2         50         1036           99     11250        3750    400      1165   \n",
       "3         89          510           63     12960        5450    450       875   \n",
       "4         44          249          869      7560        4120    800      1500   \n",
       "\n",
       "   PhD  Terminal  S.F.Ratio  perc.alumni  Expend  Grad.Rate  \n",
       "0   70        78      18.10           12    7041         60  \n",
       "1   29        30      12.20           16   10527         56  \n",
       "2   53        66      12.90           30    8735         54  \n",
       "3   92        97       7.70           37   19016         59  \n",
       "4   76        72      11.90            2   10922         15  "
      ]
     },
     "execution_count": 30,
     "metadata": {},
     "output_type": "execute_result"
    }
   ],
   "source": [
    "# Import the dataset\n",
    "dataset = pd.read_csv('college.csv')\n",
    "dataset.head()"
   ]
  },
  {
   "cell_type": "code",
   "execution_count": 3,
   "metadata": {
    "_uuid": "d47849badb0035c1968d9b19384a266f6cfdc634",
    "jupyter": {
     "outputs_hidden": true
    }
   },
   "outputs": [
    {
     "data": {
      "text/plain": [
       "(777, 19)"
      ]
     },
     "execution_count": 3,
     "metadata": {},
     "output_type": "execute_result"
    }
   ],
   "source": [
    "# total rows and colums in the dataset\n",
    "dataset.shape"
   ]
  },
  {
   "cell_type": "code",
   "execution_count": 32,
   "metadata": {},
   "outputs": [],
   "source": [
    "dataset.rename(columns= {\"Unnamed: 0\":\"college_name\"}, inplace = True)"
   ]
  },
  {
   "cell_type": "code",
   "execution_count": 36,
   "metadata": {},
   "outputs": [],
   "source": [
    "dataset[\"Private\"] = dataset[\"Private\"].astype('category')"
   ]
  },
  {
   "cell_type": "code",
   "execution_count": 37,
   "metadata": {
    "_uuid": "bcfc2fb58c8989f2f548dbf19d83cbf7bcc42313",
    "jupyter": {
     "outputs_hidden": true
    }
   },
   "outputs": [
    {
     "name": "stdout",
     "output_type": "stream",
     "text": [
      "<class 'pandas.core.frame.DataFrame'>\n",
      "Int64Index: 776 entries, 0 to 776\n",
      "Data columns (total 19 columns):\n",
      " #   Column        Non-Null Count  Dtype   \n",
      "---  ------        --------------  -----   \n",
      " 0   college_name  776 non-null    object  \n",
      " 1   Private       776 non-null    category\n",
      " 2   Apps          776 non-null    int64   \n",
      " 3   Accept        776 non-null    int64   \n",
      " 4   Enroll        776 non-null    int64   \n",
      " 5   Top10perc     776 non-null    int64   \n",
      " 6   Top25perc     776 non-null    int64   \n",
      " 7   F.Undergrad   776 non-null    int64   \n",
      " 8   P.Undergrad   776 non-null    int64   \n",
      " 9   Outstate      776 non-null    int64   \n",
      " 10  Room.Board    776 non-null    int64   \n",
      " 11  Books         776 non-null    int64   \n",
      " 12  Personal      776 non-null    int64   \n",
      " 13  PhD           776 non-null    int64   \n",
      " 14  Terminal      776 non-null    int64   \n",
      " 15  S.F.Ratio     776 non-null    float64 \n",
      " 16  perc.alumni   776 non-null    int64   \n",
      " 17  Expend        776 non-null    int64   \n",
      " 18  Grad.Rate     776 non-null    int64   \n",
      "dtypes: category(1), float64(1), int64(16), object(1)\n",
      "memory usage: 116.1+ KB\n"
     ]
    }
   ],
   "source": [
    "dataset.info() # there are no missing values"
   ]
  },
  {
   "cell_type": "code",
   "execution_count": 6,
   "metadata": {},
   "outputs": [
    {
     "data": {
      "text/html": [
       "<div>\n",
       "<style scoped>\n",
       "    .dataframe tbody tr th:only-of-type {\n",
       "        vertical-align: middle;\n",
       "    }\n",
       "\n",
       "    .dataframe tbody tr th {\n",
       "        vertical-align: top;\n",
       "    }\n",
       "\n",
       "    .dataframe thead th {\n",
       "        text-align: right;\n",
       "    }\n",
       "</style>\n",
       "<table border=\"1\" class=\"dataframe\">\n",
       "  <thead>\n",
       "    <tr style=\"text-align: right;\">\n",
       "      <th></th>\n",
       "      <th>Apps</th>\n",
       "      <th>Accept</th>\n",
       "      <th>Enroll</th>\n",
       "      <th>Top10perc</th>\n",
       "      <th>Top25perc</th>\n",
       "      <th>F.Undergrad</th>\n",
       "      <th>P.Undergrad</th>\n",
       "      <th>Outstate</th>\n",
       "      <th>Room.Board</th>\n",
       "      <th>Books</th>\n",
       "      <th>Personal</th>\n",
       "      <th>PhD</th>\n",
       "      <th>Terminal</th>\n",
       "      <th>S.F.Ratio</th>\n",
       "      <th>perc.alumni</th>\n",
       "      <th>Expend</th>\n",
       "      <th>Grad.Rate</th>\n",
       "    </tr>\n",
       "  </thead>\n",
       "  <tbody>\n",
       "    <tr>\n",
       "      <th>count</th>\n",
       "      <td>777.00</td>\n",
       "      <td>777.00</td>\n",
       "      <td>777.00</td>\n",
       "      <td>777.00</td>\n",
       "      <td>777.00</td>\n",
       "      <td>777.00</td>\n",
       "      <td>777.00</td>\n",
       "      <td>777.00</td>\n",
       "      <td>777.00</td>\n",
       "      <td>777.00</td>\n",
       "      <td>777.00</td>\n",
       "      <td>777.00</td>\n",
       "      <td>777.00</td>\n",
       "      <td>777.00</td>\n",
       "      <td>777.00</td>\n",
       "      <td>777.00</td>\n",
       "      <td>777.00</td>\n",
       "    </tr>\n",
       "    <tr>\n",
       "      <th>mean</th>\n",
       "      <td>3001.64</td>\n",
       "      <td>2018.80</td>\n",
       "      <td>779.97</td>\n",
       "      <td>27.56</td>\n",
       "      <td>55.80</td>\n",
       "      <td>3699.91</td>\n",
       "      <td>855.30</td>\n",
       "      <td>10440.67</td>\n",
       "      <td>4357.53</td>\n",
       "      <td>549.38</td>\n",
       "      <td>1340.64</td>\n",
       "      <td>72.66</td>\n",
       "      <td>79.70</td>\n",
       "      <td>14.09</td>\n",
       "      <td>22.74</td>\n",
       "      <td>9660.17</td>\n",
       "      <td>65.46</td>\n",
       "    </tr>\n",
       "    <tr>\n",
       "      <th>std</th>\n",
       "      <td>3870.20</td>\n",
       "      <td>2451.11</td>\n",
       "      <td>929.18</td>\n",
       "      <td>17.64</td>\n",
       "      <td>19.80</td>\n",
       "      <td>4850.42</td>\n",
       "      <td>1522.43</td>\n",
       "      <td>4023.02</td>\n",
       "      <td>1096.70</td>\n",
       "      <td>165.11</td>\n",
       "      <td>677.07</td>\n",
       "      <td>16.33</td>\n",
       "      <td>14.72</td>\n",
       "      <td>3.96</td>\n",
       "      <td>12.39</td>\n",
       "      <td>5221.77</td>\n",
       "      <td>17.18</td>\n",
       "    </tr>\n",
       "    <tr>\n",
       "      <th>min</th>\n",
       "      <td>81.00</td>\n",
       "      <td>72.00</td>\n",
       "      <td>35.00</td>\n",
       "      <td>1.00</td>\n",
       "      <td>9.00</td>\n",
       "      <td>139.00</td>\n",
       "      <td>1.00</td>\n",
       "      <td>2340.00</td>\n",
       "      <td>1780.00</td>\n",
       "      <td>96.00</td>\n",
       "      <td>250.00</td>\n",
       "      <td>8.00</td>\n",
       "      <td>24.00</td>\n",
       "      <td>2.50</td>\n",
       "      <td>0.00</td>\n",
       "      <td>3186.00</td>\n",
       "      <td>10.00</td>\n",
       "    </tr>\n",
       "    <tr>\n",
       "      <th>25%</th>\n",
       "      <td>776.00</td>\n",
       "      <td>604.00</td>\n",
       "      <td>242.00</td>\n",
       "      <td>15.00</td>\n",
       "      <td>41.00</td>\n",
       "      <td>992.00</td>\n",
       "      <td>95.00</td>\n",
       "      <td>7320.00</td>\n",
       "      <td>3597.00</td>\n",
       "      <td>470.00</td>\n",
       "      <td>850.00</td>\n",
       "      <td>62.00</td>\n",
       "      <td>71.00</td>\n",
       "      <td>11.50</td>\n",
       "      <td>13.00</td>\n",
       "      <td>6751.00</td>\n",
       "      <td>53.00</td>\n",
       "    </tr>\n",
       "    <tr>\n",
       "      <th>50%</th>\n",
       "      <td>1558.00</td>\n",
       "      <td>1110.00</td>\n",
       "      <td>434.00</td>\n",
       "      <td>23.00</td>\n",
       "      <td>54.00</td>\n",
       "      <td>1707.00</td>\n",
       "      <td>353.00</td>\n",
       "      <td>9990.00</td>\n",
       "      <td>4200.00</td>\n",
       "      <td>500.00</td>\n",
       "      <td>1200.00</td>\n",
       "      <td>75.00</td>\n",
       "      <td>82.00</td>\n",
       "      <td>13.60</td>\n",
       "      <td>21.00</td>\n",
       "      <td>8377.00</td>\n",
       "      <td>65.00</td>\n",
       "    </tr>\n",
       "    <tr>\n",
       "      <th>75%</th>\n",
       "      <td>3624.00</td>\n",
       "      <td>2424.00</td>\n",
       "      <td>902.00</td>\n",
       "      <td>35.00</td>\n",
       "      <td>69.00</td>\n",
       "      <td>4005.00</td>\n",
       "      <td>967.00</td>\n",
       "      <td>12925.00</td>\n",
       "      <td>5050.00</td>\n",
       "      <td>600.00</td>\n",
       "      <td>1700.00</td>\n",
       "      <td>85.00</td>\n",
       "      <td>92.00</td>\n",
       "      <td>16.50</td>\n",
       "      <td>31.00</td>\n",
       "      <td>10830.00</td>\n",
       "      <td>78.00</td>\n",
       "    </tr>\n",
       "    <tr>\n",
       "      <th>max</th>\n",
       "      <td>48094.00</td>\n",
       "      <td>26330.00</td>\n",
       "      <td>6392.00</td>\n",
       "      <td>96.00</td>\n",
       "      <td>100.00</td>\n",
       "      <td>31643.00</td>\n",
       "      <td>21836.00</td>\n",
       "      <td>21700.00</td>\n",
       "      <td>8124.00</td>\n",
       "      <td>2340.00</td>\n",
       "      <td>6800.00</td>\n",
       "      <td>103.00</td>\n",
       "      <td>100.00</td>\n",
       "      <td>39.80</td>\n",
       "      <td>64.00</td>\n",
       "      <td>56233.00</td>\n",
       "      <td>118.00</td>\n",
       "    </tr>\n",
       "  </tbody>\n",
       "</table>\n",
       "</div>"
      ],
      "text/plain": [
       "          Apps   Accept  Enroll  Top10perc  Top25perc  F.Undergrad  \\\n",
       "count   777.00   777.00  777.00     777.00     777.00       777.00   \n",
       "mean   3001.64  2018.80  779.97      27.56      55.80      3699.91   \n",
       "std    3870.20  2451.11  929.18      17.64      19.80      4850.42   \n",
       "min      81.00    72.00   35.00       1.00       9.00       139.00   \n",
       "25%     776.00   604.00  242.00      15.00      41.00       992.00   \n",
       "50%    1558.00  1110.00  434.00      23.00      54.00      1707.00   \n",
       "75%    3624.00  2424.00  902.00      35.00      69.00      4005.00   \n",
       "max   48094.00 26330.00 6392.00      96.00     100.00     31643.00   \n",
       "\n",
       "       P.Undergrad  Outstate  Room.Board   Books  Personal    PhD  Terminal  \\\n",
       "count       777.00    777.00      777.00  777.00    777.00 777.00    777.00   \n",
       "mean        855.30  10440.67     4357.53  549.38   1340.64  72.66     79.70   \n",
       "std        1522.43   4023.02     1096.70  165.11    677.07  16.33     14.72   \n",
       "min           1.00   2340.00     1780.00   96.00    250.00   8.00     24.00   \n",
       "25%          95.00   7320.00     3597.00  470.00    850.00  62.00     71.00   \n",
       "50%         353.00   9990.00     4200.00  500.00   1200.00  75.00     82.00   \n",
       "75%         967.00  12925.00     5050.00  600.00   1700.00  85.00     92.00   \n",
       "max       21836.00  21700.00     8124.00 2340.00   6800.00 103.00    100.00   \n",
       "\n",
       "       S.F.Ratio  perc.alumni   Expend  Grad.Rate  \n",
       "count     777.00       777.00   777.00     777.00  \n",
       "mean       14.09        22.74  9660.17      65.46  \n",
       "std         3.96        12.39  5221.77      17.18  \n",
       "min         2.50         0.00  3186.00      10.00  \n",
       "25%        11.50        13.00  6751.00      53.00  \n",
       "50%        13.60        21.00  8377.00      65.00  \n",
       "75%        16.50        31.00 10830.00      78.00  \n",
       "max        39.80        64.00 56233.00     118.00  "
      ]
     },
     "execution_count": 6,
     "metadata": {},
     "output_type": "execute_result"
    }
   ],
   "source": [
    "pd.set_option('display.float', '{:.2f}'.format)\n",
    "pd.set_option('display.max_rows', None)\n",
    "pd.set_option('display.max_columns', None)\n",
    "pd.set_option('display.width', None)\n",
    "pd.set_option('display.max_colwidth', None)\n",
    "\n",
    "dataset.describe().to_csv(\"dataset_describe.csv\")\n",
    "dataset.describe()"
   ]
  },
  {
   "cell_type": "code",
   "execution_count": 34,
   "metadata": {},
   "outputs": [],
   "source": [
    "dataset = dataset[dataset[\"Grad.Rate\"]<= 100]"
   ]
  },
  {
   "cell_type": "code",
   "execution_count": 8,
   "metadata": {},
   "outputs": [
    {
     "ename": "PermissionError",
     "evalue": "[Errno 13] Permission denied: 'dataset_describe_updated.csv'",
     "output_type": "error",
     "traceback": [
      "\u001b[1;31m---------------------------------------------------------------------------\u001b[0m",
      "\u001b[1;31mPermissionError\u001b[0m                           Traceback (most recent call last)",
      "\u001b[1;32m<ipython-input-8-db4ea6b261c0>\u001b[0m in \u001b[0;36m<module>\u001b[1;34m\u001b[0m\n\u001b[1;32m----> 1\u001b[1;33m \u001b[0mdataset\u001b[0m\u001b[1;33m.\u001b[0m\u001b[0mdescribe\u001b[0m\u001b[1;33m(\u001b[0m\u001b[1;33m)\u001b[0m\u001b[1;33m.\u001b[0m\u001b[0mto_csv\u001b[0m\u001b[1;33m(\u001b[0m\u001b[1;34m\"dataset_describe_updated.csv\"\u001b[0m\u001b[1;33m)\u001b[0m\u001b[1;33m\u001b[0m\u001b[1;33m\u001b[0m\u001b[0m\n\u001b[0m\u001b[0;32m      2\u001b[0m \u001b[0mdataset\u001b[0m\u001b[1;33m.\u001b[0m\u001b[0mdescribe\u001b[0m\u001b[1;33m(\u001b[0m\u001b[1;33m)\u001b[0m\u001b[1;33m\u001b[0m\u001b[1;33m\u001b[0m\u001b[0m\n",
      "\u001b[1;32mC:\\ProgramData\\Anaconda3\\lib\\site-packages\\pandas\\core\\generic.py\u001b[0m in \u001b[0;36mto_csv\u001b[1;34m(self, path_or_buf, sep, na_rep, float_format, columns, header, index, index_label, mode, encoding, compression, quoting, quotechar, line_terminator, chunksize, date_format, doublequote, escapechar, decimal, errors, storage_options)\u001b[0m\n\u001b[0;32m   3385\u001b[0m         )\n\u001b[0;32m   3386\u001b[0m \u001b[1;33m\u001b[0m\u001b[0m\n\u001b[1;32m-> 3387\u001b[1;33m         return DataFrameRenderer(formatter).to_csv(\n\u001b[0m\u001b[0;32m   3388\u001b[0m             \u001b[0mpath_or_buf\u001b[0m\u001b[1;33m,\u001b[0m\u001b[1;33m\u001b[0m\u001b[1;33m\u001b[0m\u001b[0m\n\u001b[0;32m   3389\u001b[0m             \u001b[0mline_terminator\u001b[0m\u001b[1;33m=\u001b[0m\u001b[0mline_terminator\u001b[0m\u001b[1;33m,\u001b[0m\u001b[1;33m\u001b[0m\u001b[1;33m\u001b[0m\u001b[0m\n",
      "\u001b[1;32mC:\\ProgramData\\Anaconda3\\lib\\site-packages\\pandas\\io\\formats\\format.py\u001b[0m in \u001b[0;36mto_csv\u001b[1;34m(self, path_or_buf, encoding, sep, columns, index_label, mode, compression, quoting, quotechar, line_terminator, chunksize, date_format, doublequote, escapechar, errors, storage_options)\u001b[0m\n\u001b[0;32m   1081\u001b[0m             \u001b[0mformatter\u001b[0m\u001b[1;33m=\u001b[0m\u001b[0mself\u001b[0m\u001b[1;33m.\u001b[0m\u001b[0mfmt\u001b[0m\u001b[1;33m,\u001b[0m\u001b[1;33m\u001b[0m\u001b[1;33m\u001b[0m\u001b[0m\n\u001b[0;32m   1082\u001b[0m         )\n\u001b[1;32m-> 1083\u001b[1;33m         \u001b[0mcsv_formatter\u001b[0m\u001b[1;33m.\u001b[0m\u001b[0msave\u001b[0m\u001b[1;33m(\u001b[0m\u001b[1;33m)\u001b[0m\u001b[1;33m\u001b[0m\u001b[1;33m\u001b[0m\u001b[0m\n\u001b[0m\u001b[0;32m   1084\u001b[0m \u001b[1;33m\u001b[0m\u001b[0m\n\u001b[0;32m   1085\u001b[0m         \u001b[1;32mif\u001b[0m \u001b[0mcreated_buffer\u001b[0m\u001b[1;33m:\u001b[0m\u001b[1;33m\u001b[0m\u001b[1;33m\u001b[0m\u001b[0m\n",
      "\u001b[1;32mC:\\ProgramData\\Anaconda3\\lib\\site-packages\\pandas\\io\\formats\\csvs.py\u001b[0m in \u001b[0;36msave\u001b[1;34m(self)\u001b[0m\n\u001b[0;32m    226\u001b[0m         \"\"\"\n\u001b[0;32m    227\u001b[0m         \u001b[1;31m# apply compression and byte/text conversion\u001b[0m\u001b[1;33m\u001b[0m\u001b[1;33m\u001b[0m\u001b[1;33m\u001b[0m\u001b[0m\n\u001b[1;32m--> 228\u001b[1;33m         with get_handle(\n\u001b[0m\u001b[0;32m    229\u001b[0m             \u001b[0mself\u001b[0m\u001b[1;33m.\u001b[0m\u001b[0mfilepath_or_buffer\u001b[0m\u001b[1;33m,\u001b[0m\u001b[1;33m\u001b[0m\u001b[1;33m\u001b[0m\u001b[0m\n\u001b[0;32m    230\u001b[0m             \u001b[0mself\u001b[0m\u001b[1;33m.\u001b[0m\u001b[0mmode\u001b[0m\u001b[1;33m,\u001b[0m\u001b[1;33m\u001b[0m\u001b[1;33m\u001b[0m\u001b[0m\n",
      "\u001b[1;32mC:\\ProgramData\\Anaconda3\\lib\\site-packages\\pandas\\io\\common.py\u001b[0m in \u001b[0;36mget_handle\u001b[1;34m(path_or_buf, mode, encoding, compression, memory_map, is_text, errors, storage_options)\u001b[0m\n\u001b[0;32m    640\u001b[0m                 \u001b[0merrors\u001b[0m \u001b[1;33m=\u001b[0m \u001b[1;34m\"replace\"\u001b[0m\u001b[1;33m\u001b[0m\u001b[1;33m\u001b[0m\u001b[0m\n\u001b[0;32m    641\u001b[0m             \u001b[1;31m# Encoding\u001b[0m\u001b[1;33m\u001b[0m\u001b[1;33m\u001b[0m\u001b[1;33m\u001b[0m\u001b[0m\n\u001b[1;32m--> 642\u001b[1;33m             handle = open(\n\u001b[0m\u001b[0;32m    643\u001b[0m                 \u001b[0mhandle\u001b[0m\u001b[1;33m,\u001b[0m\u001b[1;33m\u001b[0m\u001b[1;33m\u001b[0m\u001b[0m\n\u001b[0;32m    644\u001b[0m                 \u001b[0mioargs\u001b[0m\u001b[1;33m.\u001b[0m\u001b[0mmode\u001b[0m\u001b[1;33m,\u001b[0m\u001b[1;33m\u001b[0m\u001b[1;33m\u001b[0m\u001b[0m\n",
      "\u001b[1;31mPermissionError\u001b[0m: [Errno 13] Permission denied: 'dataset_describe_updated.csv'"
     ]
    }
   ],
   "source": [
    "dataset.describe().to_csv(\"dataset_describe_updated.csv\")\n",
    "dataset.describe()"
   ]
  },
  {
   "cell_type": "code",
   "execution_count": 9,
   "metadata": {
    "scrolled": true
   },
   "outputs": [
    {
     "data": {
      "text/plain": [
       "Yes    564\n",
       "No     212\n",
       "Name: Private, dtype: int64"
      ]
     },
     "execution_count": 9,
     "metadata": {},
     "output_type": "execute_result"
    }
   ],
   "source": [
    "dataset[\"Private\"].value_counts()"
   ]
  },
  {
   "cell_type": "code",
   "execution_count": 10,
   "metadata": {
    "_uuid": "ca96e1a193d3818013ccffa63b90914c1042cac6",
    "jupyter": {
     "outputs_hidden": true
    },
    "scrolled": true
   },
   "outputs": [
    {
     "data": {
      "text/plain": [
       "college_name    0\n",
       "Private         0\n",
       "Apps            0\n",
       "Accept          0\n",
       "Enroll          0\n",
       "Top10perc       0\n",
       "Top25perc       0\n",
       "F.Undergrad     0\n",
       "P.Undergrad     0\n",
       "Outstate        0\n",
       "Room.Board      0\n",
       "Books           0\n",
       "Personal        0\n",
       "PhD             0\n",
       "Terminal        0\n",
       "S.F.Ratio       0\n",
       "perc.alumni     0\n",
       "Expend          0\n",
       "Grad.Rate       0\n",
       "dtype: int64"
      ]
     },
     "execution_count": 10,
     "metadata": {},
     "output_type": "execute_result"
    }
   ],
   "source": [
    "# Missing values computation\n",
    "dataset.isnull().sum()"
   ]
  },
  {
   "cell_type": "markdown",
   "metadata": {},
   "source": [
    "## EDA"
   ]
  },
  {
   "cell_type": "code",
   "execution_count": 11,
   "metadata": {},
   "outputs": [
    {
     "data": {
      "text/html": [
       "<div>\n",
       "<style scoped>\n",
       "    .dataframe tbody tr th:only-of-type {\n",
       "        vertical-align: middle;\n",
       "    }\n",
       "\n",
       "    .dataframe tbody tr th {\n",
       "        vertical-align: top;\n",
       "    }\n",
       "\n",
       "    .dataframe thead th {\n",
       "        text-align: right;\n",
       "    }\n",
       "</style>\n",
       "<table border=\"1\" class=\"dataframe\">\n",
       "  <thead>\n",
       "    <tr style=\"text-align: right;\">\n",
       "      <th></th>\n",
       "      <th>Private</th>\n",
       "      <th>app_total</th>\n",
       "      <th>acpt_total</th>\n",
       "      <th>enl_total</th>\n",
       "      <th>outstate_total</th>\n",
       "      <th>PhD_total</th>\n",
       "      <th>avg_expend</th>\n",
       "      <th>avg_grad_rate</th>\n",
       "    </tr>\n",
       "  </thead>\n",
       "  <tbody>\n",
       "    <tr>\n",
       "      <th>0</th>\n",
       "      <td>No</td>\n",
       "      <td>1214743</td>\n",
       "      <td>830889</td>\n",
       "      <td>347865</td>\n",
       "      <td>1444443</td>\n",
       "      <td>16289</td>\n",
       "      <td>7458.32</td>\n",
       "      <td>56.04</td>\n",
       "    </tr>\n",
       "    <tr>\n",
       "      <th>1</th>\n",
       "      <td>Yes</td>\n",
       "      <td>1113683</td>\n",
       "      <td>734289</td>\n",
       "      <td>257647</td>\n",
       "      <td>6658573</td>\n",
       "      <td>40146</td>\n",
       "      <td>10491.30</td>\n",
       "      <td>68.91</td>\n",
       "    </tr>\n",
       "  </tbody>\n",
       "</table>\n",
       "</div>"
      ],
      "text/plain": [
       "  Private  app_total  acpt_total  enl_total  outstate_total  PhD_total  \\\n",
       "0      No    1214743      830889     347865         1444443      16289   \n",
       "1     Yes    1113683      734289     257647         6658573      40146   \n",
       "\n",
       "   avg_expend  avg_grad_rate  \n",
       "0     7458.32          56.04  \n",
       "1    10491.30          68.91  "
      ]
     },
     "execution_count": 11,
     "metadata": {},
     "output_type": "execute_result"
    }
   ],
   "source": [
    "dataset.groupby([\"Private\"], as_index = False).agg(app_total=pd.NamedAgg(column=\"Apps\", aggfunc=\"sum\"),\\\n",
    "                                                  acpt_total=pd.NamedAgg(column=\"Accept\", aggfunc=\"sum\"),\\\n",
    "                                                  enl_total=pd.NamedAgg(column=\"Enroll\", aggfunc=\"sum\"),\\\n",
    "                                                  outstate_total=pd.NamedAgg(column=\"Outstate\", aggfunc=\"sum\"),\\\n",
    "                                                  PhD_total=pd.NamedAgg(column=\"PhD\", aggfunc=\"sum\"),\\\n",
    "                                                  avg_expend=pd.NamedAgg(column=\"Expend\", aggfunc=\"mean\"),\\\n",
    "                                                  avg_grad_rate=pd.NamedAgg(column=\"Grad.Rate\", aggfunc=\"mean\"))"
   ]
  },
  {
   "cell_type": "code",
   "execution_count": 12,
   "metadata": {},
   "outputs": [
    {
     "data": {
      "text/html": [
       "<div>\n",
       "<style scoped>\n",
       "    .dataframe tbody tr th:only-of-type {\n",
       "        vertical-align: middle;\n",
       "    }\n",
       "\n",
       "    .dataframe tbody tr th {\n",
       "        vertical-align: top;\n",
       "    }\n",
       "\n",
       "    .dataframe thead th {\n",
       "        text-align: right;\n",
       "    }\n",
       "</style>\n",
       "<table border=\"1\" class=\"dataframe\">\n",
       "  <thead>\n",
       "    <tr style=\"text-align: right;\">\n",
       "      <th></th>\n",
       "      <th>Apps</th>\n",
       "      <th>Accept</th>\n",
       "      <th>Enroll</th>\n",
       "      <th>Top10perc</th>\n",
       "      <th>Top25perc</th>\n",
       "      <th>F.Undergrad</th>\n",
       "      <th>P.Undergrad</th>\n",
       "      <th>Outstate</th>\n",
       "      <th>Room.Board</th>\n",
       "      <th>Books</th>\n",
       "      <th>Personal</th>\n",
       "      <th>PhD</th>\n",
       "      <th>Terminal</th>\n",
       "      <th>S.F.Ratio</th>\n",
       "      <th>perc.alumni</th>\n",
       "      <th>Expend</th>\n",
       "      <th>Grad.Rate</th>\n",
       "    </tr>\n",
       "  </thead>\n",
       "  <tbody>\n",
       "    <tr>\n",
       "      <th>0</th>\n",
       "      <td>1660</td>\n",
       "      <td>1232</td>\n",
       "      <td>721</td>\n",
       "      <td>23</td>\n",
       "      <td>52</td>\n",
       "      <td>2885</td>\n",
       "      <td>537</td>\n",
       "      <td>7440</td>\n",
       "      <td>3300</td>\n",
       "      <td>450</td>\n",
       "      <td>2200</td>\n",
       "      <td>70</td>\n",
       "      <td>78</td>\n",
       "      <td>18.10</td>\n",
       "      <td>12</td>\n",
       "      <td>7041</td>\n",
       "      <td>60</td>\n",
       "    </tr>\n",
       "    <tr>\n",
       "      <th>1</th>\n",
       "      <td>2186</td>\n",
       "      <td>1924</td>\n",
       "      <td>512</td>\n",
       "      <td>16</td>\n",
       "      <td>29</td>\n",
       "      <td>2683</td>\n",
       "      <td>1227</td>\n",
       "      <td>12280</td>\n",
       "      <td>6450</td>\n",
       "      <td>750</td>\n",
       "      <td>1500</td>\n",
       "      <td>29</td>\n",
       "      <td>30</td>\n",
       "      <td>12.20</td>\n",
       "      <td>16</td>\n",
       "      <td>10527</td>\n",
       "      <td>56</td>\n",
       "    </tr>\n",
       "    <tr>\n",
       "      <th>2</th>\n",
       "      <td>1428</td>\n",
       "      <td>1097</td>\n",
       "      <td>336</td>\n",
       "      <td>22</td>\n",
       "      <td>50</td>\n",
       "      <td>1036</td>\n",
       "      <td>99</td>\n",
       "      <td>11250</td>\n",
       "      <td>3750</td>\n",
       "      <td>400</td>\n",
       "      <td>1165</td>\n",
       "      <td>53</td>\n",
       "      <td>66</td>\n",
       "      <td>12.90</td>\n",
       "      <td>30</td>\n",
       "      <td>8735</td>\n",
       "      <td>54</td>\n",
       "    </tr>\n",
       "    <tr>\n",
       "      <th>3</th>\n",
       "      <td>417</td>\n",
       "      <td>349</td>\n",
       "      <td>137</td>\n",
       "      <td>60</td>\n",
       "      <td>89</td>\n",
       "      <td>510</td>\n",
       "      <td>63</td>\n",
       "      <td>12960</td>\n",
       "      <td>5450</td>\n",
       "      <td>450</td>\n",
       "      <td>875</td>\n",
       "      <td>92</td>\n",
       "      <td>97</td>\n",
       "      <td>7.70</td>\n",
       "      <td>37</td>\n",
       "      <td>19016</td>\n",
       "      <td>59</td>\n",
       "    </tr>\n",
       "    <tr>\n",
       "      <th>4</th>\n",
       "      <td>193</td>\n",
       "      <td>146</td>\n",
       "      <td>55</td>\n",
       "      <td>16</td>\n",
       "      <td>44</td>\n",
       "      <td>249</td>\n",
       "      <td>869</td>\n",
       "      <td>7560</td>\n",
       "      <td>4120</td>\n",
       "      <td>800</td>\n",
       "      <td>1500</td>\n",
       "      <td>76</td>\n",
       "      <td>72</td>\n",
       "      <td>11.90</td>\n",
       "      <td>2</td>\n",
       "      <td>10922</td>\n",
       "      <td>15</td>\n",
       "    </tr>\n",
       "  </tbody>\n",
       "</table>\n",
       "</div>"
      ],
      "text/plain": [
       "   Apps  Accept  Enroll  Top10perc  Top25perc  F.Undergrad  P.Undergrad  \\\n",
       "0  1660    1232     721         23         52         2885          537   \n",
       "1  2186    1924     512         16         29         2683         1227   \n",
       "2  1428    1097     336         22         50         1036           99   \n",
       "3   417     349     137         60         89          510           63   \n",
       "4   193     146      55         16         44          249          869   \n",
       "\n",
       "   Outstate  Room.Board  Books  Personal  PhD  Terminal  S.F.Ratio  \\\n",
       "0      7440        3300    450      2200   70        78      18.10   \n",
       "1     12280        6450    750      1500   29        30      12.20   \n",
       "2     11250        3750    400      1165   53        66      12.90   \n",
       "3     12960        5450    450       875   92        97       7.70   \n",
       "4      7560        4120    800      1500   76        72      11.90   \n",
       "\n",
       "   perc.alumni  Expend  Grad.Rate  \n",
       "0           12    7041         60  \n",
       "1           16   10527         56  \n",
       "2           30    8735         54  \n",
       "3           37   19016         59  \n",
       "4            2   10922         15  "
      ]
     },
     "execution_count": 12,
     "metadata": {},
     "output_type": "execute_result"
    }
   ],
   "source": [
    "df_num = dataset.select_dtypes(include = ['float64', 'int64'])\n",
    "df_num.head()"
   ]
  },
  {
   "cell_type": "code",
   "execution_count": null,
   "metadata": {},
   "outputs": [],
   "source": [
    "df_num.hist(figsize=(16, 20), bins=50, xlabelsize=8, ylabelsize=8); # ; avoid having the matplotlib verbose informations"
   ]
  },
  {
   "cell_type": "code",
   "execution_count": null,
   "metadata": {},
   "outputs": [],
   "source": [
    "plt.figure(figsize=(16,  25))\n",
    "sns.boxplot(data=df_num, orient=\"h\", palette=\"Set2\")"
   ]
  },
  {
   "cell_type": "code",
   "execution_count": null,
   "metadata": {
    "scrolled": true
   },
   "outputs": [],
   "source": [
    "# Category encoding\n",
    "# dataset[\"Private_code\"] = dataset[\"Private\"].astype('category')\n",
    "# dataset[\"Private_code\"] = dataset.Private_code.cat.codes\n",
    "# dataset[[\"Private\",\"Private_code\"]].drop_duplicates().reset_index(drop= True)"
   ]
  },
  {
   "cell_type": "code",
   "execution_count": 13,
   "metadata": {},
   "outputs": [],
   "source": [
    "# adding a binary coded column for cross evaluation\n",
    "dataset['Cluster'] = dataset['Private'].apply(lambda x: 1 if x == 'Yes' else 0)"
   ]
  },
  {
   "cell_type": "code",
   "execution_count": null,
   "metadata": {},
   "outputs": [],
   "source": [
    "df_num = dataset.select_dtypes(include = ['float64', 'int64'])\n",
    "corr_df = df_num.drop('Cluster', axis = 1).corr()\n",
    "corr_df"
   ]
  },
  {
   "cell_type": "code",
   "execution_count": null,
   "metadata": {},
   "outputs": [],
   "source": [
    "# correlation heatmap\n",
    "corr = dataset.corr()\n",
    "plt.figure(figsize=(14, 12))\n",
    "\n",
    "sns.heatmap(corr\n",
    "#             [(corr >= 0.5) | (corr <= -0.4)]\n",
    "            , \n",
    "            cmap='viridis', vmax=1.0, vmin=-1.0, linewidths=0.1,\n",
    "            annot=True, annot_kws={\"size\": 8}, square=True);\n",
    "plt.tight_layout()\n",
    "plt.savefig('corr_heatmap_all.png', facecolor='w')"
   ]
  },
  {
   "cell_type": "code",
   "execution_count": null,
   "metadata": {},
   "outputs": [],
   "source": [
    "abs(corr_df)"
   ]
  },
  {
   "cell_type": "code",
   "execution_count": null,
   "metadata": {},
   "outputs": [],
   "source": [
    "abs(corr_df).min(axis=1)"
   ]
  },
  {
   "cell_type": "code",
   "execution_count": null,
   "metadata": {},
   "outputs": [],
   "source": [
    "abs(corr_df).min(axis=0)"
   ]
  },
  {
   "cell_type": "code",
   "execution_count": null,
   "metadata": {},
   "outputs": [],
   "source": [
    "abs(corr_df).idxmin()"
   ]
  },
  {
   "cell_type": "code",
   "execution_count": null,
   "metadata": {
    "scrolled": false
   },
   "outputs": [],
   "source": [
    "# Create the default pairplot using seaborn\n",
    "g =sns.pairplot(dataset.drop('Cluster', axis=1), height =2)\n",
    "for ax in g.axes.flat:\n",
    "    # rotate x axis labels\n",
    "    ax.set_xlabel(ax.get_xlabel(), rotation = 90)\n",
    "    # rotate y axis labels\n",
    "    ax.set_ylabel(ax.get_ylabel(), rotation = 0)\n",
    "    # set y labels alignment\n",
    "    ax.yaxis.get_label().set_horizontalalignment('right')\n",
    "plt.tight_layout()\n",
    "plt.savefig('pairplot_all.png', facecolor='w')\n",
    "plt.show()"
   ]
  },
  {
   "cell_type": "code",
   "execution_count": null,
   "metadata": {},
   "outputs": [],
   "source": [
    "# dataframe creation for separate modeling techniques\n",
    "dataset1 = dataset.copy()\n",
    "dataset2 = dataset.copy()\n",
    "dataset3 = dataset.copy()\n",
    "dataset4 = dataset.copy()"
   ]
  },
  {
   "cell_type": "markdown",
   "metadata": {},
   "source": [
    "# Modeling using all the variables and elbow method"
   ]
  },
  {
   "cell_type": "code",
   "execution_count": null,
   "metadata": {},
   "outputs": [],
   "source": [
    "X = dataset.iloc[:, 2:19].values\n",
    "X"
   ]
  },
  {
   "cell_type": "code",
   "execution_count": null,
   "metadata": {},
   "outputs": [],
   "source": [
    "X_scaler = StandardScaler().fit(X)\n",
    "X_scaled = X_scaler.transform(X)\n",
    "X_scaled"
   ]
  },
  {
   "cell_type": "code",
   "execution_count": null,
   "metadata": {},
   "outputs": [],
   "source": [
    "# Building the Model\n",
    "# KMeans Algorithm to decide the optimum cluster number , KMeans++ using Elbow Mmethod\n",
    "# to figure out K for KMeans, I will use ELBOW Method on KMEANS++ Calculation\n",
    "wcss = []\n",
    "\n",
    "# We always assume the max number of cluster would be 10\n",
    "# You can judge the number of clusters by doing averaging\n",
    "for i in range(1,11):\n",
    "    kmeans = KMeans(n_clusters= i, init='k-means++', random_state=0)\n",
    "    kmeans.fit(X_scaled)\n",
    "    wcss.append(kmeans.inertia_)\n",
    "\n",
    "    #inertia_ is the formula used to segregate the data points into clusters"
   ]
  },
  {
   "cell_type": "code",
   "execution_count": null,
   "metadata": {},
   "outputs": [],
   "source": [
    "# Visualizing the ELBOW method to get the optimal value of K \n",
    "plt.figure(figsize=(12, 10))\n",
    "plt.plot(range(1,11), wcss)\n",
    "plt.title('The Elbow Method')\n",
    "plt.xlabel('no of clusters')\n",
    "plt.ylabel('wcss')\n",
    "plt.tight_layout()\n",
    "plt.savefig('elbow_all.png', facecolor='w')\n",
    "plt.show()"
   ]
  },
  {
   "cell_type": "code",
   "execution_count": null,
   "metadata": {},
   "outputs": [],
   "source": [
    "# unsupervised learning\n",
    "kmeansmodel_unsup = KMeans(n_clusters= 5, random_state=0)\n",
    "y_kmeans_unsup= kmeansmodel_unsup.fit_predict(X_scaled)"
   ]
  },
  {
   "cell_type": "code",
   "execution_count": null,
   "metadata": {},
   "outputs": [],
   "source": [
    "dataset1.iloc[:, 2:19].columns"
   ]
  },
  {
   "cell_type": "code",
   "execution_count": null,
   "metadata": {},
   "outputs": [],
   "source": [
    "#Visualizing all the clusters \n",
    "plt.figure(figsize=(12, 10))\n",
    "ax = plt.axes()\n",
    "ax.set_facecolor(\"white\")\n",
    "plt.scatter(kmeansmodel_unsup.cluster_centers_[:, 0], kmeansmodel_unsup.cluster_centers_[:, 1], s = 300, c = 'orange', zorder = 5, \\\n",
    "            label = 'Centroids', alpha = 1)\n",
    "plt.scatter(X_scaled[y_kmeans_unsup == 0, 2], X_scaled[y_kmeans_unsup == 0, 16] , c = 'red', label = 'Cluster 1', zorder = 0,\\\n",
    "            alpha = .6)\n",
    "plt.scatter(X_scaled[y_kmeans_unsup == 1, 2], X_scaled[y_kmeans_unsup == 1, 16], c = 'blue', label = 'Cluster 2', zorder = 1,\\\n",
    "           alpha = .6)\n",
    "plt.scatter(X_scaled[y_kmeans_unsup == 2, 2], X_scaled[y_kmeans_unsup == 2, 16], c = 'green', label = 'Cluster 3', zorder = 2,\\\n",
    "           alpha = .6)\n",
    "plt.scatter(X_scaled[y_kmeans_unsup == 3, 2], X_scaled[y_kmeans_unsup == 3, 16], c = 'yellow', label = 'Cluster 4', zorder = 3,\\\n",
    "           alpha = .8)\n",
    "plt.scatter(X_scaled[y_kmeans_unsup == 4, 2], X_scaled[y_kmeans_unsup == 4, 16], c = 'pink', label = 'Cluster 5', zorder = 4,\\\n",
    "           alpha = .8)\n",
    "\n",
    "plt.title('Clusters of colleges')\n",
    "plt.xlabel('Enroll')\n",
    "plt.ylabel('Grad.Rate')\n",
    "plt.legend()\n",
    "plt.tight_layout()\n",
    "plt.savefig('clusters_all.png', facecolor='w')\n",
    "plt.show()"
   ]
  },
  {
   "cell_type": "code",
   "execution_count": null,
   "metadata": {},
   "outputs": [],
   "source": [
    "dataset1[\"Kmean_cluster\"] = y_kmeans_unsup\n",
    "cluster_count_df = dataset1[\"Kmean_cluster\"].value_counts().to_frame()\n",
    "cluster_count_df.reset_index(inplace= True)\n",
    "cluster_count_df.rename(columns = {\"index\" : \"Kmean_cluster\", \"Kmean_cluster\" : \"count\"}, inplace = True)\n",
    "cluster_count_df.sort_values(\"Kmean_cluster\", ignore_index=True, inplace = True)\n",
    "cluster_count_df"
   ]
  },
  {
   "cell_type": "code",
   "execution_count": null,
   "metadata": {},
   "outputs": [],
   "source": [
    "# Getting counts\n",
    "dataset1.groupby([\"Private\", \"Cluster\", \"Kmean_cluster\"], as_index = False).agg(\\\n",
    "            count=pd.NamedAgg(column=\"college_name\", aggfunc=\"count\"))"
   ]
  },
  {
   "cell_type": "markdown",
   "metadata": {},
   "source": [
    "## Feature selection for the model - 2 features elbow method"
   ]
  },
  {
   "cell_type": "code",
   "execution_count": 15,
   "metadata": {
    "_uuid": "1c76e4a81b32169d627aad33366c6089c17299f3",
    "jupyter": {
     "outputs_hidden": true
    }
   },
   "outputs": [
    {
     "data": {
      "text/plain": [
       "array([[ 721,   60],\n",
       "       [ 512,   56],\n",
       "       [ 336,   54],\n",
       "       ...,\n",
       "       [ 695,   49],\n",
       "       [1317,   99],\n",
       "       [ 691,   99]], dtype=int64)"
      ]
     },
     "execution_count": 15,
     "metadata": {},
     "output_type": "execute_result"
    }
   ],
   "source": [
    "X = dataset[['Enroll', 'Grad.Rate']].values\n",
    "X"
   ]
  },
  {
   "cell_type": "code",
   "execution_count": 16,
   "metadata": {
    "scrolled": false
   },
   "outputs": [
    {
     "data": {
      "text/plain": [
       "array([[-0.06382192, -0.31601871],\n",
       "       [-0.2887631 , -0.55029673],\n",
       "       [-0.47818726, -0.66743574],\n",
       "       ...,\n",
       "       [-0.09180503, -0.96028327],\n",
       "       [ 0.57763716,  1.96819201],\n",
       "       [-0.09611012,  1.96819201]])"
      ]
     },
     "execution_count": 16,
     "metadata": {},
     "output_type": "execute_result"
    }
   ],
   "source": [
    "X_scaler = StandardScaler().fit(X)\n",
    "X_scaled = X_scaler.transform(X)\n",
    "X_scaled"
   ]
  },
  {
   "cell_type": "code",
   "execution_count": 17,
   "metadata": {},
   "outputs": [
    {
     "name": "stderr",
     "output_type": "stream",
     "text": [
      "C:\\ProgramData\\Anaconda3\\lib\\site-packages\\sklearn\\cluster\\_kmeans.py:881: UserWarning: KMeans is known to have a memory leak on Windows with MKL, when there are less chunks than available threads. You can avoid it by setting the environment variable OMP_NUM_THREADS=4.\n",
      "  warnings.warn(\n"
     ]
    }
   ],
   "source": [
    "# Building the Model\n",
    "# KMeans Algorithm to decide the optimum cluster number , KMeans++ using Elbow Mmethod\n",
    "# to figure out K for KMeans, I will use ELBOW Method on KMEANS++ Calculation\n",
    "wcss = []\n",
    "\n",
    "# We always assume the max number of cluster would be 10\n",
    "# You can judge the number of clusters by doing averaging\n",
    "for i in range(1,11):\n",
    "    kmeans = KMeans(n_clusters= i, init='k-means++', random_state=0)\n",
    "    kmeans.fit(X_scaled)\n",
    "    wcss.append(kmeans.inertia_)\n",
    "\n",
    "    #inertia_ is the formula used to segregate the data points into clusters"
   ]
  },
  {
   "cell_type": "code",
   "execution_count": 18,
   "metadata": {},
   "outputs": [
    {
     "data": {
      "image/png": "[encoded data removed]",
      "text/plain": [
       "<Figure size 864x720 with 1 Axes>"
      ]
     },
     "metadata": {
      "needs_background": "light"
     },
     "output_type": "display_data"
    }
   ],
   "source": [
    "# Visualizing the ELBOW method to get the optimal value of K \n",
    "plt.figure(figsize=(12, 10))\n",
    "plt.plot(range(1,11), wcss)\n",
    "plt.title('The Elbow Method')\n",
    "plt.xlabel('no of clusters')\n",
    "plt.ylabel('wcss')\n",
    "plt.tight_layout()\n",
    "plt.savefig('elbow_two.png', facecolor='w')\n",
    "plt.show()"
   ]
  },
  {
   "cell_type": "code",
   "execution_count": 19,
   "metadata": {},
   "outputs": [],
   "source": [
    "# unsupervised learning\n",
    "kmeansmodel_unsup = KMeans(n_clusters= 5, random_state=0)\n",
    "y_kmeans_unsup= kmeansmodel_unsup.fit_predict(X_scaled)"
   ]
  },
  {
   "cell_type": "code",
   "execution_count": 20,
   "metadata": {},
   "outputs": [
    {
     "data": {
      "image/png": "[encoded data removed]",
      "text/plain": [
       "<Figure size 864x720 with 1 Axes>"
      ]
     },
     "metadata": {
      "needs_background": "light"
     },
     "output_type": "display_data"
    }
   ],
   "source": [
    "#Visualizing all the clusters \n",
    "plt.figure(figsize=(12, 10))\n",
    "ax = plt.axes()\n",
    "ax.set_facecolor(\"white\")\n",
    "plt.scatter(kmeansmodel_unsup.cluster_centers_[:, 0], kmeansmodel_unsup.cluster_centers_[:, 1], s = 300, c = 'orange', zorder = 5, \\\n",
    "            label = 'Centroids', alpha = 1)\n",
    "plt.scatter(X_scaled[y_kmeans_unsup == 0, 0], X_scaled[y_kmeans_unsup == 0, 1] , c = 'red', label = 'Cluster 1', zorder = 0,\\\n",
    "            alpha = .5)\n",
    "plt.scatter(X_scaled[y_kmeans_unsup == 1, 0], X_scaled[y_kmeans_unsup == 1, 1], c = 'blue', label = 'Cluster 2', zorder = 1,\\\n",
    "           alpha = .5)\n",
    "plt.scatter(X_scaled[y_kmeans_unsup == 2, 0], X_scaled[y_kmeans_unsup == 2, 1], c = 'green', label = 'Cluster 3', zorder = 2,\\\n",
    "           alpha = .5)\n",
    "plt.scatter(X_scaled[y_kmeans_unsup == 3, 0], X_scaled[y_kmeans_unsup == 3, 1], c = 'indigo', label = 'Cluster 4', zorder = 3,\\\n",
    "       alpha = .5)\n",
    "plt.scatter(X_scaled[y_kmeans_unsup == 4, 0], X_scaled[y_kmeans_unsup == 4, 1], c = 'pink', label = 'Cluster 5', zorder = 4,\\\n",
    "       alpha = .5)\n",
    "\n",
    "plt.title('Clusters of colleges')\n",
    "plt.xlabel('Enroll')\n",
    "plt.ylabel('Grad.Rate')\n",
    "plt.legend()\n",
    "plt.tight_layout()\n",
    "plt.savefig('clusters_2f_4c.png', facecolor='w')\n",
    "plt.show()"
   ]
  },
  {
   "cell_type": "code",
   "execution_count": null,
   "metadata": {
    "scrolled": true
   },
   "outputs": [],
   "source": [
    "# Getting counts\n",
    "dataset2[\"Kmean_cluster\"] = y_kmeans_unsup\n",
    "dataset2.groupby([\"Private\", \"Cluster\", \"Kmean_cluster\"], as_index = False).agg(\\\n",
    "            count=pd.NamedAgg(column=\"college_name\", aggfunc=\"count\"))"
   ]
  },
  {
   "cell_type": "code",
   "execution_count": null,
   "metadata": {},
   "outputs": [],
   "source": [
    "cluster_count_df = dataset2[\"Kmean_cluster\"].value_counts().to_frame()\n",
    "cluster_count_df.reset_index(inplace= True)\n",
    "cluster_count_df.rename(columns = {\"index\" : \"Kmean_cluster\", \"Kmean_cluster\" : \"count\"}, inplace = True)\n",
    "cluster_count_df.sort_values(\"Kmean_cluster\", ignore_index=True, inplace = True)\n",
    "cluster_count_df"
   ]
  },
  {
   "cell_type": "markdown",
   "metadata": {},
   "source": [
    "# Modeling using all the variables and 2 clusters"
   ]
  },
  {
   "cell_type": "code",
   "execution_count": 21,
   "metadata": {},
   "outputs": [
    {
     "data": {
      "text/plain": [
       "array([[1.6600e+03, 1.2320e+03, 7.2100e+02, ..., 1.2000e+01, 7.0410e+03,\n",
       "        6.0000e+01],\n",
       "       [2.1860e+03, 1.9240e+03, 5.1200e+02, ..., 1.6000e+01, 1.0527e+04,\n",
       "        5.6000e+01],\n",
       "       [1.4280e+03, 1.0970e+03, 3.3600e+02, ..., 3.0000e+01, 8.7350e+03,\n",
       "        5.4000e+01],\n",
       "       ...,\n",
       "       [2.0970e+03, 1.9150e+03, 6.9500e+02, ..., 2.0000e+01, 8.3230e+03,\n",
       "        4.9000e+01],\n",
       "       [1.0705e+04, 2.4530e+03, 1.3170e+03, ..., 4.9000e+01, 4.0386e+04,\n",
       "        9.9000e+01],\n",
       "       [2.9890e+03, 1.8550e+03, 6.9100e+02, ..., 2.8000e+01, 4.5090e+03,\n",
       "        9.9000e+01]])"
      ]
     },
     "execution_count": 21,
     "metadata": {},
     "output_type": "execute_result"
    }
   ],
   "source": [
    "X = dataset.iloc[:, 2:19].values\n",
    "X"
   ]
  },
  {
   "cell_type": "code",
   "execution_count": 22,
   "metadata": {},
   "outputs": [
    {
     "data": {
      "text/plain": [
       "array([[-3.46387711e-01, -3.20323986e-01, -6.38219163e-02, ...,\n",
       "        -8.67328505e-01, -5.02117275e-01, -3.16018711e-01],\n",
       "       [-2.10473291e-01, -3.79427213e-02, -2.88763103e-01, ...,\n",
       "        -5.44524227e-01,  1.65533536e-01, -5.50296733e-01],\n",
       "       [-4.06334756e-01, -3.75412817e-01, -4.78187261e-01, ...,\n",
       "         5.85290747e-01, -1.77676519e-01, -6.67435744e-01],\n",
       "       ...,\n",
       "       [-2.33470218e-01, -4.16153100e-02, -9.18050305e-02, ...,\n",
       "        -2.21719949e-01, -2.56584188e-01, -9.60283272e-01],\n",
       "       [ 1.99077186e+00,  1.77923882e-01,  5.77637163e-01, ...,\n",
       "         2.11861107e+00,  5.88423278e+00,  1.96819201e+00],\n",
       "       [-2.98416623e-03, -6.60992347e-02, -9.61101250e-02, ...,\n",
       "         4.23888608e-01, -9.87054697e-01,  1.96819201e+00]])"
      ]
     },
     "execution_count": 22,
     "metadata": {},
     "output_type": "execute_result"
    }
   ],
   "source": [
    "X_scaler = StandardScaler().fit(X)\n",
    "X_scaled = X_scaler.transform(X)\n",
    "X_scaled"
   ]
  },
  {
   "cell_type": "code",
   "execution_count": 23,
   "metadata": {},
   "outputs": [],
   "source": [
    "# unsupervised learning\n",
    "kmeansmodel_unsup = KMeans(n_clusters= 2, random_state=31)\n",
    "y_kmeans_unsup= kmeansmodel_unsup.fit_predict(X_scaled)"
   ]
  },
  {
   "cell_type": "code",
   "execution_count": 24,
   "metadata": {},
   "outputs": [
    {
     "data": {
      "image/png": "[encoded data removed]",
      "text/plain": [
       "<Figure size 864x720 with 1 Axes>"
      ]
     },
     "metadata": {
      "needs_background": "light"
     },
     "output_type": "display_data"
    }
   ],
   "source": [
    "#Visualizing all the clusters \n",
    "plt.figure(figsize=(12, 10))\n",
    "ax = plt.axes()\n",
    "ax.set_facecolor(\"white\")\n",
    "plt.scatter(kmeansmodel_unsup.cluster_centers_[:, 0], kmeansmodel_unsup.cluster_centers_[:, 1], s = 300, c = 'orange', zorder = 4, \\\n",
    "            label = 'Centroids', alpha = 1)\n",
    "plt.scatter(X_scaled[y_kmeans_unsup == 0, 2], X_scaled[y_kmeans_unsup == 0, 16] , c = 'red', label = 'Cluster 1', zorder = 0,\\\n",
    "            alpha = .5)\n",
    "plt.scatter(X_scaled[y_kmeans_unsup == 1, 2], X_scaled[y_kmeans_unsup == 1, 16], c = 'blue', label = 'Cluster 2', zorder = 1,\\\n",
    "           alpha = .5)\n",
    "plt.title('Clusters of colleges')\n",
    "plt.xlabel('Enroll')\n",
    "plt.ylabel('Grad.Rate')\n",
    "plt.legend()\n",
    "plt.tight_layout()\n",
    "plt.savefig('clusters_all_2c.png', facecolor='w')\n",
    "plt.show()"
   ]
  },
  {
   "cell_type": "markdown",
   "metadata": {},
   "source": [
    "## Model Evaluation for all features with 2 clusters"
   ]
  },
  {
   "cell_type": "code",
   "execution_count": null,
   "metadata": {},
   "outputs": [],
   "source": [
    "# Getting counts\n",
    "dataset3[\"Kmean_cluster\"] = y_kmeans_unsup\n",
    "dataset3.groupby([\"Private\", \"Cluster\", \"Kmean_cluster\"], as_index = False).agg(\\\n",
    "            count=pd.NamedAgg(column=\"college_name\", aggfunc=\"count\"))"
   ]
  },
  {
   "cell_type": "code",
   "execution_count": null,
   "metadata": {},
   "outputs": [],
   "source": [
    "cluster_count_df = dataset3[\"Kmean_cluster\"].value_counts().to_frame()\n",
    "cluster_count_df.reset_index(inplace= True)\n",
    "cluster_count_df.rename(columns = {\"index\" : \"Kmean_cluster\", \"Kmean_cluster\" : \"count\"}, inplace = True)\n",
    "cluster_count_df.sort_values(\"Kmean_cluster\", ignore_index=True, inplace = True)\n",
    "cluster_count_df"
   ]
  },
  {
   "cell_type": "code",
   "execution_count": null,
   "metadata": {},
   "outputs": [],
   "source": [
    "print(confusion_matrix(dataset3['Cluster'], y_kmeans_unsup))"
   ]
  },
  {
   "cell_type": "code",
   "execution_count": null,
   "metadata": {},
   "outputs": [],
   "source": [
    "print(classification_report(dataset3['Cluster'], y_kmeans_unsup))"
   ]
  },
  {
   "cell_type": "markdown",
   "metadata": {},
   "source": [
    "## Feature selection for the model - 2 features 2 clusters"
   ]
  },
  {
   "cell_type": "code",
   "execution_count": 25,
   "metadata": {
    "_uuid": "1c76e4a81b32169d627aad33366c6089c17299f3",
    "jupyter": {
     "outputs_hidden": true
    }
   },
   "outputs": [
    {
     "data": {
      "text/plain": [
       "array([[ 721,   60],\n",
       "       [ 512,   56],\n",
       "       [ 336,   54],\n",
       "       ...,\n",
       "       [ 695,   49],\n",
       "       [1317,   99],\n",
       "       [ 691,   99]], dtype=int64)"
      ]
     },
     "execution_count": 25,
     "metadata": {},
     "output_type": "execute_result"
    }
   ],
   "source": [
    "X = dataset[['Enroll', 'Grad.Rate']].values\n",
    "X"
   ]
  },
  {
   "cell_type": "code",
   "execution_count": 26,
   "metadata": {},
   "outputs": [
    {
     "data": {
      "text/plain": [
       "array([[-0.06382192, -0.31601871],\n",
       "       [-0.2887631 , -0.55029673],\n",
       "       [-0.47818726, -0.66743574],\n",
       "       ...,\n",
       "       [-0.09180503, -0.96028327],\n",
       "       [ 0.57763716,  1.96819201],\n",
       "       [-0.09611012,  1.96819201]])"
      ]
     },
     "execution_count": 26,
     "metadata": {},
     "output_type": "execute_result"
    }
   ],
   "source": [
    "X_scaler = StandardScaler().fit(X)\n",
    "X_scaled = X_scaler.transform(X)\n",
    "X_scaled"
   ]
  },
  {
   "cell_type": "code",
   "execution_count": 27,
   "metadata": {},
   "outputs": [],
   "source": [
    "# unsupervised learning\n",
    "kmeansmodel_unsup = KMeans(n_clusters= 2, random_state=31)\n",
    "y_kmeans_unsup= kmeansmodel_unsup.fit_predict(X_scaled)"
   ]
  },
  {
   "cell_type": "code",
   "execution_count": 28,
   "metadata": {},
   "outputs": [
    {
     "data": {
      "image/png": "[encoded data removed]",
      "text/plain": [
       "<Figure size 864x720 with 1 Axes>"
      ]
     },
     "metadata": {
      "needs_background": "light"
     },
     "output_type": "display_data"
    }
   ],
   "source": [
    "#Visualizing all the clusters \n",
    "plt.figure(figsize=(12, 10))\n",
    "ax = plt.axes()\n",
    "ax.set_facecolor(\"white\")\n",
    "plt.scatter(kmeansmodel_unsup.cluster_centers_[:, 0], kmeansmodel_unsup.cluster_centers_[:, 1], s = 300, c = 'orange', zorder = 4, \\\n",
    "            label = 'Centroids', alpha = 1)\n",
    "plt.scatter(X_scaled[y_kmeans_unsup == 0, 0], X_scaled[y_kmeans_unsup == 0, 1] , c = 'red', label = 'Cluster 1', zorder = 0,\\\n",
    "            alpha = .5)\n",
    "plt.scatter(X_scaled[y_kmeans_unsup == 1, 0], X_scaled[y_kmeans_unsup == 1, 1], c = 'blue', label = 'Cluster 2', zorder = 1,\\\n",
    "           alpha = .5)\n",
    "plt.title('Clusters of colleges')\n",
    "plt.xlabel('Enroll')\n",
    "plt.ylabel('Grad.Rate')\n",
    "plt.legend()\n",
    "plt.tight_layout()\n",
    "plt.savefig('clusters_2f_2c.png', facecolor='w')\n",
    "plt.show()"
   ]
  },
  {
   "cell_type": "markdown",
   "metadata": {},
   "source": [
    "## Model Evaluation for 2 features with 2 clusters"
   ]
  },
  {
   "cell_type": "code",
   "execution_count": null,
   "metadata": {},
   "outputs": [],
   "source": [
    "# Getting counts\n",
    "dataset4[\"Kmean_cluster\"] = y_kmeans_unsup\n",
    "dataset4.groupby([\"Private\", \"Cluster\", \"Kmean_cluster\"], as_index = False).agg(\\\n",
    "            count=pd.NamedAgg(column=\"college_name\", aggfunc=\"count\"))"
   ]
  },
  {
   "cell_type": "code",
   "execution_count": null,
   "metadata": {},
   "outputs": [],
   "source": [
    "cluster_count_df = dataset4[\"Kmean_cluster\"].value_counts().to_frame()\n",
    "cluster_count_df.reset_index(inplace= True)\n",
    "cluster_count_df.rename(columns = {\"index\" : \"Kmean_cluster\", \"Kmean_cluster\" : \"count\"}, inplace = True)\n",
    "cluster_count_df.sort_values(\"Kmean_cluster\", ignore_index=True, inplace = True)\n",
    "cluster_count_df"
   ]
  },
  {
   "cell_type": "code",
   "execution_count": null,
   "metadata": {},
   "outputs": [],
   "source": [
    "print(confusion_matrix(dataset4['Cluster'], y_kmeans_unsup))"
   ]
  },
  {
   "cell_type": "code",
   "execution_count": null,
   "metadata": {
    "scrolled": true
   },
   "outputs": [],
   "source": [
    "print(classification_report(dataset4['Cluster'], y_kmeans_unsup))"
   ]
  },
  {
   "cell_type": "code",
   "execution_count": null,
   "metadata": {},
   "outputs": [],
   "source": [
    "import pandas_profiling as pp\n",
    "# Perform data profiling\n",
    "profile_report = pp.ProfileReport(dataset)\n",
    "profile_report.to_file('college_eda.html')\n",
    "profile_report"
   ]
  }
 ],
 "metadata": {
  "kernelspec": {
   "display_name": "Python 3",
   "language": "python",
   "name": "python3"
  },
  "language_info": {
   "codemirror_mode": {
    "name": "ipython",
    "version": 3
   },
   "file_extension": ".py",
   "mimetype": "text/x-python",
   "name": "python",
   "nbconvert_exporter": "python",
   "pygments_lexer": "ipython3",
   "version": "3.8.8"
  }
 },
 "nbformat": 4,
 "nbformat_minor": 4
}
