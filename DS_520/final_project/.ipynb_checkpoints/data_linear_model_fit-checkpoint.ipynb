{
 "cells": [
  {
   "cell_type": "code",
   "execution_count": 1,
   "metadata": {},
   "outputs": [],
   "source": [
    "# Dependencies and Setup\n",
    "import pandas as pd\n",
    "import scipy.stats as stats\n",
    "import statsmodels.api as sm\n",
    "import matplotlib.pyplot as plt\n",
    "import seaborn as sn\n",
    "import numpy as np"
   ]
  },
  {
   "cell_type": "markdown",
   "metadata": {},
   "source": [
    "# Function for forward select linear model"
   ]
  },
  {
   "cell_type": "code",
   "execution_count": 2,
   "metadata": {},
   "outputs": [],
   "source": [
    "import statsmodels.formula.api as smf\n",
    "\n",
    "def forward_selected(data, response):\n",
    "    \"\"\"Linear model designed by forward selection.\n",
    "\n",
    "    Parameters:\n",
    "    -----------\n",
    "    data : pandas DataFrame with all possible predictors and response\n",
    "\n",
    "    response: string, name of response column in data\n",
    "\n",
    "    Returns:\n",
    "    --------\n",
    "    model: an \"optimal\" fitted statsmodels linear model\n",
    "           with an intercept\n",
    "           selected by forward selection\n",
    "           evaluated by adjusted R-squared\n",
    "    \"\"\"\n",
    "    remaining = set(data.columns)\n",
    "    remaining.remove(response)\n",
    "    selected = []\n",
    "    current_score, best_new_score = 0.0, 0.0\n",
    "    while remaining and current_score == best_new_score:\n",
    "        scores_with_candidates = []\n",
    "        for candidate in remaining:\n",
    "            formula = \"{} ~ {}\".format(response,\n",
    "                                           ' + '.join(selected + [candidate]))\n",
    "            score = smf.ols(formula, data).fit().rsquared_adj\n",
    "            scores_with_candidates.append((score, candidate))\n",
    "        scores_with_candidates.sort()\n",
    "        best_new_score, best_candidate = scores_with_candidates.pop()\n",
    "        if current_score < best_new_score:\n",
    "            remaining.remove(best_candidate)\n",
    "            selected.append(best_candidate)\n",
    "            current_score = best_new_score\n",
    "    formula = \"{} ~ {}\".format(response,\n",
    "                                   ' + '.join(selected))\n",
    "    model = smf.ols(formula, data).fit()\n",
    "    return model"
   ]
  },
  {
   "cell_type": "code",
   "execution_count": 3,
   "metadata": {},
   "outputs": [
    {
     "data": {
      "text/html": [
       "<div>\n",
       "<style scoped>\n",
       "    .dataframe tbody tr th:only-of-type {\n",
       "        vertical-align: middle;\n",
       "    }\n",
       "\n",
       "    .dataframe tbody tr th {\n",
       "        vertical-align: top;\n",
       "    }\n",
       "\n",
       "    .dataframe thead th {\n",
       "        text-align: right;\n",
       "    }\n",
       "</style>\n",
       "<table border=\"1\" class=\"dataframe\">\n",
       "  <thead>\n",
       "    <tr style=\"text-align: right;\">\n",
       "      <th></th>\n",
       "      <th>name</th>\n",
       "      <th>morningstar_category</th>\n",
       "      <th>ytdDaily</th>\n",
       "      <th>yr1</th>\n",
       "      <th>yr3</th>\n",
       "      <th>yr5</th>\n",
       "      <th>yr10</th>\n",
       "      <th>life_of_fund</th>\n",
       "      <th>net_expense_ratio</th>\n",
       "      <th>gross_expense_ratio</th>\n",
       "      <th>morningstar_rating_overall</th>\n",
       "      <th>risk</th>\n",
       "      <th>std_dev</th>\n",
       "      <th>sharpe_ratio_3_yr</th>\n",
       "      <th>beta</th>\n",
       "      <th>r2</th>\n",
       "      <th>minimum_investment</th>\n",
       "      <th>last_dividend</th>\n",
       "    </tr>\n",
       "  </thead>\n",
       "  <tbody>\n",
       "    <tr>\n",
       "      <th>0</th>\n",
       "      <td>Baron Partners Fund Institutional Shares (BPTIX)</td>\n",
       "      <td>Large Growth</td>\n",
       "      <td>44.60</td>\n",
       "      <td>110.27</td>\n",
       "      <td>65.56</td>\n",
       "      <td>47.54</td>\n",
       "      <td>29.02</td>\n",
       "      <td>27.02</td>\n",
       "      <td>1.30</td>\n",
       "      <td>1.30</td>\n",
       "      <td>1137.0</td>\n",
       "      <td>6</td>\n",
       "      <td>40.41</td>\n",
       "      <td>1.60</td>\n",
       "      <td>1.51</td>\n",
       "      <td>0.63</td>\n",
       "      <td>1000000.0</td>\n",
       "      <td>0.2224</td>\n",
       "    </tr>\n",
       "    <tr>\n",
       "      <th>1</th>\n",
       "      <td>Baron Partners Fund Retail Shares (BPTRX)</td>\n",
       "      <td>Large Growth</td>\n",
       "      <td>44.28</td>\n",
       "      <td>109.72</td>\n",
       "      <td>65.13</td>\n",
       "      <td>47.15</td>\n",
       "      <td>28.68</td>\n",
       "      <td>20.45</td>\n",
       "      <td>1.56</td>\n",
       "      <td>1.56</td>\n",
       "      <td>1137.0</td>\n",
       "      <td>6</td>\n",
       "      <td>40.39</td>\n",
       "      <td>1.59</td>\n",
       "      <td>1.51</td>\n",
       "      <td>0.63</td>\n",
       "      <td>2500.0</td>\n",
       "      <td>0.1243</td>\n",
       "    </tr>\n",
       "    <tr>\n",
       "      <th>2</th>\n",
       "      <td>Morgan Stanley Institutional Fund, Inc. Incept...</td>\n",
       "      <td>Small Growth</td>\n",
       "      <td>20.05</td>\n",
       "      <td>81.15</td>\n",
       "      <td>55.11</td>\n",
       "      <td>38.37</td>\n",
       "      <td>22.37</td>\n",
       "      <td>14.14</td>\n",
       "      <td>1.00</td>\n",
       "      <td>1.19</td>\n",
       "      <td>574.0</td>\n",
       "      <td>7</td>\n",
       "      <td>40.44</td>\n",
       "      <td>1.34</td>\n",
       "      <td>1.40</td>\n",
       "      <td>0.71</td>\n",
       "      <td>5000000.0</td>\n",
       "      <td>0.0000</td>\n",
       "    </tr>\n",
       "    <tr>\n",
       "      <th>3</th>\n",
       "      <td>Morgan Stanley Institutional Fund, Inc. Incept...</td>\n",
       "      <td>Small Growth</td>\n",
       "      <td>19.75</td>\n",
       "      <td>80.67</td>\n",
       "      <td>54.70</td>\n",
       "      <td>37.98</td>\n",
       "      <td>22.01</td>\n",
       "      <td>13.83</td>\n",
       "      <td>1.35</td>\n",
       "      <td>1.45</td>\n",
       "      <td>574.0</td>\n",
       "      <td>7</td>\n",
       "      <td>40.48</td>\n",
       "      <td>1.32</td>\n",
       "      <td>1.40</td>\n",
       "      <td>0.71</td>\n",
       "      <td>2500.0</td>\n",
       "      <td>0.0000</td>\n",
       "    </tr>\n",
       "    <tr>\n",
       "      <th>4</th>\n",
       "      <td>Morgan Stanley Institutional Fund, Inc. Incept...</td>\n",
       "      <td>Small Growth</td>\n",
       "      <td>NaN</td>\n",
       "      <td>79.39</td>\n",
       "      <td>53.46</td>\n",
       "      <td>36.90</td>\n",
       "      <td>21.11</td>\n",
       "      <td>13.00</td>\n",
       "      <td>2.10</td>\n",
       "      <td>2.27</td>\n",
       "      <td>574.0</td>\n",
       "      <td>7</td>\n",
       "      <td>40.42</td>\n",
       "      <td>1.30</td>\n",
       "      <td>1.40</td>\n",
       "      <td>0.71</td>\n",
       "      <td>2500.0</td>\n",
       "      <td>NaN</td>\n",
       "    </tr>\n",
       "  </tbody>\n",
       "</table>\n",
       "</div>"
      ],
      "text/plain": [
       "                                                name morningstar_category  \\\n",
       "0   Baron Partners Fund Institutional Shares (BPTIX)         Large Growth   \n",
       "1          Baron Partners Fund Retail Shares (BPTRX)         Large Growth   \n",
       "2  Morgan Stanley Institutional Fund, Inc. Incept...         Small Growth   \n",
       "3  Morgan Stanley Institutional Fund, Inc. Incept...         Small Growth   \n",
       "4  Morgan Stanley Institutional Fund, Inc. Incept...         Small Growth   \n",
       "\n",
       "   ytdDaily     yr1    yr3    yr5   yr10  life_of_fund  net_expense_ratio  \\\n",
       "0     44.60  110.27  65.56  47.54  29.02         27.02               1.30   \n",
       "1     44.28  109.72  65.13  47.15  28.68         20.45               1.56   \n",
       "2     20.05   81.15  55.11  38.37  22.37         14.14               1.00   \n",
       "3     19.75   80.67  54.70  37.98  22.01         13.83               1.35   \n",
       "4       NaN   79.39  53.46  36.90  21.11         13.00               2.10   \n",
       "\n",
       "   gross_expense_ratio  morningstar_rating_overall  risk  std_dev  \\\n",
       "0                 1.30                      1137.0     6    40.41   \n",
       "1                 1.56                      1137.0     6    40.39   \n",
       "2                 1.19                       574.0     7    40.44   \n",
       "3                 1.45                       574.0     7    40.48   \n",
       "4                 2.27                       574.0     7    40.42   \n",
       "\n",
       "   sharpe_ratio_3_yr  beta    r2  minimum_investment  last_dividend  \n",
       "0               1.60  1.51  0.63           1000000.0         0.2224  \n",
       "1               1.59  1.51  0.63              2500.0         0.1243  \n",
       "2               1.34  1.40  0.71           5000000.0         0.0000  \n",
       "3               1.32  1.40  0.71              2500.0         0.0000  \n",
       "4               1.30  1.40  0.71              2500.0            NaN  "
      ]
     },
     "execution_count": 3,
     "metadata": {},
     "output_type": "execute_result"
    }
   ],
   "source": [
    "# Importing the csv\n",
    "df= pd.read_csv('fidelity_mutual_funds_return_w_risk.csv')\n",
    "df.head()"
   ]
  },
  {
   "cell_type": "code",
   "execution_count": 4,
   "metadata": {},
   "outputs": [
    {
     "data": {
      "text/plain": [
       "Index(['name', 'morningstar_category', 'ytdDaily', 'yr1', 'yr3', 'yr5', 'yr10',\n",
       "       'life_of_fund', 'net_expense_ratio', 'gross_expense_ratio',\n",
       "       'morningstar_rating_overall', 'risk', 'std_dev', 'sharpe_ratio_3_yr',\n",
       "       'beta', 'r2', 'minimum_investment', 'last_dividend'],\n",
       "      dtype='object')"
      ]
     },
     "execution_count": 4,
     "metadata": {},
     "output_type": "execute_result"
    }
   ],
   "source": [
    "df.columns"
   ]
  },
  {
   "cell_type": "markdown",
   "metadata": {},
   "source": [
    "# Feature selection"
   ]
  },
  {
   "cell_type": "code",
   "execution_count": 5,
   "metadata": {},
   "outputs": [
    {
     "data": {
      "text/html": [
       "<div>\n",
       "<style scoped>\n",
       "    .dataframe tbody tr th:only-of-type {\n",
       "        vertical-align: middle;\n",
       "    }\n",
       "\n",
       "    .dataframe tbody tr th {\n",
       "        vertical-align: top;\n",
       "    }\n",
       "\n",
       "    .dataframe thead th {\n",
       "        text-align: right;\n",
       "    }\n",
       "</style>\n",
       "<table border=\"1\" class=\"dataframe\">\n",
       "  <thead>\n",
       "    <tr style=\"text-align: right;\">\n",
       "      <th></th>\n",
       "      <th>ytdDaily</th>\n",
       "      <th>yr1</th>\n",
       "      <th>yr3</th>\n",
       "      <th>yr5</th>\n",
       "      <th>yr10</th>\n",
       "      <th>life_of_fund</th>\n",
       "      <th>net_expense_ratio</th>\n",
       "      <th>gross_expense_ratio</th>\n",
       "      <th>morningstar_rating_overall</th>\n",
       "      <th>risk</th>\n",
       "      <th>std_dev</th>\n",
       "      <th>sharpe_ratio_3_yr</th>\n",
       "      <th>beta</th>\n",
       "      <th>r2</th>\n",
       "      <th>minimum_investment</th>\n",
       "      <th>last_dividend</th>\n",
       "    </tr>\n",
       "  </thead>\n",
       "  <tbody>\n",
       "    <tr>\n",
       "      <th>0</th>\n",
       "      <td>44.60</td>\n",
       "      <td>110.27</td>\n",
       "      <td>65.56</td>\n",
       "      <td>47.54</td>\n",
       "      <td>29.02</td>\n",
       "      <td>27.02</td>\n",
       "      <td>1.30</td>\n",
       "      <td>1.30</td>\n",
       "      <td>1137.0</td>\n",
       "      <td>6</td>\n",
       "      <td>40.41</td>\n",
       "      <td>1.60</td>\n",
       "      <td>1.51</td>\n",
       "      <td>0.63</td>\n",
       "      <td>1000000.0</td>\n",
       "      <td>0.222400</td>\n",
       "    </tr>\n",
       "    <tr>\n",
       "      <th>1</th>\n",
       "      <td>44.28</td>\n",
       "      <td>109.72</td>\n",
       "      <td>65.13</td>\n",
       "      <td>47.15</td>\n",
       "      <td>28.68</td>\n",
       "      <td>20.45</td>\n",
       "      <td>1.56</td>\n",
       "      <td>1.56</td>\n",
       "      <td>1137.0</td>\n",
       "      <td>6</td>\n",
       "      <td>40.39</td>\n",
       "      <td>1.59</td>\n",
       "      <td>1.51</td>\n",
       "      <td>0.63</td>\n",
       "      <td>2500.0</td>\n",
       "      <td>0.124300</td>\n",
       "    </tr>\n",
       "    <tr>\n",
       "      <th>2</th>\n",
       "      <td>20.05</td>\n",
       "      <td>81.15</td>\n",
       "      <td>55.11</td>\n",
       "      <td>38.37</td>\n",
       "      <td>22.37</td>\n",
       "      <td>14.14</td>\n",
       "      <td>1.00</td>\n",
       "      <td>1.19</td>\n",
       "      <td>574.0</td>\n",
       "      <td>7</td>\n",
       "      <td>40.44</td>\n",
       "      <td>1.34</td>\n",
       "      <td>1.40</td>\n",
       "      <td>0.71</td>\n",
       "      <td>5000000.0</td>\n",
       "      <td>0.000000</td>\n",
       "    </tr>\n",
       "    <tr>\n",
       "      <th>3</th>\n",
       "      <td>19.75</td>\n",
       "      <td>80.67</td>\n",
       "      <td>54.70</td>\n",
       "      <td>37.98</td>\n",
       "      <td>22.01</td>\n",
       "      <td>13.83</td>\n",
       "      <td>1.35</td>\n",
       "      <td>1.45</td>\n",
       "      <td>574.0</td>\n",
       "      <td>7</td>\n",
       "      <td>40.48</td>\n",
       "      <td>1.32</td>\n",
       "      <td>1.40</td>\n",
       "      <td>0.71</td>\n",
       "      <td>2500.0</td>\n",
       "      <td>0.000000</td>\n",
       "    </tr>\n",
       "    <tr>\n",
       "      <th>5</th>\n",
       "      <td>29.85</td>\n",
       "      <td>78.53</td>\n",
       "      <td>51.07</td>\n",
       "      <td>37.87</td>\n",
       "      <td>21.75</td>\n",
       "      <td>21.12</td>\n",
       "      <td>1.07</td>\n",
       "      <td>1.07</td>\n",
       "      <td>550.0</td>\n",
       "      <td>6</td>\n",
       "      <td>33.96</td>\n",
       "      <td>1.47</td>\n",
       "      <td>1.16</td>\n",
       "      <td>0.62</td>\n",
       "      <td>1000000.0</td>\n",
       "      <td>0.002900</td>\n",
       "    </tr>\n",
       "    <tr>\n",
       "      <th>...</th>\n",
       "      <td>...</td>\n",
       "      <td>...</td>\n",
       "      <td>...</td>\n",
       "      <td>...</td>\n",
       "      <td>...</td>\n",
       "      <td>...</td>\n",
       "      <td>...</td>\n",
       "      <td>...</td>\n",
       "      <td>...</td>\n",
       "      <td>...</td>\n",
       "      <td>...</td>\n",
       "      <td>...</td>\n",
       "      <td>...</td>\n",
       "      <td>...</td>\n",
       "      <td>...</td>\n",
       "      <td>...</td>\n",
       "    </tr>\n",
       "    <tr>\n",
       "      <th>9190</th>\n",
       "      <td>50.49</td>\n",
       "      <td>112.78</td>\n",
       "      <td>-11.17</td>\n",
       "      <td>-9.38</td>\n",
       "      <td>-4.58</td>\n",
       "      <td>-1.65</td>\n",
       "      <td>1.35</td>\n",
       "      <td>1.87</td>\n",
       "      <td>72.0</td>\n",
       "      <td>8</td>\n",
       "      <td>48.41</td>\n",
       "      <td>-0.25</td>\n",
       "      <td>1.12</td>\n",
       "      <td>0.95</td>\n",
       "      <td>2500.0</td>\n",
       "      <td>0.112000</td>\n",
       "    </tr>\n",
       "    <tr>\n",
       "      <th>9192</th>\n",
       "      <td>37.18</td>\n",
       "      <td>106.34</td>\n",
       "      <td>-16.52</td>\n",
       "      <td>-14.67</td>\n",
       "      <td>-12.41</td>\n",
       "      <td>-3.39</td>\n",
       "      <td>1.42</td>\n",
       "      <td>1.42</td>\n",
       "      <td>72.0</td>\n",
       "      <td>8</td>\n",
       "      <td>56.46</td>\n",
       "      <td>-0.31</td>\n",
       "      <td>2.44</td>\n",
       "      <td>0.64</td>\n",
       "      <td>2500.0</td>\n",
       "      <td>1.837037</td>\n",
       "    </tr>\n",
       "    <tr>\n",
       "      <th>9193</th>\n",
       "      <td>36.87</td>\n",
       "      <td>105.81</td>\n",
       "      <td>-16.69</td>\n",
       "      <td>-14.87</td>\n",
       "      <td>-12.72</td>\n",
       "      <td>-3.74</td>\n",
       "      <td>1.68</td>\n",
       "      <td>1.68</td>\n",
       "      <td>72.0</td>\n",
       "      <td>8</td>\n",
       "      <td>56.42</td>\n",
       "      <td>-0.31</td>\n",
       "      <td>2.44</td>\n",
       "      <td>0.64</td>\n",
       "      <td>2500.0</td>\n",
       "      <td>1.837037</td>\n",
       "    </tr>\n",
       "    <tr>\n",
       "      <th>9194</th>\n",
       "      <td>36.89</td>\n",
       "      <td>105.82</td>\n",
       "      <td>-16.74</td>\n",
       "      <td>-14.88</td>\n",
       "      <td>-12.62</td>\n",
       "      <td>-3.63</td>\n",
       "      <td>1.68</td>\n",
       "      <td>1.68</td>\n",
       "      <td>72.0</td>\n",
       "      <td>8</td>\n",
       "      <td>56.44</td>\n",
       "      <td>-0.32</td>\n",
       "      <td>2.44</td>\n",
       "      <td>0.64</td>\n",
       "      <td>2500.0</td>\n",
       "      <td>1.837037</td>\n",
       "    </tr>\n",
       "    <tr>\n",
       "      <th>9195</th>\n",
       "      <td>36.04</td>\n",
       "      <td>104.30</td>\n",
       "      <td>-17.35</td>\n",
       "      <td>-15.51</td>\n",
       "      <td>-13.28</td>\n",
       "      <td>-4.34</td>\n",
       "      <td>2.43</td>\n",
       "      <td>2.43</td>\n",
       "      <td>72.0</td>\n",
       "      <td>8</td>\n",
       "      <td>56.40</td>\n",
       "      <td>-0.33</td>\n",
       "      <td>2.44</td>\n",
       "      <td>0.64</td>\n",
       "      <td>2500.0</td>\n",
       "      <td>1.837037</td>\n",
       "    </tr>\n",
       "  </tbody>\n",
       "</table>\n",
       "<p>6203 rows × 16 columns</p>\n",
       "</div>"
      ],
      "text/plain": [
       "      ytdDaily     yr1    yr3    yr5   yr10  life_of_fund  net_expense_ratio  \\\n",
       "0        44.60  110.27  65.56  47.54  29.02         27.02               1.30   \n",
       "1        44.28  109.72  65.13  47.15  28.68         20.45               1.56   \n",
       "2        20.05   81.15  55.11  38.37  22.37         14.14               1.00   \n",
       "3        19.75   80.67  54.70  37.98  22.01         13.83               1.35   \n",
       "5        29.85   78.53  51.07  37.87  21.75         21.12               1.07   \n",
       "...        ...     ...    ...    ...    ...           ...                ...   \n",
       "9190     50.49  112.78 -11.17  -9.38  -4.58         -1.65               1.35   \n",
       "9192     37.18  106.34 -16.52 -14.67 -12.41         -3.39               1.42   \n",
       "9193     36.87  105.81 -16.69 -14.87 -12.72         -3.74               1.68   \n",
       "9194     36.89  105.82 -16.74 -14.88 -12.62         -3.63               1.68   \n",
       "9195     36.04  104.30 -17.35 -15.51 -13.28         -4.34               2.43   \n",
       "\n",
       "      gross_expense_ratio  morningstar_rating_overall  risk  std_dev  \\\n",
       "0                    1.30                      1137.0     6    40.41   \n",
       "1                    1.56                      1137.0     6    40.39   \n",
       "2                    1.19                       574.0     7    40.44   \n",
       "3                    1.45                       574.0     7    40.48   \n",
       "5                    1.07                       550.0     6    33.96   \n",
       "...                   ...                         ...   ...      ...   \n",
       "9190                 1.87                        72.0     8    48.41   \n",
       "9192                 1.42                        72.0     8    56.46   \n",
       "9193                 1.68                        72.0     8    56.42   \n",
       "9194                 1.68                        72.0     8    56.44   \n",
       "9195                 2.43                        72.0     8    56.40   \n",
       "\n",
       "      sharpe_ratio_3_yr  beta    r2  minimum_investment  last_dividend  \n",
       "0                  1.60  1.51  0.63           1000000.0       0.222400  \n",
       "1                  1.59  1.51  0.63              2500.0       0.124300  \n",
       "2                  1.34  1.40  0.71           5000000.0       0.000000  \n",
       "3                  1.32  1.40  0.71              2500.0       0.000000  \n",
       "5                  1.47  1.16  0.62           1000000.0       0.002900  \n",
       "...                 ...   ...   ...                 ...            ...  \n",
       "9190              -0.25  1.12  0.95              2500.0       0.112000  \n",
       "9192              -0.31  2.44  0.64              2500.0       1.837037  \n",
       "9193              -0.31  2.44  0.64              2500.0       1.837037  \n",
       "9194              -0.32  2.44  0.64              2500.0       1.837037  \n",
       "9195              -0.33  2.44  0.64              2500.0       1.837037  \n",
       "\n",
       "[6203 rows x 16 columns]"
      ]
     },
     "execution_count": 5,
     "metadata": {},
     "output_type": "execute_result"
    }
   ],
   "source": [
    "# Extracting all the numeric columns\n",
    "df_num = df[['ytdDaily', 'yr1', 'yr3', 'yr5', 'yr10',\n",
    "       'life_of_fund', 'net_expense_ratio', 'gross_expense_ratio',\n",
    "       'morningstar_rating_overall', 'risk', 'std_dev', 'sharpe_ratio_3_yr',\n",
    "       'beta', 'r2', 'minimum_investment', 'last_dividend']].dropna()\n",
    "df_num"
   ]
  },
  {
   "cell_type": "markdown",
   "metadata": {},
   "source": [
    "# Linear regression model"
   ]
  },
  {
   "cell_type": "code",
   "execution_count": 6,
   "metadata": {},
   "outputs": [
    {
     "name": "stdout",
     "output_type": "stream",
     "text": [
      "Selected features for the model:\n",
      "yr10 ~ yr5 + yr3 + life_of_fund + ytdDaily + yr1 + r2 + gross_expense_ratio + morningstar_rating_overall + risk + sharpe_ratio_3_yr + std_dev + net_expense_ratio + minimum_investment\n",
      "----------------------------------\n",
      "Adjusted R squared for the model:\n",
      "0.9444266011578509\n"
     ]
    }
   ],
   "source": [
    "model = forward_selected(df_num.dropna(), 'yr10')\n",
    "print(\"Selected features for the model:\")\n",
    "print(model.model.formula)\n",
    "print(\"----------------------------------\")\n",
    "print(\"Adjusted R squared for the model:\")\n",
    "print(model.rsquared_adj)"
   ]
  },
  {
   "cell_type": "code",
   "execution_count": 7,
   "metadata": {},
   "outputs": [
    {
     "name": "stdout",
     "output_type": "stream",
     "text": [
      "                            OLS Regression Results                            \n",
      "==============================================================================\n",
      "Dep. Variable:                   yr10   R-squared:                       0.945\n",
      "Model:                            OLS   Adj. R-squared:                  0.944\n",
      "Method:                 Least Squares   F-statistic:                     8109.\n",
      "Date:                Thu, 11 Nov 2021   Prob (F-statistic):               0.00\n",
      "Time:                        16:48:21   Log-Likelihood:                -10247.\n",
      "No. Observations:                6203   AIC:                         2.052e+04\n",
      "Df Residuals:                    6189   BIC:                         2.062e+04\n",
      "Df Model:                          13                                         \n",
      "Covariance Type:            nonrobust                                         \n",
      "==============================================================================================\n",
      "                                 coef    std err          t      P>|t|      [0.025      0.975]\n",
      "----------------------------------------------------------------------------------------------\n",
      "Intercept                      0.7433      0.105      7.070      0.000       0.537       0.949\n",
      "yr5                            0.9030      0.011     83.411      0.000       0.882       0.924\n",
      "yr3                           -0.2693      0.010    -27.497      0.000      -0.288      -0.250\n",
      "life_of_fund                   0.2965      0.008     36.702      0.000       0.281       0.312\n",
      "ytdDaily                       0.0836      0.005     15.369      0.000       0.073       0.094\n",
      "yr1                           -0.0261      0.004     -6.132      0.000      -0.035      -0.018\n",
      "r2                             0.7745      0.069     11.274      0.000       0.640       0.909\n",
      "gross_expense_ratio           -0.2662      0.033     -8.118      0.000      -0.330      -0.202\n",
      "morningstar_rating_overall     0.0003   5.25e-05      4.770      0.000       0.000       0.000\n",
      "risk                          -0.0632      0.020     -3.179      0.001      -0.102      -0.024\n",
      "sharpe_ratio_3_yr             -0.5183      0.079     -6.576      0.000      -0.673      -0.364\n",
      "std_dev                       -0.0300      0.006     -4.701      0.000      -0.043      -0.017\n",
      "net_expense_ratio              0.1494      0.048      3.093      0.002       0.055       0.244\n",
      "minimum_investment         -3.352e-08   2.01e-08     -1.665      0.096    -7.3e-08    5.95e-09\n",
      "==============================================================================\n",
      "Omnibus:                     1135.566   Durbin-Watson:                   1.841\n",
      "Prob(Omnibus):                  0.000   Jarque-Bera (JB):             8786.598\n",
      "Skew:                          -0.662   Prob(JB):                         0.00\n",
      "Kurtosis:                       8.678   Cond. No.                     6.40e+06\n",
      "==============================================================================\n",
      "\n",
      "Notes:\n",
      "[1] Standard Errors assume that the covariance matrix of the errors is correctly specified.\n",
      "[2] The condition number is large, 6.4e+06. This might indicate that there are\n",
      "strong multicollinearity or other numerical problems.\n"
     ]
    }
   ],
   "source": [
    "print(model.summary())"
   ]
  },
  {
   "cell_type": "markdown",
   "metadata": {},
   "source": [
    "# Correlation between the response and explanatory variables"
   ]
  },
  {
   "cell_type": "code",
   "execution_count": 8,
   "metadata": {},
   "outputs": [
    {
     "name": "stdout",
     "output_type": "stream",
     "text": [
      "Correlation between yr10 and gross_expense_ratio is -0.043466501612530156\n",
      "Correlation between yr10 and life_of_fund is 0.8252743569158877\n",
      "Correlation between yr10 and minimum_investment is 0.03846300222625589\n",
      "Correlation between yr10 and morningstar_rating_overall is 0.5347603693302172\n",
      "Correlation between yr10 and net_expense_ratio is 0.0037295280795975154\n",
      "Correlation between yr10 and r2 is 0.3601893515895218\n",
      "Correlation between yr10 and risk is 0.5510176060654153\n",
      "Correlation between yr10 and sharpe_ratio_3_yr is 0.42204222818958054\n",
      "Correlation between yr10 and std_dev is 0.5833578563997679\n",
      "Correlation between yr10 and yr1 is 0.6612711971272358\n",
      "Correlation between yr10 and yr3 is 0.8749152051615144\n",
      "Correlation between yr10 and yr5 is 0.9461939495764184\n",
      "Correlation between yr10 and ytdDaily is 0.6567130333247719\n"
     ]
    }
   ],
   "source": [
    "for col in df_num.columns.difference(['yr10', 'last_dividend', 'beta']):\n",
    "    print(f\"Correlation between yr10 and {col} is {stats.pearsonr(df_num['yr10'].values,df_num[col].values)[0]}\")"
   ]
  },
  {
   "cell_type": "markdown",
   "metadata": {},
   "source": [
    "# Actual vs predicted plot"
   ]
  },
  {
   "cell_type": "code",
   "execution_count": 9,
   "metadata": {},
   "outputs": [],
   "source": [
    "X = df_num[df_num.columns.difference(['yr10', 'last_dividend', 'beta'])].dropna()\n",
    "y = df_num['yr10'].dropna().values\n",
    "predictions = model.predict(X).values\n",
    "r2 = model.rsquared_adj"
   ]
  },
  {
   "cell_type": "code",
   "execution_count": 10,
   "metadata": {},
   "outputs": [
    {
     "name": "stdout",
     "output_type": "stream",
     "text": [
      "Correlation between actual and predicted is 0.9718760664044803\n"
     ]
    }
   ],
   "source": [
    "correlation, p_value = stats.pearsonr(y,predictions)\n",
    "print(f\"Correlation between actual and predicted is {correlation}\")"
   ]
  },
  {
   "cell_type": "code",
   "execution_count": 11,
   "metadata": {},
   "outputs": [
    {
     "data": {
      "text/plain": [
       "Text(0.5, 1.0, 'Actual vs Predicted plot')"
      ]
     },
     "execution_count": 11,
     "metadata": {},
     "output_type": "execute_result"
    },
    {
     "data": {
      "image/png": "[encoded data removed]",
      "text/plain": [
       "<Figure size 576x576 with 1 Axes>"
      ]
     },
     "metadata": {
      "needs_background": "light"
     },
     "output_type": "display_data"
    }
   ],
   "source": [
    "plt.figure(figsize=(8,8))\n",
    "plt.plot(y, predictions, 'o', color='blue', markersize=2)\n",
    "plt.xlabel(\"Actual values\")\n",
    "plt.ylabel(\"Predicted values\")\n",
    "plt.title('Actual vs Predicted plot')"
   ]
  },
  {
   "cell_type": "markdown",
   "metadata": {},
   "source": [
    "#### Our model's predictions are pretty close to actual values. Also our R-squared value is 94.5% which is pretty high."
   ]
  },
  {
   "cell_type": "markdown",
   "metadata": {},
   "source": [
    "## Model score"
   ]
  },
  {
   "cell_type": "code",
   "execution_count": 12,
   "metadata": {},
   "outputs": [
    {
     "name": "stdout",
     "output_type": "stream",
     "text": [
      "Training Data Score: 0.9445430884498451\n"
     ]
    }
   ],
   "source": [
    "from sklearn.linear_model import LinearRegression\n",
    "lin_reg_model = LinearRegression()\n",
    "\n",
    "lin_reg_model.fit(X, y)\n",
    "print(f\"Training Data Score: {lin_reg_model.score(X, y)}\")"
   ]
  },
  {
   "cell_type": "markdown",
   "metadata": {},
   "source": [
    "# Model plot with one explanatory variable with the highest correlation"
   ]
  },
  {
   "cell_type": "code",
   "execution_count": 13,
   "metadata": {},
   "outputs": [
    {
     "data": {
      "image/png": "[encoded data removed]",
      "text/plain": [
       "<Figure size 864x576 with 4 Axes>"
      ]
     },
     "metadata": {
      "needs_background": "light"
     },
     "output_type": "display_data"
    }
   ],
   "source": [
    "#define figure size\n",
    "fig = plt.figure(figsize=(12,8))\n",
    "\n",
    "#produce regression plots\n",
    "fig = sm.graphics.plot_regress_exog(model, 'yr5', fig=fig)"
   ]
  },
  {
   "cell_type": "markdown",
   "metadata": {},
   "source": [
    "## Residual plot"
   ]
  },
  {
   "cell_type": "code",
   "execution_count": 14,
   "metadata": {},
   "outputs": [
    {
     "data": {
      "text/plain": [
       "array([-4.01766782, -2.1700478 ,  0.06551326, ..., -2.0163843 ,\n",
       "       -1.95942283, -1.89180646])"
      ]
     },
     "execution_count": 14,
     "metadata": {},
     "output_type": "execute_result"
    }
   ],
   "source": [
    "# Getting residual values\n",
    "residuals = y - predictions\n",
    "residuals"
   ]
  },
  {
   "cell_type": "code",
   "execution_count": 15,
   "metadata": {
    "scrolled": true
   },
   "outputs": [
    {
     "data": {
      "text/plain": [
       "Text(0.5, 1.0, 'Residual plot')"
      ]
     },
     "execution_count": 15,
     "metadata": {},
     "output_type": "execute_result"
    },
    {
     "data": {
      "image/png": "[encoded data removed]",
      "text/plain": [
       "<Figure size 432x288 with 1 Axes>"
      ]
     },
     "metadata": {
      "needs_background": "light"
     },
     "output_type": "display_data"
    }
   ],
   "source": [
    "plt.scatter(predictions, residuals)\n",
    "plt.axhline(y = 0, color = 'r', linestyle = '-')\n",
    "plt.xlabel(\"Fitted values\")\n",
    "plt.title('Residual plot')"
   ]
  },
  {
   "cell_type": "markdown",
   "metadata": {},
   "source": [
    "#### From the above plot we observe that the residual against yr10 is slightly curved as most of the data points are below horizontal line. This indicates that a non-linear relation might have given us a better model for this dataset."
   ]
  },
  {
   "cell_type": "markdown",
   "metadata": {},
   "source": [
    "## Normal Q-Q Plot"
   ]
  },
  {
   "cell_type": "code",
   "execution_count": 16,
   "metadata": {},
   "outputs": [
    {
     "data": {
      "text/plain": [
       "Text(0.5, 1.0, 'Normal Q-Q Plot')"
      ]
     },
     "execution_count": 16,
     "metadata": {},
     "output_type": "execute_result"
    },
    {
     "data": {
      "image/png": "[encoded data removed]",
      "text/plain": [
       "<Figure size 504x504 with 1 Axes>"
      ]
     },
     "metadata": {
      "needs_background": "light"
     },
     "output_type": "display_data"
    }
   ],
   "source": [
    "# Plotting residual values on a normall Q-Q plot\n",
    "plt.figure(figsize=(7,7))\n",
    "stats.probplot(residuals, dist=\"norm\", plot=plt)\n",
    "plt.title(\"Normal Q-Q Plot\")"
   ]
  },
  {
   "cell_type": "markdown",
   "metadata": {},
   "source": [
    "#### From the above plot, we can say that the distribution of residuals is pretty normal."
   ]
  },
  {
   "cell_type": "markdown",
   "metadata": {},
   "source": [
    "# Anova of OLS (Ordinary least squared) model"
   ]
  },
  {
   "cell_type": "code",
   "execution_count": 17,
   "metadata": {},
   "outputs": [
    {
     "data": {
      "text/html": [
       "<div>\n",
       "<style scoped>\n",
       "    .dataframe tbody tr th:only-of-type {\n",
       "        vertical-align: middle;\n",
       "    }\n",
       "\n",
       "    .dataframe tbody tr th {\n",
       "        vertical-align: top;\n",
       "    }\n",
       "\n",
       "    .dataframe thead th {\n",
       "        text-align: right;\n",
       "    }\n",
       "</style>\n",
       "<table border=\"1\" class=\"dataframe\">\n",
       "  <thead>\n",
       "    <tr style=\"text-align: right;\">\n",
       "      <th></th>\n",
       "      <th>df</th>\n",
       "      <th>sum_sq</th>\n",
       "      <th>mean_sq</th>\n",
       "      <th>F</th>\n",
       "      <th>PR(&gt;F)</th>\n",
       "    </tr>\n",
       "  </thead>\n",
       "  <tbody>\n",
       "    <tr>\n",
       "      <th>yr5</th>\n",
       "      <td>1.0</td>\n",
       "      <td>159572.166398</td>\n",
       "      <td>159572.166398</td>\n",
       "      <td>99913.721691</td>\n",
       "      <td>0.000000e+00</td>\n",
       "    </tr>\n",
       "    <tr>\n",
       "      <th>yr3</th>\n",
       "      <td>1.0</td>\n",
       "      <td>4072.959165</td>\n",
       "      <td>4072.959165</td>\n",
       "      <td>2550.222371</td>\n",
       "      <td>0.000000e+00</td>\n",
       "    </tr>\n",
       "    <tr>\n",
       "      <th>life_of_fund</th>\n",
       "      <td>1.0</td>\n",
       "      <td>3199.929739</td>\n",
       "      <td>3199.929739</td>\n",
       "      <td>2003.588073</td>\n",
       "      <td>0.000000e+00</td>\n",
       "    </tr>\n",
       "    <tr>\n",
       "      <th>ytdDaily</th>\n",
       "      <td>1.0</td>\n",
       "      <td>669.963411</td>\n",
       "      <td>669.963411</td>\n",
       "      <td>419.487554</td>\n",
       "      <td>2.934155e-90</td>\n",
       "    </tr>\n",
       "    <tr>\n",
       "      <th>yr1</th>\n",
       "      <td>1.0</td>\n",
       "      <td>365.704202</td>\n",
       "      <td>365.704202</td>\n",
       "      <td>228.980208</td>\n",
       "      <td>8.004859e-51</td>\n",
       "    </tr>\n",
       "    <tr>\n",
       "      <th>r2</th>\n",
       "      <td>1.0</td>\n",
       "      <td>188.684904</td>\n",
       "      <td>188.684904</td>\n",
       "      <td>118.142226</td>\n",
       "      <td>2.842844e-27</td>\n",
       "    </tr>\n",
       "    <tr>\n",
       "      <th>gross_expense_ratio</th>\n",
       "      <td>1.0</td>\n",
       "      <td>111.082308</td>\n",
       "      <td>111.082308</td>\n",
       "      <td>69.552523</td>\n",
       "      <td>9.083572e-17</td>\n",
       "    </tr>\n",
       "    <tr>\n",
       "      <th>morningstar_rating_overall</th>\n",
       "      <td>1.0</td>\n",
       "      <td>38.323975</td>\n",
       "      <td>38.323975</td>\n",
       "      <td>23.995983</td>\n",
       "      <td>9.899106e-07</td>\n",
       "    </tr>\n",
       "    <tr>\n",
       "      <th>risk</th>\n",
       "      <td>1.0</td>\n",
       "      <td>27.740343</td>\n",
       "      <td>27.740343</td>\n",
       "      <td>17.369200</td>\n",
       "      <td>3.119681e-05</td>\n",
       "    </tr>\n",
       "    <tr>\n",
       "      <th>sharpe_ratio_3_yr</th>\n",
       "      <td>1.0</td>\n",
       "      <td>50.175736</td>\n",
       "      <td>50.175736</td>\n",
       "      <td>31.416786</td>\n",
       "      <td>2.171539e-08</td>\n",
       "    </tr>\n",
       "    <tr>\n",
       "      <th>std_dev</th>\n",
       "      <td>1.0</td>\n",
       "      <td>32.363664</td>\n",
       "      <td>32.363664</td>\n",
       "      <td>20.264023</td>\n",
       "      <td>6.869318e-06</td>\n",
       "    </tr>\n",
       "    <tr>\n",
       "      <th>net_expense_ratio</th>\n",
       "      <td>1.0</td>\n",
       "      <td>18.596081</td>\n",
       "      <td>18.596081</td>\n",
       "      <td>11.643657</td>\n",
       "      <td>6.483453e-04</td>\n",
       "    </tr>\n",
       "    <tr>\n",
       "      <th>minimum_investment</th>\n",
       "      <td>1.0</td>\n",
       "      <td>4.427257</td>\n",
       "      <td>4.427257</td>\n",
       "      <td>2.772061</td>\n",
       "      <td>9.597322e-02</td>\n",
       "    </tr>\n",
       "    <tr>\n",
       "      <th>Residual</th>\n",
       "      <td>6189.0</td>\n",
       "      <td>9884.449514</td>\n",
       "      <td>1.597100</td>\n",
       "      <td>NaN</td>\n",
       "      <td>NaN</td>\n",
       "    </tr>\n",
       "  </tbody>\n",
       "</table>\n",
       "</div>"
      ],
      "text/plain": [
       "                                df         sum_sq        mean_sq  \\\n",
       "yr5                            1.0  159572.166398  159572.166398   \n",
       "yr3                            1.0    4072.959165    4072.959165   \n",
       "life_of_fund                   1.0    3199.929739    3199.929739   \n",
       "ytdDaily                       1.0     669.963411     669.963411   \n",
       "yr1                            1.0     365.704202     365.704202   \n",
       "r2                             1.0     188.684904     188.684904   \n",
       "gross_expense_ratio            1.0     111.082308     111.082308   \n",
       "morningstar_rating_overall     1.0      38.323975      38.323975   \n",
       "risk                           1.0      27.740343      27.740343   \n",
       "sharpe_ratio_3_yr              1.0      50.175736      50.175736   \n",
       "std_dev                        1.0      32.363664      32.363664   \n",
       "net_expense_ratio              1.0      18.596081      18.596081   \n",
       "minimum_investment             1.0       4.427257       4.427257   \n",
       "Residual                    6189.0    9884.449514       1.597100   \n",
       "\n",
       "                                       F        PR(>F)  \n",
       "yr5                         99913.721691  0.000000e+00  \n",
       "yr3                          2550.222371  0.000000e+00  \n",
       "life_of_fund                 2003.588073  0.000000e+00  \n",
       "ytdDaily                      419.487554  2.934155e-90  \n",
       "yr1                           228.980208  8.004859e-51  \n",
       "r2                            118.142226  2.842844e-27  \n",
       "gross_expense_ratio            69.552523  9.083572e-17  \n",
       "morningstar_rating_overall     23.995983  9.899106e-07  \n",
       "risk                           17.369200  3.119681e-05  \n",
       "sharpe_ratio_3_yr              31.416786  2.171539e-08  \n",
       "std_dev                        20.264023  6.869318e-06  \n",
       "net_expense_ratio              11.643657  6.483453e-04  \n",
       "minimum_investment              2.772061  9.597322e-02  \n",
       "Residual                             NaN           NaN  "
      ]
     },
     "execution_count": 17,
     "metadata": {},
     "output_type": "execute_result"
    }
   ],
   "source": [
    "anova_table = sm.stats.anova_lm(model)\n",
    "anova_table"
   ]
  },
  {
   "cell_type": "markdown",
   "metadata": {},
   "source": [
    "#### F critical value"
   ]
  },
  {
   "cell_type": "code",
   "execution_count": 18,
   "metadata": {
    "scrolled": true
   },
   "outputs": [
    {
     "data": {
      "text/plain": [
       "1.7217356615435946"
      ]
     },
     "execution_count": 18,
     "metadata": {},
     "output_type": "execute_result"
    }
   ],
   "source": [
    "# At 5% level of significance \n",
    "stats.f.ppf(q=1-.05, dfn=13, dfd=6189)"
   ]
  },
  {
   "cell_type": "markdown",
   "metadata": {},
   "source": [
    "#### So, from the anova table above, we can conclude that all the explanatory variables have significant variation as their F statistical values are larger than F critical value and they are all statistically significant."
   ]
  },
  {
   "cell_type": "markdown",
   "metadata": {},
   "source": [
    "# Anova for different years' rates"
   ]
  },
  {
   "cell_type": "code",
   "execution_count": 19,
   "metadata": {
    "scrolled": true
   },
   "outputs": [
    {
     "data": {
      "text/plain": [
       "F_onewayResult(statistic=2917.3689315577753, pvalue=0.0)"
      ]
     },
     "execution_count": 19,
     "metadata": {},
     "output_type": "execute_result"
    }
   ],
   "source": [
    "stats.f_oneway(df_num['yr1'], df_num['yr3'], df_num['yr5'], df_num['yr10'])"
   ]
  },
  {
   "cell_type": "markdown",
   "metadata": {},
   "source": [
    "#### As the p-value is close to 0, we can say that the mean returns of each years are different"
   ]
  }
 ],
 "metadata": {
  "kernelspec": {
   "display_name": "Python 3",
   "language": "python",
   "name": "python3"
  },
  "language_info": {
   "codemirror_mode": {
    "name": "ipython",
    "version": 3
   },
   "file_extension": ".py",
   "mimetype": "text/x-python",
   "name": "python",
   "nbconvert_exporter": "python",
   "pygments_lexer": "ipython3",
   "version": "3.8.8"
  }
 },
 "nbformat": 4,
 "nbformat_minor": 4
}
