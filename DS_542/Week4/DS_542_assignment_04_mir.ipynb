{
 "cells": [
  {
   "cell_type": "markdown",
   "metadata": {},
   "source": [
    "# 1. What is the difference between ‘is’ operator and ‘==’ operator? Explain with an example."
   ]
  },
  {
   "cell_type": "markdown",
   "metadata": {},
   "source": [
    "'is' and equals(==) operators are mostly same but they are not same. 'is' operator defines if both the variables point to the same object whereas the == sign checks if the values for the two variables are the same."
   ]
  },
  {
   "cell_type": "code",
   "execution_count": 1,
   "metadata": {},
   "outputs": [
    {
     "name": "stdout",
     "output_type": "stream",
     "text": [
      "True\n",
      "False\n",
      "True\n"
     ]
    }
   ],
   "source": [
    "list1 = [] \n",
    "list2 = [] \n",
    "list3=list1 \n",
    "  \n",
    "if (list1 == list2): \n",
    "    print(\"True\") \n",
    "else: \n",
    "    print(\"False\")\n",
    "if (list1 is list2): \n",
    "    print(\"True\") \n",
    "else: \n",
    "    print(\"False\") \n",
    "if (list1 is list3): \n",
    "    print(\"True\") \n",
    "else:     \n",
    "    print(\"False\")"
   ]
  },
  {
   "cell_type": "markdown",
   "metadata": {},
   "source": [
    "# 2. Convert the below binary numbers into decimal.\n",
    "## a) 10100011\n",
    "## b) 101101\n",
    "## c) 110100101010"
   ]
  },
  {
   "cell_type": "code",
   "execution_count": 2,
   "metadata": {},
   "outputs": [
    {
     "name": "stdout",
     "output_type": "stream",
     "text": [
      "163\n",
      "45\n",
      "3370\n"
     ]
    }
   ],
   "source": [
    "# using built-in int() function\n",
    "print(int('10100011',2))\n",
    "print(int('101101',2))\n",
    "print(int('110100101010',2))"
   ]
  },
  {
   "cell_type": "markdown",
   "metadata": {},
   "source": [
    "### Manually converting to decimal"
   ]
  },
  {
   "cell_type": "code",
   "execution_count": 3,
   "metadata": {},
   "outputs": [
    {
     "name": "stdout",
     "output_type": "stream",
     "text": [
      "163\n"
     ]
    }
   ],
   "source": [
    "bin_num = '10100011'\n",
    "position = len(bin_num) - 1\n",
    "int_num = 0\n",
    "for i in bin_num:\n",
    "    int_num  += int(i) * (2 ** position)\n",
    "    position -= 1\n",
    "print(int_num)"
   ]
  },
  {
   "cell_type": "markdown",
   "metadata": {},
   "source": [
    "|Decimal Position|\t7|\t6|\t5|\t4|\t3|\t2|\t1|\t0|\n",
    "|---|\t---|\t---|\t---| ---|\t---|\t---|\t---|\t---|\n",
    "|Binary number|\t1|\t0|\t1|\t0|\t0|\t0|\t1|\t1|\n",
    "|Decimal equivalent number to each position|\t128|\t0|\t32|\t0|\t0|\t0|\t2|\t1|\n",
    "|Total|\t163|"
   ]
  },
  {
   "cell_type": "code",
   "execution_count": 4,
   "metadata": {},
   "outputs": [
    {
     "name": "stdout",
     "output_type": "stream",
     "text": [
      "45\n"
     ]
    }
   ],
   "source": [
    "bin_num = '101101'\n",
    "position = len(bin_num) - 1\n",
    "int_num = 0\n",
    "for i in bin_num:\n",
    "    int_num  += int(i) * (2 ** position)\n",
    "    position -= 1\n",
    "print(int_num)"
   ]
  },
  {
   "cell_type": "markdown",
   "metadata": {},
   "source": [
    "|Decimal Position|\t5|\t4|\t3|\t2|\t1|\t0|\n",
    "|---|\t---| ---|\t---|\t---|\t---|\t---|\n",
    "|Binary number|\t1|\t0|\t1|\t1|\t0|\t1|\n",
    "|Decimal equivalent number to each position|32|\t0|\t8|\t4|\t0|\t1|\n",
    "|Total|\t45|"
   ]
  },
  {
   "cell_type": "code",
   "execution_count": 5,
   "metadata": {},
   "outputs": [
    {
     "name": "stdout",
     "output_type": "stream",
     "text": [
      "3370\n"
     ]
    }
   ],
   "source": [
    "bin_num = '110100101010'\n",
    "position = len(bin_num) - 1\n",
    "int_num = 0\n",
    "for i in bin_num:\n",
    "    int_num  += int(i) * (2 ** position)\n",
    "    position -= 1\n",
    "print(int_num)"
   ]
  },
  {
   "cell_type": "markdown",
   "metadata": {},
   "source": [
    "|Decimal Position|11|10|9|8|7|6|5|4|3|2|1|0|\n",
    "|---|---|---|---|---|---|---|---|---|---|---|---|---|\n",
    "|Binary number|\t1|\t1|\t0|\t1|\t0|\t0|\t1|\t0|\t1|\t0|\t1|\t0|\n",
    "|Decimal equivalent number to each position|2048|1024|0|256|0|0|32|0|8|0|2|0|\t\t\t\n",
    "|Total|\t3370|"
   ]
  },
  {
   "cell_type": "markdown",
   "metadata": {},
   "source": [
    "# 3. Convert the below decimal numbers into binary.\n",
    "## a) 239\n",
    "## b) 66"
   ]
  },
  {
   "cell_type": "code",
   "execution_count": 6,
   "metadata": {},
   "outputs": [
    {
     "name": "stdout",
     "output_type": "stream",
     "text": [
      "0b11101111\n",
      "0b1000010\n"
     ]
    }
   ],
   "source": [
    "# using built-in bin() function\n",
    "print(bin(239))\n",
    "print(bin(66))"
   ]
  },
  {
   "cell_type": "markdown",
   "metadata": {},
   "source": [
    "### Manually converting to binary"
   ]
  },
  {
   "cell_type": "markdown",
   "metadata": {},
   "source": [
    "|Divisor|Dividend|Modulo|\n",
    "|---|---|---|\n",
    "|2\t|239|\t|\n",
    "|2\t|119|\t1|\n",
    "|2\t|59|\t1|\n",
    "|2\t|29|\t1|\n",
    "|2\t|14|\t1|\n",
    "|2\t|7|\t0|\n",
    "|2\t|3|\t1|\n",
    "|\t|1|\t1|\n",
    "\n",
    "So the binary version is 11101111"
   ]
  },
  {
   "cell_type": "code",
   "execution_count": 7,
   "metadata": {},
   "outputs": [
    {
     "data": {
      "text/plain": [
       "11101111"
      ]
     },
     "execution_count": 7,
     "metadata": {},
     "output_type": "execute_result"
    }
   ],
   "source": [
    "# converting using python\n",
    "int_num = 239\n",
    "quotent= int_num\n",
    "modulo = []\n",
    "while quotent != 1:\n",
    "    modulo.append(quotent%2)\n",
    "    quotent = quotent // 2\n",
    "modulo.append(1)\n",
    "modulo.reverse()\n",
    "binary_num = int(\"\".join(str(num) for num in modulo))\n",
    "binary_num"
   ]
  },
  {
   "cell_type": "markdown",
   "metadata": {},
   "source": [
    "|Divisor|Dividend|Modulo|\n",
    "|---|---|---|\n",
    "|2\t|66|\t|\n",
    "|2\t|33|\t0|\n",
    "|2\t|16|\t1|\n",
    "|2\t|8|\t0|\n",
    "|2\t|4|\t0|\n",
    "|2\t|2|\t0|\n",
    "|\t|1|\t0|\n",
    "\n",
    "So the binary version is 1000010"
   ]
  },
  {
   "cell_type": "code",
   "execution_count": 8,
   "metadata": {},
   "outputs": [
    {
     "data": {
      "text/plain": [
       "1000010"
      ]
     },
     "execution_count": 8,
     "metadata": {},
     "output_type": "execute_result"
    }
   ],
   "source": [
    "int_num = 66\n",
    "quotent= int_num\n",
    "modulo = []\n",
    "while quotent != 1:\n",
    "    modulo.append(quotent%2)\n",
    "    quotent = quotent // 2\n",
    "modulo.append(1)\n",
    "modulo.reverse()\n",
    "binary_num = int(\"\".join(str(num) for num in modulo))\n",
    "binary_num"
   ]
  },
  {
   "cell_type": "markdown",
   "metadata": {},
   "source": [
    "# 4. Write a program that prints the integers from 1 to 100. But for multiples of three print \"Fizz\" instead of the number, and for the multiples of five print \"Buzz\". For numbers which are multiples of both three and five print “FizzBuzz”."
   ]
  },
  {
   "cell_type": "code",
   "execution_count": 9,
   "metadata": {},
   "outputs": [
    {
     "name": "stdout",
     "output_type": "stream",
     "text": [
      "1\n",
      "2\n",
      "Fizz\n",
      "4\n",
      "Buzz\n",
      "Fizz\n",
      "7\n",
      "8\n",
      "Fizz\n",
      "Buzz\n",
      "11\n",
      "Fizz\n",
      "13\n",
      "14\n",
      "FizzBuzz\n",
      "16\n",
      "17\n",
      "Fizz\n",
      "19\n",
      "Buzz\n",
      "Fizz\n",
      "22\n",
      "23\n",
      "Fizz\n",
      "Buzz\n",
      "26\n",
      "Fizz\n",
      "28\n",
      "29\n",
      "FizzBuzz\n",
      "31\n",
      "32\n",
      "Fizz\n",
      "34\n",
      "Buzz\n",
      "Fizz\n",
      "37\n",
      "38\n",
      "Fizz\n",
      "Buzz\n",
      "41\n",
      "Fizz\n",
      "43\n",
      "44\n",
      "FizzBuzz\n",
      "46\n",
      "47\n",
      "Fizz\n",
      "49\n",
      "Buzz\n",
      "Fizz\n",
      "52\n",
      "53\n",
      "Fizz\n",
      "Buzz\n",
      "56\n",
      "Fizz\n",
      "58\n",
      "59\n",
      "FizzBuzz\n",
      "61\n",
      "62\n",
      "Fizz\n",
      "64\n",
      "Buzz\n",
      "Fizz\n",
      "67\n",
      "68\n",
      "Fizz\n",
      "Buzz\n",
      "71\n",
      "Fizz\n",
      "73\n",
      "74\n",
      "FizzBuzz\n",
      "76\n",
      "77\n",
      "Fizz\n",
      "79\n",
      "Buzz\n",
      "Fizz\n",
      "82\n",
      "83\n",
      "Fizz\n",
      "Buzz\n",
      "86\n",
      "Fizz\n",
      "88\n",
      "89\n",
      "FizzBuzz\n",
      "91\n",
      "92\n",
      "Fizz\n",
      "94\n",
      "Buzz\n",
      "Fizz\n",
      "97\n",
      "98\n",
      "Fizz\n",
      "Buzz\n"
     ]
    }
   ],
   "source": [
    "for i in range(1,100+1):\n",
    "    if (i%3 == 0) & (i%5 == 0):\n",
    "        print(\"FizzBuzz\")\n",
    "    elif (i%3 == 0):\n",
    "        print(\"Fizz\")\n",
    "    elif (i%5 == 0):\n",
    "        print(\"Buzz\")\n",
    "    else:\n",
    "        print(i)"
   ]
  },
  {
   "cell_type": "markdown",
   "metadata": {},
   "source": [
    "# 5. Declare two integers. Print the lesser of two given numbers if both numbers are even, but print the greater number if one or both the numbers are odd."
   ]
  },
  {
   "cell_type": "code",
   "execution_count": 10,
   "metadata": {},
   "outputs": [],
   "source": [
    "def compare(num1, num2):\n",
    "    if (num1%2 == 0) & (num2%2 == 0):\n",
    "        print(min(num1,num2))\n",
    "    else:\n",
    "        print(max(num1,num2))"
   ]
  },
  {
   "cell_type": "code",
   "execution_count": 11,
   "metadata": {},
   "outputs": [
    {
     "name": "stdout",
     "output_type": "stream",
     "text": [
      "40\n"
     ]
    }
   ],
   "source": [
    "compare(40,50)"
   ]
  },
  {
   "cell_type": "code",
   "execution_count": 12,
   "metadata": {},
   "outputs": [
    {
     "name": "stdout",
     "output_type": "stream",
     "text": [
      "5003\n"
     ]
    }
   ],
   "source": [
    "compare(403,5003)"
   ]
  },
  {
   "cell_type": "code",
   "execution_count": 13,
   "metadata": {},
   "outputs": [
    {
     "name": "stdout",
     "output_type": "stream",
     "text": [
      "5003\n"
     ]
    }
   ],
   "source": [
    "compare(40,5003)"
   ]
  },
  {
   "cell_type": "markdown",
   "metadata": {},
   "source": [
    "# 6. Declare a two-word string separated by space. Print True if both the words begin with the same letter (case-sensitive) otherwise print False."
   ]
  },
  {
   "cell_type": "code",
   "execution_count": 14,
   "metadata": {},
   "outputs": [
    {
     "name": "stdout",
     "output_type": "stream",
     "text": [
      "False\n"
     ]
    }
   ],
   "source": [
    "# input 1\n",
    "input_string = 'Hello World'\n",
    "words_list = input_string.split(' ')\n",
    "if words_list[0][0] == words_list[1][0]:\n",
    "    print('True')\n",
    "else:\n",
    "    print('False')"
   ]
  },
  {
   "cell_type": "code",
   "execution_count": 15,
   "metadata": {},
   "outputs": [
    {
     "name": "stdout",
     "output_type": "stream",
     "text": [
      "True\n"
     ]
    }
   ],
   "source": [
    "# input 2\n",
    "input_string = 'Jumping Jack'\n",
    "words_list = input_string.split(' ')\n",
    "if words_list[0][0] == words_list[1][0]:\n",
    "    print('True')\n",
    "else:\n",
    "    print('False')"
   ]
  },
  {
   "cell_type": "code",
   "execution_count": 16,
   "metadata": {},
   "outputs": [
    {
     "name": "stdout",
     "output_type": "stream",
     "text": [
      "False\n"
     ]
    }
   ],
   "source": [
    "# input 3\n",
    "input_string = 'Jumping jack'\n",
    "words_list = input_string.split(' ')\n",
    "if words_list[0][0] == words_list[1][0]:\n",
    "    print('True')\n",
    "else:\n",
    "    print('False')"
   ]
  },
  {
   "cell_type": "markdown",
   "metadata": {},
   "source": [
    "# 7. Enhance question #6 to include case-insensitive comparison."
   ]
  },
  {
   "cell_type": "code",
   "execution_count": 17,
   "metadata": {},
   "outputs": [
    {
     "name": "stdout",
     "output_type": "stream",
     "text": [
      "True\n"
     ]
    }
   ],
   "source": [
    "input_string = 'Jumping jack'\n",
    "words_list = input_string.split(' ')\n",
    "if words_list[0][0].lower() == words_list[1][0].lower():\n",
    "    print('True')\n",
    "else:\n",
    "    print('False')"
   ]
  },
  {
   "cell_type": "markdown",
   "metadata": {},
   "source": [
    "# 8. Use ‘for’, ‘.split()’, and ‘if’ to print out words that start with ‘b’(case-sensitive)."
   ]
  },
  {
   "cell_type": "code",
   "execution_count": 18,
   "metadata": {},
   "outputs": [
    {
     "name": "stdout",
     "output_type": "stream",
     "text": [
      "because\n",
      "because\n",
      "because\n"
     ]
    }
   ],
   "source": [
    "input_string = 'You cannot end a sentence with because because because is a conjunction.'\n",
    "words_list = input_string.split(' ')\n",
    "for word in words_list:\n",
    "    if word[0] == 'b':\n",
    "        print(word)"
   ]
  },
  {
   "cell_type": "markdown",
   "metadata": {},
   "source": [
    "# 9. Enhance question #8 to include case-insensitive comparison and remove duplicates from the output."
   ]
  },
  {
   "cell_type": "code",
   "execution_count": 19,
   "metadata": {},
   "outputs": [
    {
     "name": "stdout",
     "output_type": "stream",
     "text": [
      "because\n",
      "Because\n"
     ]
    }
   ],
   "source": [
    "input_string = 'You cannot end a sentence with because Because because is a conjunction.'\n",
    "words_list = list(dict.fromkeys(input_string.split(' ')))\n",
    "# Alternate solution\n",
    "# words_list = list(set(input_string.split(' ')))\n",
    "for word in words_list:\n",
    "    if word[0].lower() == 'b':\n",
    "        print(word)"
   ]
  },
  {
   "cell_type": "markdown",
   "metadata": {},
   "source": [
    "# 10. Write a Python program to swap two variables."
   ]
  },
  {
   "cell_type": "code",
   "execution_count": 20,
   "metadata": {},
   "outputs": [
    {
     "name": "stdout",
     "output_type": "stream",
     "text": [
      "first_num = 20\n",
      "second_num = 10\n"
     ]
    }
   ],
   "source": [
    "first_num = 10\n",
    "second_num = 20\n",
    "first_num, second_num = second_num, first_num\n",
    "print(f'first_num = {first_num}')\n",
    "print(f'second_num = {second_num}')"
   ]
  },
  {
   "cell_type": "markdown",
   "metadata": {},
   "source": [
    "# Bonus"
   ]
  },
  {
   "cell_type": "markdown",
   "metadata": {},
   "source": [
    "## 1. Given a list of integers, return indices of the two numbers such that they add up to a specific target."
   ]
  },
  {
   "cell_type": "code",
   "execution_count": 21,
   "metadata": {},
   "outputs": [
    {
     "name": "stdout",
     "output_type": "stream",
     "text": [
      "[0, 1]\n"
     ]
    }
   ],
   "source": [
    "nums = [2,7,11,15]\n",
    "target = 9\n",
    "index_combination=[]\n",
    "for i in range(len(nums)):\n",
    "    difference = target - nums[i]\n",
    "    try:\n",
    "        if nums.index(difference, i+1) :\n",
    "            index_combination = [i, nums.index(difference, i+1)]\n",
    "            print(index_combination)\n",
    "            break\n",
    "    except:\n",
    "        continue\n",
    "if len(index_combination) ==0:\n",
    "    print(\"No combination found!\")"
   ]
  },
  {
   "cell_type": "markdown",
   "metadata": {},
   "source": [
    "## 2. Without using swapcase(), You are given a string and your task is to swap cases. In other words, convert all lowercase letters to uppercase letters and vice versa."
   ]
  },
  {
   "cell_type": "code",
   "execution_count": 22,
   "metadata": {},
   "outputs": [
    {
     "name": "stdout",
     "output_type": "stream",
     "text": [
      "mCdONALD’S\n"
     ]
    }
   ],
   "source": [
    "input_string = \"McDonald’s\"\n",
    "output_string = ''\n",
    "for letter in input_string:\n",
    "    if letter.islower():\n",
    "        output_string += letter.upper()\n",
    "    else:\n",
    "        output_string += letter.lower()\n",
    "print(output_string)"
   ]
  },
  {
   "cell_type": "markdown",
   "metadata": {},
   "source": [
    "## 3. Write a Python program to convert decimal number to binary."
   ]
  },
  {
   "cell_type": "code",
   "execution_count": 23,
   "metadata": {},
   "outputs": [
    {
     "data": {
      "text/plain": [
       "11101111"
      ]
     },
     "execution_count": 23,
     "metadata": {},
     "output_type": "execute_result"
    }
   ],
   "source": [
    "decimal_num = 239\n",
    "quotent= decimal_num\n",
    "modulo = []\n",
    "while quotent != 1:\n",
    "    modulo.append(quotent%2)\n",
    "    quotent = quotent // 2\n",
    "modulo.append(1)\n",
    "modulo.reverse()\n",
    "binary_num = int(\"\".join(str(num) for num in modulo))\n",
    "binary_num"
   ]
  }
 ],
 "metadata": {
  "kernelspec": {
   "display_name": "Python 3",
   "language": "python",
   "name": "python3"
  },
  "language_info": {
   "codemirror_mode": {
    "name": "ipython",
    "version": 3
   },
   "file_extension": ".py",
   "mimetype": "text/x-python",
   "name": "python",
   "nbconvert_exporter": "python",
   "pygments_lexer": "ipython3",
   "version": "3.8.8"
  }
 },
 "nbformat": 4,
 "nbformat_minor": 4
}
