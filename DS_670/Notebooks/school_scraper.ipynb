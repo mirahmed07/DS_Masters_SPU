{
 "cells": [
  {
   "cell_type": "code",
   "execution_count": 1,
   "metadata": {
    "ExecuteTime": {
     "end_time": "2023-03-11T06:15:03.025436Z",
     "start_time": "2023-03-11T06:15:00.164779Z"
    }
   },
   "outputs": [],
   "source": [
    "#dependencies and setup\n",
    "import pandas as pd\n",
    "import os\n",
    "from openpyxl import Workbook\n",
    "import numpy as np\n",
    "import requests\n",
    "import json\n",
    "import re\n",
    "from pprint import pprint\n",
    "from bs4 import BeautifulSoup\n",
    "from splinter import Browser\n",
    "from webdriver_manager.chrome import ChromeDriverManager\n",
    "import time\n",
    "# SQLite dependencies\n",
    "import sqlite3\n",
    "from sqlalchemy import create_engine\n",
    "from sqlalchemy import Column, Integer, String, Float"
   ]
  },
  {
   "cell_type": "code",
   "execution_count": 2,
   "metadata": {
    "ExecuteTime": {
     "end_time": "2023-03-11T06:15:07.949979Z",
     "start_time": "2023-03-11T06:15:03.030330Z"
    }
   },
   "outputs": [
    {
     "name": "stderr",
     "output_type": "stream",
     "text": [
      "\n",
      "\n",
      "====== WebDriver manager ======\n",
      "Current google-chrome version is 110.0.5481\n",
      "Get LATEST chromedriver version for 110.0.5481 google-chrome\n",
      "Trying to download new driver from https://chromedriver.storage.googleapis.com/110.0.5481.77/chromedriver_win32.zip\n",
      "Driver has been saved in cache [C:\\Users\\mosab\\.wdm\\drivers\\chromedriver\\win32\\110.0.5481.77]\n"
     ]
    }
   ],
   "source": [
    "# create a browser instance using splinter\n",
    "executable_path = {'executable_path': ChromeDriverManager().install()}\n",
    "browser = Browser('chrome', **executable_path, headless=False)\n",
    "time.sleep(1)"
   ]
  },
  {
   "cell_type": "markdown",
   "metadata": {},
   "source": [
    "# Summary"
   ]
  },
  {
   "cell_type": "code",
   "execution_count": 37,
   "metadata": {
    "ExecuteTime": {
     "end_time": "2023-03-11T06:59:44.925021Z",
     "start_time": "2023-03-11T06:59:26.644236Z"
    }
   },
   "outputs": [],
   "source": [
    "# visit the NJ schools url\n",
    "nj_school_rate_URL = 'https://www.schooldigger.com/go/NJ/schoolrank.aspx'\n",
    "browser.visit(nj_school_rate_URL)\n",
    "time.sleep(5)\n",
    "# use splinter to click on the button to go to next page\n",
    "browser.find_by_xpath('//*[@id=\"divWidgetParams\"]/div/div[2]/button').click()\n",
    "time.sleep(1)\n",
    "browser.find_by_xpath('//*[@id=\"divWidgetParams\"]/div/div[2]/ul/li[2]/a').click()\n",
    "time.sleep(4)\n",
    "browser.find_by_xpath('//*[@id=\"tabSchooList_length\"]/label/select').click()\n",
    "time.sleep(3)\n",
    "browser.find_by_xpath('//*[@id=\"tabSchooList_length\"]/label/select/option[4]').click()\n",
    "time.sleep(1)"
   ]
  },
  {
   "cell_type": "code",
   "execution_count": 229,
   "metadata": {
    "ExecuteTime": {
     "end_time": "2023-03-11T09:48:20.225207Z",
     "start_time": "2023-03-11T09:48:19.942781Z"
    }
   },
   "outputs": [
    {
     "data": {
      "text/plain": [
       "1319"
      ]
     },
     "execution_count": 229,
     "metadata": {},
     "output_type": "execute_result"
    }
   ],
   "source": [
    "# create HTML object\n",
    "html = browser.html\n",
    "# parse HTML with BeautifulSoup\n",
    "soup = BeautifulSoup(html, 'html.parser')\n",
    "total_records = int(soup.find('span' ,class_='tRows').text)\n",
    "total_records"
   ]
  },
  {
   "cell_type": "code",
   "execution_count": 230,
   "metadata": {
    "ExecuteTime": {
     "end_time": "2023-03-11T09:48:20.635364Z",
     "start_time": "2023-03-11T09:48:20.612346Z"
    }
   },
   "outputs": [
    {
     "data": {
      "text/plain": [
       "14"
      ]
     },
     "execution_count": 230,
     "metadata": {},
     "output_type": "execute_result"
    }
   ],
   "source": [
    "total_pages = int(np.ceil(total_records/100))\n",
    "total_pages"
   ]
  },
  {
   "cell_type": "code",
   "execution_count": 231,
   "metadata": {
    "ExecuteTime": {
     "end_time": "2023-03-11T09:49:34.181392Z",
     "start_time": "2023-03-11T09:48:23.392150Z"
    },
    "scrolled": true
   },
   "outputs": [
    {
     "name": "stdout",
     "output_type": "stream",
     "text": [
      "Page 1 scraped!\n",
      "Page 2 scraped!\n",
      "Page 3 scraped!\n",
      "Page 4 scraped!\n",
      "Page 5 scraped!\n",
      "Page 6 scraped!\n",
      "Page 7 scraped!\n",
      "Page 8 scraped!\n",
      "Page 9 scraped!\n",
      "Page 10 scraped!\n",
      "Page 11 scraped!\n",
      "Page 12 scraped!\n",
      "Page 13 scraped!\n",
      "Page 14 scraped!\n"
     ]
    },
    {
     "data": {
      "text/html": [
       "<div>\n",
       "<style scoped>\n",
       "    .dataframe tbody tr th:only-of-type {\n",
       "        vertical-align: middle;\n",
       "    }\n",
       "\n",
       "    .dataframe tbody tr th {\n",
       "        vertical-align: top;\n",
       "    }\n",
       "\n",
       "    .dataframe thead th {\n",
       "        text-align: right;\n",
       "    }\n",
       "</style>\n",
       "<table border=\"1\" class=\"dataframe\">\n",
       "  <thead>\n",
       "    <tr style=\"text-align: right;\">\n",
       "      <th></th>\n",
       "      <th>rank</th>\n",
       "      <th>school</th>\n",
       "      <th>grades</th>\n",
       "      <th>district</th>\n",
       "      <th>students</th>\n",
       "      <th>free_lunch_rec</th>\n",
       "      <th>total_exp</th>\n",
       "      <th>score</th>\n",
       "      <th>year</th>\n",
       "    </tr>\n",
       "  </thead>\n",
       "  <tbody>\n",
       "    <tr>\n",
       "      <th>0</th>\n",
       "      <td>1</td>\n",
       "      <td>Deane-Porter Elementary School</td>\n",
       "      <td>PK, KG-3</td>\n",
       "      <td>Rumson Borough School District</td>\n",
       "      <td>384</td>\n",
       "      <td>0.0%</td>\n",
       "      <td>$11,020</td>\n",
       "      <td>98.3</td>\n",
       "      <td>2017</td>\n",
       "    </tr>\n",
       "    <tr>\n",
       "      <th>1</th>\n",
       "      <td>2</td>\n",
       "      <td>School 28</td>\n",
       "      <td>PK, KG-8</td>\n",
       "      <td>Paterson Public School District</td>\n",
       "      <td>488</td>\n",
       "      <td>82.6%</td>\n",
       "      <td>$9,579</td>\n",
       "      <td>97.8</td>\n",
       "      <td>2017</td>\n",
       "    </tr>\n",
       "    <tr>\n",
       "      <th>2</th>\n",
       "      <td>3</td>\n",
       "      <td>Thomas Edison EnergySmart Charter School</td>\n",
       "      <td>K-12</td>\n",
       "      <td>Thomas Edison EnergySmart Charter School</td>\n",
       "      <td>421</td>\n",
       "      <td>9.7%</td>\n",
       "      <td>$7,387</td>\n",
       "      <td>96.5</td>\n",
       "      <td>2017</td>\n",
       "    </tr>\n",
       "    <tr>\n",
       "      <th>3</th>\n",
       "      <td>4</td>\n",
       "      <td>Terence C. Reilly School No 7</td>\n",
       "      <td>2-8</td>\n",
       "      <td>Elizabeth Public Schools</td>\n",
       "      <td>1,055</td>\n",
       "      <td>73.5%</td>\n",
       "      <td>$7,777</td>\n",
       "      <td>96.2</td>\n",
       "      <td>2017</td>\n",
       "    </tr>\n",
       "    <tr>\n",
       "      <th>4</th>\n",
       "      <td>5</td>\n",
       "      <td>Deerfield School</td>\n",
       "      <td>K-4</td>\n",
       "      <td>Millburn Township School District</td>\n",
       "      <td>563</td>\n",
       "      <td>0.5%</td>\n",
       "      <td>$13,641</td>\n",
       "      <td>96.1</td>\n",
       "      <td>2017</td>\n",
       "    </tr>\n",
       "  </tbody>\n",
       "</table>\n",
       "</div>"
      ],
      "text/plain": [
       "  rank                                    school    grades  \\\n",
       "0    1            Deane-Porter Elementary School  PK, KG-3   \n",
       "1    2                                 School 28  PK, KG-8   \n",
       "2    3  Thomas Edison EnergySmart Charter School      K-12   \n",
       "3    4             Terence C. Reilly School No 7       2-8   \n",
       "4    5                          Deerfield School       K-4   \n",
       "\n",
       "                                   district students free_lunch_rec total_exp  \\\n",
       "0            Rumson Borough School District      384           0.0%   $11,020   \n",
       "1           Paterson Public School District      488          82.6%    $9,579   \n",
       "2  Thomas Edison EnergySmart Charter School      421           9.7%    $7,387   \n",
       "3                  Elizabeth Public Schools    1,055          73.5%    $7,777   \n",
       "4         Millburn Township School District      563           0.5%   $13,641   \n",
       "\n",
       "  score  year  \n",
       "0  98.3  2017  \n",
       "1  97.8  2017  \n",
       "2  96.5  2017  \n",
       "3  96.2  2017  \n",
       "4  96.1  2017  "
      ]
     },
     "execution_count": 231,
     "metadata": {},
     "output_type": "execute_result"
    }
   ],
   "source": [
    "rank_dfs=[]\n",
    "for x in range(1,total_pages+1):\n",
    "    # create HTML object\n",
    "    html = browser.html\n",
    "    # parse HTML with BeautifulSoup\n",
    "    soup = BeautifulSoup(html, 'html.parser')\n",
    "    # access html elements to get the link for the table data\n",
    "    div = soup.find(id= 'tabSchooList_wrapper')\n",
    "    table = div.find('table', id = 'tabSchooList')\n",
    "    tbody = table.find('tbody')\n",
    "    listings= tbody.find_all('td')\n",
    "    rank = []\n",
    "    school = []\n",
    "    grades = []\n",
    "    district = []\n",
    "    students = []\n",
    "    free_lunch_rec=[]\n",
    "    total_exp=[]\n",
    "    score=[]\n",
    "    year = []\n",
    "    for i in range(0,len(listings),10):\n",
    "        rank.append(listings[i].text) \n",
    "        year.append(2017)\n",
    "    for i in range(1,len(listings),10):\n",
    "        school.append(listings[i].text.replace('\\n',''))     \n",
    "    for i in range(2,len(listings),10):\n",
    "        grades.append(listings[i].text.replace('\\n',''))\n",
    "    for i in range(3,len(listings),10):\n",
    "        district.append(listings[i].text.replace('\\n',''))\n",
    "    for i in range(4,len(listings),10):\n",
    "        students.append(listings[i].text.replace('\\n',''))\n",
    "    for i in range(5,len(listings),10):\n",
    "        free_lunch_rec.append(listings[i].text.replace('\\n',''))\n",
    "    for i in range(6,len(listings),10):\n",
    "        total_exp.append(listings[i].text.replace('\\n',''))\n",
    "    for i in range(7,len(listings),10):\n",
    "        score.append(listings[i].text.replace('\\n',''))\n",
    "\n",
    "    df = pd.DataFrame({'rank':rank, 'school':school, 'grades':grades, 'district':district, 'students':students,\\\n",
    "                       'free_lunch_rec':free_lunch_rec, 'total_exp':total_exp, 'score':score, 'year':year})\n",
    "    rank_dfs.append(df)\n",
    "    print(f'Page {x} scraped!')\n",
    "    # use splinter to click on the button to go to next page\n",
    "    if x == total_pages:\n",
    "        break\n",
    "    elif x <= 4:\n",
    "        browser.find_by_xpath(f'//*[@id=\"tabSchooList_paginate\"]/ul/li[{x+1}]/a').click()\n",
    "    elif (x > 4 and x < int(np.ceil(total_records/100))-2):\n",
    "        browser.find_by_xpath('//*[@id=\"tabSchooList_paginate\"]/ul/li[5]/a').click()\n",
    "    elif (x > 4 and x == int(np.ceil(total_records/100))-2) or (x==5 and total_pages <=7):\n",
    "        browser.find_by_xpath('//*[@id=\"tabSchooList_paginate\"]/ul/li[6]/a').click()\n",
    "    elif (x > 4 and x == int(np.ceil(total_records/100))-1) or (x==6 and total_pages <=7):\n",
    "        browser.find_by_xpath('//*[@id=\"tabSchooList_paginate\"]/ul/li[7]/a').click()    \n",
    "    else:\n",
    "        continue\n",
    "    time.sleep(5)\n",
    "rank_df = pd.concat(rank_dfs,ignore_index = True)\n",
    "rank_df.head()"
   ]
  },
  {
   "cell_type": "code",
   "execution_count": 232,
   "metadata": {
    "ExecuteTime": {
     "end_time": "2023-03-11T09:49:38.249270Z",
     "start_time": "2023-03-11T09:49:38.204106Z"
    }
   },
   "outputs": [
    {
     "data": {
      "text/html": [
       "<div>\n",
       "<style scoped>\n",
       "    .dataframe tbody tr th:only-of-type {\n",
       "        vertical-align: middle;\n",
       "    }\n",
       "\n",
       "    .dataframe tbody tr th {\n",
       "        vertical-align: top;\n",
       "    }\n",
       "\n",
       "    .dataframe thead th {\n",
       "        text-align: right;\n",
       "    }\n",
       "</style>\n",
       "<table border=\"1\" class=\"dataframe\">\n",
       "  <thead>\n",
       "    <tr style=\"text-align: right;\">\n",
       "      <th></th>\n",
       "      <th>rank</th>\n",
       "      <th>school</th>\n",
       "      <th>grades</th>\n",
       "      <th>district</th>\n",
       "      <th>students</th>\n",
       "      <th>free_lunch_rec</th>\n",
       "      <th>total_exp</th>\n",
       "      <th>score</th>\n",
       "      <th>year</th>\n",
       "    </tr>\n",
       "  </thead>\n",
       "  <tbody>\n",
       "    <tr>\n",
       "      <th>1314</th>\n",
       "      <td>1315</td>\n",
       "      <td>Yorkship Elementary School</td>\n",
       "      <td>PK, KG-5</td>\n",
       "      <td>Camden City School District</td>\n",
       "      <td>485</td>\n",
       "      <td>66.4%</td>\n",
       "      <td>$16,425</td>\n",
       "      <td>2.4</td>\n",
       "      <td>2017</td>\n",
       "    </tr>\n",
       "    <tr>\n",
       "      <th>1315</th>\n",
       "      <td>1316</td>\n",
       "      <td>Charles Sumner Elementary School</td>\n",
       "      <td>PK, KG-6</td>\n",
       "      <td>Camden City School District</td>\n",
       "      <td>275</td>\n",
       "      <td>62.2%</td>\n",
       "      <td></td>\n",
       "      <td>2.3</td>\n",
       "      <td>2017</td>\n",
       "    </tr>\n",
       "    <tr>\n",
       "      <th>1316</th>\n",
       "      <td>1317</td>\n",
       "      <td>Camden Community Charter School</td>\n",
       "      <td>K-8</td>\n",
       "      <td>Camden Community Charter School</td>\n",
       "      <td>851</td>\n",
       "      <td>92.8%</td>\n",
       "      <td></td>\n",
       "      <td>2.2</td>\n",
       "      <td>2017</td>\n",
       "    </tr>\n",
       "    <tr>\n",
       "      <th>1317</th>\n",
       "      <td>1318</td>\n",
       "      <td>Henry B. Wilson Family School</td>\n",
       "      <td>K-8</td>\n",
       "      <td>Camden City School District</td>\n",
       "      <td>555</td>\n",
       "      <td>69.2%</td>\n",
       "      <td>$17,638</td>\n",
       "      <td>2.1</td>\n",
       "      <td>2017</td>\n",
       "    </tr>\n",
       "    <tr>\n",
       "      <th>1318</th>\n",
       "      <td>1319</td>\n",
       "      <td>Dr. Martin Luther King Junior Elementary School</td>\n",
       "      <td>K-5</td>\n",
       "      <td>Trenton Public School District</td>\n",
       "      <td>725</td>\n",
       "      <td>92.6%</td>\n",
       "      <td>$9,252</td>\n",
       "      <td>1.7</td>\n",
       "      <td>2017</td>\n",
       "    </tr>\n",
       "  </tbody>\n",
       "</table>\n",
       "</div>"
      ],
      "text/plain": [
       "      rank                                           school    grades  \\\n",
       "1314  1315                       Yorkship Elementary School  PK, KG-5   \n",
       "1315  1316                 Charles Sumner Elementary School  PK, KG-6   \n",
       "1316  1317                  Camden Community Charter School       K-8   \n",
       "1317  1318                    Henry B. Wilson Family School       K-8   \n",
       "1318  1319  Dr. Martin Luther King Junior Elementary School       K-5   \n",
       "\n",
       "                             district students free_lunch_rec total_exp score  \\\n",
       "1314      Camden City School District      485          66.4%   $16,425   2.4   \n",
       "1315      Camden City School District      275          62.2%             2.3   \n",
       "1316  Camden Community Charter School      851          92.8%             2.2   \n",
       "1317      Camden City School District      555          69.2%   $17,638   2.1   \n",
       "1318   Trenton Public School District      725          92.6%    $9,252   1.7   \n",
       "\n",
       "      year  \n",
       "1314  2017  \n",
       "1315  2017  \n",
       "1316  2017  \n",
       "1317  2017  \n",
       "1318  2017  "
      ]
     },
     "execution_count": 232,
     "metadata": {},
     "output_type": "execute_result"
    }
   ],
   "source": [
    "rank_df.tail()"
   ]
  },
  {
   "cell_type": "code",
   "execution_count": 233,
   "metadata": {
    "ExecuteTime": {
     "end_time": "2023-03-11T09:49:48.208573Z",
     "start_time": "2023-03-11T09:49:48.174158Z"
    }
   },
   "outputs": [],
   "source": [
    "rank_df.to_csv('ele_school_summ_2017.csv', index=False)"
   ]
  },
  {
   "cell_type": "markdown",
   "metadata": {},
   "source": [
    "# Demographic"
   ]
  },
  {
   "cell_type": "code",
   "execution_count": 79,
   "metadata": {
    "ExecuteTime": {
     "end_time": "2023-03-11T08:00:51.726708Z",
     "start_time": "2023-03-11T08:00:51.704681Z"
    }
   },
   "outputs": [],
   "source": [
    "# visit the NJ schools url\n",
    "nj_school_rate_URL = 'https://www.schooldigger.com/go/NJ/schoolrank.aspx'\n",
    "browser.visit(nj_school_rate_URL)\n",
    "time.sleep(5)\n",
    "demo_dfs=[]"
   ]
  },
  {
   "cell_type": "code",
   "execution_count": 234,
   "metadata": {
    "ExecuteTime": {
     "end_time": "2023-03-11T09:50:00.733685Z",
     "start_time": "2023-03-11T09:50:00.476754Z"
    }
   },
   "outputs": [
    {
     "data": {
      "text/plain": [
       "1319"
      ]
     },
     "execution_count": 234,
     "metadata": {},
     "output_type": "execute_result"
    }
   ],
   "source": [
    "# create HTML object\n",
    "html = browser.html\n",
    "# parse HTML with BeautifulSoup\n",
    "soup = BeautifulSoup(html, 'html.parser')\n",
    "total_records = int(soup.find('span' ,class_='tRows').text)\n",
    "total_records"
   ]
  },
  {
   "cell_type": "code",
   "execution_count": 235,
   "metadata": {
    "ExecuteTime": {
     "end_time": "2023-03-11T09:50:02.145961Z",
     "start_time": "2023-03-11T09:50:02.122955Z"
    }
   },
   "outputs": [
    {
     "data": {
      "text/plain": [
       "14"
      ]
     },
     "execution_count": 235,
     "metadata": {},
     "output_type": "execute_result"
    }
   ],
   "source": [
    "total_pages = int(np.ceil(total_records/100))\n",
    "total_pages"
   ]
  },
  {
   "cell_type": "code",
   "execution_count": 237,
   "metadata": {
    "ExecuteTime": {
     "end_time": "2023-03-11T09:51:55.022629Z",
     "start_time": "2023-03-11T09:50:45.613112Z"
    }
   },
   "outputs": [
    {
     "name": "stdout",
     "output_type": "stream",
     "text": [
      "Page 1 scraped!\n",
      "Page 2 scraped!\n",
      "Page 3 scraped!\n",
      "Page 4 scraped!\n",
      "Page 5 scraped!\n",
      "Page 6 scraped!\n",
      "Page 7 scraped!\n",
      "Page 8 scraped!\n",
      "Page 9 scraped!\n",
      "Page 10 scraped!\n",
      "Page 11 scraped!\n",
      "Page 12 scraped!\n",
      "Page 13 scraped!\n",
      "Page 14 scraped!\n"
     ]
    },
    {
     "data": {
      "text/html": [
       "<div>\n",
       "<style scoped>\n",
       "    .dataframe tbody tr th:only-of-type {\n",
       "        vertical-align: middle;\n",
       "    }\n",
       "\n",
       "    .dataframe tbody tr th {\n",
       "        vertical-align: top;\n",
       "    }\n",
       "\n",
       "    .dataframe thead th {\n",
       "        text-align: right;\n",
       "    }\n",
       "</style>\n",
       "<table border=\"1\" class=\"dataframe\">\n",
       "  <thead>\n",
       "    <tr style=\"text-align: right;\">\n",
       "      <th></th>\n",
       "      <th>rank</th>\n",
       "      <th>school</th>\n",
       "      <th>type</th>\n",
       "      <th>grades</th>\n",
       "      <th>address</th>\n",
       "      <th>city</th>\n",
       "      <th>zip</th>\n",
       "      <th>county</th>\n",
       "      <th>district</th>\n",
       "      <th>year</th>\n",
       "    </tr>\n",
       "  </thead>\n",
       "  <tbody>\n",
       "    <tr>\n",
       "      <th>0</th>\n",
       "      <td>1</td>\n",
       "      <td>Deane-Porter Elementary School</td>\n",
       "      <td>Public</td>\n",
       "      <td>PK, KG-3</td>\n",
       "      <td>50 Blackpoint Road</td>\n",
       "      <td>Rumson</td>\n",
       "      <td>07760</td>\n",
       "      <td>Monmouth County</td>\n",
       "      <td>Rumson Borough School District</td>\n",
       "      <td>2017</td>\n",
       "    </tr>\n",
       "    <tr>\n",
       "      <th>1</th>\n",
       "      <td>2</td>\n",
       "      <td>School 28</td>\n",
       "      <td>Public</td>\n",
       "      <td>PK, KG-8</td>\n",
       "      <td>200 Presidential Boulevard</td>\n",
       "      <td>Paterson</td>\n",
       "      <td>07522</td>\n",
       "      <td>Passaic County</td>\n",
       "      <td>Paterson Public School District</td>\n",
       "      <td>2017</td>\n",
       "    </tr>\n",
       "    <tr>\n",
       "      <th>2</th>\n",
       "      <td>3</td>\n",
       "      <td>Thomas Edison EnergySmart Charter School</td>\n",
       "      <td>Public, Charter, Alternative</td>\n",
       "      <td>K-12</td>\n",
       "      <td>150 Pierce Street</td>\n",
       "      <td>Somerset</td>\n",
       "      <td>08873</td>\n",
       "      <td>Somerset County</td>\n",
       "      <td>Thomas Edison EnergySmart Charter School</td>\n",
       "      <td>2017</td>\n",
       "    </tr>\n",
       "    <tr>\n",
       "      <th>3</th>\n",
       "      <td>4</td>\n",
       "      <td>Terence C. Reilly School No 7</td>\n",
       "      <td>Public</td>\n",
       "      <td>2-8</td>\n",
       "      <td>436 First Avenue</td>\n",
       "      <td>Elizabeth</td>\n",
       "      <td>07206</td>\n",
       "      <td>Union County</td>\n",
       "      <td>Elizabeth Public Schools</td>\n",
       "      <td>2017</td>\n",
       "    </tr>\n",
       "    <tr>\n",
       "      <th>4</th>\n",
       "      <td>5</td>\n",
       "      <td>Deerfield School</td>\n",
       "      <td>Public</td>\n",
       "      <td>K-4</td>\n",
       "      <td>26 Troy Lane</td>\n",
       "      <td>Short Hills</td>\n",
       "      <td>07078</td>\n",
       "      <td>Essex County</td>\n",
       "      <td>Millburn Township School District</td>\n",
       "      <td>2017</td>\n",
       "    </tr>\n",
       "  </tbody>\n",
       "</table>\n",
       "</div>"
      ],
      "text/plain": [
       "  rank                                    school  \\\n",
       "0    1            Deane-Porter Elementary School   \n",
       "1    2                                 School 28   \n",
       "2    3  Thomas Edison EnergySmart Charter School   \n",
       "3    4             Terence C. Reilly School No 7   \n",
       "4    5                          Deerfield School   \n",
       "\n",
       "                           type    grades                     address  \\\n",
       "0                        Public  PK, KG-3          50 Blackpoint Road   \n",
       "1                        Public  PK, KG-8  200 Presidential Boulevard   \n",
       "2  Public, Charter, Alternative      K-12           150 Pierce Street   \n",
       "3                        Public       2-8            436 First Avenue   \n",
       "4                        Public       K-4                26 Troy Lane   \n",
       "\n",
       "          city    zip           county  \\\n",
       "0       Rumson  07760  Monmouth County   \n",
       "1     Paterson  07522   Passaic County   \n",
       "2     Somerset  08873  Somerset County   \n",
       "3    Elizabeth  07206     Union County   \n",
       "4  Short Hills  07078     Essex County   \n",
       "\n",
       "                                   district  year  \n",
       "0            Rumson Borough School District  2017  \n",
       "1           Paterson Public School District  2017  \n",
       "2  Thomas Edison EnergySmart Charter School  2017  \n",
       "3                  Elizabeth Public Schools  2017  \n",
       "4         Millburn Township School District  2017  "
      ]
     },
     "execution_count": 237,
     "metadata": {},
     "output_type": "execute_result"
    }
   ],
   "source": [
    "demo_dfs=[]\n",
    "# browser.find_by_xpath('//*[@id=\"tabSchooList_paginate\"]/ul/li[1]/a').click()\n",
    "for x in range(1,total_pages+1):\n",
    "    # create HTML object\n",
    "    html = browser.html\n",
    "    # parse HTML with BeautifulSoup\n",
    "    soup = BeautifulSoup(html, 'html.parser')\n",
    "    # access html elements to get the link for the table data\n",
    "    div = soup.find(id= 'tabSchooList_wrapper')\n",
    "    table = div.find('table', id = 'tabSchooList')\n",
    "    tbody = table.find('tbody')\n",
    "    listings= tbody.find_all('td')\n",
    "    rank = []\n",
    "    school = []\n",
    "    types=[]\n",
    "    grades = []\n",
    "    address=[]\n",
    "    city=[]\n",
    "    zip_cd=[]\n",
    "    county=[]\n",
    "    district = []\n",
    "    year = []\n",
    "    for i in range(0,len(listings),14):\n",
    "        rank.append(listings[i].text) \n",
    "        year.append(2017)\n",
    "    for i in range(1,len(listings),14):\n",
    "        school.append(listings[i].text.replace('\\n',''))     \n",
    "    for i in range(2,len(listings),14):\n",
    "        types.append(listings[i].text.replace('\\n',''))\n",
    "    for i in range(3,len(listings),14):\n",
    "        grades.append(listings[i].text.replace('\\n',''))\n",
    "    for i in range(4,len(listings),14):\n",
    "        address.append(listings[i].text.replace('\\n',''))\n",
    "    for i in range(5,len(listings),14):\n",
    "        city.append(listings[i].text.replace('\\n',''))\n",
    "    for i in range(6,len(listings),14):\n",
    "        zip_cd.append(listings[i].text.replace('\\n',''))\n",
    "    for i in range(7,len(listings),14):\n",
    "        county.append(listings[i].text.replace('\\n',''))\n",
    "    for i in range(8,len(listings),14):\n",
    "        district.append(listings[i].text.replace('\\n',''))\n",
    "    df = pd.DataFrame({'rank':rank, 'school':school, 'type': types, 'grades':grades,\\\n",
    "                       'address':address, 'city':city, 'zip':zip_cd, 'county':county,\\\n",
    "                       'district':district, 'year':year})\n",
    "    demo_dfs.append(df)\n",
    "    print(f'Page {x} scraped!')\n",
    "    # use splinter to click on the button to go to next page\n",
    "    if x == total_pages:\n",
    "        break\n",
    "    elif x <= 4:\n",
    "        browser.find_by_xpath(f'//*[@id=\"tabSchooList_paginate\"]/ul/li[{x+1}]/a').click()\n",
    "    elif (x > 4 and x < int(np.ceil(total_records/100))-2):\n",
    "        browser.find_by_xpath('//*[@id=\"tabSchooList_paginate\"]/ul/li[5]/a').click()\n",
    "    elif (x > 4 and x == int(np.ceil(total_records/100))-2) or (x==5 and total_pages <=7):\n",
    "        browser.find_by_xpath('//*[@id=\"tabSchooList_paginate\"]/ul/li[6]/a').click()\n",
    "    elif (x > 4 and x == int(np.ceil(total_records/100))-1) or (x==6 and total_pages <=7):\n",
    "        browser.find_by_xpath('//*[@id=\"tabSchooList_paginate\"]/ul/li[7]/a').click()    \n",
    "    else:\n",
    "        continue\n",
    "    time.sleep(5)\n",
    "demo_df = pd.concat(demo_dfs,ignore_index = True)\n",
    "demo_df.head()"
   ]
  },
  {
   "cell_type": "code",
   "execution_count": 238,
   "metadata": {
    "ExecuteTime": {
     "end_time": "2023-03-11T09:51:57.986047Z",
     "start_time": "2023-03-11T09:51:57.960909Z"
    }
   },
   "outputs": [
    {
     "data": {
      "text/html": [
       "<div>\n",
       "<style scoped>\n",
       "    .dataframe tbody tr th:only-of-type {\n",
       "        vertical-align: middle;\n",
       "    }\n",
       "\n",
       "    .dataframe tbody tr th {\n",
       "        vertical-align: top;\n",
       "    }\n",
       "\n",
       "    .dataframe thead th {\n",
       "        text-align: right;\n",
       "    }\n",
       "</style>\n",
       "<table border=\"1\" class=\"dataframe\">\n",
       "  <thead>\n",
       "    <tr style=\"text-align: right;\">\n",
       "      <th></th>\n",
       "      <th>rank</th>\n",
       "      <th>school</th>\n",
       "      <th>type</th>\n",
       "      <th>grades</th>\n",
       "      <th>address</th>\n",
       "      <th>city</th>\n",
       "      <th>zip</th>\n",
       "      <th>county</th>\n",
       "      <th>district</th>\n",
       "      <th>year</th>\n",
       "    </tr>\n",
       "  </thead>\n",
       "  <tbody>\n",
       "    <tr>\n",
       "      <th>1314</th>\n",
       "      <td>1315</td>\n",
       "      <td>Yorkship Elementary School</td>\n",
       "      <td>Public</td>\n",
       "      <td>PK, KG-5</td>\n",
       "      <td>1251 Collings Road</td>\n",
       "      <td>Camden</td>\n",
       "      <td>08104</td>\n",
       "      <td>Camden County</td>\n",
       "      <td>Camden City School District</td>\n",
       "      <td>2017</td>\n",
       "    </tr>\n",
       "    <tr>\n",
       "      <th>1315</th>\n",
       "      <td>1316</td>\n",
       "      <td>Charles Sumner Elementary School</td>\n",
       "      <td>Public</td>\n",
       "      <td>PK, KG-6</td>\n",
       "      <td>8th &amp; Jackson Sts</td>\n",
       "      <td>Camden</td>\n",
       "      <td>08104</td>\n",
       "      <td>Camden County</td>\n",
       "      <td>Camden City School District</td>\n",
       "      <td>2017</td>\n",
       "    </tr>\n",
       "    <tr>\n",
       "      <th>1316</th>\n",
       "      <td>1317</td>\n",
       "      <td>Camden Community Charter School</td>\n",
       "      <td>Public, Charter</td>\n",
       "      <td>K-8</td>\n",
       "      <td>9th &amp; Linden Streets</td>\n",
       "      <td>Camden</td>\n",
       "      <td>08102</td>\n",
       "      <td>Camden County</td>\n",
       "      <td>Camden Community Charter School</td>\n",
       "      <td>2017</td>\n",
       "    </tr>\n",
       "    <tr>\n",
       "      <th>1317</th>\n",
       "      <td>1318</td>\n",
       "      <td>Henry B. Wilson Family School</td>\n",
       "      <td>Public</td>\n",
       "      <td>K-8</td>\n",
       "      <td>2250 South 8th Street</td>\n",
       "      <td>Camden</td>\n",
       "      <td>08104</td>\n",
       "      <td>Camden County</td>\n",
       "      <td>Camden City School District</td>\n",
       "      <td>2017</td>\n",
       "    </tr>\n",
       "    <tr>\n",
       "      <th>1318</th>\n",
       "      <td>1319</td>\n",
       "      <td>Dr. Martin Luther King Junior Elementary School</td>\n",
       "      <td>Public</td>\n",
       "      <td>K-5</td>\n",
       "      <td>159 N  Clinton Avenue</td>\n",
       "      <td>Trenton</td>\n",
       "      <td>08609</td>\n",
       "      <td>Mercer County</td>\n",
       "      <td>Trenton Public School District</td>\n",
       "      <td>2017</td>\n",
       "    </tr>\n",
       "  </tbody>\n",
       "</table>\n",
       "</div>"
      ],
      "text/plain": [
       "      rank                                           school             type  \\\n",
       "1314  1315                       Yorkship Elementary School           Public   \n",
       "1315  1316                 Charles Sumner Elementary School           Public   \n",
       "1316  1317                  Camden Community Charter School  Public, Charter   \n",
       "1317  1318                    Henry B. Wilson Family School           Public   \n",
       "1318  1319  Dr. Martin Luther King Junior Elementary School           Public   \n",
       "\n",
       "        grades                address     city    zip         county  \\\n",
       "1314  PK, KG-5     1251 Collings Road   Camden  08104  Camden County   \n",
       "1315  PK, KG-6      8th & Jackson Sts   Camden  08104  Camden County   \n",
       "1316       K-8   9th & Linden Streets   Camden  08102  Camden County   \n",
       "1317       K-8  2250 South 8th Street   Camden  08104  Camden County   \n",
       "1318       K-5  159 N  Clinton Avenue  Trenton  08609  Mercer County   \n",
       "\n",
       "                             district  year  \n",
       "1314      Camden City School District  2017  \n",
       "1315      Camden City School District  2017  \n",
       "1316  Camden Community Charter School  2017  \n",
       "1317      Camden City School District  2017  \n",
       "1318   Trenton Public School District  2017  "
      ]
     },
     "execution_count": 238,
     "metadata": {},
     "output_type": "execute_result"
    }
   ],
   "source": [
    "# demo_df = pd.concat(demo_dfs,ignore_index = True)\n",
    "# demo_df.head()\n",
    "demo_df.tail()"
   ]
  },
  {
   "cell_type": "code",
   "execution_count": 239,
   "metadata": {
    "ExecuteTime": {
     "end_time": "2023-03-11T09:52:01.200103Z",
     "start_time": "2023-03-11T09:52:01.153426Z"
    }
   },
   "outputs": [],
   "source": [
    "demo_df.to_csv('ele_school_demo_2017.csv',index=False)"
   ]
  },
  {
   "cell_type": "code",
   "execution_count": 240,
   "metadata": {
    "ExecuteTime": {
     "end_time": "2023-03-11T09:52:16.320357Z",
     "start_time": "2023-03-11T09:52:10.919283Z"
    }
   },
   "outputs": [],
   "source": [
    "# close the browser\n",
    "browser.quit()"
   ]
  }
 ],
 "metadata": {
  "kernelspec": {
   "display_name": "Python 3 (ipykernel)",
   "language": "python",
   "name": "python3"
  },
  "language_info": {
   "codemirror_mode": {
    "name": "ipython",
    "version": 3
   },
   "file_extension": ".py",
   "mimetype": "text/x-python",
   "name": "python",
   "nbconvert_exporter": "python",
   "pygments_lexer": "ipython3",
   "version": "3.8.8"
  }
 },
 "nbformat": 4,
 "nbformat_minor": 4
}
