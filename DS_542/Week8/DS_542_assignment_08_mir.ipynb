{
 "cells": [
  {
   "cell_type": "markdown",
   "metadata": {},
   "source": [
    "# 1. What is the difference between class variable and instance variable? Explain the difference with the example."
   ]
  },
  {
   "cell_type": "markdown",
   "metadata": {},
   "source": [
    "Class variable: It is basically a static variable that can be declared anywhere at class level with static. Across different objects, these variables can have only one value. These variables are not tied to any particular object of the class, therefore, can share across all objects of the class. \n",
    "\n",
    "Instance Variable: It is basically a class variable without a static modifier and is usually shared by all class instances. Across different objects, these variables can have different values. They are tied to a particular object instance of the class, therefore, the contents of an instance variable are totally independent of one object instance to others."
   ]
  },
  {
   "cell_type": "code",
   "execution_count": 1,
   "metadata": {},
   "outputs": [
    {
     "name": "stdout",
     "output_type": "stream",
     "text": [
      "Course Name: Python\n",
      "Course Code: 542\n",
      "Need to get an A+ in this course!\n",
      "But I got 80 in this course!\n"
     ]
    }
   ],
   "source": [
    "class course():\n",
    "    grade = 'A+'\n",
    "    def __init__(self, course_name, course_code):\n",
    "        self.course_name = course_name\n",
    "        self.course_code = course_code\n",
    "    def show(self, score):\n",
    "        print(f'Course Name: {self.course_name}')\n",
    "        print(f'Course Code: {self.course_code}')\n",
    "        print(f'Need to get an {self.grade} in this course!')\n",
    "        print(f'But I got {score} in this course!')\n",
    "python = course('Python', '542')\n",
    "python.show(80)"
   ]
  },
  {
   "cell_type": "markdown",
   "metadata": {},
   "source": [
    "Here grade is a class variable and course_name & course_code is instance variable"
   ]
  },
  {
   "cell_type": "markdown",
   "metadata": {},
   "source": [
    "# 2. What is the significance of the first parameter to each method within the class? Explain with an example."
   ]
  },
  {
   "cell_type": "markdown",
   "metadata": {},
   "source": [
    "In the previous example, both of these method definitions (\\__init__ & show) have __\"self\"__ as the first parameter, and we use this variable inside the method bodies, but we do not appear to pass this parameter in. This is because whenever we call a method on an object, the object itself is automatically passed in as the first parameter. This gives us a way to access the object’s properties from inside the object’s methods.\n",
    "\n",
    "In some languages this parameter is implicit – that is, it is not visible in the function signature – and we access it with a special keyword. In Python it is explicitly exposed. It doesn’t have to be called self, but this is a very strongly followed convention.\n",
    "\n",
    "We will want to define our instance methods in a way that anticipates that Python will automatically pass an instance object as the first argument. Thus if we want our method to accept external argument, we should define its signature to have arguments, with the understanding that Python will pass the instance object as the first argument. The accepted convention is to call this first argument self. There is no significance to this name beyond it being the widely-adopted convention among Python users; “self” is meant to indicate that the instance object is passing itself as the first argument of the method. \n",
    "\n",
    "Below is another example:"
   ]
  },
  {
   "cell_type": "code",
   "execution_count": 2,
   "metadata": {},
   "outputs": [
    {
     "data": {
      "text/plain": [
       "6.0"
      ]
     },
     "execution_count": 2,
     "metadata": {},
     "output_type": "execute_result"
    }
   ],
   "source": [
    "# demonstrate the use of `self` in instance arguments\n",
    "class Number:\n",
    "    def __init__(self, value):\n",
    "        self.value = value\n",
    "\n",
    "    def add(self, new_value):\n",
    "        return self.value + new_value\n",
    "x = Number(4.0)\n",
    "x.add(2.0)"
   ]
  },
  {
   "cell_type": "markdown",
   "metadata": {},
   "source": [
    "# 3. Define Encapsulation, Inheritance and Polymorphism."
   ]
  },
  {
   "cell_type": "markdown",
   "metadata": {},
   "source": [
    "Encapsulation: Encapsulation is one of the fundamental concepts in OOP. It describes the idea of restricting access to methods and attributes in a class. This will hide the complex details from the users, and prevent data being modified by accident. In Python, this is achieved by using private methods or attributes using double underscore as prefix, i.e. double “__”.\n",
    "\n",
    "Inheritance: Inheritance allows us to define a class that inherits all the methods and attributes from another class. Convention denotes the new class as child class, and the one that it inherits from is called parent class or superclass. If we refer back to the definition of class structure, we can see the structure for basic inheritance is class ClassName(superclass), which means the new class can access all the attributes and methods from the superclass. Inheritance builds a relationship between the child class and parent class, usually in a way that the parent class is a general type while the child class is a specific type.\n",
    "\n",
    "Polymorphism: Polymorphism is another fundamental concept in OOP, which means multiple forms. Polymorphism allows us to use a single interface with different underlying forms such as data types or classes. For example, we can have commonly named methods across classes or child classes. These methods might have the same name, but they have different implementation. This ability of using single name with many forms acting differently in different situations greatly reduces our complexities. "
   ]
  },
  {
   "cell_type": "markdown",
   "metadata": {},
   "source": [
    "# 4. Define a class called Parent. Initialize the class with name and age. Define three methods — set_name, set_age, print_parent which will set the name, age and print parent’s name and age respectively. Instantiate the class. Update name/age and print the details again."
   ]
  },
  {
   "cell_type": "code",
   "execution_count": 3,
   "metadata": {},
   "outputs": [],
   "source": [
    "class Parent():\n",
    "    def __init__(self, name, age):\n",
    "        self.name = name\n",
    "        self.age = age\n",
    "    def set_name(self, name):\n",
    "        self.name = name\n",
    "    def set_age(self, age):\n",
    "        self.age = age\n",
    "    def print_parent(self):\n",
    "        print(f'Name - {self.name}')\n",
    "        print(f'Age - {self.age}')"
   ]
  },
  {
   "cell_type": "code",
   "execution_count": 4,
   "metadata": {},
   "outputs": [
    {
     "name": "stdout",
     "output_type": "stream",
     "text": [
      "Name - John\n",
      "Age - 32\n"
     ]
    }
   ],
   "source": [
    "parent1 = Parent(\"John\", \"32\")\n",
    "parent1.print_parent()"
   ]
  },
  {
   "cell_type": "code",
   "execution_count": 5,
   "metadata": {},
   "outputs": [
    {
     "name": "stdout",
     "output_type": "stream",
     "text": [
      "Name - John Wick\n",
      "Age - 33\n"
     ]
    }
   ],
   "source": [
    "# Updating name and age\n",
    "parent1.set_name(\"John Wick\")\n",
    "parent1.set_age(33)\n",
    "parent1.print_parent()"
   ]
  },
  {
   "cell_type": "markdown",
   "metadata": {},
   "source": [
    "# 5. What is the output of the below program? Explain the output in less than 2 sentences."
   ]
  },
  {
   "cell_type": "code",
   "execution_count": 6,
   "metadata": {},
   "outputs": [
    {
     "name": "stdout",
     "output_type": "stream",
     "text": [
      "2\n"
     ]
    }
   ],
   "source": [
    "class Demo:\n",
    "    def __init__(self):\n",
    "        self.x = 1\n",
    "    def change(self):\n",
    "        self.x = 10\n",
    "\n",
    "class Derived(Demo):\n",
    "    def change(self):\n",
    "        self.x = self.x+1\n",
    "        return self.x\n",
    "\n",
    "obj = Derived()\n",
    "print(obj.change())"
   ]
  },
  {
   "cell_type": "markdown",
   "metadata": {},
   "source": [
    "As obj is an instance of __Derived__ class, __change()__ method associated to the __Derived__ class will trigger in this case according to the concept of polymorphism. Due to __Demo__ being the superclass of __Derived__, obj gets the value of x = 1 and the __change()__ method will increase it by 1, thus the output became 2. "
   ]
  }
 ],
 "metadata": {
  "kernelspec": {
   "display_name": "Python 3",
   "language": "python",
   "name": "python3"
  },
  "language_info": {
   "codemirror_mode": {
    "name": "ipython",
    "version": 3
   },
   "file_extension": ".py",
   "mimetype": "text/x-python",
   "name": "python",
   "nbconvert_exporter": "python",
   "pygments_lexer": "ipython3",
   "version": "3.8.8"
  }
 },
 "nbformat": 4,
 "nbformat_minor": 4
}
