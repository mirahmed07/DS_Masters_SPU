{
 "cells": [
  {
   "cell_type": "code",
   "execution_count": 1,
   "metadata": {
    "ExecuteTime": {
     "end_time": "2023-03-25T16:33:19.021550Z",
     "start_time": "2023-03-25T16:33:18.056750Z"
    }
   },
   "outputs": [],
   "source": [
    "# Dependencies\n",
    "import pandas as pd\n",
    "import numpy as np\n",
    "import os"
   ]
  },
  {
   "cell_type": "code",
   "execution_count": 2,
   "metadata": {
    "ExecuteTime": {
     "end_time": "2023-03-25T16:33:19.068999Z",
     "start_time": "2023-03-25T16:33:19.023485Z"
    }
   },
   "outputs": [
    {
     "data": {
      "text/html": [
       "<div>\n",
       "<style scoped>\n",
       "    .dataframe tbody tr th:only-of-type {\n",
       "        vertical-align: middle;\n",
       "    }\n",
       "\n",
       "    .dataframe tbody tr th {\n",
       "        vertical-align: top;\n",
       "    }\n",
       "\n",
       "    .dataframe thead th {\n",
       "        text-align: right;\n",
       "    }\n",
       "</style>\n",
       "<table border=\"1\" class=\"dataframe\">\n",
       "  <thead>\n",
       "    <tr style=\"text-align: right;\">\n",
       "      <th></th>\n",
       "      <th>county_name</th>\n",
       "      <th>year</th>\n",
       "      <th>num_of_bedrooms</th>\n",
       "      <th>house_value_index</th>\n",
       "      <th>est_pop</th>\n",
       "      <th>median_hh_income</th>\n",
       "      <th>poverty_count</th>\n",
       "      <th>poverty_rate</th>\n",
       "      <th>st_abb</th>\n",
       "      <th>state_code</th>\n",
       "      <th>county_code</th>\n",
       "      <th>tax_rate</th>\n",
       "      <th>apr_30</th>\n",
       "      <th>points_30</th>\n",
       "      <th>apr_15</th>\n",
       "      <th>points_15</th>\n",
       "    </tr>\n",
       "  </thead>\n",
       "  <tbody>\n",
       "    <tr>\n",
       "      <th>0</th>\n",
       "      <td>ATLANTIC</td>\n",
       "      <td>2010</td>\n",
       "      <td>1</td>\n",
       "      <td>120414.144998</td>\n",
       "      <td>274654</td>\n",
       "      <td>51457</td>\n",
       "      <td>36693</td>\n",
       "      <td>13.6</td>\n",
       "      <td>NJ</td>\n",
       "      <td>34</td>\n",
       "      <td>1</td>\n",
       "      <td>2.674913</td>\n",
       "      <td>4.689808</td>\n",
       "      <td>0.717308</td>\n",
       "      <td>4.095577</td>\n",
       "      <td>0.667308</td>\n",
       "    </tr>\n",
       "    <tr>\n",
       "      <th>1</th>\n",
       "      <td>ATLANTIC</td>\n",
       "      <td>2011</td>\n",
       "      <td>1</td>\n",
       "      <td>106680.386298</td>\n",
       "      <td>274635</td>\n",
       "      <td>49983</td>\n",
       "      <td>35108</td>\n",
       "      <td>13.1</td>\n",
       "      <td>NJ</td>\n",
       "      <td>34</td>\n",
       "      <td>1</td>\n",
       "      <td>2.652783</td>\n",
       "      <td>4.447885</td>\n",
       "      <td>0.717308</td>\n",
       "      <td>3.684231</td>\n",
       "      <td>0.709615</td>\n",
       "    </tr>\n",
       "    <tr>\n",
       "      <th>2</th>\n",
       "      <td>ATLANTIC</td>\n",
       "      <td>2012</td>\n",
       "      <td>1</td>\n",
       "      <td>100139.161877</td>\n",
       "      <td>274657</td>\n",
       "      <td>50881</td>\n",
       "      <td>38245</td>\n",
       "      <td>14.2</td>\n",
       "      <td>NJ</td>\n",
       "      <td>34</td>\n",
       "      <td>1</td>\n",
       "      <td>2.730043</td>\n",
       "      <td>3.657500</td>\n",
       "      <td>0.717308</td>\n",
       "      <td>2.934423</td>\n",
       "      <td>0.684615</td>\n",
       "    </tr>\n",
       "    <tr>\n",
       "      <th>3</th>\n",
       "      <td>ATLANTIC</td>\n",
       "      <td>2013</td>\n",
       "      <td>1</td>\n",
       "      <td>94991.757119</td>\n",
       "      <td>274360</td>\n",
       "      <td>51668</td>\n",
       "      <td>46281</td>\n",
       "      <td>17.1</td>\n",
       "      <td>NJ</td>\n",
       "      <td>34</td>\n",
       "      <td>1</td>\n",
       "      <td>2.869739</td>\n",
       "      <td>3.975577</td>\n",
       "      <td>0.732692</td>\n",
       "      <td>3.100769</td>\n",
       "      <td>0.700000</td>\n",
       "    </tr>\n",
       "    <tr>\n",
       "      <th>4</th>\n",
       "      <td>ATLANTIC</td>\n",
       "      <td>2014</td>\n",
       "      <td>1</td>\n",
       "      <td>92839.520616</td>\n",
       "      <td>272634</td>\n",
       "      <td>54208</td>\n",
       "      <td>40761</td>\n",
       "      <td>15.1</td>\n",
       "      <td>NJ</td>\n",
       "      <td>34</td>\n",
       "      <td>1</td>\n",
       "      <td>2.843783</td>\n",
       "      <td>4.168868</td>\n",
       "      <td>0.592453</td>\n",
       "      <td>3.286038</td>\n",
       "      <td>0.571698</td>\n",
       "    </tr>\n",
       "  </tbody>\n",
       "</table>\n",
       "</div>"
      ],
      "text/plain": [
       "  county_name  year  num_of_bedrooms  house_value_index  est_pop  \\\n",
       "0    ATLANTIC  2010                1      120414.144998   274654   \n",
       "1    ATLANTIC  2011                1      106680.386298   274635   \n",
       "2    ATLANTIC  2012                1      100139.161877   274657   \n",
       "3    ATLANTIC  2013                1       94991.757119   274360   \n",
       "4    ATLANTIC  2014                1       92839.520616   272634   \n",
       "\n",
       "   median_hh_income  poverty_count  poverty_rate st_abb  state_code  \\\n",
       "0             51457          36693          13.6     NJ          34   \n",
       "1             49983          35108          13.1     NJ          34   \n",
       "2             50881          38245          14.2     NJ          34   \n",
       "3             51668          46281          17.1     NJ          34   \n",
       "4             54208          40761          15.1     NJ          34   \n",
       "\n",
       "   county_code  tax_rate    apr_30  points_30    apr_15  points_15  \n",
       "0            1  2.674913  4.689808   0.717308  4.095577   0.667308  \n",
       "1            1  2.652783  4.447885   0.717308  3.684231   0.709615  \n",
       "2            1  2.730043  3.657500   0.717308  2.934423   0.684615  \n",
       "3            1  2.869739  3.975577   0.732692  3.100769   0.700000  \n",
       "4            1  2.843783  4.168868   0.592453  3.286038   0.571698  "
      ]
     },
     "execution_count": 2,
     "metadata": {},
     "output_type": "execute_result"
    }
   ],
   "source": [
    "#  import csv\n",
    "df = pd.read_csv('../Resources/final_data2.csv')\n",
    "df.head()"
   ]
  },
  {
   "cell_type": "code",
   "execution_count": 3,
   "metadata": {
    "ExecuteTime": {
     "end_time": "2023-03-25T16:33:19.115448Z",
     "start_time": "2023-03-25T16:33:19.072973Z"
    }
   },
   "outputs": [
    {
     "name": "stdout",
     "output_type": "stream",
     "text": [
      "<class 'pandas.core.frame.DataFrame'>\n",
      "RangeIndex: 1260 entries, 0 to 1259\n",
      "Data columns (total 16 columns):\n",
      " #   Column             Non-Null Count  Dtype  \n",
      "---  ------             --------------  -----  \n",
      " 0   county_name        1260 non-null   object \n",
      " 1   year               1260 non-null   int64  \n",
      " 2   num_of_bedrooms    1260 non-null   int64  \n",
      " 3   house_value_index  1260 non-null   float64\n",
      " 4   est_pop            1260 non-null   int64  \n",
      " 5   median_hh_income   1260 non-null   int64  \n",
      " 6   poverty_count      1260 non-null   int64  \n",
      " 7   poverty_rate       1260 non-null   float64\n",
      " 8   st_abb             1260 non-null   object \n",
      " 9   state_code         1260 non-null   int64  \n",
      " 10  county_code        1260 non-null   int64  \n",
      " 11  tax_rate           1260 non-null   float64\n",
      " 12  apr_30             1260 non-null   float64\n",
      " 13  points_30          1260 non-null   float64\n",
      " 14  apr_15             1260 non-null   float64\n",
      " 15  points_15          1260 non-null   float64\n",
      "dtypes: float64(7), int64(7), object(2)\n",
      "memory usage: 157.6+ KB\n"
     ]
    }
   ],
   "source": [
    "df.info()"
   ]
  },
  {
   "cell_type": "code",
   "execution_count": 41,
   "metadata": {
    "ExecuteTime": {
     "end_time": "2023-03-25T16:47:10.107518Z",
     "start_time": "2023-03-25T16:47:10.035134Z"
    }
   },
   "outputs": [
    {
     "data": {
      "text/html": [
       "<div>\n",
       "<style scoped>\n",
       "    .dataframe tbody tr th:only-of-type {\n",
       "        vertical-align: middle;\n",
       "    }\n",
       "\n",
       "    .dataframe tbody tr th {\n",
       "        vertical-align: top;\n",
       "    }\n",
       "\n",
       "    .dataframe thead th {\n",
       "        text-align: right;\n",
       "    }\n",
       "</style>\n",
       "<table border=\"1\" class=\"dataframe\">\n",
       "  <thead>\n",
       "    <tr style=\"text-align: right;\">\n",
       "      <th></th>\n",
       "      <th>year</th>\n",
       "      <th>num_of_bedrooms</th>\n",
       "      <th>house_value_index</th>\n",
       "      <th>est_pop</th>\n",
       "      <th>median_hh_income</th>\n",
       "      <th>poverty_count</th>\n",
       "      <th>poverty_rate</th>\n",
       "      <th>state_code</th>\n",
       "      <th>county_code</th>\n",
       "      <th>tax_rate</th>\n",
       "      <th>apr_30</th>\n",
       "      <th>points_30</th>\n",
       "      <th>apr_15</th>\n",
       "      <th>points_15</th>\n",
       "    </tr>\n",
       "  </thead>\n",
       "  <tbody>\n",
       "    <tr>\n",
       "      <th>count</th>\n",
       "      <td>1260.000000</td>\n",
       "      <td>1260.000000</td>\n",
       "      <td>1.260000e+03</td>\n",
       "      <td>1260.000000</td>\n",
       "      <td>1260.000000</td>\n",
       "      <td>1260.000000</td>\n",
       "      <td>1260.000000</td>\n",
       "      <td>1260.0</td>\n",
       "      <td>1260.00000</td>\n",
       "      <td>1260.000000</td>\n",
       "      <td>1260.000000</td>\n",
       "      <td>1260.000000</td>\n",
       "      <td>1260.000000</td>\n",
       "      <td>1260.000000</td>\n",
       "    </tr>\n",
       "    <tr>\n",
       "      <th>mean</th>\n",
       "      <td>2015.500000</td>\n",
       "      <td>3.000000</td>\n",
       "      <td>3.015270e+05</td>\n",
       "      <td>423663.904762</td>\n",
       "      <td>76414.142857</td>\n",
       "      <td>42851.111111</td>\n",
       "      <td>10.053175</td>\n",
       "      <td>34.0</td>\n",
       "      <td>21.00000</td>\n",
       "      <td>3.378255</td>\n",
       "      <td>3.915320</td>\n",
       "      <td>0.628003</td>\n",
       "      <td>3.221713</td>\n",
       "      <td>0.596051</td>\n",
       "    </tr>\n",
       "    <tr>\n",
       "      <th>std</th>\n",
       "      <td>3.453423</td>\n",
       "      <td>1.414775</td>\n",
       "      <td>1.746314e+05</td>\n",
       "      <td>253661.535291</td>\n",
       "      <td>18476.205410</td>\n",
       "      <td>32803.226595</td>\n",
       "      <td>4.055124</td>\n",
       "      <td>0.0</td>\n",
       "      <td>12.11541</td>\n",
       "      <td>1.651916</td>\n",
       "      <td>0.504775</td>\n",
       "      <td>0.094931</td>\n",
       "      <td>0.508597</td>\n",
       "      <td>0.094434</td>\n",
       "    </tr>\n",
       "    <tr>\n",
       "      <th>min</th>\n",
       "      <td>2010.000000</td>\n",
       "      <td>1.000000</td>\n",
       "      <td>4.750288e+04</td>\n",
       "      <td>62341.000000</td>\n",
       "      <td>45438.000000</td>\n",
       "      <td>4793.000000</td>\n",
       "      <td>3.900000</td>\n",
       "      <td>34.0</td>\n",
       "      <td>1.00000</td>\n",
       "      <td>0.965875</td>\n",
       "      <td>2.957692</td>\n",
       "      <td>0.484615</td>\n",
       "      <td>2.271923</td>\n",
       "      <td>0.450000</td>\n",
       "    </tr>\n",
       "    <tr>\n",
       "      <th>25%</th>\n",
       "      <td>2012.750000</td>\n",
       "      <td>2.000000</td>\n",
       "      <td>1.711835e+05</td>\n",
       "      <td>150928.750000</td>\n",
       "      <td>61363.250000</td>\n",
       "      <td>16560.500000</td>\n",
       "      <td>6.675000</td>\n",
       "      <td>34.0</td>\n",
       "      <td>11.00000</td>\n",
       "      <td>2.470129</td>\n",
       "      <td>3.656635</td>\n",
       "      <td>0.528365</td>\n",
       "      <td>2.933510</td>\n",
       "      <td>0.491827</td>\n",
       "    </tr>\n",
       "    <tr>\n",
       "      <th>50%</th>\n",
       "      <td>2015.500000</td>\n",
       "      <td>3.000000</td>\n",
       "      <td>2.637534e+05</td>\n",
       "      <td>448449.000000</td>\n",
       "      <td>74839.000000</td>\n",
       "      <td>36293.500000</td>\n",
       "      <td>9.450000</td>\n",
       "      <td>34.0</td>\n",
       "      <td>21.00000</td>\n",
       "      <td>2.968426</td>\n",
       "      <td>3.955673</td>\n",
       "      <td>0.645192</td>\n",
       "      <td>3.186635</td>\n",
       "      <td>0.609615</td>\n",
       "    </tr>\n",
       "    <tr>\n",
       "      <th>75%</th>\n",
       "      <td>2018.250000</td>\n",
       "      <td>4.000000</td>\n",
       "      <td>3.885318e+05</td>\n",
       "      <td>603111.250000</td>\n",
       "      <td>87602.250000</td>\n",
       "      <td>63450.250000</td>\n",
       "      <td>13.100000</td>\n",
       "      <td>34.0</td>\n",
       "      <td>31.00000</td>\n",
       "      <td>3.691490</td>\n",
       "      <td>4.238622</td>\n",
       "      <td>0.717308</td>\n",
       "      <td>3.464856</td>\n",
       "      <td>0.686575</td>\n",
       "    </tr>\n",
       "    <tr>\n",
       "      <th>max</th>\n",
       "      <td>2021.000000</td>\n",
       "      <td>5.000000</td>\n",
       "      <td>1.312996e+06</td>\n",
       "      <td>953819.000000</td>\n",
       "      <td>123708.000000</td>\n",
       "      <td>136161.000000</td>\n",
       "      <td>20.100000</td>\n",
       "      <td>34.0</td>\n",
       "      <td>41.00000</td>\n",
       "      <td>9.661095</td>\n",
       "      <td>4.689808</td>\n",
       "      <td>0.733962</td>\n",
       "      <td>4.095577</td>\n",
       "      <td>0.709615</td>\n",
       "    </tr>\n",
       "  </tbody>\n",
       "</table>\n",
       "</div>"
      ],
      "text/plain": [
       "              year  num_of_bedrooms  house_value_index        est_pop  \\\n",
       "count  1260.000000      1260.000000       1.260000e+03    1260.000000   \n",
       "mean   2015.500000         3.000000       3.015270e+05  423663.904762   \n",
       "std       3.453423         1.414775       1.746314e+05  253661.535291   \n",
       "min    2010.000000         1.000000       4.750288e+04   62341.000000   \n",
       "25%    2012.750000         2.000000       1.711835e+05  150928.750000   \n",
       "50%    2015.500000         3.000000       2.637534e+05  448449.000000   \n",
       "75%    2018.250000         4.000000       3.885318e+05  603111.250000   \n",
       "max    2021.000000         5.000000       1.312996e+06  953819.000000   \n",
       "\n",
       "       median_hh_income  poverty_count  poverty_rate  state_code  county_code  \\\n",
       "count       1260.000000    1260.000000   1260.000000      1260.0   1260.00000   \n",
       "mean       76414.142857   42851.111111     10.053175        34.0     21.00000   \n",
       "std        18476.205410   32803.226595      4.055124         0.0     12.11541   \n",
       "min        45438.000000    4793.000000      3.900000        34.0      1.00000   \n",
       "25%        61363.250000   16560.500000      6.675000        34.0     11.00000   \n",
       "50%        74839.000000   36293.500000      9.450000        34.0     21.00000   \n",
       "75%        87602.250000   63450.250000     13.100000        34.0     31.00000   \n",
       "max       123708.000000  136161.000000     20.100000        34.0     41.00000   \n",
       "\n",
       "          tax_rate       apr_30    points_30       apr_15    points_15  \n",
       "count  1260.000000  1260.000000  1260.000000  1260.000000  1260.000000  \n",
       "mean      3.378255     3.915320     0.628003     3.221713     0.596051  \n",
       "std       1.651916     0.504775     0.094931     0.508597     0.094434  \n",
       "min       0.965875     2.957692     0.484615     2.271923     0.450000  \n",
       "25%       2.470129     3.656635     0.528365     2.933510     0.491827  \n",
       "50%       2.968426     3.955673     0.645192     3.186635     0.609615  \n",
       "75%       3.691490     4.238622     0.717308     3.464856     0.686575  \n",
       "max       9.661095     4.689808     0.733962     4.095577     0.709615  "
      ]
     },
     "execution_count": 41,
     "metadata": {},
     "output_type": "execute_result"
    }
   ],
   "source": [
    "df.describe()"
   ]
  },
  {
   "cell_type": "code",
   "execution_count": 4,
   "metadata": {
    "ExecuteTime": {
     "end_time": "2023-03-25T16:33:19.131504Z",
     "start_time": "2023-03-25T16:33:19.120458Z"
    }
   },
   "outputs": [
    {
     "name": "stdout",
     "output_type": "stream",
     "text": [
      "(1260, 11) (1260,)\n"
     ]
    }
   ],
   "source": [
    "# Set features. This will also be used as x values.\n",
    "X = df.drop(['county_name','st_abb','state_code', 'county_code', 'est_pop'], axis=1)\n",
    "y = df[\"county_name\"]\n",
    "print(X.shape, y.shape)"
   ]
  },
  {
   "cell_type": "code",
   "execution_count": 5,
   "metadata": {
    "ExecuteTime": {
     "end_time": "2023-03-25T16:36:10.187314Z",
     "start_time": "2023-03-25T16:36:04.979575Z"
    }
   },
   "outputs": [],
   "source": [
    "from sklearn.model_selection import train_test_split\n",
    "from sklearn.preprocessing import LabelEncoder, MinMaxScaler\n",
    "from tensorflow.keras.utils import to_categorical\n",
    "# Split data into training and testing groups and scale data \n",
    "X_train, X_test, y_train, y_test = train_test_split(X, y, random_state=1)\n",
    "X_scaler = MinMaxScaler().fit(X_train)\n",
    "X_train_scaled = X_scaler.transform(X_train)\n",
    "X_test_scaled = X_scaler.transform(X_test)\n",
    "# Step 1: Label-encode data set\n",
    "label_encoder = LabelEncoder()\n",
    "label_encoder.fit(y_train)\n",
    "encoded_y_train = label_encoder.transform(y_train)\n",
    "encoded_y_test = label_encoder.transform(y_test)\n",
    "\n",
    "# Step 2: Convert encoded labels to one-hot-encoding\n",
    "y_train_categorical = to_categorical(encoded_y_train,21)\n",
    "y_test_categorical = to_categorical(encoded_y_test,21)"
   ]
  },
  {
   "cell_type": "code",
   "execution_count": 6,
   "metadata": {
    "ExecuteTime": {
     "end_time": "2023-03-25T16:36:10.203384Z",
     "start_time": "2023-03-25T16:36:10.191203Z"
    }
   },
   "outputs": [
    {
     "name": "stdout",
     "output_type": "stream",
     "text": [
      "(945, 11) (945, 21)\n"
     ]
    }
   ],
   "source": [
    "print(X_train_scaled.shape, y_train_categorical.shape)"
   ]
  },
  {
   "cell_type": "code",
   "execution_count": 7,
   "metadata": {
    "ExecuteTime": {
     "end_time": "2023-03-25T16:36:10.219481Z",
     "start_time": "2023-03-25T16:36:10.205382Z"
    }
   },
   "outputs": [],
   "source": [
    "import math"
   ]
  },
  {
   "cell_type": "code",
   "execution_count": 8,
   "metadata": {
    "ExecuteTime": {
     "end_time": "2023-03-25T16:36:10.235612Z",
     "start_time": "2023-03-25T16:36:10.221477Z"
    }
   },
   "outputs": [],
   "source": [
    "def FindLayerNodesLinear(n_layers, first_layer_nodes, last_layer_nodes):\n",
    "    layers = []\n",
    "    \n",
    "    nodes_increment = (last_layer_nodes - first_layer_nodes)/ (n_layers-1)\n",
    "    nodes = first_layer_nodes\n",
    "    for i in range(1, n_layers+1):\n",
    "        layers.append(math.ceil(nodes))\n",
    "        nodes = nodes + nodes_increment\n",
    "    \n",
    "    return layers"
   ]
  },
  {
   "cell_type": "code",
   "execution_count": 9,
   "metadata": {
    "ExecuteTime": {
     "end_time": "2023-03-25T16:36:12.213756Z",
     "start_time": "2023-03-25T16:36:12.193761Z"
    }
   },
   "outputs": [
    {
     "data": {
      "text/plain": [
       "[11, 15, 18, 21]"
      ]
     },
     "execution_count": 9,
     "metadata": {},
     "output_type": "execute_result"
    }
   ],
   "source": [
    "FindLayerNodesLinear(4,11,21)"
   ]
  },
  {
   "cell_type": "code",
   "execution_count": 13,
   "metadata": {
    "ExecuteTime": {
     "end_time": "2023-03-25T16:36:31.776449Z",
     "start_time": "2023-03-25T16:36:31.696064Z"
    }
   },
   "outputs": [
    {
     "name": "stdout",
     "output_type": "stream",
     "text": [
      "Model: \"sequential_1\"\n",
      "_________________________________________________________________\n",
      " Layer (type)                Output Shape              Param #   \n",
      "=================================================================\n",
      " dense_4 (Dense)             (None, 11)                132       \n",
      "                                                                 \n",
      " dense_5 (Dense)             (None, 15)                180       \n",
      "                                                                 \n",
      " dense_6 (Dense)             (None, 18)                288       \n",
      "                                                                 \n",
      " dense_7 (Dense)             (None, 21)                399       \n",
      "                                                                 \n",
      "=================================================================\n",
      "Total params: 999\n",
      "Trainable params: 999\n",
      "Non-trainable params: 0\n",
      "_________________________________________________________________\n"
     ]
    }
   ],
   "source": [
    "from tensorflow.keras.models import Sequential\n",
    "from tensorflow.keras.layers import Dense\n",
    "\n",
    "# Define the model\n",
    "deep_model = Sequential()\n",
    "# Add first layer\n",
    "deep_model.add(Dense(units=11, activation='relu', input_dim=11))\n",
    "# Add second layer (deep)\n",
    "deep_model.add(Dense(units=15, activation='relu'))\n",
    "# Add third layer (deep)\n",
    "deep_model.add(Dense(units=18, activation='relu'))\n",
    "#  Add output layer\n",
    "deep_model.add(Dense(units=21, activation='softmax'))\n",
    "deep_model.summary()"
   ]
  },
  {
   "cell_type": "code",
   "execution_count": 14,
   "metadata": {
    "ExecuteTime": {
     "end_time": "2023-03-25T16:36:39.816943Z",
     "start_time": "2023-03-25T16:36:33.839921Z"
    }
   },
   "outputs": [
    {
     "name": "stdout",
     "output_type": "stream",
     "text": [
      "Epoch 1/100\n",
      "30/30 - 0s - loss: 3.0543 - accuracy: 0.0444 - 448ms/epoch - 15ms/step\n",
      "Epoch 2/100\n",
      "30/30 - 0s - loss: 3.0295 - accuracy: 0.0646 - 45ms/epoch - 2ms/step\n",
      "Epoch 3/100\n",
      "30/30 - 0s - loss: 3.0055 - accuracy: 0.1026 - 43ms/epoch - 1ms/step\n",
      "Epoch 4/100\n",
      "30/30 - 0s - loss: 2.9660 - accuracy: 0.0857 - 42ms/epoch - 1ms/step\n",
      "Epoch 5/100\n",
      "30/30 - 0s - loss: 2.9002 - accuracy: 0.0974 - 47ms/epoch - 2ms/step\n",
      "Epoch 6/100\n",
      "30/30 - 0s - loss: 2.7973 - accuracy: 0.1164 - 45ms/epoch - 2ms/step\n",
      "Epoch 7/100\n",
      "30/30 - 0s - loss: 2.6682 - accuracy: 0.1291 - 50ms/epoch - 2ms/step\n",
      "Epoch 8/100\n",
      "30/30 - 0s - loss: 2.5419 - accuracy: 0.1333 - 45ms/epoch - 2ms/step\n",
      "Epoch 9/100\n",
      "30/30 - 0s - loss: 2.4276 - accuracy: 0.1608 - 73ms/epoch - 2ms/step\n",
      "Epoch 10/100\n",
      "30/30 - 0s - loss: 2.3153 - accuracy: 0.1862 - 40ms/epoch - 1ms/step\n",
      "Epoch 11/100\n",
      "30/30 - 0s - loss: 2.2074 - accuracy: 0.2190 - 44ms/epoch - 1ms/step\n",
      "Epoch 12/100\n",
      "30/30 - 0s - loss: 2.0994 - accuracy: 0.2847 - 48ms/epoch - 2ms/step\n",
      "Epoch 13/100\n",
      "30/30 - 0s - loss: 1.9819 - accuracy: 0.3556 - 41ms/epoch - 1ms/step\n",
      "Epoch 14/100\n",
      "30/30 - 0s - loss: 1.8562 - accuracy: 0.3915 - 56ms/epoch - 2ms/step\n",
      "Epoch 15/100\n",
      "30/30 - 0s - loss: 1.7228 - accuracy: 0.4667 - 48ms/epoch - 2ms/step\n",
      "Epoch 16/100\n",
      "30/30 - 0s - loss: 1.5941 - accuracy: 0.5566 - 65ms/epoch - 2ms/step\n",
      "Epoch 17/100\n",
      "30/30 - 0s - loss: 1.4677 - accuracy: 0.5619 - 56ms/epoch - 2ms/step\n",
      "Epoch 18/100\n",
      "30/30 - 0s - loss: 1.3498 - accuracy: 0.6381 - 51ms/epoch - 2ms/step\n",
      "Epoch 19/100\n",
      "30/30 - 0s - loss: 1.2305 - accuracy: 0.6783 - 46ms/epoch - 2ms/step\n",
      "Epoch 20/100\n",
      "30/30 - 0s - loss: 1.1414 - accuracy: 0.6899 - 47ms/epoch - 2ms/step\n",
      "Epoch 21/100\n",
      "30/30 - 0s - loss: 1.0509 - accuracy: 0.7640 - 46ms/epoch - 2ms/step\n",
      "Epoch 22/100\n",
      "30/30 - 0s - loss: 0.9794 - accuracy: 0.7566 - 52ms/epoch - 2ms/step\n",
      "Epoch 23/100\n",
      "30/30 - 0s - loss: 0.9054 - accuracy: 0.7873 - 66ms/epoch - 2ms/step\n",
      "Epoch 24/100\n",
      "30/30 - 0s - loss: 0.8506 - accuracy: 0.7915 - 50ms/epoch - 2ms/step\n",
      "Epoch 25/100\n",
      "30/30 - 0s - loss: 0.7963 - accuracy: 0.8233 - 46ms/epoch - 2ms/step\n",
      "Epoch 26/100\n",
      "30/30 - 0s - loss: 0.7385 - accuracy: 0.8212 - 48ms/epoch - 2ms/step\n",
      "Epoch 27/100\n",
      "30/30 - 0s - loss: 0.6933 - accuracy: 0.8434 - 41ms/epoch - 1ms/step\n",
      "Epoch 28/100\n",
      "30/30 - 0s - loss: 0.6521 - accuracy: 0.8487 - 41ms/epoch - 1ms/step\n",
      "Epoch 29/100\n",
      "30/30 - 0s - loss: 0.6088 - accuracy: 0.8794 - 45ms/epoch - 1ms/step\n",
      "Epoch 30/100\n",
      "30/30 - 0s - loss: 0.5728 - accuracy: 0.8571 - 42ms/epoch - 1ms/step\n",
      "Epoch 31/100\n",
      "30/30 - 0s - loss: 0.5408 - accuracy: 0.8815 - 40ms/epoch - 1ms/step\n",
      "Epoch 32/100\n",
      "30/30 - 0s - loss: 0.5055 - accuracy: 0.8825 - 41ms/epoch - 1ms/step\n",
      "Epoch 33/100\n",
      "30/30 - 0s - loss: 0.4794 - accuracy: 0.9132 - 51ms/epoch - 2ms/step\n",
      "Epoch 34/100\n",
      "30/30 - 0s - loss: 0.4576 - accuracy: 0.9005 - 66ms/epoch - 2ms/step\n",
      "Epoch 35/100\n",
      "30/30 - 0s - loss: 0.4329 - accuracy: 0.9196 - 46ms/epoch - 2ms/step\n",
      "Epoch 36/100\n",
      "30/30 - 0s - loss: 0.4069 - accuracy: 0.9259 - 43ms/epoch - 1ms/step\n",
      "Epoch 37/100\n",
      "30/30 - 0s - loss: 0.3912 - accuracy: 0.9302 - 41ms/epoch - 1ms/step\n",
      "Epoch 38/100\n",
      "30/30 - 0s - loss: 0.3715 - accuracy: 0.9397 - 38ms/epoch - 1ms/step\n",
      "Epoch 39/100\n",
      "30/30 - 0s - loss: 0.3537 - accuracy: 0.9376 - 42ms/epoch - 1ms/step\n",
      "Epoch 40/100\n",
      "30/30 - 0s - loss: 0.3362 - accuracy: 0.9418 - 39ms/epoch - 1ms/step\n",
      "Epoch 41/100\n",
      "30/30 - 0s - loss: 0.3210 - accuracy: 0.9407 - 40ms/epoch - 1ms/step\n",
      "Epoch 42/100\n",
      "30/30 - 0s - loss: 0.3051 - accuracy: 0.9481 - 45ms/epoch - 2ms/step\n",
      "Epoch 43/100\n",
      "30/30 - 0s - loss: 0.2957 - accuracy: 0.9503 - 48ms/epoch - 2ms/step\n",
      "Epoch 44/100\n",
      "30/30 - 0s - loss: 0.2817 - accuracy: 0.9481 - 66ms/epoch - 2ms/step\n",
      "Epoch 45/100\n",
      "30/30 - 0s - loss: 0.2738 - accuracy: 0.9481 - 54ms/epoch - 2ms/step\n",
      "Epoch 46/100\n",
      "30/30 - 0s - loss: 0.2585 - accuracy: 0.9513 - 49ms/epoch - 2ms/step\n",
      "Epoch 47/100\n",
      "30/30 - 0s - loss: 0.2454 - accuracy: 0.9598 - 47ms/epoch - 2ms/step\n",
      "Epoch 48/100\n",
      "30/30 - 0s - loss: 0.2370 - accuracy: 0.9524 - 48ms/epoch - 2ms/step\n",
      "Epoch 49/100\n",
      "30/30 - 0s - loss: 0.2300 - accuracy: 0.9619 - 46ms/epoch - 2ms/step\n",
      "Epoch 50/100\n",
      "30/30 - 0s - loss: 0.2168 - accuracy: 0.9598 - 43ms/epoch - 1ms/step\n",
      "Epoch 51/100\n",
      "30/30 - 0s - loss: 0.2103 - accuracy: 0.9619 - 52ms/epoch - 2ms/step\n",
      "Epoch 52/100\n",
      "30/30 - 0s - loss: 0.2057 - accuracy: 0.9630 - 46ms/epoch - 2ms/step\n",
      "Epoch 53/100\n",
      "30/30 - 0s - loss: 0.1974 - accuracy: 0.9587 - 48ms/epoch - 2ms/step\n",
      "Epoch 54/100\n",
      "30/30 - 0s - loss: 0.1887 - accuracy: 0.9683 - 44ms/epoch - 1ms/step\n",
      "Epoch 55/100\n",
      "30/30 - 0s - loss: 0.1797 - accuracy: 0.9725 - 48ms/epoch - 2ms/step\n",
      "Epoch 56/100\n",
      "30/30 - 0s - loss: 0.1747 - accuracy: 0.9661 - 40ms/epoch - 1ms/step\n",
      "Epoch 57/100\n",
      "30/30 - 0s - loss: 0.1644 - accuracy: 0.9767 - 41ms/epoch - 1ms/step\n",
      "Epoch 58/100\n",
      "30/30 - 0s - loss: 0.1590 - accuracy: 0.9767 - 42ms/epoch - 1ms/step\n",
      "Epoch 59/100\n",
      "30/30 - 0s - loss: 0.1561 - accuracy: 0.9714 - 40ms/epoch - 1ms/step\n",
      "Epoch 60/100\n",
      "30/30 - 0s - loss: 0.1499 - accuracy: 0.9735 - 37ms/epoch - 1ms/step\n",
      "Epoch 61/100\n",
      "30/30 - 0s - loss: 0.1426 - accuracy: 0.9757 - 45ms/epoch - 1ms/step\n",
      "Epoch 62/100\n",
      "30/30 - 0s - loss: 0.1379 - accuracy: 0.9778 - 65ms/epoch - 2ms/step\n",
      "Epoch 63/100\n",
      "30/30 - 0s - loss: 0.1305 - accuracy: 0.9788 - 39ms/epoch - 1ms/step\n",
      "Epoch 64/100\n",
      "30/30 - 0s - loss: 0.1286 - accuracy: 0.9820 - 45ms/epoch - 1ms/step\n",
      "Epoch 65/100\n",
      "30/30 - 0s - loss: 0.1240 - accuracy: 0.9820 - 59ms/epoch - 2ms/step\n",
      "Epoch 66/100\n",
      "30/30 - 0s - loss: 0.1247 - accuracy: 0.9810 - 56ms/epoch - 2ms/step\n",
      "Epoch 67/100\n",
      "30/30 - 0s - loss: 0.1128 - accuracy: 0.9894 - 83ms/epoch - 3ms/step\n",
      "Epoch 68/100\n",
      "30/30 - 0s - loss: 0.1099 - accuracy: 0.9831 - 87ms/epoch - 3ms/step\n",
      "Epoch 69/100\n",
      "30/30 - 0s - loss: 0.1084 - accuracy: 0.9884 - 93ms/epoch - 3ms/step\n",
      "Epoch 70/100\n",
      "30/30 - 0s - loss: 0.1012 - accuracy: 0.9873 - 67ms/epoch - 2ms/step\n",
      "Epoch 71/100\n",
      "30/30 - 0s - loss: 0.0971 - accuracy: 0.9894 - 59ms/epoch - 2ms/step\n",
      "Epoch 72/100\n",
      "30/30 - 0s - loss: 0.0945 - accuracy: 0.9862 - 68ms/epoch - 2ms/step\n",
      "Epoch 73/100\n",
      "30/30 - 0s - loss: 0.0908 - accuracy: 0.9884 - 80ms/epoch - 3ms/step\n",
      "Epoch 74/100\n",
      "30/30 - 0s - loss: 0.0901 - accuracy: 0.9862 - 68ms/epoch - 2ms/step\n",
      "Epoch 75/100\n",
      "30/30 - 0s - loss: 0.0854 - accuracy: 0.9905 - 62ms/epoch - 2ms/step\n",
      "Epoch 76/100\n",
      "30/30 - 0s - loss: 0.0863 - accuracy: 0.9884 - 67ms/epoch - 2ms/step\n",
      "Epoch 77/100\n",
      "30/30 - 0s - loss: 0.0783 - accuracy: 0.9926 - 65ms/epoch - 2ms/step\n",
      "Epoch 78/100\n",
      "30/30 - 0s - loss: 0.0780 - accuracy: 0.9884 - 51ms/epoch - 2ms/step\n",
      "Epoch 79/100\n",
      "30/30 - 0s - loss: 0.0757 - accuracy: 0.9926 - 55ms/epoch - 2ms/step\n",
      "Epoch 80/100\n",
      "30/30 - 0s - loss: 0.0742 - accuracy: 0.9915 - 55ms/epoch - 2ms/step\n",
      "Epoch 81/100\n",
      "30/30 - 0s - loss: 0.0749 - accuracy: 0.9894 - 50ms/epoch - 2ms/step\n",
      "Epoch 82/100\n",
      "30/30 - 0s - loss: 0.0683 - accuracy: 0.9905 - 65ms/epoch - 2ms/step\n",
      "Epoch 83/100\n",
      "30/30 - 0s - loss: 0.0673 - accuracy: 0.9926 - 55ms/epoch - 2ms/step\n",
      "Epoch 84/100\n",
      "30/30 - 0s - loss: 0.0631 - accuracy: 0.9915 - 52ms/epoch - 2ms/step\n",
      "Epoch 85/100\n",
      "30/30 - 0s - loss: 0.0670 - accuracy: 0.9873 - 72ms/epoch - 2ms/step\n",
      "Epoch 86/100\n",
      "30/30 - 0s - loss: 0.0617 - accuracy: 0.9926 - 72ms/epoch - 2ms/step\n",
      "Epoch 87/100\n",
      "30/30 - 0s - loss: 0.0613 - accuracy: 0.9915 - 91ms/epoch - 3ms/step\n",
      "Epoch 88/100\n",
      "30/30 - 0s - loss: 0.0570 - accuracy: 0.9915 - 84ms/epoch - 3ms/step\n",
      "Epoch 89/100\n",
      "30/30 - 0s - loss: 0.0570 - accuracy: 0.9947 - 73ms/epoch - 2ms/step\n",
      "Epoch 90/100\n",
      "30/30 - 0s - loss: 0.0566 - accuracy: 0.9937 - 75ms/epoch - 3ms/step\n",
      "Epoch 91/100\n",
      "30/30 - 0s - loss: 0.0542 - accuracy: 0.9894 - 40ms/epoch - 1ms/step\n",
      "Epoch 92/100\n",
      "30/30 - 0s - loss: 0.0570 - accuracy: 0.9905 - 47ms/epoch - 2ms/step\n",
      "Epoch 93/100\n",
      "30/30 - 0s - loss: 0.0552 - accuracy: 0.9937 - 39ms/epoch - 1ms/step\n",
      "Epoch 94/100\n",
      "30/30 - 0s - loss: 0.0464 - accuracy: 0.9958 - 50ms/epoch - 2ms/step\n",
      "Epoch 95/100\n",
      "30/30 - 0s - loss: 0.0476 - accuracy: 0.9947 - 55ms/epoch - 2ms/step\n",
      "Epoch 96/100\n",
      "30/30 - 0s - loss: 0.0463 - accuracy: 0.9937 - 44ms/epoch - 1ms/step\n",
      "Epoch 97/100\n",
      "30/30 - 0s - loss: 0.0431 - accuracy: 0.9937 - 40ms/epoch - 1ms/step\n",
      "Epoch 98/100\n",
      "30/30 - 0s - loss: 0.0437 - accuracy: 0.9958 - 43ms/epoch - 1ms/step\n",
      "Epoch 99/100\n",
      "30/30 - 0s - loss: 0.0414 - accuracy: 0.9958 - 42ms/epoch - 1ms/step\n",
      "Epoch 100/100\n",
      "30/30 - 0s - loss: 0.0424 - accuracy: 0.9958 - 37ms/epoch - 1ms/step\n"
     ]
    },
    {
     "data": {
      "text/plain": [
       "<keras.callbacks.History at 0x25371ccdd30>"
      ]
     },
     "execution_count": 14,
     "metadata": {},
     "output_type": "execute_result"
    }
   ],
   "source": [
    "# Compile and fit the model\n",
    "deep_model.compile(optimizer='adam',\n",
    "              loss='categorical_crossentropy',\n",
    "              metrics=['accuracy'])\n",
    "# Fit the model to the training data\n",
    "deep_model.fit(\n",
    "    X_train_scaled,\n",
    "    y_train_categorical,\n",
    "    epochs=100,\n",
    "    shuffle=True,\n",
    "    verbose=2)"
   ]
  },
  {
   "cell_type": "code",
   "execution_count": 15,
   "metadata": {
    "ExecuteTime": {
     "end_time": "2023-03-25T16:36:39.992288Z",
     "start_time": "2023-03-25T16:36:39.819918Z"
    }
   },
   "outputs": [
    {
     "name": "stdout",
     "output_type": "stream",
     "text": [
      "10/10 - 0s - loss: 0.0467 - accuracy: 0.9905 - 125ms/epoch - 13ms/step\n",
      "Deep Neural Network - Loss: 0.04665800929069519, Accuracy: 0.9904761910438538\n"
     ]
    }
   ],
   "source": [
    "deep_model_loss, deep_model_accuracy = deep_model.evaluate(X_test_scaled, y_test_categorical, verbose=2)\n",
    "print(f\"Deep Neural Network - Loss: {deep_model_loss}, Accuracy: {deep_model_accuracy}\")"
   ]
  },
  {
   "cell_type": "code",
   "execution_count": 16,
   "metadata": {
    "ExecuteTime": {
     "end_time": "2023-03-25T16:36:42.216452Z",
     "start_time": "2023-03-25T16:36:42.084447Z"
    }
   },
   "outputs": [
    {
     "name": "stdout",
     "output_type": "stream",
     "text": [
      "Actual Labels: ['OCEAN', 'ATLANTIC', 'CAPE MAY', 'MONMOUTH', 'ESSEX']\n",
      "Predicted Labels: ['OCEAN' 'ATLANTIC' 'CAPE MAY' 'MONMOUTH' 'ESSEX']\n"
     ]
    }
   ],
   "source": [
    "# Use the first 5 test data values to make a prediction and compare it to the actual labels\n",
    "prediction = np.argmax(deep_model.predict(X_test_scaled), axis = -1)\n",
    "predicted_labels = label_encoder.inverse_transform(prediction)\n",
    "print(f\"Actual Labels: {list(y_test[:5])}\")\n",
    "print(f\"Predicted Labels: {predicted_labels[:5]}\")"
   ]
  },
  {
   "cell_type": "code",
   "execution_count": 17,
   "metadata": {
    "ExecuteTime": {
     "end_time": "2023-03-25T16:36:46.300819Z",
     "start_time": "2023-03-25T16:36:46.274555Z"
    }
   },
   "outputs": [
    {
     "data": {
      "text/plain": [
       "Index(['year', 'num_of_bedrooms', 'house_value_index', 'median_hh_income',\n",
       "       'poverty_count', 'poverty_rate', 'tax_rate', 'apr_30', 'points_30',\n",
       "       'apr_15', 'points_15'],\n",
       "      dtype='object')"
      ]
     },
     "execution_count": 17,
     "metadata": {},
     "output_type": "execute_result"
    }
   ],
   "source": [
    "X.columns"
   ]
  },
  {
   "cell_type": "code",
   "execution_count": 40,
   "metadata": {
    "ExecuteTime": {
     "end_time": "2023-03-25T16:46:49.591704Z",
     "start_time": "2023-03-25T16:46:49.558143Z"
    }
   },
   "outputs": [
    {
     "data": {
      "text/html": [
       "<div>\n",
       "<style scoped>\n",
       "    .dataframe tbody tr th:only-of-type {\n",
       "        vertical-align: middle;\n",
       "    }\n",
       "\n",
       "    .dataframe tbody tr th {\n",
       "        vertical-align: top;\n",
       "    }\n",
       "\n",
       "    .dataframe thead th {\n",
       "        text-align: right;\n",
       "    }\n",
       "</style>\n",
       "<table border=\"1\" class=\"dataframe\">\n",
       "  <thead>\n",
       "    <tr style=\"text-align: right;\">\n",
       "      <th></th>\n",
       "      <th>poverty_count</th>\n",
       "      <th>poverty_rate</th>\n",
       "    </tr>\n",
       "  </thead>\n",
       "  <tbody>\n",
       "    <tr>\n",
       "      <th>count</th>\n",
       "      <td>105.000000</td>\n",
       "      <td>105.000000</td>\n",
       "    </tr>\n",
       "    <tr>\n",
       "      <th>mean</th>\n",
       "      <td>44088.142857</td>\n",
       "      <td>9.880952</td>\n",
       "    </tr>\n",
       "    <tr>\n",
       "      <th>std</th>\n",
       "      <td>33189.202563</td>\n",
       "      <td>3.484115</td>\n",
       "    </tr>\n",
       "    <tr>\n",
       "      <th>min</th>\n",
       "      <td>5115.000000</td>\n",
       "      <td>4.100000</td>\n",
       "    </tr>\n",
       "    <tr>\n",
       "      <th>25%</th>\n",
       "      <td>18705.000000</td>\n",
       "      <td>7.500000</td>\n",
       "    </tr>\n",
       "    <tr>\n",
       "      <th>50%</th>\n",
       "      <td>38024.000000</td>\n",
       "      <td>9.300000</td>\n",
       "    </tr>\n",
       "    <tr>\n",
       "      <th>75%</th>\n",
       "      <td>67146.000000</td>\n",
       "      <td>12.000000</td>\n",
       "    </tr>\n",
       "    <tr>\n",
       "      <th>max</th>\n",
       "      <td>126387.000000</td>\n",
       "      <td>15.900000</td>\n",
       "    </tr>\n",
       "  </tbody>\n",
       "</table>\n",
       "</div>"
      ],
      "text/plain": [
       "       poverty_count  poverty_rate\n",
       "count     105.000000    105.000000\n",
       "mean    44088.142857      9.880952\n",
       "std     33189.202563      3.484115\n",
       "min      5115.000000      4.100000\n",
       "25%     18705.000000      7.500000\n",
       "50%     38024.000000      9.300000\n",
       "75%     67146.000000     12.000000\n",
       "max    126387.000000     15.900000"
      ]
     },
     "execution_count": 40,
     "metadata": {},
     "output_type": "execute_result"
    }
   ],
   "source": [
    "df[df['year']==2021][['poverty_count', 'poverty_rate']].describe()"
   ]
  },
  {
   "cell_type": "code",
   "execution_count": 34,
   "metadata": {
    "ExecuteTime": {
     "end_time": "2023-03-25T16:43:23.645186Z",
     "start_time": "2023-03-25T16:43:23.620159Z"
    }
   },
   "outputs": [
    {
     "name": "stdout",
     "output_type": "stream",
     "text": [
      "42851.11111111111 10.053174603174622\n"
     ]
    }
   ],
   "source": [
    "pov_typ = 'mean'\n",
    "poverty_count=df['poverty_count'].max() if pov_typ=='max' else df['poverty_count'].mean() if pov_typ=='mean' else df['poverty_count'].min()\n",
    "poverty_rate=df['poverty_rate'].max() if pov_typ=='max' else df['poverty_rate'].mean() if pov_typ=='mean' else df['poverty_rate'].min()\n",
    "print(poverty_count, poverty_rate)"
   ]
  },
  {
   "cell_type": "code",
   "execution_count": 43,
   "metadata": {
    "ExecuteTime": {
     "end_time": "2023-03-25T16:51:58.801271Z",
     "start_time": "2023-03-25T16:51:58.690709Z"
    }
   },
   "outputs": [
    {
     "data": {
      "text/plain": [
       "array(['HUNTERDON'], dtype=object)"
      ]
     },
     "execution_count": 43,
     "metadata": {},
     "output_type": "execute_result"
    }
   ],
   "source": [
    "beds=2\n",
    "income=120000\n",
    "budget=400000\n",
    "df_latest=df[df['year']==df['year'].max()]\n",
    "pov_typ = 'min'\n",
    "poverty_count=df['poverty_count'].max() if pov_typ=='max' else df['poverty_count'].mean() if pov_typ=='mean' else df['poverty_count'].min()\n",
    "poverty_rate=df['poverty_rate'].max() if pov_typ=='max' else df['poverty_rate'].mean() if pov_typ=='mean' else df['poverty_rate'].min()\n",
    "deep_learning_array = pd.DataFrame({'year':df['year'].max(),\n",
    "                                    'num_of_bedrooms':beds,\n",
    "                                    'house_value_index':budget,\n",
    "                                    'median_hh_income':income,\n",
    "                                    'poverty_count': round(poverty_count) ,\n",
    "                                    'poverty_rate': round(poverty_rate,2),\n",
    "                                    'tax_rate': df_latest['tax_rate'].mean(),\n",
    "                                    'apr_30': df_latest['apr_30'].mean(),\n",
    "                                    'points_30': df_latest['points_30'].mean(),\n",
    "                                    'apr_15': df_latest['apr_15'].mean(),\n",
    "                                    'points_15': df_latest['points_15'].mean()},[0])\n",
    "deep_learning_array_scaled = X_scaler.transform(deep_learning_array)\n",
    "deep_learning_prediction = np.argmax(deep_model.predict(deep_learning_array_scaled), axis = -1)\n",
    "deep_learning_predicted_labels = label_encoder.inverse_transform(deep_learning_prediction)\n",
    "deep_learning_predicted_labels"
   ]
  },
  {
   "cell_type": "code",
   "execution_count": 42,
   "metadata": {
    "ExecuteTime": {
     "end_time": "2023-03-25T16:48:35.518358Z",
     "start_time": "2023-03-25T16:48:35.421433Z"
    }
   },
   "outputs": [],
   "source": [
    "# Save the model\n",
    "deep_model.save(\"../Models/NJ_deep_learning.h5\")"
   ]
  }
 ],
 "metadata": {
  "kernelspec": {
   "display_name": "Python 3 (ipykernel)",
   "language": "python",
   "name": "python3"
  },
  "language_info": {
   "codemirror_mode": {
    "name": "ipython",
    "version": 3
   },
   "file_extension": ".py",
   "mimetype": "text/x-python",
   "name": "python",
   "nbconvert_exporter": "python",
   "pygments_lexer": "ipython3",
   "version": "3.8.8"
  }
 },
 "nbformat": 4,
 "nbformat_minor": 4
}
